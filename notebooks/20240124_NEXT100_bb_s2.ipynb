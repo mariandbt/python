{
 "cells": [
  {
   "cell_type": "code",
   "execution_count": 1,
   "id": "19d793eb",
   "metadata": {},
   "outputs": [],
   "source": [
    "import numpy              as np\n",
    "import pandas             as pd\n",
    "\n",
    "import scipy              \n",
    "from scipy                import stats, integrate\n",
    "from scipy.signal         import convolve\n",
    "\n",
    "import matplotlib.pyplot  as plt\n",
    "\n",
    "from matplotlib.ticker    import FormatStrFormatter # to set the format of the plot's axis\n",
    "from matplotlib.patches   import Rectangle # To add blanck spaces in tabular legends\n",
    "\n",
    "import os\n",
    "import math\n",
    "import tables             as tb"
   ]
  },
  {
   "cell_type": "markdown",
   "id": "85a2dfe0",
   "metadata": {},
   "source": [
    "<h1> __________________________ </h1>\n",
    "<h2> Functions </h2>\n",
    "\n"
   ]
  },
  {
   "cell_type": "code",
   "execution_count": 39,
   "id": "1ee61880",
   "metadata": {
    "scrolled": true
   },
   "outputs": [],
   "source": [
    "def read_s2_table():\n",
    "    \n",
    "    path = '/home/investigator/mariandbt/python/data'\n",
    "    path = path + '/20231025_NEXT100_full_mapping'\n",
    "\n",
    "    filename = os.path.join(path, \"s2_table.h5\")\n",
    "\n",
    "\n",
    "    import h5py\n",
    "\n",
    "    # Load the 3D dictionary from the HDF5 file\n",
    "    loaded_data_dict = {}\n",
    "\n",
    "    columns = {0:'bin_initial_x',\n",
    "               1:'bin_final_x',\n",
    "               2:'bin_initial_y',\n",
    "               3:'bin_final_y',\n",
    "               4:'s2'\n",
    "              }\n",
    "\n",
    "    with h5py.File(filename, 'r') as file:\n",
    "        for table_id in file.keys():\n",
    "            # Get the column names from the HDF5 attributes\n",
    "            loaded_data_dict[table_id] = pd.DataFrame(file[table_id][:])\n",
    "            loaded_data_dict[table_id].rename(columns = columns, inplace=True)\n",
    "\n",
    "\n",
    "\n",
    "    s2_table = loaded_data_dict.copy()\n",
    "    \n",
    "    return s2_table"
   ]
  },
  {
   "cell_type": "code",
   "execution_count": 2,
   "id": "17eeddd4",
   "metadata": {},
   "outputs": [],
   "source": [
    "def sens_map(selected_id):\n",
    "    \n",
    "    # we select the response of the sensors at the end of the fibers\n",
    "    pp = '/home/investigator/mariandbt/python/data'\n",
    "    pp = pp + '/20231025_NEXT100_full_mapping'\n",
    "\n",
    "    flnm = os.path.join(pp, \"Next100_full_mapp_s2_inicioEL_100Kev.next.h5\")\n",
    "    sens = pd.read_hdf(flnm, \"/MC/sns_positions\")\n",
    "    dst_particle = pd.read_hdf(flnm, \"/MC/particles\")\n",
    "\n",
    "    fig, ax = plt.subplots(nrows = 1, ncols = 1, figsize=(11,11), constrained_layout=True)\n",
    "    \n",
    "    ax.plot(dst_particle.initial_x, dst_particle.initial_y, 'o')\n",
    "\n",
    "\n",
    "    fiber_sens_mask = sens.loc[sens.sensor_name == 'F_SENSOR'].sensor_id # ID mask of the sensors at the end of the fibers\n",
    "\n",
    "    sens_fibers = sens.loc[sens.sensor_id.isin(fiber_sens_mask)] # get the positions of said sensors\n",
    "\n",
    "    font_size = 11\n",
    "    ax.plot(sens_fibers.x, sens_fibers.y, 'o', markersize = 2*font_size)\n",
    "    \n",
    "    labels_fontsize = 2*font_size\n",
    "    \n",
    "    ax.set_xlabel('X-coordinate [mm]', fontsize = labels_fontsize)\n",
    "    ax.set_ylabel('Y-coordinate [mm]', fontsize = labels_fontsize)\n",
    "    ax.tick_params(axis='both', labelsize = labels_fontsize*2/3)\n",
    "\n",
    "    for sens_id in sens_fibers.sensor_id:\n",
    "        xx = float(sens_fibers.loc[sens_fibers.sensor_id == sens_id].x)\n",
    "        yy = float(sens_fibers.loc[sens_fibers.sensor_id == sens_id].y)\n",
    "\n",
    "        ax.annotate(f'{sens_id:.0f}', (xx, yy),\n",
    "                    color='black', ha='center', va='center', fontsize = font_size)\n",
    "\n",
    "    if selected_id in sens_fibers.sensor_id.values:\n",
    "#         ax.plot(sens_fibers.loc[sens_fibers.sensor_id == selected_id].x, \n",
    "#                 sens_fibers.loc[sens_fibers.sensor_id == selected_id].y, 'om', \n",
    "#                 markersize = 2*font_size, label = 'Selected sensor')\n",
    "\n",
    "        ax.legend(fontsize = labels_fontsize, loc = (.4, .6))\n",
    "\n",
    "    else:\n",
    "        ax.annotate('Not (valid) sensor ID selected', (0, 100),\n",
    "                    color='black', ha='center', va='center', fontsize = font_size)\n",
    "        "
   ]
  },
  {
   "cell_type": "code",
   "execution_count": 90,
   "id": "f25c083a",
   "metadata": {},
   "outputs": [],
   "source": [
    "def find_rot(alpha):\n",
    "    rot = -10\n",
    "\n",
    "    while not ((alpha < (dtheta/2 + dtheta*rot)) & \n",
    "               (alpha > (-dtheta/2 + dtheta*rot))):\n",
    "        rot += 1\n",
    "        if rot > n_panels:\n",
    "            print('ERROR')\n",
    "            break\n",
    "\n",
    "    return rot\n",
    "\n",
    "# Vectorize the function\n",
    "vect_find_rot = np.vectorize(find_rot)"
   ]
  },
  {
   "cell_type": "code",
   "execution_count": 91,
   "id": "d9cf688d",
   "metadata": {},
   "outputs": [],
   "source": [
    "def find_sensor(sensor_id, rot):\n",
    "    \n",
    "    theta = theta_dict[sensor_id]\n",
    "    pos = theta_to_pos_dict[theta]\n",
    "\n",
    "    new_pos = pos - rot*dpos\n",
    "    \n",
    "    if (new_pos == n_sensors/2):\n",
    "        new_pos = -n_sensors/2\n",
    "        \n",
    "    if (new_pos > n_sensors/2):\n",
    "        new_pos = new_pos%(n_sensors/2)\n",
    "        \n",
    "    if (new_pos < -n_sensors/2):\n",
    "        new_pos = new_pos%(-n_sensors/2)\n",
    "        \n",
    "    new_theta = pos_to_theta_dict[new_pos]\n",
    "    \n",
    "    new_sens_id = sens_dict[new_theta]\n",
    "\n",
    "    return new_sens_id\n"
   ]
  },
  {
   "cell_type": "code",
   "execution_count": 92,
   "id": "d42218ea",
   "metadata": {},
   "outputs": [],
   "source": [
    "def find_s2(sens_id, part_id):\n",
    "#     print(part_id)\n",
    "\n",
    "    \n",
    "    rr, alpha = rr_dict[part_id], alpha_dict[part_id]\n",
    "    rot = rot_dict[part_id]\n",
    "    new_xx, new_yy = new_xx_dict[part_id], new_yy_dict[part_id]\n",
    "\n",
    "    new_sens_id = find_sensor(sens_id, rot) \n",
    "    s2_tab_matrix = s2_tab_dict[f'sens_{new_sens_id}']\n",
    "\n",
    "\n",
    "    x_bin = int((new_xx - x_min)//x_bin_width)\n",
    "    y_bin = int((new_yy - y_min)//y_bin_width)\n",
    "\n",
    "    if ((new_xx > x_max) or \n",
    "        (new_yy > y_max) or\n",
    "        (np.sqrt(new_xx**2 + new_yy**2) > fiducial_radio)\n",
    "       ):\n",
    "        s2_signal = 0.\n",
    "    else:\n",
    "        s2_signal = s2_tab_matrix[x_bin][y_bin]\n",
    "\n",
    "#     if ((new_xx < x_max) & (new_yy < y_max)):\n",
    "#         s2_signal = s2_tab_matrix[x_bin][y_bin]\n",
    "#     else:\n",
    "#         s2_signal = 0.\n",
    "\n",
    "    return s2_signal\n",
    "\n",
    "# Vectorize the function\n",
    "vect_find_s2 = np.vectorize(find_s2)"
   ]
  },
  {
   "cell_type": "code",
   "execution_count": 93,
   "id": "2a113409",
   "metadata": {},
   "outputs": [],
   "source": [
    "def build_particle_dict(bb_ie):\n",
    "    # particles\n",
    "    tt_dict = dict(zip(bb_ie['particle_id'], bb_ie['final_t']))\n",
    "    xx_dict = dict(zip(bb_ie['particle_id'], bb_ie['final_x']))\n",
    "    yy_dict = dict(zip(bb_ie['particle_id'], bb_ie['final_y']))\n",
    "    rr_dict = dict(zip(bb_ie['particle_id'], np.sqrt(bb_ie['final_x']**2 + bb_ie['final_y']**2)))\n",
    "    alpha_dict = dict(zip(bb_ie['particle_id'], np.arctan2(bb_ie['final_y'], bb_ie['final_x'])))\n",
    "\n",
    "\n",
    "    rr = np.array(list(rr_dict.values()))\n",
    "    alpha = np.array(list(alpha_dict.values()))\n",
    "    rotation = vect_find_rot(alpha)\n",
    "\n",
    "    new_alpha = alpha - rotation * dtheta\n",
    "    new_xx = rr * np.cos(new_alpha)\n",
    "    new_yy = rr * np.sin(new_alpha)\n",
    "\n",
    "\n",
    "    rot_dict = dict(zip(bb_ie['particle_id'], rotation))\n",
    "    new_xx_dict = dict(zip(bb_ie['particle_id'], new_xx))\n",
    "    new_yy_dict = dict(zip(bb_ie['particle_id'], new_yy))\n",
    "\n",
    "    return tt_dict, xx_dict, yy_dict, rr_dict, alpha_dict, rot_dict, new_xx_dict, new_yy_dict"
   ]
  },
  {
   "cell_type": "code",
   "execution_count": 94,
   "id": "7695be37",
   "metadata": {},
   "outputs": [],
   "source": [
    "def find_bb_ie(bb_filename, start, event_id):\n",
    "    \n",
    "        stop = start + chunksize\n",
    "\n",
    "        bb_particles = pd.read_hdf(bb_filename, \"/MC/particles\", \n",
    "                                   start = start, stop = stop, \n",
    "                                   low_memory=True)\n",
    "\n",
    "        bb_ie = bb_particles.query(f'(event_id == {event_id}) & (particle_name == \"ie-\")')\n",
    "        prim_e = bb_particles.query(f'(event_id == {event_id}) & (primary == 1)')\n",
    "        \n",
    "        new_start = start + bb_particles.query(f'(event_id == {event_id})').index.max() - 1 \n",
    "        \n",
    "        return new_start, bb_ie, prim_e"
   ]
  },
  {
   "cell_type": "markdown",
   "id": "5476af0e",
   "metadata": {},
   "source": [
    "<h1> __________________________ </h1>\n",
    "<h2> Global parameters </h2>"
   ]
  },
  {
   "cell_type": "code",
   "execution_count": 3,
   "id": "a911a1d2",
   "metadata": {},
   "outputs": [],
   "source": [
    "dark25 = 2000 # [Kcps] (1Kcps = 1e3 dark pulses per second) DCR at 25ºC\n",
    "x_talk = 7 # [%] Probability of a dark count to be 2pe instead of 1pe\n",
    "\n",
    "n_sensors = 90 \n",
    "\n",
    "t_binning = 0.1 # [ns] Conversion constant from bin enumerations to nanoseconds (binning used in the simulation)\n",
    "dT = 5.3 # [ºC] Decay factor at which the dark rate halves"
   ]
  },
  {
   "cell_type": "markdown",
   "id": "c455482f",
   "metadata": {},
   "source": [
    "<h1> __________________________ </h1>\n",
    "<h2> Files </h2>"
   ]
  },
  {
   "cell_type": "code",
   "execution_count": 4,
   "id": "7e22fb76",
   "metadata": {},
   "outputs": [],
   "source": [
    "path = '/home/investigator/mariandbt/python/data/'\n",
    "path = path + '/20231025_NEXT100_full_mapping/next100_fibers'\n",
    "\n",
    "filename = os.path.join(path, \"20240122_Next100_bb_1.next.h5\") # 1 full bb w s2"
   ]
  },
  {
   "cell_type": "code",
   "execution_count": 5,
   "id": "3557f9c6",
   "metadata": {
    "scrolled": true
   },
   "outputs": [
    {
     "name": "stdout",
     "output_type": "stream",
     "text": [
      "/home/investigator/mariandbt/python/data//20231025_NEXT100_full_mapping/next100_fibers/20240122_Next100_bb_1.next.h5 (File) ''\n",
      "Last modif.: '2024-01-24T09:19:06+00:00'\n",
      "Object Tree: \n",
      "/ (RootGroup) ''\n",
      "/MC (Group) ''\n",
      "/MC/configuration (Table(47,)) ''\n",
      "/MC/hits (Table(786,)) ''\n",
      "/MC/particles (Table(101386,)) ''\n",
      "/MC/sns_positions (Table(3431,)) ''\n",
      "/MC/sns_response (Table(2615102,)) ''\n",
      "\n"
     ]
    }
   ],
   "source": [
    "with tb.open_file(filename) as file:\n",
    "    print(file)"
   ]
  },
  {
   "cell_type": "code",
   "execution_count": 6,
   "id": "f353a737",
   "metadata": {},
   "outputs": [],
   "source": [
    "# %%timeit # WITH THIS YOU'RE ONLY TIMING, BUT IT DOESN'T REALLY RUN THE COMMANDS YOU TIME\n",
    "data = pd.read_hdf(filename, \"/MC/sns_response\")\n",
    "particles = pd.read_hdf(filename, \"/MC/particles\")\n"
   ]
  },
  {
   "cell_type": "code",
   "execution_count": 7,
   "id": "3e3460fd",
   "metadata": {},
   "outputs": [],
   "source": [
    "dst = data.copy()\n",
    "dst_particle = particles.copy()\n"
   ]
  },
  {
   "cell_type": "code",
   "execution_count": 8,
   "id": "19294d15",
   "metadata": {},
   "outputs": [
    {
     "name": "stderr",
     "output_type": "stream",
     "text": [
      "/home/investigator/miniconda3/envs/IC-3.8-2022-04-13/lib/python3.8/site-packages/pandas/io/pytables.py:3523: IncompatibilityWarning: \n",
      "where criteria is being ignored as this version [0.0.0] is too old (or\n",
      "not-defined), read the file in and write it out to a new file to upgrade (with\n",
      "the copy_to method)\n",
      "\n",
      "  warnings.warn(ws, IncompatibilityWarning)\n"
     ]
    }
   ],
   "source": [
    "sens_mask = pd.read_hdf(filename, \"/MC/sns_positions\", where='sensor_name == F_SENSOR')['sensor_id']\n"
   ]
  },
  {
   "cell_type": "code",
   "execution_count": 17,
   "id": "ab4e04f4",
   "metadata": {},
   "outputs": [
    {
     "data": {
      "text/plain": [
       "251"
      ]
     },
     "execution_count": 17,
     "metadata": {},
     "output_type": "execute_result"
    }
   ],
   "source": [
    "sens_mask[0]"
   ]
  },
  {
   "cell_type": "code",
   "execution_count": 9,
   "id": "8e2b630f",
   "metadata": {},
   "outputs": [
    {
     "name": "stderr",
     "output_type": "stream",
     "text": [
      "/home/investigator/miniconda3/envs/IC-3.8-2022-04-13/lib/python3.8/site-packages/pandas/core/generic.py:5516: SettingWithCopyWarning: \n",
      "A value is trying to be set on a copy of a slice from a DataFrame.\n",
      "Try using .loc[row_indexer,col_indexer] = value instead\n",
      "\n",
      "See the caveats in the documentation: https://pandas.pydata.org/pandas-docs/stable/user_guide/indexing.html#returning-a-view-versus-a-copy\n",
      "  self[name] = value\n"
     ]
    }
   ],
   "source": [
    "dst_fibers = dst.loc[dst.sensor_id.isin(sens_mask)] # dst only for the sensor on the fibers\n",
    "dst_fibers.time_bin = dst_fibers.time_bin*t_binning # change units to ns\n"
   ]
  },
  {
   "cell_type": "code",
   "execution_count": 34,
   "id": "88589249",
   "metadata": {},
   "outputs": [],
   "source": [
    "sens = sens_mask[23]\n",
    "# sens = 204\n",
    "dst_onesens = dst_fibers.loc[dst_fibers.sensor_id == sens]"
   ]
  },
  {
   "cell_type": "code",
   "execution_count": 35,
   "id": "85ed826a",
   "metadata": {},
   "outputs": [
    {
     "data": {
      "text/html": [
       "<div>\n",
       "<style scoped>\n",
       "    .dataframe tbody tr th:only-of-type {\n",
       "        vertical-align: middle;\n",
       "    }\n",
       "\n",
       "    .dataframe tbody tr th {\n",
       "        vertical-align: top;\n",
       "    }\n",
       "\n",
       "    .dataframe thead th {\n",
       "        text-align: right;\n",
       "    }\n",
       "</style>\n",
       "<table border=\"1\" class=\"dataframe\">\n",
       "  <thead>\n",
       "    <tr style=\"text-align: right;\">\n",
       "      <th></th>\n",
       "      <th>event_id</th>\n",
       "      <th>sensor_id</th>\n",
       "      <th>time_bin</th>\n",
       "      <th>charge</th>\n",
       "    </tr>\n",
       "  </thead>\n",
       "  <tbody>\n",
       "    <tr>\n",
       "      <th>782783</th>\n",
       "      <td>0</td>\n",
       "      <td>240</td>\n",
       "      <td>34.7</td>\n",
       "      <td>1</td>\n",
       "    </tr>\n",
       "    <tr>\n",
       "      <th>782784</th>\n",
       "      <td>0</td>\n",
       "      <td>240</td>\n",
       "      <td>70.8</td>\n",
       "      <td>1</td>\n",
       "    </tr>\n",
       "    <tr>\n",
       "      <th>782785</th>\n",
       "      <td>0</td>\n",
       "      <td>240</td>\n",
       "      <td>74.5</td>\n",
       "      <td>1</td>\n",
       "    </tr>\n",
       "    <tr>\n",
       "      <th>782786</th>\n",
       "      <td>0</td>\n",
       "      <td>240</td>\n",
       "      <td>74.8</td>\n",
       "      <td>1</td>\n",
       "    </tr>\n",
       "    <tr>\n",
       "      <th>782787</th>\n",
       "      <td>0</td>\n",
       "      <td>240</td>\n",
       "      <td>87.3</td>\n",
       "      <td>1</td>\n",
       "    </tr>\n",
       "    <tr>\n",
       "      <th>...</th>\n",
       "      <td>...</td>\n",
       "      <td>...</td>\n",
       "      <td>...</td>\n",
       "      <td>...</td>\n",
       "    </tr>\n",
       "    <tr>\n",
       "      <th>801349</th>\n",
       "      <td>0</td>\n",
       "      <td>240</td>\n",
       "      <td>687722.0</td>\n",
       "      <td>1</td>\n",
       "    </tr>\n",
       "    <tr>\n",
       "      <th>801350</th>\n",
       "      <td>0</td>\n",
       "      <td>240</td>\n",
       "      <td>688551.6</td>\n",
       "      <td>1</td>\n",
       "    </tr>\n",
       "    <tr>\n",
       "      <th>801351</th>\n",
       "      <td>0</td>\n",
       "      <td>240</td>\n",
       "      <td>688565.3</td>\n",
       "      <td>1</td>\n",
       "    </tr>\n",
       "    <tr>\n",
       "      <th>801352</th>\n",
       "      <td>0</td>\n",
       "      <td>240</td>\n",
       "      <td>688868.9</td>\n",
       "      <td>1</td>\n",
       "    </tr>\n",
       "    <tr>\n",
       "      <th>801353</th>\n",
       "      <td>0</td>\n",
       "      <td>240</td>\n",
       "      <td>689761.0</td>\n",
       "      <td>1</td>\n",
       "    </tr>\n",
       "  </tbody>\n",
       "</table>\n",
       "<p>18571 rows × 4 columns</p>\n",
       "</div>"
      ],
      "text/plain": [
       "        event_id  sensor_id  time_bin  charge\n",
       "782783         0        240      34.7       1\n",
       "782784         0        240      70.8       1\n",
       "782785         0        240      74.5       1\n",
       "782786         0        240      74.8       1\n",
       "782787         0        240      87.3       1\n",
       "...          ...        ...       ...     ...\n",
       "801349         0        240  687722.0       1\n",
       "801350         0        240  688551.6       1\n",
       "801351         0        240  688565.3       1\n",
       "801352         0        240  688868.9       1\n",
       "801353         0        240  689761.0       1\n",
       "\n",
       "[18571 rows x 4 columns]"
      ]
     },
     "execution_count": 35,
     "metadata": {},
     "output_type": "execute_result"
    }
   ],
   "source": [
    "dst_onesens"
   ]
  },
  {
   "cell_type": "markdown",
   "id": "c394dca4",
   "metadata": {},
   "source": [
    "<h1> __________________________ </h1>\n",
    "<h2> Analysis </h2>"
   ]
  },
  {
   "cell_type": "markdown",
   "id": "b0cbeb63",
   "metadata": {},
   "source": [
    "-  <p style=\"font-size: 17px; color: black;\"> <b> Direct s2 waveform </b> </p>"
   ]
  },
  {
   "cell_type": "code",
   "execution_count": 38,
   "id": "998a0c61",
   "metadata": {},
   "outputs": [
    {
     "data": {
      "image/png": "[encoded data removed]",
      "text/plain": [
       "<Figure size 700x700 with 1 Axes>"
      ]
     },
     "metadata": {},
     "output_type": "display_data"
    }
   ],
   "source": [
    "fig, ax = plt.subplots(nrows = 1, ncols = 1, figsize=(7, 7), constrained_layout=True)\n",
    "\n",
    "font_size = 15\n",
    "\n",
    "# signal = dst_fibers\n",
    "signal = dst_onesens\n",
    "\n",
    "tt = signal.time_bin*1e-3 # [us]\n",
    "s2 = signal.charge # [e]\n",
    "\n",
    "t_window_min = 400 # [us]\n",
    "t_window_max = 1000 # [us]\n",
    "\n",
    "t_window = (t_window_min < tt) & (tt < t_window_max)\n",
    "\n",
    "t = tt[t_window]\n",
    "s2 = s2[t_window]\n",
    "\n",
    "\n",
    "bin_width = 1 # time units ([us])\n",
    "\n",
    "binin = np.arange(t.min() - bin_width, t.max() + 2*bin_width, bin_width)\n",
    "\n",
    "events, bins, bars = ax.hist(t, binin, \n",
    "                             weights = s2,\n",
    "                             density=False,\n",
    "                             histtype='step')\n",
    "\n",
    "ax.set_title(f's1+s2 waveform for sensor {sens}', fontsize = font_size);\n",
    "ax.set_xlabel('Time [us]', fontsize = font_size);\n",
    "ax.set_ylabel('Signal [e]', fontsize = font_size);\n",
    "\n",
    "ax.tick_params(axis='both', labelsize = font_size*2/3)"
   ]
  },
  {
   "cell_type": "markdown",
   "id": "fc6bdc8a",
   "metadata": {},
   "source": [
    "-  <p style=\"font-size: 17px; color: black;\"> <b> Using s2 table </b> </p>"
   ]
  },
  {
   "cell_type": "code",
   "execution_count": 40,
   "id": "29047b19",
   "metadata": {},
   "outputs": [],
   "source": [
    "s2_table = read_s2_table()"
   ]
  },
  {
   "cell_type": "code",
   "execution_count": null,
   "id": "5e84a46e",
   "metadata": {},
   "outputs": [],
   "source": []
  }
 ],
 "metadata": {
  "kernelspec": {
   "display_name": "Python 3 (ipykernel)",
   "language": "python",
   "name": "python3"
  },
  "language_info": {
   "codemirror_mode": {
    "name": "ipython",
    "version": 3
   },
   "file_extension": ".py",
   "mimetype": "text/x-python",
   "name": "python",
   "nbconvert_exporter": "python",
   "pygments_lexer": "ipython3",
   "version": "3.8.16"
  }
 },
 "nbformat": 4,
 "nbformat_minor": 5
}
