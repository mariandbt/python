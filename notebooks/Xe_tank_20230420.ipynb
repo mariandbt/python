{
 "cells": [
  {
   "cell_type": "code",
   "execution_count": 1,
   "id": "19d793eb",
   "metadata": {},
   "outputs": [],
   "source": [
    "import numpy              as np\n",
    "import pandas             as pd\n",
    "\n",
    "import scipy              \n",
    "from scipy import stats, integrate\n",
    "from scipy.signal import convolve\n",
    "\n",
    "import matplotlib.pyplot  as plt\n",
    "\n",
    "from matplotlib.ticker import FormatStrFormatter # to set the format of the plot's axis\n",
    "from matplotlib.patches import Rectangle # To add blanck spaces in tabular legends\n",
    "\n",
    "import os\n",
    "import math\n",
    "import tables as tb"
   ]
  },
  {
   "cell_type": "markdown",
   "id": "85a2dfe0",
   "metadata": {},
   "source": [
    "# Functions"
   ]
  },
  {
   "cell_type": "code",
   "execution_count": 2,
   "id": "c057ab51",
   "metadata": {},
   "outputs": [],
   "source": [
    "# Fitting distributions to define\n",
    "\n",
    "# note: pdf are normilized to 1 so we have yo add an amplitude param\n",
    "def gauss(x, a,  mu, sigma):\n",
    "    \n",
    "    gaussian = stats.norm.pdf(np.sort(x), mu, sigma) \n",
    "    \n",
    "    return (a/gaussian.sum())*gaussian\n",
    "\n",
    "def gauss_sum(x, a0,  mu0, sigma0, a1, mu1, sigma1):\n",
    "    return a0*stats.norm.pdf(x, mu0, sigma0)  + a1*stats.norm.pdf(x, mu1, sigma1)\n",
    "\n",
    "def dirac(x, x0):\n",
    "    return np.where((x - x0) == 0, 1, 0)\n",
    "\n",
    "def EL_yield(E, p, d):\n",
    "    # E[kV/cm] electric field \n",
    "    # p[bar] pressure\n",
    "    # d[cm] average absorption depth\n",
    "    return (140*E/p - 116)*d*p # [photons/e⁻]\n"
   ]
  },
  {
   "cell_type": "markdown",
   "id": "f55cea8a",
   "metadata": {},
   "source": [
    "# Global parameters"
   ]
  },
  {
   "cell_type": "code",
   "execution_count": 3,
   "id": "5562c609",
   "metadata": {},
   "outputs": [],
   "source": [
    "pd.set_option('display.max_columns', None)\n",
    "pd.set_option('display.max_rows', 100)\n",
    "pd.set_option('display.min_rows', 20)"
   ]
  },
  {
   "cell_type": "code",
   "execution_count": 4,
   "id": "e9c3a83a",
   "metadata": {},
   "outputs": [],
   "source": [
    "# plt.rcParams[\"figure.figsize\"] = 10, 8\n",
    "# plt.rcParams[\"font.size\"] = 10"
   ]
  },
  {
   "cell_type": "code",
   "execution_count": 5,
   "id": "fa353cae",
   "metadata": {},
   "outputs": [
    {
     "name": "stdout",
     "output_type": "stream",
     "text": [
      "EL_gain =  [500, 1000, 1500, 2000]\n"
     ]
    }
   ],
   "source": [
    "dt = 1e3 # [ns] = 1us\n",
    "\n",
    "v_d = 967.99*1e-6 # [mm/ns] = 967.99 [um/us] Drift velocity\n",
    "Xe_ion = 12.13*1e-6 # [MeV] Xe ionization potential (https://www.nuclear-power.com/xenon-affinity-electronegativity-ionization/)\n",
    "\n",
    "\n",
    "d = 0.5 # [cm] average absorption depth (https://arxiv.org/pdf/1202.0721.pdf)\n",
    "p = 15 # [bar] pressure\n",
    "E = 3*p # [kV/cm] electric field (we ussually get E/p, so we define E in terms of p) (https://arxiv.org/pdf/1202.0721.pdf)\n",
    "V = E*d # [kV] voltage\n",
    "\n",
    "# EL_gain = 75 # [photons/e⁻] optical gain (https://iopscience.iop.org/article/10.1088/1748-0221/10/03/P03025/pdf)\n",
    "# EL_gain = 700 # [photons/e⁻] optical gain (Francesc)\n",
    "# EL_gain = 2500 # [photons/e⁻] optical gain (https://arxiv.org/pdf/1202.0721.pdf)\n",
    "# EL_gain = EL_yield(E, p, d) # [photons/e⁻] optical gain (https://arxiv.org/pdf/physics/0702142.pdf)\n",
    "# EL_gain = 140*V # [photons/e⁻] optical gain (https://arxiv.org/pdf/physics/0702142.pdf)\n",
    "EL_gain = [500, 1000, 1500, 2000] # [photons/e⁻] optical gain \n",
    "print('EL_gain = ', EL_gain)\n",
    "\n",
    "# e_lt = 16e5 # [ns] electron lifetime\n",
    "e_lt = 10e6 # [ns] = 10 [ms] electron lifetime\n",
    "# recombi = 0.026 # recombination factor (https://iopscience.iop.org/article/10.1088/1748-0221/10/03/P03025/pdf)\n",
    "recombi = 0. # recombination factor (Ander)\n",
    "\n",
    "difusion_factor = 0.3/np.sqrt(1e1) # [mm]/sqrt([mm]) = 0.3 [mm]/sqrt([cm]) difusion factor (Ander)\n",
    "# NOTE: diff = difusion_factor*sqrt(z)\n",
    "\n",
    "z_max = 1.5e3 # [mm] Detector length/2\n",
    "z_min = -z_max # symmetric detector"
   ]
  },
  {
   "cell_type": "markdown",
   "id": "7af0b327",
   "metadata": {},
   "source": [
    "# Data"
   ]
  },
  {
   "cell_type": "markdown",
   "id": "b0b784dd",
   "metadata": {},
   "source": [
    "## Units are fundamental units used in Geant4, ie:\n",
    "\n",
    "### Length [L]: mm (milimeter)\n",
    "### Time [T]: ns (nanosecond)\n",
    "### Energy [E]: MeV (megaelectronvolt)\n"
   ]
  },
  {
   "cell_type": "code",
   "execution_count": 6,
   "id": "1ee61880",
   "metadata": {},
   "outputs": [],
   "source": [
    "path = '/home/investigator/mariandbt/nexus/'\n",
    "\n",
    "filename = os.path.join(path, \"Xe_tank_bb0nu.next.h5\")"
   ]
  },
  {
   "cell_type": "code",
   "execution_count": 7,
   "id": "3557f9c6",
   "metadata": {},
   "outputs": [
    {
     "name": "stdout",
     "output_type": "stream",
     "text": [
      "/home/investigator/mariandbt/nexus/Xe_tank_bb0nu.next.h5 (File) ''\n",
      "Last modif.: '2023-03-27T15:22:22+00:00'\n",
      "Object Tree: \n",
      "/ (RootGroup) ''\n",
      "/MC (Group) ''\n",
      "/MC/configuration (Table(36,)) ''\n",
      "/MC/hits (Table(1499311,)) ''\n",
      "/MC/particles (Table(317632,)) ''\n",
      "/MC/sns_positions (Table(0,)) ''\n",
      "/MC/sns_response (Table(0,)) ''\n",
      "\n"
     ]
    }
   ],
   "source": [
    "# inside a .h5 file there are several objects, let's see which data-set (dst) we want\n",
    "with tb.open_file(filename) as file:\n",
    "    print(file)"
   ]
  },
  {
   "cell_type": "code",
   "execution_count": 8,
   "id": "f353a737",
   "metadata": {},
   "outputs": [],
   "source": [
    "# %%timeit # WITH THIS YOU'RE ONLY TIMING, BUT IT DOESN'T REALLY RUN THE COMMANDS YOU TIME\n",
    "data = pd.read_hdf(filename, \"/MC/hits\")\n",
    "# dst = pd.read_hdf(filename, \"/MC/hits\").groupby(\"event_id\").get_group(event_id)"
   ]
  },
  {
   "cell_type": "code",
   "execution_count": 53,
   "id": "3e3460fd",
   "metadata": {},
   "outputs": [],
   "source": [
    "dst = data.copy()"
   ]
  },
  {
   "cell_type": "code",
   "execution_count": 54,
   "id": "15e4f36d",
   "metadata": {},
   "outputs": [],
   "source": [
    "g = dst.groupby('event_id')"
   ]
  },
  {
   "cell_type": "code",
   "execution_count": 55,
   "id": "8cfa7384",
   "metadata": {},
   "outputs": [
    {
     "data": {
      "text/plain": [
       "event_id\n",
       "0       2.457830\n",
       "1       1.703053\n",
       "2       2.457830\n",
       "3       2.457830\n",
       "4       1.766257\n",
       "5       2.457830\n",
       "6       2.457830\n",
       "7       2.457830\n",
       "8       1.378242\n",
       "9       2.457830\n",
       "          ...   \n",
       "9990    2.457830\n",
       "9991    2.457830\n",
       "9992    2.457830\n",
       "9993    2.457830\n",
       "9994    2.457830\n",
       "9995    2.133657\n",
       "9996    2.457830\n",
       "9997    2.457830\n",
       "9998    2.041232\n",
       "9999    2.294461\n",
       "Name: energy, Length: 10000, dtype: float32"
      ]
     },
     "execution_count": 55,
     "metadata": {},
     "output_type": "execute_result"
    }
   ],
   "source": [
    "g.energy.sum() # to check the event simulated is bb0nu (Q = 2.5 [MeV])"
   ]
  },
  {
   "cell_type": "code",
   "execution_count": 56,
   "id": "207cc9e0",
   "metadata": {},
   "outputs": [
    {
     "data": {
      "image/png": "[encoded data removed]",
      "text/plain": [
       "<Figure size 640x480 with 1 Axes>"
      ]
     },
     "metadata": {},
     "output_type": "display_data"
    }
   ],
   "source": [
    "zmax, zmin = g.z.max(), g.z.min();\n",
    "plt.hist(zmax-zmin, np.linspace(0, 120, 51)); # to show the length of the events in z"
   ]
  },
  {
   "cell_type": "code",
   "execution_count": 57,
   "id": "484c5233",
   "metadata": {},
   "outputs": [],
   "source": [
    "evt = dst[dst.event_id==7789]"
   ]
  },
  {
   "cell_type": "code",
   "execution_count": 58,
   "id": "4e0405ea",
   "metadata": {},
   "outputs": [
    {
     "data": {
      "text/plain": [
       "<matplotlib.collections.PathCollection at 0x7f0095002790>"
      ]
     },
     "execution_count": 58,
     "metadata": {},
     "output_type": "execute_result"
    },
    {
     "data": {
      "image/png": "[encoded data removed]",
      "text/plain": [
       "<Figure size 640x480 with 1 Axes>"
      ]
     },
     "metadata": {},
     "output_type": "display_data"
    }
   ],
   "source": [
    "plt.scatter(evt.x, evt.y) # transverlsal look of the event"
   ]
  },
  {
   "cell_type": "code",
   "execution_count": 59,
   "id": "61b98a9b",
   "metadata": {},
   "outputs": [
    {
     "data": {
      "text/plain": [
       "event_id\n",
       "0        83\n",
       "1       199\n",
       "2       201\n",
       "3       112\n",
       "4        73\n",
       "5       162\n",
       "6       215\n",
       "7       136\n",
       "8       119\n",
       "9       115\n",
       "       ... \n",
       "9990     82\n",
       "9991     99\n",
       "9992    171\n",
       "9993    179\n",
       "9994     93\n",
       "9995    124\n",
       "9996    194\n",
       "9997    158\n",
       "9998     94\n",
       "9999    151\n",
       "Length: 10000, dtype: int64"
      ]
     },
     "execution_count": 59,
     "metadata": {},
     "output_type": "execute_result"
    }
   ],
   "source": [
    "g.size()"
   ]
  },
  {
   "cell_type": "markdown",
   "id": "4b32220d",
   "metadata": {},
   "source": [
    "# Electron distribution on time"
   ]
  },
  {
   "cell_type": "markdown",
   "id": "1ed51f88",
   "metadata": {},
   "source": [
    "## Number of events"
   ]
  },
  {
   "cell_type": "code",
   "execution_count": 60,
   "id": "008fbc22",
   "metadata": {},
   "outputs": [
    {
     "data": {
      "text/plain": [
       "10000"
      ]
     },
     "execution_count": 60,
     "metadata": {},
     "output_type": "execute_result"
    }
   ],
   "source": [
    "n_events = len(dst['event_id'].unique())\n",
    "n_events"
   ]
  },
  {
   "cell_type": "markdown",
   "id": "b50bf513",
   "metadata": {},
   "source": [
    "## Measurement time = hit time + drift time + difusion"
   ]
  },
  {
   "cell_type": "markdown",
   "id": "14d4d60a",
   "metadata": {},
   "source": [
    "### Drift time"
   ]
  },
  {
   "cell_type": "markdown",
   "id": "bc9cf8e3",
   "metadata": {},
   "source": [
    "## Total time = initial time + drift time"
   ]
  },
  {
   "cell_type": "code",
   "execution_count": 61,
   "id": "3c098205",
   "metadata": {},
   "outputs": [],
   "source": [
    "dst['drift_time'] = (z_max - dst.z)/(v_d) # [ns]"
   ]
  },
  {
   "cell_type": "code",
   "execution_count": 62,
   "id": "6dcdb3f9",
   "metadata": {},
   "outputs": [],
   "source": [
    "dst['measurement_time'] = dst.time + dst.drift_time\n"
   ]
  },
  {
   "cell_type": "code",
   "execution_count": 63,
   "id": "dd9ec141",
   "metadata": {},
   "outputs": [
    {
     "data": {
      "image/png": "[encoded data removed]",
      "text/plain": [
       "<Figure size 640x480 with 1 Axes>"
      ]
     },
     "metadata": {},
     "output_type": "display_data"
    }
   ],
   "source": [
    "plt.hist(g.drift_time.mean(), 51); # to show the length of the events in z\n",
    "# g.drift_time.mean()"
   ]
  },
  {
   "cell_type": "markdown",
   "id": "df45dff8",
   "metadata": {},
   "source": [
    "### Number of electrons = (energy deposition)  * (1 - recombination factor) * (lifetime factor)/ (ionization energy Xe)"
   ]
  },
  {
   "cell_type": "code",
   "execution_count": 64,
   "id": "e257f518",
   "metadata": {},
   "outputs": [],
   "source": [
    "n_e = np.floor(dst.energy*(1 - recombi)*np.exp(-dst.drift_time/e_lt)/Xe_ion)\n",
    "dst['n_e'] = n_e"
   ]
  },
  {
   "cell_type": "markdown",
   "id": "6a73d213",
   "metadata": {},
   "source": [
    "### Nph = Ne*(EL gain)"
   ]
  },
  {
   "cell_type": "code",
   "execution_count": 65,
   "id": "22da289b",
   "metadata": {},
   "outputs": [],
   "source": [
    "for count, EL_value in enumerate(EL_gain):\n",
    "    dst['n_ph_'+str(count)] = np.floor(dst.n_e*EL_value)"
   ]
  },
  {
   "cell_type": "markdown",
   "id": "fb6227c4",
   "metadata": {},
   "source": [
    "### Max S2 signal"
   ]
  },
  {
   "cell_type": "markdown",
   "id": "0157615e",
   "metadata": {},
   "source": [
    "### Difusion effect: variation of the drift time"
   ]
  },
  {
   "cell_type": "markdown",
   "id": "5250456d",
   "metadata": {},
   "source": [
    "Instead of one t_drift for each hit we should have one for each electron given the difusion"
   ]
  },
  {
   "cell_type": "code",
   "execution_count": 66,
   "id": "acf33a48",
   "metadata": {},
   "outputs": [],
   "source": [
    "# For the difusion distribution\n",
    "\n",
    "stds = np.where(np.fabs(dst.z) > 0., difusion_factor*np.sqrt(np.fabs(dst.z))/v_d, 1e-10)\n",
    "dst['stds'] = stds"
   ]
  },
  {
   "cell_type": "code",
   "execution_count": 163,
   "id": "0bf483f4",
   "metadata": {
    "scrolled": false
   },
   "outputs": [
    {
     "name": "stdout",
     "output_type": "stream",
     "text": [
      "EL =  500 ; event =  0\n"
     ]
    },
    {
     "data": {
      "image/png": "[encoded data removed]",
      "text/plain": [
       "<Figure size 1000x500 with 1 Axes>"
      ]
     },
     "metadata": {},
     "output_type": "display_data"
    }
   ],
   "source": [
    "# %%timeit\n",
    "fig, ax = plt.subplots(nrows=1, ncols=1, figsize=(10,5), constrained_layout=True)\n",
    "\n",
    "max_ev = 89\n",
    "# max_ev = 386 + 1\n",
    "ELs = EL_gain[0:0+1]\n",
    "\n",
    "# max_ev = n_events\n",
    "# ELs = EL_gain\n",
    "\n",
    "width = 3e3 # [ns] = 1 [us]  width of the square pulse\n",
    "\n",
    "s2_hist = np.zeros(shape=(len(ELs), max_ev))\n",
    "\n",
    "for count, EL_value in enumerate(ELs):\n",
    "    for ii in range(max_ev):\n",
    "#     for ii in range(max_ev - 1, max_ev):\n",
    "        \n",
    "        if (ii % 1000 == 0):\n",
    "#         if (ii % 1 == 0):\n",
    "#         if (count == len(ELs) - 1) & (ii == max_ev - 1):\n",
    "            print('EL = ', EL_value, '; event = ', ii)\n",
    "        \n",
    "        dst_event = dst.loc[(dst['event_id'] == ii), :].copy() # faster\n",
    "\n",
    "        hit_time = np.array(dst_event['time']) # [ns]\n",
    "        drift_time = np.array(dst_event['drift_time']) # [ns]\n",
    "        measurement_time = hit_time + drift_time\n",
    "\n",
    "        n_photons = np.array(dst_event['n_ph_'+str(count)])\n",
    "\n",
    "#         stds = np.where(drift_time > 0., difusion_factor/np.sqrt(drift_time), 1e-10)\n",
    "        stds = np.array(dst_event['stds'])\n",
    "        means =  np.array(measurement_time)\n",
    "\n",
    "        # Use broadcasting to generate an array of random numbers from normal distributions\n",
    "        \n",
    "#         # Using sum of gaussians\n",
    "#         hist_weights = np.zeros_like(measurement_time)\n",
    "#         for hit, t_hit in enumerate(measurement_time):\n",
    "#             gaussian = gauss(measurement_time, n_photons[hit], t_hit, stds[hit])\n",
    "#             hist_weights += gaussian\n",
    "            \n",
    "\n",
    "#         if (measurement_time.max() - measurement_time.min()) > dt:\n",
    "#             hist_bins = np.arange(measurement_time.min(), measurement_time.max(), dt)\n",
    "#         else:\n",
    "#             hist_bins = np.array([measurement_time.min(), measurement_time.max()])\n",
    "            \n",
    "#         Better visualization\n",
    "        if (measurement_time.max() - measurement_time.min()) > dt:\n",
    "            hist_bins = np.arange(measurement_time.min() - 5e4, measurement_time.max() + 5e4, dt)\n",
    "        else:\n",
    "            hist_bins = np.array([measurement_time.min() - 5e4, measurement_time.max() + 5e4])\n",
    "\n",
    "            \n",
    "#         events, bins = np.histogram(measurement_time, hist_bins, weights = hist_weights);\n",
    "#         waveform = events\n",
    "        \n",
    "        events2, bins = np.histogram(measurement_time, hist_bins, weights = n_photons);\n",
    "        \n",
    "        tm = bins[:-1]\n",
    "        \n",
    "        # Using gaussian convolution with drift z mean\n",
    "        sigma = difusion_factor*np.sqrt(np.fabs(dst_event.z.mean()))/v_d\n",
    "        gaussian = gauss(tm, 1., tm.mean(), sigma)\n",
    "        waveform = np.convolve(events2, gaussian, mode = 'same') / np.sum(gaussian)\n",
    "        \n",
    "#         signal = waveform # ONLY DIFUSION\n",
    "        signal2 = events2\n",
    "        \n",
    "        T = tm.mean() - 2*np.fabs(bins[0] - bins[1]) # [ns] period of the square pulse \n",
    "\n",
    "        wvf = np.where(tm % T < width, 1, 0) \n",
    "        if wvf.sum() > 0.:\n",
    "            square_pulse = wvf/(wvf.sum()) # normalized to 1\n",
    "        else:\n",
    "            square_pulse = 1.\n",
    "            \n",
    "#         print('wvf = ', wvf)\n",
    "#         print('wvf.sum() = ', wvf.sum())\n",
    "        \n",
    "        signal = np.convolve(waveform, square_pulse, mode='same') / np.sum(square_pulse) # BOTH CONVOLUTIONS\n",
    "# #         signal = np.convolve(events2, square_pulse, mode='same') / np.sum(square_pulse) # ONLY LIGHT CONVOLUTION\n",
    "\n",
    "        s2_hist[count, ii] = signal.max()\n",
    "        if np.isnan(signal.max()):\n",
    "            print('isna at: ', count, ii)\n",
    "    \n",
    "    \n",
    "ax.plot(tm, signal2, '-', label = 'Waveform without convolution')\n",
    "ax.plot(tm, signal, '-', label = 'Waveform with both diffusion and light convolutions')\n",
    "# ax.plot(tm, signal, '-', label = 'Waveform with only diffusion convolution')\n",
    "# ax.plot(tm, signal, '-', label = 'Waveform with only light convolution')\n",
    "\n",
    "if not np.isnan(signal.max()):\n",
    "    ax.plot(tm[signal==signal.max()], signal.max(), 'or', \n",
    "            label = 'Max signal %.2E photons'%(signal.max()))\n",
    "\n",
    "ax.fill_between([measurement_time.min(), measurement_time.max()], max(events2.max(), signal.max()), \n",
    "                color = 'magenta', alpha = 0.1, \n",
    "                label = 'Event time = %.2f us'%(1e-3*(measurement_time.max() - measurement_time.min())) )\n",
    "\n",
    "ax.legend(loc = 'upper left')\n",
    "\n",
    "ax.set_xlabel('Time [ns]');\n",
    "ax.set_ylabel('Photons');\n"
   ]
  },
  {
   "cell_type": "code",
   "execution_count": 146,
   "id": "5805da79",
   "metadata": {},
   "outputs": [
    {
     "data": {
      "text/plain": [
       "229000.0"
      ]
     },
     "execution_count": 146,
     "metadata": {},
     "output_type": "execute_result"
    }
   ],
   "source": [
    "n_photons.sum()"
   ]
  },
  {
   "cell_type": "code",
   "execution_count": 148,
   "id": "02b2d148",
   "metadata": {},
   "outputs": [
    {
     "data": {
      "text/plain": [
       "(array([229000.]), array([3048972.14889845]))"
      ]
     },
     "execution_count": 148,
     "metadata": {},
     "output_type": "execute_result"
    }
   ],
   "source": [
    "signal, tm"
   ]
  },
  {
   "cell_type": "code",
   "execution_count": 101,
   "id": "11a5abd7",
   "metadata": {},
   "outputs": [
    {
     "data": {
      "text/plain": [
       "False"
      ]
     },
     "execution_count": 101,
     "metadata": {},
     "output_type": "execute_result"
    }
   ],
   "source": [
    "np.isnan(wvf.sum())"
   ]
  },
  {
   "cell_type": "code",
   "execution_count": 69,
   "id": "1ffef34c",
   "metadata": {},
   "outputs": [
    {
     "data": {
      "text/plain": [
       "(289374000.00000006, 289374000.0, 289374000.0)"
      ]
     },
     "execution_count": 69,
     "metadata": {},
     "output_type": "execute_result"
    }
   ],
   "source": [
    "waveform.sum(), n_photons.sum(), signal.sum()"
   ]
  },
  {
   "cell_type": "code",
   "execution_count": null,
   "id": "99fdfc1d",
   "metadata": {},
   "outputs": [],
   "source": []
  },
  {
   "cell_type": "code",
   "execution_count": 70,
   "id": "3f9f7d78",
   "metadata": {},
   "outputs": [
    {
     "name": "stderr",
     "output_type": "stream",
     "text": [
      "/tmp/ipykernel_5622/860986983.py:2: RuntimeWarning: invalid value encountered in sqrt\n",
      "  sigma, difusion_factor, dst_event.z.max(), np.sqrt(np.fabs(dst_event.z.max())),tm.max(), np.sqrt(dst_event.z.max())*difusion_factor\n"
     ]
    },
    {
     "data": {
      "text/plain": [
       "(3249.331098225409,\n",
       " 0.09486832980505137,\n",
       " -1060.6328125,\n",
       " 32.56735808290258,\n",
       " 2756309.1888397816,\n",
       " nan)"
      ]
     },
     "execution_count": 70,
     "metadata": {},
     "output_type": "execute_result"
    }
   ],
   "source": [
    "# gauss(tm, 1., tm.mean(), sigma)\n",
    "sigma, difusion_factor, dst_event.z.max(), np.sqrt(np.fabs(dst_event.z.max())),tm.max(), np.sqrt(dst_event.z.max())*difusion_factor"
   ]
  },
  {
   "cell_type": "code",
   "execution_count": 71,
   "id": "1f3c29cf",
   "metadata": {},
   "outputs": [
    {
     "name": "stderr",
     "output_type": "stream",
     "text": [
      "/tmp/ipykernel_5622/1337439228.py:1: RuntimeWarning: invalid value encountered in sqrt\n",
      "  sigma, difusion_factor*np.sqrt(dst_event.z.mean())\n"
     ]
    },
    {
     "data": {
      "text/plain": [
       "(3249.331098225409,\n",
       " 0.09486832980505137,\n",
       " 2707345.8566930573,\n",
       " 1645.4014272186157,\n",
       " 2756309.1888397816,\n",
       " 157.50169110062924)"
      ]
     },
     "execution_count": 71,
     "metadata": {},
     "output_type": "execute_result"
    }
   ],
   "source": [
    "sigma, difusion_factor*np.sqrt(dst_event.z.mean())\n",
    "sigma, difusion_factor, drift_time.max(), np.sqrt(drift_time.max()),tm.max(), np.sqrt(tm.max())*difusion_factor"
   ]
  },
  {
   "cell_type": "code",
   "execution_count": 72,
   "id": "b2118b6d",
   "metadata": {},
   "outputs": [
    {
     "data": {
      "text/plain": [
       "-1099.2264404296875"
      ]
     },
     "execution_count": 72,
     "metadata": {},
     "output_type": "execute_result"
    }
   ],
   "source": [
    "dst_event.z.mean()"
   ]
  },
  {
   "cell_type": "code",
   "execution_count": 73,
   "id": "2f3023a3",
   "metadata": {},
   "outputs": [
    {
     "data": {
      "text/plain": [
       "1000.0"
      ]
     },
     "execution_count": 73,
     "metadata": {},
     "output_type": "execute_result"
    }
   ],
   "source": [
    "tm[1]-tm[0]"
   ]
  },
  {
   "cell_type": "code",
   "execution_count": null,
   "id": "52ecfa6d",
   "metadata": {},
   "outputs": [],
   "source": []
  },
  {
   "cell_type": "code",
   "execution_count": 74,
   "id": "87523ce3",
   "metadata": {},
   "outputs": [
    {
     "data": {
      "image/png": "[encoded data removed]",
      "text/plain": [
       "<Figure size 640x480 with 1 Axes>"
      ]
     },
     "metadata": {},
     "output_type": "display_data"
    }
   ],
   "source": [
    "\n",
    "\n",
    "# Generate the time axis\n",
    "# t = np.linspace(0, 2*T, 10000, endpoint=False)\n",
    "t = bins[:-1]\n",
    "\n",
    "# Define the parameters\n",
    "# T = 0.1e6   # period of the square pulse in seconds\n",
    "T = t.mean() - 2*np.fabs(t[0] - t[1])    # period of the square pulse in seconds\n",
    "# T = 3.05e6    # period of the square pulse in seconds\n",
    "# d = 0.01e6 # [ns] = 1 [us]  duty cycle of the square pulse\n",
    "d = 3e3 # [ns] = 1 [us]  duty cycle of the square pulse\n",
    "\n",
    "# Generate the square pulse waveform\n",
    "waveform = np.where(t % T < d, 1, 0)\n",
    "\n",
    "# Plot the waveform\n",
    "plt.plot(t, waveform)\n",
    "plt.title('Square Pulse')\n",
    "plt.xlabel('Time (ns)')\n",
    "plt.ylabel('Amplitude')\n",
    "plt.ylim([-0.1, 1.1])\n",
    "plt.show()\n"
   ]
  },
  {
   "cell_type": "code",
   "execution_count": 75,
   "id": "0bbe5a43",
   "metadata": {},
   "outputs": [
    {
     "data": {
      "text/plain": [
       "-1000.0"
      ]
     },
     "execution_count": 75,
     "metadata": {},
     "output_type": "execute_result"
    }
   ],
   "source": [
    "t[0] - t[1]"
   ]
  },
  {
   "cell_type": "code",
   "execution_count": 76,
   "id": "523bd1d0",
   "metadata": {},
   "outputs": [
    {
     "data": {
      "text/plain": [
       "214735000.00000003"
      ]
     },
     "execution_count": 76,
     "metadata": {},
     "output_type": "execute_result"
    }
   ],
   "source": [
    "events.sum() - n_photons.sum()\n",
    "# events2.sum() - n_photons.sum()\n",
    "events2.sum() - events.sum()\n"
   ]
  },
  {
   "cell_type": "code",
   "execution_count": 78,
   "id": "ad536220",
   "metadata": {},
   "outputs": [
    {
     "data": {
      "text/plain": [
       "array([2595309.18883978, 2596309.18883978, 2597309.18883978,\n",
       "       2598309.18883978, 2599309.18883978, 2600309.18883978,\n",
       "       2601309.18883978, 2602309.18883978, 2603309.18883978,\n",
       "       2604309.18883978, 2605309.18883978, 2606309.18883978,\n",
       "       2607309.18883978, 2608309.18883978, 2609309.18883978,\n",
       "       2610309.18883978, 2611309.18883978, 2612309.18883978,\n",
       "       2613309.18883978, 2614309.18883978, 2615309.18883978,\n",
       "       2616309.18883978, 2617309.18883978, 2618309.18883978,\n",
       "       2619309.18883978, 2620309.18883978, 2621309.18883978,\n",
       "       2622309.18883978, 2623309.18883978, 2624309.18883978,\n",
       "       2625309.18883978, 2626309.18883978, 2627309.18883978,\n",
       "       2628309.18883978, 2629309.18883978, 2630309.18883978,\n",
       "       2631309.18883978, 2632309.18883978, 2633309.18883978,\n",
       "       2634309.18883978, 2635309.18883978, 2636309.18883978,\n",
       "       2637309.18883978, 2638309.18883978, 2639309.18883978,\n",
       "       2640309.18883978, 2641309.18883978, 2642309.18883978,\n",
       "       2643309.18883978, 2644309.18883978, 2645309.18883978,\n",
       "       2646309.18883978, 2647309.18883978, 2648309.18883978,\n",
       "       2649309.18883978, 2650309.18883978, 2651309.18883978,\n",
       "       2652309.18883978, 2653309.18883978, 2654309.18883978,\n",
       "       2655309.18883978, 2656309.18883978, 2657309.18883978,\n",
       "       2658309.18883978, 2659309.18883978, 2660309.18883978,\n",
       "       2661309.18883978, 2662309.18883978, 2663309.18883978,\n",
       "       2664309.18883978, 2665309.18883978, 2666309.18883978,\n",
       "       2667309.18883978, 2668309.18883978, 2669309.18883978,\n",
       "       2670309.18883978, 2671309.18883978, 2672309.18883978,\n",
       "       2673309.18883978, 2674309.18883978, 2675309.18883978,\n",
       "       2676309.18883978, 2677309.18883978, 2678309.18883978,\n",
       "       2679309.18883978, 2680309.18883978, 2681309.18883978,\n",
       "       2682309.18883978, 2683309.18883978, 2684309.18883978,\n",
       "       2685309.18883978, 2686309.18883978, 2687309.18883978,\n",
       "       2688309.18883978, 2689309.18883978, 2690309.18883978,\n",
       "       2691309.18883978, 2692309.18883978, 2693309.18883978,\n",
       "       2694309.18883978, 2695309.18883978, 2696309.18883978,\n",
       "       2697309.18883978, 2698309.18883978, 2699309.18883978,\n",
       "       2700309.18883978, 2701309.18883978, 2702309.18883978,\n",
       "       2703309.18883978, 2704309.18883978, 2705309.18883978,\n",
       "       2706309.18883978, 2707309.18883978, 2708309.18883978,\n",
       "       2709309.18883978, 2710309.18883978, 2711309.18883978,\n",
       "       2712309.18883978, 2713309.18883978, 2714309.18883978,\n",
       "       2715309.18883978, 2716309.18883978, 2717309.18883978,\n",
       "       2718309.18883978, 2719309.18883978, 2720309.18883978,\n",
       "       2721309.18883978, 2722309.18883978, 2723309.18883978,\n",
       "       2724309.18883978, 2725309.18883978, 2726309.18883978,\n",
       "       2727309.18883978, 2728309.18883978, 2729309.18883978,\n",
       "       2730309.18883978, 2731309.18883978, 2732309.18883978,\n",
       "       2733309.18883978, 2734309.18883978, 2735309.18883978,\n",
       "       2736309.18883978, 2737309.18883978, 2738309.18883978,\n",
       "       2739309.18883978, 2740309.18883978, 2741309.18883978,\n",
       "       2742309.18883978, 2743309.18883978, 2744309.18883978,\n",
       "       2745309.18883978, 2746309.18883978, 2747309.18883978,\n",
       "       2748309.18883978, 2749309.18883978, 2750309.18883978,\n",
       "       2751309.18883978, 2752309.18883978, 2753309.18883978,\n",
       "       2754309.18883978, 2755309.18883978, 2756309.18883978])"
      ]
     },
     "execution_count": 78,
     "metadata": {},
     "output_type": "execute_result"
    }
   ],
   "source": [
    "bins[:-1]"
   ]
  },
  {
   "cell_type": "code",
   "execution_count": 150,
   "id": "3f6cb4c4",
   "metadata": {},
   "outputs": [
    {
     "data": {
      "text/plain": [
       "[<matplotlib.lines.Line2D at 0x7f00935a6250>]"
      ]
     },
     "execution_count": 150,
     "metadata": {},
     "output_type": "execute_result"
    },
    {
     "data": {
      "image/png": "[encoded data removed]",
      "text/plain": [
       "<Figure size 640x480 with 1 Axes>"
      ]
     },
     "metadata": {},
     "output_type": "display_data"
    }
   ],
   "source": [
    "plt.plot(hist_weights)"
   ]
  },
  {
   "cell_type": "code",
   "execution_count": 80,
   "id": "666e95ba",
   "metadata": {},
   "outputs": [
    {
     "data": {
      "text/plain": [
       "[<matplotlib.lines.Line2D at 0x7f0094d94af0>]"
      ]
     },
     "execution_count": 80,
     "metadata": {},
     "output_type": "execute_result"
    },
    {
     "data": {
      "image/png": "[encoded data removed]",
      "text/plain": [
       "<Figure size 640x480 with 1 Axes>"
      ]
     },
     "metadata": {},
     "output_type": "display_data"
    }
   ],
   "source": [
    "plt.plot(n_photons)"
   ]
  },
  {
   "cell_type": "code",
   "execution_count": 83,
   "id": "582bbb0f",
   "metadata": {},
   "outputs": [],
   "source": [
    "# tm = np.linspace(0, 10, 1000)\n",
    "\n",
    "# t_hit = tm[20]\n",
    "# t_d_hit = 0.01\n",
    "# n_ph_hit = 10\n",
    "# sigma = difusion_factor/np.sqrt(t_d_hit)\n",
    "\n",
    "# gaussian = gauss(tm, n_ph_hit, t_hit, sigma)\n",
    "# delta = dirac(tm, t_hit)\n",
    "\n",
    "# result = convolve(gaussian, delta, mode='same')\n",
    "\n",
    "# t_hit2 = tm[80]\n",
    "# t_d_hit2 = 0.2\n",
    "# n_ph_hit2 = 7\n",
    "# sigma2 = difusion_factor/np.sqrt(t_d_hit2)\n",
    "\n",
    "# gaussian2 = gauss(tm, n_ph_hit2, t_hit2, sigma2)\n",
    "# delta2 = dirac(tm, t_hit2)\n",
    "\n",
    "# result2 = convolve(gaussian2, delta2, mode='same')"
   ]
  },
  {
   "cell_type": "code",
   "execution_count": 84,
   "id": "fb186703",
   "metadata": {},
   "outputs": [],
   "source": [
    "# plt.plot(tm, gaussian + gaussian2, label='Gaussian')\n",
    "# plt.plot(tm, delta + delta2, label='Dirac delta')\n",
    "# plt.plot(tm, result + result2, label='Convolution')\n",
    "# plt.legend()\n",
    "# plt.show()"
   ]
  },
  {
   "cell_type": "code",
   "execution_count": null,
   "id": "e56c5def",
   "metadata": {},
   "outputs": [],
   "source": []
  },
  {
   "cell_type": "code",
   "execution_count": null,
   "id": "8eb18f30",
   "metadata": {},
   "outputs": [],
   "source": []
  },
  {
   "cell_type": "code",
   "execution_count": 85,
   "id": "49e64038",
   "metadata": {},
   "outputs": [],
   "source": [
    "# # %%timeit\n",
    "\n",
    "# s2_hist = []\n",
    "\n",
    "# for count, EL_gain_value in enumerate(EL_gain):\n",
    "    \n",
    "#     s2 = []\n",
    "    \n",
    "#     # for ii in range(1000):\n",
    "#     for ii in range(n_events):\n",
    "\n",
    "#         dst_event = dst.loc[(dst['event_id'] == ii), :] # faster\n",
    "#     #     dst_event = dst.groupby(\"event_id\").get_group(ii) # slower\n",
    "\n",
    "#         if (dst_event['measurement_time'].max() - dst_event['measurement_time'].min()) > dt:\n",
    "#             hist_bins = np.arange(dst_event['measurement_time'].min(), dst_event['measurement_time'].max(), dt)\n",
    "#         else:\n",
    "#             hist_bins = np.array([dst_event['measurement_time'].min(), dst_event['measurement_time'].max()])\n",
    "\n",
    "#     #     hist_weights = dst_event['n_ph']\n",
    "#         hist_weights = dst_event[str('n_ph_' + str(count))]\n",
    "#         events, bins = np.histogram(dst_event['measurement_time'], hist_bins, weights = hist_weights);\n",
    "\n",
    "#         s2.append(events.max())\n",
    "        \n",
    "#     s2_hist.append(np.array(s2))\n",
    "    "
   ]
  },
  {
   "cell_type": "code",
   "execution_count": 155,
   "id": "c37d8cf4",
   "metadata": {
    "scrolled": false
   },
   "outputs": [
    {
     "data": {
      "text/plain": [
       "<matplotlib.legend.Legend at 0x7f0093347fd0>"
      ]
     },
     "execution_count": 155,
     "metadata": {},
     "output_type": "execute_result"
    },
    {
     "data": {
      "image/png": "[encoded data removed]",
      "text/plain": [
       "<Figure size 1000x500 with 1 Axes>"
      ]
     },
     "metadata": {},
     "output_type": "display_data"
    }
   ],
   "source": [
    "fig, ax = plt.subplots(nrows=1, ncols=1, figsize=(10,5), constrained_layout=True)\n",
    "\n",
    "#_________plot_settings_________________________________________________\n",
    "\n",
    "\n",
    "s2_mean = []\n",
    "# s2_max = []\n",
    "s2_50_perc = np.zeros(len(EL_gain))\n",
    "s2_75_perc = np.zeros(len(EL_gain))\n",
    "s2_90_perc = np.zeros(len(EL_gain))\n",
    "\n",
    "for count, EL_gain_value in enumerate(EL_gain):\n",
    "# for count, EL_gain_value in enumerate([500]):\n",
    "\n",
    "    events, bins, bars = ax.hist(s2_hist[count], 50, density=False, \n",
    "                                 label='S2 photon distribution', \n",
    "                                 histtype='step', \n",
    "#                                  range=(-1, 2e2), \n",
    "                                 alpha = (0.25 + 0.25*count),\n",
    "#                                  alpha = (1 - 0.25*count),\n",
    "                                 lw = 2\n",
    "                                )\n",
    "    \n",
    "    s2_50_perc[count] = sorted(s2_hist[count])[int(0.5*len(s2_hist[count]))]\n",
    "    s2_75_perc[count] = sorted(s2_hist[count])[int(0.75*len(s2_hist[count]))]\n",
    "    s2_90_perc[count] = sorted(s2_hist[count])[int(0.9*len(s2_hist[count]))]\n",
    "\n",
    "    s2_mean.append(s2_hist[count].mean())\n",
    "#     s2_max.append(s2_hist[count].max())\n",
    "\n",
    "# ax.set_xlabel('Number of photons in S2');\n",
    "ax.set_xlabel('Maximum number of photons in each event');\n",
    "ax.set_ylabel('Counts');\n",
    "\n",
    "hand, labl = ax.get_legend_handles_labels()\n",
    "s2_mean = np.array(s2_mean)\n",
    "# s2_max = np.array(s2_max)\n",
    "\n",
    "# create blank rectangle\n",
    "extra = Rectangle((0, 0), 1, 1, fc=\"w\", fill=False, edgecolor='none', linewidth=0)\n",
    "\n",
    "#Create organized list containing all handles for table. Extra represent empty space\n",
    "legend_handle = np.concatenate([[extra], hand, \n",
    "                                [extra]*(len(hand) + 1),\n",
    "                                [extra]*(len(hand) + 1),\n",
    "                                [extra]*(len(hand) + 1),\n",
    "                                [extra]*(len(hand) + 1),\n",
    "                                [extra]*(len(hand) + 1)\n",
    "                               ])\n",
    "\n",
    "#Define the labels\n",
    "label_empty = [\"\"]\n",
    "label_markers = [r\"Color\"]\n",
    "label_EL = [r\"EL Gain [ph/e]\", '%.0f'%(EL_gain[0]), '%.0f'%(EL_gain[1]), '%.0f'%(EL_gain[2]), '%.0f'%(EL_gain[3])]\n",
    "label_s2mean = [r\"$\\mu$ [ph]\", '%.2E'%(s2_mean[0]), '%.2E'%(s2_mean[1]), '%.2E'%(s2_mean[2]), '%.2E'%(s2_mean[3])]\n",
    "# label_s2max = [r\"Max [ph]\", '%.2E'%(s2_max[0]), '%.2E'%(s2_max[1]), '%.2E'%(s2_max[2]), '%.2E'%(s2_max[3])]\n",
    "label_s2_50_perc = [r\"50% [ph]\", '%.2E'%(s2_50_perc[0]), '%.2E'%(s2_50_perc[1]), \n",
    "                    '%.2E'%(s2_50_perc[2]), '%.2E'%(s2_50_perc[3])]\n",
    "label_s2_75_perc = [r\"75% [ph]\", '%.2E'%(s2_75_perc[0]), '%.2E'%(s2_75_perc[1]), \n",
    "                    '%.2E'%(s2_75_perc[2]), '%.2E'%(s2_75_perc[3])]\n",
    "label_s2_90_perc = [r\"90% [ph]\", '%.2E'%(s2_90_perc[0]), '%.2E'%(s2_90_perc[1]), \n",
    "                    '%.2E'%(s2_90_perc[2]), '%.2E'%(s2_90_perc[3])]\n",
    "\n",
    "#organize labels for table construction\n",
    "legend_labels = np.concatenate([label_markers, label_empty*len(hand), \n",
    "                                label_EL, \n",
    "                                label_s2mean, \n",
    "#                                 label_s2max\n",
    "                                label_s2_50_perc, label_s2_75_perc, label_s2_90_perc\n",
    "                               ])\n",
    "\n",
    "#Create legend\n",
    "ax.legend(legend_handle, legend_labels, \n",
    "          loc = 'best', ncol = 6, shadow = False, handletextpad = -2)\n"
   ]
  },
  {
   "cell_type": "code",
   "execution_count": null,
   "id": "4cc40aac",
   "metadata": {},
   "outputs": [],
   "source": []
  },
  {
   "cell_type": "code",
   "execution_count": null,
   "id": "66b351eb",
   "metadata": {},
   "outputs": [],
   "source": []
  },
  {
   "cell_type": "code",
   "execution_count": null,
   "id": "b09df0fe",
   "metadata": {},
   "outputs": [],
   "source": [
    "fig, ax = plt.subplots(nrows=1, ncols=1, figsize=(15,5), constrained_layout=True)\n",
    "\n",
    "#_________plot_settings_________________________________________________\n",
    "\n",
    "\n",
    "s2_mean = []\n",
    "s2_max = []\n",
    "\n",
    "# n_ev = int(n_events/1000)\n",
    "n_ev = int(n_events/10)\n",
    "\n",
    "for count, EL_gain_value in enumerate(EL_gain):\n",
    "# for count, EL_gain_value in enumerate([500]):\n",
    "\n",
    "    ax.plot(s2_hist[count][:n_ev], #'o',\n",
    "            label='S2 photon distribution', \n",
    "#             alpha = (0.25 + 0.25*count),\n",
    "#             alpha = (1 - 0.25*count),\n",
    "            lw = 2\n",
    "           )\n",
    "\n",
    "    s2_mean.append(s2_hist[count].mean())\n",
    "    s2_max.append(s2_hist[count].max())\n",
    "\n",
    "# ax.set_xlabel('Number of photons in S2');\n",
    "ax.set_xlabel('Maximum number of photons in each event');\n",
    "ax.set_ylabel('Counts');\n",
    "\n",
    "hand, labl = ax.get_legend_handles_labels()\n",
    "s2_mean = np.array(s2_mean)\n",
    "s2_max = np.array(s2_max)\n",
    "\n",
    "# create blank rectangle\n",
    "extra = Rectangle((0, 0), 1, 1, fc=\"w\", fill=False, edgecolor='none', linewidth=0)\n",
    "\n",
    "#Create organized list containing all handles for table. Extra represent empty space\n",
    "legend_handle = np.concatenate([[extra], hand, \n",
    "                                [extra]*(len(hand) + 1),\n",
    "                                [extra]*(len(hand) + 1),\n",
    "                                [extra]*(len(hand) + 1)\n",
    "                               ])\n",
    "\n",
    "#Define the labels\n",
    "label_empty = [\"\"]\n",
    "label_markers = [r\"Color\"]\n",
    "label_EL = [r\"EL Gain [ph/e]\", '%.0f'%(EL_gain[0]), '%.0f'%(EL_gain[1]), '%.0f'%(EL_gain[2]), '%.0f'%(EL_gain[3])]\n",
    "label_s2mean = [r\"$\\mu$ [ph]\", '%.2E'%(s2_mean[0]), '%.2E'%(s2_mean[1]), '%.2E'%(s2_mean[2]), '%.2E'%(s2_mean[3])]\n",
    "label_s2max = [r\"Max [ph]\", '%.2E'%(s2_max[0]), '%.2E'%(s2_max[1]), '%.2E'%(s2_max[2]), '%.2E'%(s2_max[3])]\n",
    "\n",
    "#organize labels for table construction\n",
    "legend_labels = np.concatenate([label_markers, label_empty*len(hand), \n",
    "                                label_EL, label_s2mean, label_s2max])\n",
    "\n",
    "#Create legend\n",
    "ax.legend(legend_handle, legend_labels, \n",
    "          loc = 'best', ncol = 4, shadow = False, handletextpad = -2)\n",
    "\n",
    "# ax.set_xlim([0, 2e4])\n"
   ]
  },
  {
   "cell_type": "code",
   "execution_count": null,
   "id": "241eebad",
   "metadata": {},
   "outputs": [],
   "source": []
  }
 ],
 "metadata": {
  "kernelspec": {
   "display_name": "Python 3 (ipykernel)",
   "language": "python",
   "name": "python3"
  },
  "language_info": {
   "codemirror_mode": {
    "name": "ipython",
    "version": 3
   },
   "file_extension": ".py",
   "mimetype": "text/x-python",
   "name": "python",
   "nbconvert_exporter": "python",
   "pygments_lexer": "ipython3",
   "version": "3.8.13"
  }
 },
 "nbformat": 4,
 "nbformat_minor": 5
}
