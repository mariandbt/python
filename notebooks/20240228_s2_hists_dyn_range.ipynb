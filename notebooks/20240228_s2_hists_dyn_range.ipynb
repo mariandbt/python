{
 "cells": [
  {
   "cell_type": "markdown",
   "id": "f55cea8a",
   "metadata": {},
   "source": [
    "<h1> ______________________________________ </h1>\n",
    "\n",
    "<h1> Full NEXT100 with fiber panels simulation signal analysis </h1>\n",
    "<h1> ______________________________________ </h1>\n",
    "\n",
    "<p style=\"font-size: 17px; color: black;\"> In this Notebook we take as input the signal created in the previous notebook and use it to analize the waveforms. </p>\n",
    "\n",
    "\n"
   ]
  },
  {
   "cell_type": "code",
   "execution_count": 1,
   "id": "4d7a01b4",
   "metadata": {},
   "outputs": [],
   "source": [
    "# S2 signal script\n",
    "import sys\n",
    "sys.path.append('/home/investigator/mariandbt/python/notebooks/modules')\n",
    "\n",
    "from import_modules import *\n",
    "\n",
    "import set_up as setup\n",
    "import s2_hists as s2hist\n"
   ]
  },
  {
   "cell_type": "code",
   "execution_count": 2,
   "id": "6f02366b",
   "metadata": {},
   "outputs": [
    {
     "name": "stdout",
     "output_type": "stream",
     "text": [
      "\n",
      "        NOTE: if you want to compare online and offline waveforms \n",
      "        it should be done with the offline file and the original online file from which this was created\n",
      "      \n"
     ]
    },
    {
     "name": "stderr",
     "output_type": "stream",
     "text": [
      "/home/investigator/miniconda3/envs/IC-3.8-2022-04-13/lib/python3.8/site-packages/pandas/io/pytables.py:3523: IncompatibilityWarning: \n",
      "where criteria is being ignored as this version [0.0.0] is too old (or\n",
      "not-defined), read the file in and write it out to a new file to upgrade (with\n",
      "the copy_to method)\n",
      "\n",
      "  warnings.warn(ws, IncompatibilityWarning)\n"
     ]
    }
   ],
   "source": [
    "# Data reading\n",
    "# ________________________________________________________________________________________________________________\n",
    "\n",
    "path = '/home/investigator/mariandbt/python/data'\n",
    "path = path + '/20231025_NEXT100_full_mapping'\n",
    "\n",
    "\n",
    "# off_s2_file_path = os.path.join(path, \"20240219_bb0nu_200ev_s2_signal.h5\") # has fluctuations\n",
    "# off_s2_file_path = os.path.join(path, \"20240222_bb0nu_200ev_s2_signal.h5\") # has fluctuations\n",
    "off_s2_file_path = os.path.join(path, \"20240226_bb0nu_200ev_s2_signal.h5\") # has fluctuations\n",
    "# off_s2_file_path = os.path.join(path, \"20240228_bb0nu_10ev_ELon_s2_signal.h5\") # EL ON + fluctuations\n",
    "\n",
    "# online_s2_filename = os.path.join(path, \"next100_fibers/20240122_Next100_bb_1.next.h5\") # 1 full bb w s2\n",
    "online_s2_filename = os.path.join(path, \"next100_fibers/20240226_Next100_bb_1.next.h5\") # 10 full bb w s2\n",
    "sns_positions, sns_response = setup.read_fiber_sens(online_s2_filename)\n",
    "\n",
    "print(\"\"\"\n",
    "        NOTE: if you want to compare online and offline waveforms \n",
    "        it should be done with the offline file and the original online file from which this was created\n",
    "      \"\"\")"
   ]
  },
  {
   "cell_type": "code",
   "execution_count": 3,
   "id": "57faa834",
   "metadata": {},
   "outputs": [],
   "source": [
    "# Global params\n",
    "# ________________________________________________________________________________________________________________\n",
    "\n",
    "t_binnin = 0.1 # [ns] Conversion constant from bin enumerations to nanoseconds (binning used in the simulation)\n",
    "fiducial_radio = 490 # [mm]\n",
    "# fiducial_radio = 400 # [mm]\n"
   ]
  },
  {
   "cell_type": "code",
   "execution_count": 4,
   "id": "96003d33",
   "metadata": {},
   "outputs": [
    {
     "name": "stdout",
     "output_type": "stream",
     "text": [
      "t_binnin already exists! Updating variable.\n",
      "t_binnin already exists! Updating variable.\n",
      "fiducial_radio already exists! Updating variable.\n",
      "Global parameters set successfully :)\n"
     ]
    }
   ],
   "source": [
    "s2hist.set_global_parameters(globals(), t_binnin, fiducial_radio)"
   ]
  },
  {
   "cell_type": "code",
   "execution_count": 5,
   "id": "89dd1b41",
   "metadata": {
    "scrolled": true
   },
   "outputs": [
    {
     "name": "stdout",
     "output_type": "stream",
     "text": [
      "Event 0 processed\n",
      "Event 1 processed\n",
      "Event 10 processed\n",
      "Event 100 processed\n",
      "Event 101 processed\n",
      "Event 102 processed\n",
      "Event 103 processed\n",
      "Event 104 processed\n",
      "Event 105 processed\n",
      "Event 106 processed\n",
      "Event 107 processed\n",
      "Event 108 processed\n",
      "Event 109 processed\n",
      "Event 11 processed\n",
      "Event 110 processed\n",
      "Event 111 processed\n",
      "Event 112 processed\n",
      "Event 113 processed\n",
      "Event 114 processed\n",
      "Event 115 processed\n",
      "Event 116 processed\n",
      "Event 117 processed\n",
      "Event 118 processed\n",
      "Event 119 processed\n",
      "Event 12 processed\n",
      "Event 120 processed\n",
      "Event 121 processed\n",
      "Event 122 processed\n",
      "Event 123 processed\n",
      "Event 124 processed\n",
      "Event 125 processed\n",
      "Event 126 processed\n",
      "Event 127 processed\n",
      "Event 128 processed\n",
      "Event 129 processed\n",
      "Event 13 processed\n",
      "Event 130 processed\n",
      "Event 131 processed\n",
      "Event 132 processed\n",
      "Event 133 processed\n",
      "Event 134 processed\n",
      "Event 135 processed\n",
      "Event 136 processed\n",
      "Event 137 processed\n",
      "Event 138 processed\n",
      "Event 139 processed\n",
      "Event 14 processed\n",
      "Event 140 processed\n",
      "Event 141 processed\n",
      "Event 142 processed\n",
      "Event 143 processed\n",
      "Event 144 processed\n",
      "Event 145 processed\n",
      "Event 146 processed\n",
      "Event 147 processed\n",
      "Event 148 processed\n",
      "Event 149 processed\n",
      "Event 15 processed\n",
      "Event 150 processed\n",
      "Event 151 processed\n",
      "Event 152 processed\n",
      "Event 153 processed\n",
      "Event 154 processed\n",
      "Event 155 processed\n",
      "Event 156 processed\n",
      "Event 157 processed\n",
      "Event 158 processed\n",
      "Event 159 processed\n",
      "Event 16 processed\n",
      "Event 160 processed\n",
      "Event 161 processed\n",
      "Event 162 processed\n",
      "Event 163 processed\n",
      "Event 164 processed\n",
      "Event 165 processed\n",
      "Event 166 processed\n",
      "Event 167 processed\n",
      "Event 168 processed\n",
      "Event 169 processed\n",
      "Event 17 processed\n",
      "Event 170 processed\n",
      "Event 171 processed\n",
      "Event 172 processed\n",
      "Event 173 processed\n",
      "Event 174 processed\n",
      "Event 175 processed\n",
      "Event 176 processed\n",
      "Event 177 processed\n",
      "Event 178 processed\n",
      "Event 179 processed\n",
      "Event 18 processed\n",
      "Event 180 processed\n",
      "Event 181 processed\n",
      "Event 182 processed\n",
      "Event 183 processed\n",
      "Event 184 processed\n",
      "Event 185 processed\n",
      "Event 186 processed\n",
      "Event 187 processed\n",
      "Event 188 processed\n",
      "Event 189 processed\n",
      "Event 19 processed\n",
      "Event 190 processed\n",
      "Event 191 processed\n",
      "Event 192 processed\n",
      "Event 193 processed\n",
      "Event 194 processed\n",
      "Event 195 processed\n",
      "Event 196 processed\n",
      "Event 197 processed\n",
      "Event 198 processed\n",
      "Event 199 processed\n",
      "Event 2 processed\n",
      "Event 21 processed\n",
      "Event 22 processed\n",
      "Event 23 processed\n",
      "Event 24 processed\n",
      "Event 25 processed\n",
      "Event 26 processed\n",
      "Event 27 processed\n",
      "Event 28 processed\n",
      "Event 29 processed\n",
      "Event 3 processed\n",
      "Event 30 processed\n",
      "Event 31 processed\n",
      "Event 32 processed\n",
      "Event 33 processed\n",
      "Event 34 processed\n",
      "Event 35 processed\n",
      "Event 36 processed\n",
      "Event 37 processed\n",
      "Event 38 processed\n",
      "Event 39 processed\n",
      "Event 4 processed\n",
      "Event 40 processed\n",
      "Event 41 processed\n",
      "Event 42 processed\n",
      "Event 43 processed\n",
      "Event 44 processed\n",
      "Event 45 processed\n",
      "Event 46 processed\n",
      "Event 47 processed\n",
      "Event 48 processed\n",
      "Event 49 processed\n",
      "Event 5 processed\n",
      "Event 50 processed\n",
      "Event 51 processed\n",
      "Event 52 processed\n",
      "Event 53 processed\n",
      "Event 54 processed\n",
      "Event 55 processed\n",
      "Event 56 processed\n",
      "Event 57 processed\n",
      "Event 58 processed\n",
      "Event 59 processed\n",
      "Event 6 processed\n",
      "Event 60 processed\n",
      "Event 61 processed\n",
      "Event 62 processed\n",
      "Event 63 processed\n",
      "Event 64 processed\n",
      "Event 65 processed\n",
      "Event 66 processed\n",
      "Event 67 processed\n",
      "Event 69 processed\n",
      "Event 7 processed\n",
      "Event 70 processed\n",
      "Event 71 processed\n",
      "Event 72 processed\n",
      "Event 73 processed\n",
      "Event 74 processed\n",
      "Event 75 processed\n",
      "Event 76 processed\n",
      "Event 77 processed\n",
      "Event 78 processed\n",
      "Event 79 processed\n",
      "Event 8 processed\n",
      "Event 80 processed\n",
      "Event 81 processed\n",
      "Event 82 processed\n",
      "Event 83 processed\n",
      "Event 84 processed\n",
      "Event 85 processed\n",
      "Event 86 processed\n",
      "Event 87 processed\n",
      "Event 88 processed\n",
      "Event 89 processed\n",
      "Event 9 processed\n",
      "Event 90 processed\n",
      "Event 91 processed\n",
      "Event 92 processed\n",
      "Event 93 processed\n",
      "Event 94 processed\n",
      "Event 95 processed\n",
      "Event 96 processed\n",
      "Event 97 processed\n",
      "Event 98 processed\n",
      "Event 99 processed\n",
      "n_sensors doesn't exist yet! Creating variable.\n",
      "n_sensors already exists! Updating variable.\n"
     ]
    }
   ],
   "source": [
    "s2_max_dict, prim_e_r_dict = s2hist.build_offline_s2_max_dict(off_s2_file_path)"
   ]
  },
  {
   "cell_type": "code",
   "execution_count": 6,
   "id": "231a9364",
   "metadata": {},
   "outputs": [
    {
     "data": {
      "text/plain": [
       "{'0': 413.1149329624446,\n",
       " '1': 318.43323392183225,\n",
       " '10': 454.4616939620698,\n",
       " '100': 482.72761232439393,\n",
       " '101': 286.12688790822983,\n",
       " '102': 437.6094585659755,\n",
       " '103': 234.01704428412742,\n",
       " '104': 367.1642871612569,\n",
       " '105': 427.570348338786,\n",
       " '106': 363.04141214655874,\n",
       " '107': 275.75687944872936,\n",
       " '108': 465.7529353335738,\n",
       " '109': 426.92725117667436,\n",
       " '11': 483.5924715787424,\n",
       " '110': 484.8463979719934,\n",
       " '111': 320.69660739524295,\n",
       " '112': 344.3938710072077,\n",
       " '113': 281.5447396581548,\n",
       " '114': 353.3334771417373,\n",
       " '115': 225.8463030264777,\n",
       " '116': 363.15925104844985,\n",
       " '117': 359.9797742934434,\n",
       " '118': 97.0807226076669,\n",
       " '119': 327.0479811494162,\n",
       " '12': 430.0268530065937,\n",
       " '120': 315.6042897355909,\n",
       " '121': 310.51879691120126,\n",
       " '122': 374.15470686353063,\n",
       " '123': 464.98373338059974,\n",
       " '124': 313.66224006038436,\n",
       " '125': 108.70569040204745,\n",
       " '126': 187.45677309616082,\n",
       " '127': 89.50425020034304,\n",
       " '128': 477.17816344460437,\n",
       " '129': 278.69013673242284,\n",
       " '13': 247.43983946253113,\n",
       " '130': 428.60535783341913,\n",
       " '131': 302.4210441190798,\n",
       " '132': 170.71282020529918,\n",
       " '133': 252.29593790586011,\n",
       " '134': 313.58864731618246,\n",
       " '135': 63.356604557211284,\n",
       " '136': 230.32170531100056,\n",
       " '137': 388.3771027183143,\n",
       " '138': 212.65592077495535,\n",
       " '139': 176.8969886646632,\n",
       " '14': 345.6624830152434,\n",
       " '140': 385.6710101814405,\n",
       " '141': 243.59158331872231,\n",
       " '142': 485.51443250243085,\n",
       " '143': 269.5764009231238,\n",
       " '144': 276.3549256218933,\n",
       " '145': 378.2796719534105,\n",
       " '146': 436.2281459084998,\n",
       " '147': 323.3202288268852,\n",
       " '148': 157.27514119221115,\n",
       " '149': 444.67977740823477,\n",
       " '15': 388.1808178323713,\n",
       " '150': 251.53360499152873,\n",
       " '151': 374.60226239172744,\n",
       " '152': 191.95811242776946,\n",
       " '153': 277.8733002006219,\n",
       " '154': 332.44588958400374,\n",
       " '155': 243.19347194672648,\n",
       " '156': 400.7197571249223,\n",
       " '157': 123.10936951177493,\n",
       " '158': 402.33781465817674,\n",
       " '159': 304.34493707874043,\n",
       " '16': 398.6897874519495,\n",
       " '160': 432.9391768955221,\n",
       " '161': 376.97967589996824,\n",
       " '162': 302.4310858356653,\n",
       " '163': 111.20876976085447,\n",
       " '164': 410.50495760573153,\n",
       " '165': 358.2922088991475,\n",
       " '166': 478.16455778010976,\n",
       " '167': 318.1313150387378,\n",
       " '168': 248.30575364178773,\n",
       " '169': 254.99612993086538,\n",
       " '17': 199.04981521748866,\n",
       " '170': 229.3692016407396,\n",
       " '171': 421.24148714527985,\n",
       " '172': 458.19819172725016,\n",
       " '173': 62.79585244118392,\n",
       " '174': 218.95805042097663,\n",
       " '175': 409.4243298279721,\n",
       " '176': 452.5060803678348,\n",
       " '177': 214.26862734878722,\n",
       " '178': 288.35975124472765,\n",
       " '179': 454.86003504408393,\n",
       " '18': 363.80139294389085,\n",
       " '180': 366.6956317908742,\n",
       " '181': 213.44411288923845,\n",
       " '182': 366.18546669032037,\n",
       " '183': 135.04844133007532,\n",
       " '184': 395.89351655547904,\n",
       " '185': 360.09607224655537,\n",
       " '186': 426.95676251923885,\n",
       " '187': 102.16904739241672,\n",
       " '188': 482.6605166116539,\n",
       " '189': 418.88707338707286,\n",
       " '19': 55.12124284902627,\n",
       " '190': 357.83026769804695,\n",
       " '191': 468.2577549825006,\n",
       " '192': 284.76390715953994,\n",
       " '193': 335.54334773735354,\n",
       " '194': 247.2028448438136,\n",
       " '195': 409.85947597139904,\n",
       " '196': 390.0274263827781,\n",
       " '197': 424.83834492166415,\n",
       " '198': 437.3733733257391,\n",
       " '199': 409.3491990367743,\n",
       " '2': 438.44703684905556,\n",
       " '21': 113.97468154022344,\n",
       " '22': 190.58526515912956,\n",
       " '23': 362.81129284590196,\n",
       " '24': 275.8370702604895,\n",
       " '25': 188.57873042978574,\n",
       " '26': 430.18098192877983,\n",
       " '27': 226.03430436652496,\n",
       " '28': 391.33151401820834,\n",
       " '29': 436.9652799416615,\n",
       " '3': 292.9191640879301,\n",
       " '30': 441.2214527939619,\n",
       " '31': 479.7046995274226,\n",
       " '32': 155.00750969095645,\n",
       " '33': 173.36712245293364,\n",
       " '34': 476.6736052909525,\n",
       " '35': 340.8473290382006,\n",
       " '36': 429.09515176972957,\n",
       " '37': 397.1319030036953,\n",
       " '38': 467.81510129389056,\n",
       " '39': 188.46559181102532,\n",
       " '4': 173.25808046707093,\n",
       " '40': 56.56658337467616,\n",
       " '41': 307.74347109956386,\n",
       " '42': 63.70646707174641,\n",
       " '43': 442.1529758279443,\n",
       " '44': 248.8650902167804,\n",
       " '45': 412.54070804445763,\n",
       " '46': 396.649056639778,\n",
       " '47': 465.82339861141674,\n",
       " '48': 382.0879283609976,\n",
       " '49': 381.112333546631,\n",
       " '5': 470.12191319104204,\n",
       " '50': 95.83474479919232,\n",
       " '51': 425.28095082699684,\n",
       " '52': 310.99137527300206,\n",
       " '53': 260.92633177323256,\n",
       " '54': 343.32819957227144,\n",
       " '55': 402.6481250401958,\n",
       " '56': 296.37403452670054,\n",
       " '57': 344.88441473764897,\n",
       " '58': 387.8723797955183,\n",
       " '59': 288.72709196278504,\n",
       " '6': 463.06344620649946,\n",
       " '60': 123.05823557343653,\n",
       " '61': 274.7853376689071,\n",
       " '62': 468.4803301016975,\n",
       " '63': 393.96594827543476,\n",
       " '64': 455.29722850645237,\n",
       " '65': 382.47703915562573,\n",
       " '66': 360.3189317736591,\n",
       " '67': 315.06554168830786,\n",
       " '69': 94.53686295672787,\n",
       " '7': 302.8441055576017,\n",
       " '70': 178.08663537778565,\n",
       " '71': 405.8063283194906,\n",
       " '72': 145.54610633014244,\n",
       " '73': 416.81525368592503,\n",
       " '74': 346.55140100661424,\n",
       " '75': 349.7249894076936,\n",
       " '76': 76.73224580777372,\n",
       " '77': 370.616294721657,\n",
       " '78': 223.3180313900698,\n",
       " '79': 288.78596206413425,\n",
       " '8': 227.57493030427568,\n",
       " '80': 435.44308712557415,\n",
       " '81': 49.70075778875505,\n",
       " '82': 452.54811401563256,\n",
       " '83': 404.776938902841,\n",
       " '84': 140.73789886671304,\n",
       " '85': 328.402213704731,\n",
       " '86': 450.212827004902,\n",
       " '87': 434.4895886173011,\n",
       " '88': 170.25589539844526,\n",
       " '89': 258.48530039719026,\n",
       " '9': 409.25816096500796,\n",
       " '90': 441.420607283701,\n",
       " '91': 225.21941321528175,\n",
       " '92': 452.4730585863088,\n",
       " '93': 254.98747314084014,\n",
       " '94': 354.5902520331048,\n",
       " '95': 425.1156379913721,\n",
       " '96': 324.6673697469969,\n",
       " '97': 367.61580181992406,\n",
       " '98': 474.9745168815086,\n",
       " '99': 306.64952245750914}"
      ]
     },
     "execution_count": 6,
     "metadata": {},
     "output_type": "execute_result"
    }
   ],
   "source": [
    "prim_e_r_dict"
   ]
  },
  {
   "cell_type": "code",
   "execution_count": null,
   "id": "77d42f64",
   "metadata": {},
   "outputs": [],
   "source": []
  },
  {
   "cell_type": "code",
   "execution_count": 7,
   "id": "9ed90198",
   "metadata": {},
   "outputs": [
    {
     "data": {
      "image/png": "[encoded data removed]",
      "text/plain": [
       "<Figure size 700x700 with 1 Axes>"
      ]
     },
     "metadata": {},
     "output_type": "display_data"
    }
   ],
   "source": [
    "events, bin_edges, ax = s2hist.print_dyn_range_hist(s2_max_dict, bin_width_in_pes = 250)\n"
   ]
  },
  {
   "cell_type": "code",
   "execution_count": 37,
   "id": "9a69d30d",
   "metadata": {},
   "outputs": [
    {
     "data": {
      "text/plain": [
       "(3391.0, 3340.0, 79.0, 79)"
      ]
     },
     "execution_count": 37,
     "metadata": {},
     "output_type": "execute_result"
    }
   ],
   "source": [
    "max(cut_s2_max_dict.values()), cut_max, cut_entries, len(cut_s2_max_dict)"
   ]
  },
  {
   "cell_type": "code",
   "execution_count": 118,
   "id": "2b3106c9",
   "metadata": {},
   "outputs": [
    {
     "data": {
      "text/plain": [
       "array([5861., 6503., 7769., 6616.])"
      ]
     },
     "execution_count": 118,
     "metadata": {},
     "output_type": "execute_result"
    }
   ],
   "source": [
    "last_max_values"
   ]
  },
  {
   "cell_type": "code",
   "execution_count": 133,
   "id": "054bd4f1",
   "metadata": {},
   "outputs": [
    {
     "data": {
      "text/plain": [
       "6687.25"
      ]
     },
     "execution_count": 133,
     "metadata": {},
     "output_type": "execute_result"
    }
   ],
   "source": [
    "np.mean(sorted(np.array(list(cut_s2_max_dict.values())))[-4:])"
   ]
  },
  {
   "cell_type": "code",
   "execution_count": 122,
   "id": "c26e6b3a",
   "metadata": {},
   "outputs": [
    {
     "data": {
      "text/plain": [
       "array([1823.,  597., 2070., 1628., 1397., 1458.,  914., 1290., 1279.,\n",
       "       1059., 1460.,  917., 2017.,  726., 1618., 1370., 1313., 1272.,\n",
       "       1306., 1759., 1360., 2129.,  801., 1484., 1993., 1380., 1744.,\n",
       "        758., 1129., 2117.,  946.,  968.,  588.,  754., 1698., 1696.,\n",
       "        916., 1763., 1399.,  880., 2126.,  775., 1337., 1398., 1596.,\n",
       "       1183., 1551., 1754., 1363., 2056.,  934., 1765., 1377., 1643.,\n",
       "       1883., 1061., 1707., 1614.,  826., 1828., 1108., 1474.,  863.,\n",
       "       1279., 1466.,  998.,  704., 1486., 2036., 1126., 1545., 1653.,\n",
       "        799., 1142., 1982.,  794., 1662., 1404.,  854.,  921.,  862.,\n",
       "        975., 1094.,  941.,  801.,  735.,  954.,  970.,  920., 1230.,\n",
       "       1841., 1221., 1303.,  583.,  956., 1725., 2036., 1658., 1409.,\n",
       "        749., 1932.,  465., 2104., 1024., 2122., 2146., 3138., 2970.,\n",
       "       2276., 3119., 3066., 2570., 2396., 2407., 2578., 2160., 2760.,\n",
       "       2542., 3285., 2716., 2688., 3391., 2981., 3105., 3392., 3026.,\n",
       "       2532., 2489., 3192., 2148., 2639., 2355., 2720., 2316., 2497.,\n",
       "       2426., 2671., 2283., 3020., 3148., 2343., 3155., 2296., 3359.,\n",
       "       2453., 2941., 2399., 2911., 2242., 3170., 2330., 2955., 3145.,\n",
       "       2844., 2383., 2643., 3405., 3716., 3569., 3594., 3939., 3517.,\n",
       "       3726., 3685., 3516., 3971., 3607., 3952., 3885., 3898., 3893.,\n",
       "       4036., 4045., 4075., 4243., 4511., 4372., 4076., 4377., 4312.,\n",
       "       4757., 5253., 4934., 4478., 5191., 4518., 5652., 4626., 4439.,\n",
       "       5591., 5129., 4430., 5673., 6616., 7769., 5861., 5707., 6503.])"
      ]
     },
     "execution_count": 122,
     "metadata": {},
     "output_type": "execute_result"
    }
   ],
   "source": [
    "np.partition(np.array(list(cut_s2_max_dict.values())), -6)"
   ]
  },
  {
   "cell_type": "code",
   "execution_count": 155,
   "id": "b2320031",
   "metadata": {},
   "outputs": [],
   "source": [
    "fiducial_cut = 490 # [mm]\n",
    "cut_eff_dict = {}\n",
    "cut_max_dict = {}\n",
    "last_max_mean_dict = {}\n",
    "\n",
    "s2hist_globals = s2hist.get_globals()\n",
    "\n",
    "for cut in range(45):\n",
    "    \n",
    "#     setup.create_or_update_global_variable(globals(), 'fiducial_radio', fiducial_cut, verbose = False)\n",
    "#     setup.create_or_update_global_variable(s2hist_globals, 'fiducial_radio', fiducial_cut, verbose = False)\n",
    "#     print(fiducial_cut)\n",
    "#     print(s2hist_globals['fiducial_radio'])\n",
    "    \n",
    "    cut_s2_max_dict = {key: s2_max_dict[key] for key in s2_max_dict if (prim_e_r_dict[key] < fiducial_cut)}\n",
    "    \n",
    "#     events, bin_edges, ax = s2hist.print_dyn_range_hist(cut_s2_max_dict, bin_width_in_pes = 250)\n",
    "    \n",
    "    if cut == 0:\n",
    "#         n_entries = events.sum()\n",
    "        n_entries = len(cut_s2_max_dict)\n",
    "    \n",
    "#     bin_mid = (bin_edges[:-1] + bin_edges[1:])/2    \n",
    "#     cut_max = bin_mid[events > 0].max()\n",
    "#     cut_entries = events.sum()\n",
    "    cut_max = max(cut_s2_max_dict.values())\n",
    "    cut_entries = len(cut_s2_max_dict)\n",
    "    \n",
    "    n_maxs = min(5, len(cut_s2_max_dict))\n",
    "    last_max_values = sorted(np.array(list(cut_s2_max_dict.values())))[-n_maxs:]\n",
    "    \n",
    "    cut_eff_dict[fiducial_cut] = cut_entries*100/n_entries\n",
    "    cut_max_dict[fiducial_cut] = cut_max\n",
    "    last_max_mean_dict[fiducial_cut] = np.mean(last_max_values)\n",
    "    \n",
    "    fiducial_cut = fiducial_cut - 10 # [mm]\n"
   ]
  },
  {
   "cell_type": "code",
   "execution_count": 159,
   "id": "6b5969d8",
   "metadata": {},
   "outputs": [
    {
     "data": {
      "text/plain": [
       "<matplotlib.legend.Legend at 0x7fa5cb8b7d60>"
      ]
     },
     "execution_count": 159,
     "metadata": {},
     "output_type": "execute_result"
    },
    {
     "data": {
      "image/png": "[encoded data removed]",
      "text/plain": [
       "<Figure size 700x500 with 2 Axes>"
      ]
     },
     "metadata": {},
     "output_type": "display_data"
    }
   ],
   "source": [
    "fig, ax1 = plt.subplots(nrows = 1, ncols = 1, figsize=(7, 5), constrained_layout=True) # Create a new figure\n",
    "\n",
    "ax1.plot(cut_max_dict.keys(), cut_max_dict.values(), 'og', label = 's2 max value')\n",
    "\n",
    "ax1.tick_params('y')\n",
    "ax1.set_xlabel('Fiducial radio [mm]')\n",
    "ax1.set_ylabel('s2 [pes]')\n",
    "# ax1.set_yscale('log')\n",
    "\n",
    "\n",
    "ax2 = ax1.twinx()\n",
    "\n",
    "ax2.plot(cut_eff_dict.keys(), cut_eff_dict.values(), '*', color='orange', label = 'Cut efficiency')\n",
    "\n",
    "ax2.set_ylabel('Cut efficiency [%]', color='orange')\n",
    "ax2.tick_params('y', colors='orange')\n",
    "\n",
    "\n",
    "ax1.plot(last_max_mean_dict.keys(), last_max_mean_dict.values(), 'X', color='r', label = ' s2 top 5 mean')\n",
    "\n",
    "# ax3.set_ylabel('Cut efficiency [%]', color='orange')\n",
    "# ax3.tick_params('y', colors='orange')\n",
    "\n",
    "ax1.legend()\n",
    "ax2.legend(loc = 'lower right')"
   ]
  },
  {
   "cell_type": "code",
   "execution_count": 24,
   "id": "65916f14",
   "metadata": {},
   "outputs": [
    {
     "data": {
      "image/png": "[encoded data removed]",
      "text/plain": [
       "<Figure size 640x480 with 2 Axes>"
      ]
     },
     "metadata": {},
     "output_type": "display_data"
    }
   ],
   "source": [
    "import matplotlib.pyplot as plt\n",
    "\n",
    "# Sample data\n",
    "x = [1, 2, 3, 4, 5]\n",
    "y1 = [10, 15, 7, 12, 9]\n",
    "y2 = [200, 150, 100, 50, 25]\n",
    "\n",
    "# Create the first plot\n",
    "fig, ax1 = plt.subplots()\n",
    "\n",
    "# Plot the first set of data on the left y-axis\n",
    "ax1.plot(x, y1, 'b-', label='Data 1')\n",
    "ax1.set_xlabel('X-axis')\n",
    "ax1.set_ylabel('Y-axis 1', color='b')\n",
    "ax1.tick_params('y', colors='b')\n",
    "\n",
    "# Create a second y-axis on the same x-axis\n",
    "ax2 = ax1.twinx()\n",
    "\n",
    "# Plot the second set of data on the right y-axis\n",
    "ax2.plot(x, y2, 'r-', label='Data 2')\n",
    "ax2.set_ylabel('Y-axis 2', color='r')\n",
    "ax2.tick_params('y', colors='r')\n",
    "\n",
    "# Show the plot\n",
    "plt.title('Dual Y-axis Plot')\n",
    "plt.show()\n"
   ]
  },
  {
   "cell_type": "code",
   "execution_count": 22,
   "id": "3b185cf7",
   "metadata": {},
   "outputs": [
    {
     "data": {
      "text/plain": [
       "{490: 1.0,\n",
       " 470: 0.9444444444444444,\n",
       " 450: 0.8686868686868687,\n",
       " 430: 0.797979797979798,\n",
       " 410: 0.7272727272727273,\n",
       " 390: 0.6464646464646465,\n",
       " 370: 0.5858585858585859,\n",
       " 350: 0.51010101010101,\n",
       " 330: 0.46464646464646464,\n",
       " 310: 0.398989898989899}"
      ]
     },
     "execution_count": 22,
     "metadata": {},
     "output_type": "execute_result"
    }
   ],
   "source": [
    "cut_eff_dict"
   ]
  },
  {
   "cell_type": "code",
   "execution_count": 11,
   "id": "037c594e",
   "metadata": {},
   "outputs": [
    {
     "data": {
      "text/plain": [
       "array([ 0.,  5., 25., 13., 22., 17., 11., 15., 14., 10.,  7., 13.,  5.,\n",
       "        6.,  7.,  5.,  6.,  4.,  2.,  2.,  1.,  4.,  1.,  0.,  0.,  2.,\n",
       "        0.,  0.,  0.,  0.,  1.,  0.])"
      ]
     },
     "execution_count": 11,
     "metadata": {},
     "output_type": "execute_result"
    }
   ],
   "source": [
    "events"
   ]
  },
  {
   "cell_type": "code",
   "execution_count": 12,
   "id": "1215558a",
   "metadata": {},
   "outputs": [
    {
     "ename": "NameError",
     "evalue": "name 'bins' is not defined",
     "output_type": "error",
     "traceback": [
      "\u001b[0;31m---------------------------------------------------------------------------\u001b[0m",
      "\u001b[0;31mNameError\u001b[0m                                 Traceback (most recent call last)",
      "Cell \u001b[0;32mIn[12], line 1\u001b[0m\n\u001b[0;32m----> 1\u001b[0m \u001b[43mbins\u001b[49m\n",
      "\u001b[0;31mNameError\u001b[0m: name 'bins' is not defined"
     ]
    }
   ],
   "source": [
    "bins"
   ]
  },
  {
   "cell_type": "code",
   "execution_count": null,
   "id": "a12d25e7",
   "metadata": {},
   "outputs": [],
   "source": []
  }
 ],
 "metadata": {
  "kernelspec": {
   "display_name": "Python 3 (ipykernel)",
   "language": "python",
   "name": "python3"
  },
  "language_info": {
   "codemirror_mode": {
    "name": "ipython",
    "version": 3
   },
   "file_extension": ".py",
   "mimetype": "text/x-python",
   "name": "python",
   "nbconvert_exporter": "python",
   "pygments_lexer": "ipython3",
   "version": "3.8.16"
  }
 },
 "nbformat": 4,
 "nbformat_minor": 5
}
