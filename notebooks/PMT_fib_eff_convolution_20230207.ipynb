{
 "cells": [
  {
   "cell_type": "code",
   "execution_count": 1,
   "id": "f604aaa6",
   "metadata": {},
   "outputs": [],
   "source": [
    "import matplotlib.pyplot as plt\n",
    "import numpy as np\n",
    "import os"
   ]
  },
  {
   "cell_type": "code",
   "execution_count": 25,
   "id": "1f5a1d63",
   "metadata": {},
   "outputs": [
    {
     "data": {
      "text/plain": [
       "array([0.00041, 0.00107, 0.01248, 0.06181, 0.12887, 0.19246, 0.09477,\n",
       "       0.06040, 0.00826])"
      ]
     },
     "execution_count": 25,
     "metadata": {},
     "output_type": "execute_result"
    }
   ],
   "source": [
    "eff = [[903.715, 0.298],\n",
    "[895.975, 0.774],\n",
    "[866.563, 8.725],\n",
    "[826.316, 41.192],\n",
    "[628.173, 65.285],\n",
    "[490.402, 76.117],\n",
    "[389.783, 29.790],\n",
    "[330.960, 16.122],\n",
    "[296.904, 1.978]]\n",
    "eff = np.array(eff)\n",
    "eff[:, 1] = (eff[:, 1]*124)/(eff[:, 0]*100)\n",
    "np.set_printoptions(suppress=True, precision=5, floatmode='fixed')\n",
    "eff[:, 1].astype(float)"
   ]
  },
  {
   "cell_type": "markdown",
   "id": "1a59b424",
   "metadata": {},
   "source": [
    "# Data"
   ]
  },
  {
   "cell_type": "code",
   "execution_count": 2,
   "id": "3e6c3239",
   "metadata": {},
   "outputs": [],
   "source": [
    "filename = ['', '']\n",
    "\n",
    "path = '/home/investigator/mariandbt/python/data/'\n",
    "path = path + '20230207/'\n",
    "\n",
    "filename[0] = os.path.join(path, 'fiber_espectrum.csv') \n",
    "filename[1] = os.path.join(path, 'pmt_sensitivity.csv') \n"
   ]
  },
  {
   "cell_type": "code",
   "execution_count": 3,
   "id": "ad41ddfb",
   "metadata": {},
   "outputs": [],
   "source": [
    "fiber_espectrum = []\n",
    "with open(filename[0],'r', encoding='ascii') as fp:\n",
    "    for i, line in enumerate(fp):\n",
    "        fiber_espectrum.append(np.asarray(line.replace('\\n',' ').split(','), dtype=float))\n",
    "        \n",
    "fp.close()\n",
    "\n",
    "fiber_espectrum = np.array(fiber_espectrum)"
   ]
  },
  {
   "cell_type": "code",
   "execution_count": 21,
   "id": "22c2e98d",
   "metadata": {},
   "outputs": [],
   "source": [
    "pmt_sensitivity = []\n",
    "with open(filename[1],'r', encoding='ascii') as fp:\n",
    "    for i, line in enumerate(fp):\n",
    "        pmt_sensitivity.append(np.asarray(line.replace('\\n',' ').split(','), dtype=float))\n",
    "        \n",
    "fp.close()\n",
    "\n",
    "pmt_sensitivity = np.array(pmt_sensitivity)\n",
    "\n",
    "# from sensitivity to QE\n",
    "wavelength = pmt_sensitivity[:, 0]\n",
    "pmt_qe = (pmt_sensitivity[:, 1]*124)/(wavelength*100)"
   ]
  },
  {
   "cell_type": "code",
   "execution_count": 18,
   "id": "d199c29a",
   "metadata": {},
   "outputs": [
    {
     "data": {
      "text/plain": [
       "array([2.331600e-01, 2.961200e-01, 5.509600e-01, 1.008950e+00,\n",
       "       2.000810e+00, 2.931930e+00, 4.031360e+00, 1.015249e+01,\n",
       "       1.396274e+01, 1.773704e+01, 2.183062e+01, 2.687513e+01,\n",
       "       4.552311e+01, 6.680774e+01, 7.847332e+01, 7.495580e+01,\n",
       "       6.933685e+01, 6.830453e+01, 6.317695e+01, 6.032780e+01,\n",
       "       5.669102e+01, 5.242025e+01, 4.696328e+01, 3.644866e+01,\n",
       "       2.737989e+01, 2.056515e+01, 1.276095e+01, 6.337020e+00,\n",
       "       4.610100e+00, 3.097230e+00, 2.015640e+00, 1.083810e+00,\n",
       "       5.049900e-01, 2.352900e-01, 1.436900e-01, 6.486000e-02,\n",
       "       3.717000e-02, 2.235000e-02])"
      ]
     },
     "execution_count": 18,
     "metadata": {},
     "output_type": "execute_result"
    }
   ],
   "source": [
    "# fiber_espectrum\n",
    "# pmt_sensitivity[:, 1] = pmt_sensitivity[:, 1]*124/pmt_sensitivity[:, 0]\n",
    "pmt_sensitivity[:, 1]"
   ]
  },
  {
   "cell_type": "code",
   "execution_count": 20,
   "id": "3cfea829",
   "metadata": {},
   "outputs": [
    {
     "data": {
      "text/plain": [
       "array([276.97842, 284.17266, 288.48921, 292.80576, 298.56115, 301.43885,\n",
       "       304.31655, 315.82734, 324.46043, 337.41007, 356.11511, 380.57554,\n",
       "       425.17986, 465.46763, 510.07194, 557.55396, 599.28058, 622.30216,\n",
       "       661.15108, 701.43885, 738.84892, 770.5036 , 807.91367, 838.1295 ,\n",
       "       848.20144, 855.39568, 862.58993, 871.22302, 875.53957, 879.85612,\n",
       "       884.17266, 891.36691, 898.56115, 905.7554 , 911.51079, 923.02158,\n",
       "       933.09353, 944.60432])"
      ]
     },
     "execution_count": 20,
     "metadata": {},
     "output_type": "execute_result"
    }
   ],
   "source": [
    "wavelength"
   ]
  },
  {
   "cell_type": "code",
   "execution_count": 19,
   "id": "7759f070",
   "metadata": {},
   "outputs": [
    {
     "data": {
      "text/plain": [
       "array([1.04383006e-01, 1.29213275e-01, 2.36816621e-01, 4.27279163e-01,\n",
       "       8.30987019e-01, 1.20607984e+00, 1.64266005e+00, 3.98606644e+00,\n",
       "       5.33618155e+00, 6.51845678e+00, 7.60146594e+00, 8.75651683e+00,\n",
       "       1.32764182e+01, 1.77974992e+01, 1.90770966e+01, 1.66701698e+01,\n",
       "       1.43468180e+01, 1.36103685e+01, 1.18489435e+01, 1.06647175e+01,\n",
       "       9.51437606e+00, 8.43618511e+00, 7.20800617e+00, 5.39252447e+00,\n",
       "       4.00271233e+00, 2.98116843e+00, 1.83442647e+00, 9.01939529e-01,\n",
       "       6.52914408e-01, 4.36499231e-01, 2.82681620e-01, 1.50771179e-01,\n",
       "       6.96878115e-02, 3.22117428e-02, 1.95472837e-02, 8.71338241e-03,\n",
       "       4.93956913e-03, 2.93392687e-03])"
      ]
     },
     "execution_count": 19,
     "metadata": {},
     "output_type": "execute_result"
    }
   ],
   "source": [
    "pmt_qe"
   ]
  },
  {
   "cell_type": "markdown",
   "id": "d3e0a5db",
   "metadata": {},
   "source": [
    "# Interpolation"
   ]
  },
  {
   "cell_type": "code",
   "execution_count": 22,
   "id": "9fc6511a",
   "metadata": {},
   "outputs": [],
   "source": [
    "x = np.linspace(200, 1e3, num=int(1e5))\n",
    "y = np.interp(x, wavelength, pmt_qe)"
   ]
  },
  {
   "cell_type": "code",
   "execution_count": 23,
   "id": "1bd25175",
   "metadata": {},
   "outputs": [
    {
     "data": {
      "image/png": "[encoded data removed]",
      "text/plain": [
       "<Figure size 640x480 with 1 Axes>"
      ]
     },
     "metadata": {},
     "output_type": "display_data"
    }
   ],
   "source": [
    "# fig, ax = plt.subplots(1, 1, figsize = (4, 4.5), constrained_layout=True)\n",
    "fig, ax = plt.subplots(1, 1, constrained_layout=True)\n",
    "\n",
    "ax.plot(x, y, '-', label='linear interp')\n",
    "\n",
    "ax.plot(wavelength, pmt_qe, 'o', label='data')\n",
    "ax.legend(loc='best')\n",
    "\n",
    "ax.set_yscale('log')"
   ]
  },
  {
   "cell_type": "code",
   "execution_count": 24,
   "id": "22a048a5",
   "metadata": {},
   "outputs": [
    {
     "data": {
      "text/plain": [
       "0.1325819241871008"
      ]
     },
     "execution_count": 24,
     "metadata": {},
     "output_type": "execute_result"
    }
   ],
   "source": [
    "np.interp(425, wavelength, pmt_qe)"
   ]
  },
  {
   "cell_type": "code",
   "execution_count": 25,
   "id": "54f68b27",
   "metadata": {},
   "outputs": [],
   "source": [
    "x = np.linspace(450, 600, num=int(1e5))\n",
    "y = np.interp(x, fiber_espectrum[:, 0], fiber_espectrum[:, 1])"
   ]
  },
  {
   "cell_type": "code",
   "execution_count": 26,
   "id": "38c42569",
   "metadata": {},
   "outputs": [
    {
     "data": {
      "image/png": "[encoded data removed]",
      "text/plain": [
       "<Figure size 640x480 with 1 Axes>"
      ]
     },
     "metadata": {},
     "output_type": "display_data"
    }
   ],
   "source": [
    "plt.plot(x, y, '-', label='linear interp')\n",
    "\n",
    "plt.plot(fiber_espectrum[:, 0], fiber_espectrum[:, 1], 'o', label='data')\n",
    "plt.legend(loc='best')\n",
    "\n",
    "plt.show()"
   ]
  },
  {
   "cell_type": "code",
   "execution_count": 27,
   "id": "4c276914",
   "metadata": {},
   "outputs": [
    {
     "data": {
      "text/plain": [
       "(28, 2)"
      ]
     },
     "execution_count": 27,
     "metadata": {},
     "output_type": "execute_result"
    }
   ],
   "source": [
    "(fiber_espectrum[:, 0]*fiber_espectrum[:, 1]).sum()\n",
    "len(fiber_espectrum)\n",
    "np.shape(fiber_espectrum)"
   ]
  },
  {
   "cell_type": "code",
   "execution_count": 28,
   "id": "c83441bb",
   "metadata": {},
   "outputs": [
    {
     "data": {
      "text/plain": [
       "array([1., 1., 1.])"
      ]
     },
     "execution_count": 28,
     "metadata": {},
     "output_type": "execute_result"
    }
   ],
   "source": [
    "np.array([1, 2, 3])*np.array([1, 2, 3]), (np.array([1, 2, 3])*np.array([1, 2, 3])).sum() # prod escalar de vertores\n",
    "# np.array([1, 2, 3])/2\n",
    "np.array([1, 2, 3])/np.array([1, 2, 3])"
   ]
  },
  {
   "cell_type": "code",
   "execution_count": 29,
   "id": "cefaacdc",
   "metadata": {},
   "outputs": [
    {
     "name": "stdout",
     "output_type": "stream",
     "text": [
      "[452.87356 456.03448] [0.06186 0.10671] 0.266418142199998\n",
      "[456.03448 460.91954] [0.10671 0.25864] 0.8923783355000017\n",
      "[460.91954 463.7931 ] [0.25864 0.37818] 0.9149702395999991\n",
      "[463.7931  465.22989] [0.37818 0.4504 ] 0.5952477291000127\n",
      "[465.22989 466.66667] [0.4504  0.53506] 0.7079446093999995\n",
      "[466.66667 468.10345] [0.53506 0.63964] 0.8438927329999993\n",
      "[468.10345 470.4023 ] [0.63964 0.73677] 1.5820800642500108\n",
      "[470.4023  471.55172] [0.73677 0.81147] 0.8897890103999719\n",
      "[471.55172 472.98851] [0.81147 0.9061 ] 1.233893700150026\n",
      "[472.98851 477.01149] [0.9061  0.99826] 3.8306010963999633\n",
      "[477.01149 481.03448] [0.99826 0.96097] 3.940981348849993\n",
      "[481.03448 486.49425] [0.96097 0.83406] 4.900225471550044\n",
      "[486.49425 488.7931 ] [0.83406 0.77185] 1.8458731017499672\n",
      "[488.7931  493.96552] [0.77185 0.69972] 3.8057890497000333\n",
      "[493.96552 504.02299] [0.69972 0.76208] 7.351004822999975\n",
      "[504.02299 507.47126] [0.76208 0.77457] 2.649392047749984\n",
      "[507.47126 512.35632] [0.77457 0.7099 ] 3.625862509100007\n",
      "[512.35632 518.67816] [0.7099  0.58052] 4.078914386400043\n",
      "[518.67816 520.97701] [0.58052 0.53325] 1.2801950822499457\n",
      "[520.97701 523.56322] [0.53325 0.47602] 1.3050920833500255\n",
      "[523.56322 528.44828] [0.47602 0.36903] 2.0640599764999803\n",
      "[528.44828 537.64368] [0.36903 0.27702] 2.9703440850000207\n",
      "[537.64368 544.25287] [0.27702 0.23229] 1.683063279450003\n",
      "[544.25287 552.58621] [0.23229 0.17763] 1.7080013664000044\n",
      "[552.58621 560.63218] [0.17763 0.12544] 1.2192460639499845\n",
      "[560.63218 568.96552] [0.12544 0.08073] 0.8590423539000022\n",
      "[568.96552 577.58621] [0.08073 0.05097] 0.5676724365000053\n"
     ]
    }
   ],
   "source": [
    "fiber_integr = []\n",
    "xx_mean = []\n",
    "\n",
    "for i in range(len(fiber_espectrum) - 1):\n",
    "    xx = fiber_espectrum[i:(i+2), 0].copy()\n",
    "    yy = fiber_espectrum[i:(i+2), 1].copy()\n",
    "    \n",
    "    integr = np.trapz(yy, x=xx)\n",
    "    \n",
    "    fiber_integr.append(integr)\n",
    "#     print(xx, yy, integr)\n",
    "    xx_mean.append(xx.mean())\n",
    "    \n",
    "fiber_integr = np.array(fiber_integr)\n",
    "xx_mean = np.array(xx_mean)\n",
    "\n",
    "# print('Raw fiber espectrum integral = ', fiber_integr)\n",
    "\n",
    "full_integr = np.trapz(fiber_espectrum[:, 1], x=fiber_espectrum[:, 0])\n",
    "fiber_integr = fiber_integr/full_integr\n",
    "\n",
    "# print('\\nNormalised fiber espectrum integral = ', fiber_integr)\n"
   ]
  },
  {
   "cell_type": "code",
   "execution_count": 30,
   "id": "efe156db",
   "metadata": {},
   "outputs": [],
   "source": [
    "pmt_convolution = np.interp(xx_mean, wavelength, pmt_qe)"
   ]
  },
  {
   "cell_type": "code",
   "execution_count": 31,
   "id": "e60b2cd7",
   "metadata": {},
   "outputs": [
    {
     "data": {
      "text/plain": [
       "array([0.16561555, 0.17013014, 0.17448349, 0.17690202, 0.17811288,\n",
       "       0.17852506, 0.17906089, 0.17955551, 0.17992647, 0.18070961,\n",
       "       0.18186372, 0.18322391, 0.1843368 , 0.18540847, 0.18759303,\n",
       "       0.18953027, 0.1907256 , 0.18801067, 0.1858257 , 0.18458755,\n",
       "       0.18269391, 0.17912512, 0.17511934, 0.17133206, 0.16718061,\n",
       "       0.16266772, 0.15794769])"
      ]
     },
     "execution_count": 31,
     "metadata": {},
     "output_type": "execute_result"
    }
   ],
   "source": [
    "pmt_convolution"
   ]
  },
  {
   "cell_type": "code",
   "execution_count": 32,
   "id": "e9afe0c9",
   "metadata": {},
   "outputs": [
    {
     "data": {
      "text/plain": [
       "(27, 27)"
      ]
     },
     "execution_count": 32,
     "metadata": {},
     "output_type": "execute_result"
    }
   ],
   "source": [
    "len(pmt_convolution), len(fiber_integr)"
   ]
  },
  {
   "cell_type": "code",
   "execution_count": 33,
   "id": "7223f94f",
   "metadata": {},
   "outputs": [
    {
     "data": {
      "text/plain": [
       "0.18231454955536272"
      ]
     },
     "execution_count": 33,
     "metadata": {},
     "output_type": "execute_result"
    }
   ],
   "source": [
    "QE_Y11 = (pmt_convolution*fiber_integr).sum()\n",
    "QE_Y11"
   ]
  },
  {
   "cell_type": "code",
   "execution_count": null,
   "id": "7c8752f3",
   "metadata": {},
   "outputs": [],
   "source": []
  }
 ],
 "metadata": {
  "kernelspec": {
   "display_name": "Python 3 (ipykernel)",
   "language": "python",
   "name": "python3"
  },
  "language_info": {
   "codemirror_mode": {
    "name": "ipython",
    "version": 3
   },
   "file_extension": ".py",
   "mimetype": "text/x-python",
   "name": "python",
   "nbconvert_exporter": "python",
   "pygments_lexer": "ipython3",
   "version": "3.8.13"
  }
 },
 "nbformat": 4,
 "nbformat_minor": 5
}
