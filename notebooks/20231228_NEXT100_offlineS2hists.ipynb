{
 "cells": [
  {
   "cell_type": "markdown",
   "id": "f55cea8a",
   "metadata": {},
   "source": [
    "<h1> ______________________________________ </h1>\n",
    "\n",
    "<h1> Full NEXT100 with fiber panels simulation mapping analysis </h1>\n",
    "<h1> ______________________________________ </h1>\n",
    "\n",
    "<p style=\"font-size: 17px; color: black;\"> In this Notebook we take as input the maps created in the previous notebook and use it to simulate an s2 signal for bb0nu events. </p>\n",
    "\n",
    "\n"
   ]
  },
  {
   "cell_type": "markdown",
   "id": "0a6c28e7",
   "metadata": {},
   "source": [
    "<h1> ____________ </h1>\n",
    "<h2> This version </h2>\n",
    "<h1> ____________ </h1>\n",
    "\n",
    "-  <p style=\"font-size: 17px; color: black;\"> 100K ie S2 events. </p>\n",
    "-  <p style=\"font-size: 17px; color: black;\"> Mapping separated by sensors. </p>\n",
    "\n",
    "-  <p style=\"font-size: 17px; color: black;\"> Geant4 fundamental units: </p>\n",
    "\n",
    " -  <p style=\"font-size: 17px; color: black;\"> Length [L]: mm (milimeter) </p>\n",
    " -  <p style=\"font-size: 17px; color: black;\"> Time [T]: ns (nanosecond) </p>\n",
    " -  <p style=\"font-size: 17px; color: black;\"> Energy [E]: MeV (megaelectronvolt) </p>\n",
    "\n",
    "\n",
    "\n"
   ]
  },
  {
   "cell_type": "code",
   "execution_count": 28,
   "id": "19d793eb",
   "metadata": {},
   "outputs": [],
   "source": [
    "import numpy              as np\n",
    "import pandas             as pd\n",
    "\n",
    "import scipy              \n",
    "from scipy                import stats, integrate\n",
    "from scipy.signal         import convolve\n",
    "\n",
    "import matplotlib.pyplot  as plt\n",
    "\n",
    "from matplotlib.ticker    import FormatStrFormatter # to set the format of the plot's axis\n",
    "from matplotlib.patches   import Rectangle # To add blanck spaces in tabular legends\n",
    "\n",
    "import os\n",
    "import math\n",
    "import tables             as tb"
   ]
  },
  {
   "cell_type": "markdown",
   "id": "3bbfa423",
   "metadata": {},
   "source": [
    "# Functions"
   ]
  },
  {
   "cell_type": "code",
   "execution_count": 29,
   "id": "c057ab51",
   "metadata": {},
   "outputs": [],
   "source": [
    "# Fitting distributions to define\n",
    "\n",
    "# note: pdf are normilized to 1 so we have yo add an amplitude param\n",
    "def gauss(x, a,  mu, sigma):\n",
    "    return a*stats.norm.pdf(x, mu, sigma) \n",
    "\n",
    "def gauss_sum(x, a0,  mu0, sigma0, a1, mu1, sigma1):\n",
    "    return a0*stats.norm.pdf(x, mu0, sigma0)  + a1*stats.norm.pdf(x, mu1, sigma1)\n"
   ]
  },
  {
   "cell_type": "code",
   "execution_count": 30,
   "id": "52a8660d",
   "metadata": {},
   "outputs": [],
   "source": [
    "def s2_waveform(event, sensor):\n",
    "    \n",
    "    fig, ax = plt.subplots(nrows = 1, ncols = 1, figsize=(7, 7), constrained_layout=True)\n",
    "    \n",
    "    font_size = 15\n",
    "    ev = f'{event}'\n",
    "    sens = f'sens_{sensor}'\n",
    "\n",
    "    # Open the HDF5 file in read mode\n",
    "    with h5py.File(filename, 'r') as file:\n",
    "\n",
    "        # Get the group corresponding to the current key\n",
    "        group = file[ev]\n",
    "\n",
    "\n",
    "        # Get and print the value corresponding to the current subkey\n",
    "        signal = group[sens][()]\n",
    "        signal = pd.DataFrame(signal)\n",
    "        signal.rename(columns = columns, inplace=True)\n",
    "\n",
    "\n",
    "\n",
    "        t = signal.time*1e-3 # [us]\n",
    "        s2 = signal.s2 # [e]\n",
    "        \n",
    "        bin_width = 1 # time units ([us])\n",
    "        \n",
    "        binin = np.arange(t.min() - bin_width, t.max() + 2*bin_width, bin_width)\n",
    "\n",
    "        events, bins, bars = ax.hist(t, binin, \n",
    "                                     weights = s2,\n",
    "                                     density=False,\n",
    "                                     histtype='step',\n",
    "                                     label = f's2 of event {ev} in {sens} using maps'\n",
    "                                    )\n",
    "        ax.set_title(f's2 of event {ev} in {sens}', fontsize = font_size);\n",
    "        ax.set_xlabel('Time [us]', fontsize = font_size);\n",
    "        ax.set_ylabel('Signal [e]', fontsize = font_size);\n",
    "\n",
    "        ax.tick_params(axis='both', labelsize = font_size*2/3)\n",
    "    \n",
    "            "
   ]
  },
  {
   "cell_type": "markdown",
   "id": "80f19152",
   "metadata": {},
   "source": [
    "# Reading the file"
   ]
  },
  {
   "cell_type": "code",
   "execution_count": 31,
   "id": "1b51d680",
   "metadata": {},
   "outputs": [],
   "source": [
    "path = '/home/investigator/mariandbt/python/data'\n",
    "path = path + '/20231025_NEXT100_full_mapping'\n",
    "\n",
    "# filename = os.path.join(path, \"bb0nu_s2_signal.h5\")\n",
    "# filename = os.path.join(path, \"20231215_bb0nu_s2_signal.h5\")\n",
    "# filename = os.path.join(path, \"20231218_bb0nu_s2_signal.h5\")\n",
    "# filename = os.path.join(path, \"20231220_bb0nu_100ev_s2_signal.h5\")\n",
    "# filename = os.path.join(path, \"20231226_bb0nu_100ev_s2_signal.h5\")\n",
    "# filename = os.path.join(path, \"20240109_bb0nu_100ev_s2_signal.h5\")\n",
    "# filename = os.path.join(path, \"20240113_bb0nu_200ev_s2_signal.h5\")\n",
    "# filename = os.path.join(path, \"20240122_bb0nu_1fullev_s2_signal.h5\")\n",
    "# filename = os.path.join(path, \"20240206_bb0nu_1fullev_s2_signal.h5\")\n",
    "filename = os.path.join(path, \"20240213_bb0nu_1fullev_s2_signal.h5\") # has fluctuations\n"
   ]
  },
  {
   "cell_type": "code",
   "execution_count": 32,
   "id": "1ee61880",
   "metadata": {
    "scrolled": true
   },
   "outputs": [
    {
     "name": "stdout",
     "output_type": "stream",
     "text": [
      "/home/investigator/mariandbt/python/data/20231025_NEXT100_full_mapping/20240213_bb0nu_1fullev_s2_signal.h5 (File) ''\n",
      "Last modif.: '2024-02-13T14:50:39+00:00'\n",
      "Object Tree: \n",
      "/ (RootGroup) ''\n",
      "/0 (Group) ''\n",
      "/0/sens_200 (Array(101342, 2)) ''\n",
      "/0/sens_201 (Array(101342, 2)) ''\n",
      "/0/sens_202 (Array(101342, 2)) ''\n",
      "/0/sens_203 (Array(101342, 2)) ''\n",
      "/0/sens_204 (Array(101342, 2)) ''\n",
      "/0/sens_205 (Array(101342, 2)) ''\n",
      "/0/sens_206 (Array(101342, 2)) ''\n",
      "/0/sens_207 (Array(101342, 2)) ''\n",
      "/0/sens_208 (Array(101342, 2)) ''\n",
      "/0/sens_209 (Array(101342, 2)) ''\n",
      "/0/sens_210 (Array(101342, 2)) ''\n",
      "/0/sens_211 (Array(101342, 2)) ''\n",
      "/0/sens_212 (Array(101342, 2)) ''\n",
      "/0/sens_213 (Array(101342, 2)) ''\n",
      "/0/sens_214 (Array(101342, 2)) ''\n",
      "/0/sens_215 (Array(101342, 2)) ''\n",
      "/0/sens_216 (Array(101342, 2)) ''\n",
      "/0/sens_217 (Array(101342, 2)) ''\n",
      "/0/sens_218 (Array(101342, 2)) ''\n",
      "/0/sens_219 (Array(101342, 2)) ''\n",
      "/0/sens_220 (Array(101342, 2)) ''\n",
      "/0/sens_221 (Array(101342, 2)) ''\n",
      "/0/sens_222 (Array(101342, 2)) ''\n",
      "/0/sens_223 (Array(101342, 2)) ''\n",
      "/0/sens_224 (Array(101342, 2)) ''\n",
      "/0/sens_225 (Array(101342, 2)) ''\n",
      "/0/sens_226 (Array(101342, 2)) ''\n",
      "/0/sens_227 (Array(101342, 2)) ''\n",
      "/0/sens_228 (Array(101342, 2)) ''\n",
      "/0/sens_229 (Array(101342, 2)) ''\n",
      "/0/sens_230 (Array(101342, 2)) ''\n",
      "/0/sens_231 (Array(101342, 2)) ''\n",
      "/0/sens_232 (Array(101342, 2)) ''\n",
      "/0/sens_233 (Array(101342, 2)) ''\n",
      "/0/sens_234 (Array(101342, 2)) ''\n",
      "/0/sens_235 (Array(101342, 2)) ''\n",
      "/0/sens_236 (Array(101342, 2)) ''\n",
      "/0/sens_237 (Array(101342, 2)) ''\n",
      "/0/sens_238 (Array(101342, 2)) ''\n",
      "/0/sens_239 (Array(101342, 2)) ''\n",
      "/0/sens_240 (Array(101342, 2)) ''\n",
      "/0/sens_241 (Array(101342, 2)) ''\n",
      "/0/sens_242 (Array(101342, 2)) ''\n",
      "/0/sens_243 (Array(101342, 2)) ''\n",
      "/0/sens_244 (Array(101342, 2)) ''\n",
      "/0/sens_245 (Array(101342, 2)) ''\n",
      "/0/sens_246 (Array(101342, 2)) ''\n",
      "/0/sens_247 (Array(101342, 2)) ''\n",
      "/0/sens_248 (Array(101342, 2)) ''\n",
      "/0/sens_249 (Array(101342, 2)) ''\n",
      "/0/sens_250 (Array(101342, 2)) ''\n",
      "/0/sens_251 (Array(101342, 2)) ''\n",
      "/0/sens_252 (Array(101342, 2)) ''\n",
      "/0/sens_253 (Array(101342, 2)) ''\n",
      "/0/sens_254 (Array(101342, 2)) ''\n",
      "/0/sens_255 (Array(101342, 2)) ''\n",
      "/0/sens_256 (Array(101342, 2)) ''\n",
      "/0/sens_257 (Array(101342, 2)) ''\n",
      "/0/sens_258 (Array(101342, 2)) ''\n",
      "/0/sens_259 (Array(101342, 2)) ''\n",
      "/0/sens_260 (Array(101342, 2)) ''\n",
      "/0/sens_261 (Array(101342, 2)) ''\n",
      "/0/sens_262 (Array(101342, 2)) ''\n",
      "/0/sens_263 (Array(101342, 2)) ''\n",
      "/0/sens_264 (Array(101342, 2)) ''\n",
      "/0/sens_265 (Array(101342, 2)) ''\n",
      "/0/sens_266 (Array(101342, 2)) ''\n",
      "/0/sens_267 (Array(101342, 2)) ''\n",
      "/0/sens_268 (Array(101342, 2)) ''\n",
      "/0/sens_269 (Array(101342, 2)) ''\n",
      "/0/sens_270 (Array(101342, 2)) ''\n",
      "/0/sens_271 (Array(101342, 2)) ''\n",
      "/0/sens_272 (Array(101342, 2)) ''\n",
      "/0/sens_273 (Array(101342, 2)) ''\n",
      "/0/sens_274 (Array(101342, 2)) ''\n",
      "/0/sens_275 (Array(101342, 2)) ''\n",
      "/0/sens_276 (Array(101342, 2)) ''\n",
      "/0/sens_277 (Array(101342, 2)) ''\n",
      "/0/sens_278 (Array(101342, 2)) ''\n",
      "/0/sens_279 (Array(101342, 2)) ''\n",
      "/0/sens_280 (Array(101342, 2)) ''\n",
      "/0/sens_281 (Array(101342, 2)) ''\n",
      "/0/sens_282 (Array(101342, 2)) ''\n",
      "/0/sens_283 (Array(101342, 2)) ''\n",
      "/0/sens_284 (Array(101342, 2)) ''\n",
      "/0/sens_285 (Array(101342, 2)) ''\n",
      "/0/sens_286 (Array(101342, 2)) ''\n",
      "/0/sens_287 (Array(101342, 2)) ''\n",
      "/0/sens_288 (Array(101342, 2)) ''\n",
      "/0/sens_289 (Array(101342, 2)) ''\n",
      "\n"
     ]
    }
   ],
   "source": [
    "with tb.open_file(filename) as file:\n",
    "    print(file)"
   ]
  },
  {
   "cell_type": "code",
   "execution_count": 33,
   "id": "5ae5913a",
   "metadata": {
    "scrolled": true
   },
   "outputs": [
    {
     "name": "stdout",
     "output_type": "stream",
     "text": [
      "Top-level key: 0\n"
     ]
    }
   ],
   "source": [
    "# We read each file, make the histogram and save JUST the max value of that histogram in s2_max_dict\n",
    "\n",
    "import h5py\n",
    "\n",
    "# Load the 3D dictionary from the HDF5 file\n",
    "\n",
    "columns = {0:'time',\n",
    "           1:'s2'\n",
    "          }\n",
    "\n",
    "bin_width = 1000 # [ns] = 1 [us]\n",
    "s2_max_dict = {} # s2 peak per sensor\n",
    "full_s2_max_dict = {} # s2 peak per event\n",
    "\n",
    "# Open the HDF5 file in read mode\n",
    "with h5py.File(filename, 'r') as file:\n",
    "    # Iterate through the top-level keys (groups) in the HDF5 file\n",
    "    for key in file.keys():\n",
    "        # Get the group corresponding to the current key\n",
    "        group = file[key]\n",
    "        full_s2 = []\n",
    "        \n",
    "        # Print the top-level key\n",
    "        print(f'Top-level key: {key}')\n",
    "        \n",
    "        # Iterate through the subkeys (datasets) in the current group\n",
    "        for subkey in group.keys():\n",
    "            \n",
    "            # Check if subkey is already in the dictionary\n",
    "            if subkey not in s2_max_dict:\n",
    "                s2_max_dict[subkey] = []\n",
    "            \n",
    "            # Get and print the value corresponding to the current subkey\n",
    "            signal = group[subkey][()]\n",
    "            signal = pd.DataFrame(signal)\n",
    "            signal.rename(columns = columns, inplace=True)\n",
    "            \n",
    "            t = signal.time\n",
    "            s2 = signal.s2\n",
    "            binin = np.arange(t.min() - bin_width, t.max() + 2*bin_width, bin_width)\n",
    "            \n",
    "            # Create a histogram\n",
    "            hist_values, bin_edges = np.histogram(t, bins=binin,\n",
    "                                                  weights = s2)\n",
    "            \n",
    "#             print(f'Subkey: {subkey}, Value: {value}')\n",
    "\n",
    "            full_s2.append(hist_values.max()) # peak of s2 signal\n",
    "            s2_max_dict[subkey].append(hist_values.max()) # peak of s2 signal\n",
    "    \n",
    "        full_s2_max_dict[key] = max(full_s2)\n",
    "            \n"
   ]
  },
  {
   "cell_type": "code",
   "execution_count": 34,
   "id": "34aafbf6",
   "metadata": {
    "scrolled": true
   },
   "outputs": [
    {
     "data": {
      "text/plain": [
       "{'0': 2511.0}"
      ]
     },
     "execution_count": 34,
     "metadata": {},
     "output_type": "execute_result"
    }
   ],
   "source": [
    "len(s2_max_dict.values())\n",
    "full_s2_max_dict"
   ]
  },
  {
   "cell_type": "code",
   "execution_count": 35,
   "id": "35bf8bec",
   "metadata": {
    "scrolled": true
   },
   "outputs": [
    {
     "data": {
      "text/plain": [
       "dict_keys(['0'])"
      ]
     },
     "execution_count": 35,
     "metadata": {},
     "output_type": "execute_result"
    }
   ],
   "source": [
    "s2_max_dict.keys()\n",
    "full_s2_max_dict.keys()\n"
   ]
  },
  {
   "cell_type": "code",
   "execution_count": 36,
   "id": "0967d577",
   "metadata": {},
   "outputs": [
    {
     "data": {
      "image/png": "[encoded data removed]",
      "text/plain": [
       "<Figure size 500x500 with 1 Axes>"
      ]
     },
     "metadata": {},
     "output_type": "display_data"
    }
   ],
   "source": [
    "sensor = 'sens_221'\n",
    "\n",
    "s2 = s2_max_dict[sensor]\n",
    "s2 = np.array(s2)\n",
    "n_events = np.size(s2)\n",
    "\n",
    "fig, ax = plt.subplots(nrows = 1, ncols = 1, figsize=(5,5), constrained_layout=True)\n",
    "\n",
    "bin_width = 1 # [e]\n",
    "n_bins = 100\n",
    "# binin = np.arange(s2.min() - bin_width, s2.max() + 2*bin_width, bin_width)\n",
    "binin = n_bins\n",
    "\n",
    "font_size = 8.5\n",
    "\n",
    "events, bins, bars = ax.hist(s2, binin, \n",
    "                             density=False,\n",
    "                             label='s2', \n",
    "                             histtype='step')\n",
    "\n",
    "ax.set_title(f'Max s2 signal in {sensor} for {n_events} events');\n",
    "ax.set_xlabel('s2 signal max [e]');\n",
    "ax.set_ylabel('Counts');\n"
   ]
  },
  {
   "cell_type": "code",
   "execution_count": 37,
   "id": "d5a8b756",
   "metadata": {},
   "outputs": [
    {
     "data": {
      "text/plain": [
       "'sens_289'"
      ]
     },
     "execution_count": 37,
     "metadata": {},
     "output_type": "execute_result"
    }
   ],
   "source": [
    "subkey"
   ]
  },
  {
   "cell_type": "code",
   "execution_count": 38,
   "id": "a30384a1",
   "metadata": {},
   "outputs": [
    {
     "data": {
      "text/plain": [
       "<matplotlib.legend.Legend at 0x7fa954d0fcd0>"
      ]
     },
     "execution_count": 38,
     "metadata": {},
     "output_type": "execute_result"
    },
    {
     "data": {
      "image/png": "[encoded data removed]",
      "text/plain": [
       "<Figure size 700x700 with 1 Axes>"
      ]
     },
     "metadata": {},
     "output_type": "display_data"
    }
   ],
   "source": [
    "s2_waveform(0, 240)\n",
    "plt.legend()"
   ]
  },
  {
   "cell_type": "code",
   "execution_count": null,
   "id": "14e67490",
   "metadata": {},
   "outputs": [],
   "source": []
  },
  {
   "cell_type": "markdown",
   "id": "5476af0e",
   "metadata": {},
   "source": [
    "<h1> __________________________ </h1>\n",
    "<h2> Global parameters </h2>"
   ]
  },
  {
   "cell_type": "code",
   "execution_count": 39,
   "id": "c599181d",
   "metadata": {},
   "outputs": [],
   "source": [
    "dark25 = 2000 # [Kcps] (1Kcps = 1e3 dark pulses per second) DCR at 25ºC\n",
    "x_talk = 7 # [%] Probability of a dark count to be 2pe instead of 1pe\n",
    "\n",
    "n_sensors = 90 \n",
    "\n",
    "t_binning = 0.1 # [ns] Conversion constant from bin enumerations to nanoseconds (binning used in the simulation)\n",
    "dT = 5.3 # [ºC] Decay factor at which the dark rate halves"
   ]
  },
  {
   "cell_type": "markdown",
   "id": "c455482f",
   "metadata": {},
   "source": [
    "<h1> __________________________ </h1>\n",
    "<h2> Files </h2>"
   ]
  },
  {
   "cell_type": "code",
   "execution_count": 40,
   "id": "92b0decb",
   "metadata": {},
   "outputs": [],
   "source": [
    "path = '/home/investigator/mariandbt/python/data/'\n",
    "path = path + '/20231025_NEXT100_full_mapping/next100_fibers'\n",
    "\n",
    "new_filename = os.path.join(path, \"20240122_Next100_bb_1.next.h5\") # 1 full bb w s2"
   ]
  },
  {
   "cell_type": "code",
   "execution_count": 41,
   "id": "3557f9c6",
   "metadata": {
    "scrolled": true
   },
   "outputs": [
    {
     "name": "stdout",
     "output_type": "stream",
     "text": [
      "/home/investigator/mariandbt/python/data//20231025_NEXT100_full_mapping/next100_fibers/20240122_Next100_bb_1.next.h5 (File) ''\n",
      "Last modif.: '2024-01-24T09:19:06+00:00'\n",
      "Object Tree: \n",
      "/ (RootGroup) ''\n",
      "/MC (Group) ''\n",
      "/MC/configuration (Table(47,)) ''\n",
      "/MC/hits (Table(786,)) ''\n",
      "/MC/particles (Table(101386,)) ''\n",
      "/MC/sns_positions (Table(3431,)) ''\n",
      "/MC/sns_response (Table(2615102,)) ''\n",
      "\n"
     ]
    }
   ],
   "source": [
    "with tb.open_file(new_filename) as file:\n",
    "    print(file)"
   ]
  },
  {
   "cell_type": "code",
   "execution_count": 42,
   "id": "f353a737",
   "metadata": {},
   "outputs": [],
   "source": [
    "# %%timeit # WITH THIS YOU'RE ONLY TIMING, BUT IT DOESN'T REALLY RUN THE COMMANDS YOU TIME\n",
    "data = pd.read_hdf(new_filename, \"/MC/sns_response\")\n",
    "particles = pd.read_hdf(new_filename, \"/MC/particles\")\n"
   ]
  },
  {
   "cell_type": "code",
   "execution_count": 43,
   "id": "3e3460fd",
   "metadata": {},
   "outputs": [],
   "source": [
    "dst = data.copy()\n",
    "dst_particle = particles.copy()\n"
   ]
  },
  {
   "cell_type": "code",
   "execution_count": 44,
   "id": "19294d15",
   "metadata": {},
   "outputs": [
    {
     "name": "stderr",
     "output_type": "stream",
     "text": [
      "/home/investigator/miniconda3/envs/IC-3.8-2022-04-13/lib/python3.8/site-packages/pandas/io/pytables.py:3523: IncompatibilityWarning: \n",
      "where criteria is being ignored as this version [0.0.0] is too old (or\n",
      "not-defined), read the file in and write it out to a new file to upgrade (with\n",
      "the copy_to method)\n",
      "\n",
      "  warnings.warn(ws, IncompatibilityWarning)\n"
     ]
    }
   ],
   "source": [
    "sens_mask = pd.read_hdf(new_filename, \"/MC/sns_positions\", where='sensor_name == F_SENSOR')['sensor_id']\n"
   ]
  },
  {
   "cell_type": "code",
   "execution_count": 45,
   "id": "3c19d257",
   "metadata": {},
   "outputs": [
    {
     "data": {
      "text/plain": [
       "251"
      ]
     },
     "execution_count": 45,
     "metadata": {},
     "output_type": "execute_result"
    }
   ],
   "source": [
    "sens_mask[0]"
   ]
  },
  {
   "cell_type": "code",
   "execution_count": 46,
   "id": "8e2b630f",
   "metadata": {},
   "outputs": [
    {
     "name": "stderr",
     "output_type": "stream",
     "text": [
      "/home/investigator/miniconda3/envs/IC-3.8-2022-04-13/lib/python3.8/site-packages/pandas/core/generic.py:5516: SettingWithCopyWarning: \n",
      "A value is trying to be set on a copy of a slice from a DataFrame.\n",
      "Try using .loc[row_indexer,col_indexer] = value instead\n",
      "\n",
      "See the caveats in the documentation: https://pandas.pydata.org/pandas-docs/stable/user_guide/indexing.html#returning-a-view-versus-a-copy\n",
      "  self[name] = value\n"
     ]
    }
   ],
   "source": [
    "dst_fibers = dst.loc[dst.sensor_id.isin(sens_mask)] # dst only for the sensor on the fibers\n",
    "dst_fibers.time_bin = dst_fibers.time_bin*t_binning # change units to ns\n"
   ]
  },
  {
   "cell_type": "code",
   "execution_count": 51,
   "id": "38f3a23e",
   "metadata": {},
   "outputs": [],
   "source": [
    "sens = sens_mask[23]\n",
    "sens = 240\n",
    "dst_onesens = dst_fibers.loc[dst_fibers.sensor_id == sens]"
   ]
  },
  {
   "cell_type": "code",
   "execution_count": 52,
   "id": "3cfbd87e",
   "metadata": {},
   "outputs": [
    {
     "data": {
      "text/html": [
       "<div>\n",
       "<style scoped>\n",
       "    .dataframe tbody tr th:only-of-type {\n",
       "        vertical-align: middle;\n",
       "    }\n",
       "\n",
       "    .dataframe tbody tr th {\n",
       "        vertical-align: top;\n",
       "    }\n",
       "\n",
       "    .dataframe thead th {\n",
       "        text-align: right;\n",
       "    }\n",
       "</style>\n",
       "<table border=\"1\" class=\"dataframe\">\n",
       "  <thead>\n",
       "    <tr style=\"text-align: right;\">\n",
       "      <th></th>\n",
       "      <th>event_id</th>\n",
       "      <th>sensor_id</th>\n",
       "      <th>time_bin</th>\n",
       "      <th>charge</th>\n",
       "    </tr>\n",
       "  </thead>\n",
       "  <tbody>\n",
       "    <tr>\n",
       "      <th>782783</th>\n",
       "      <td>0</td>\n",
       "      <td>240</td>\n",
       "      <td>34.7</td>\n",
       "      <td>1</td>\n",
       "    </tr>\n",
       "    <tr>\n",
       "      <th>782784</th>\n",
       "      <td>0</td>\n",
       "      <td>240</td>\n",
       "      <td>70.8</td>\n",
       "      <td>1</td>\n",
       "    </tr>\n",
       "    <tr>\n",
       "      <th>782785</th>\n",
       "      <td>0</td>\n",
       "      <td>240</td>\n",
       "      <td>74.5</td>\n",
       "      <td>1</td>\n",
       "    </tr>\n",
       "    <tr>\n",
       "      <th>782786</th>\n",
       "      <td>0</td>\n",
       "      <td>240</td>\n",
       "      <td>74.8</td>\n",
       "      <td>1</td>\n",
       "    </tr>\n",
       "    <tr>\n",
       "      <th>782787</th>\n",
       "      <td>0</td>\n",
       "      <td>240</td>\n",
       "      <td>87.3</td>\n",
       "      <td>1</td>\n",
       "    </tr>\n",
       "    <tr>\n",
       "      <th>...</th>\n",
       "      <td>...</td>\n",
       "      <td>...</td>\n",
       "      <td>...</td>\n",
       "      <td>...</td>\n",
       "    </tr>\n",
       "    <tr>\n",
       "      <th>801349</th>\n",
       "      <td>0</td>\n",
       "      <td>240</td>\n",
       "      <td>687722.0</td>\n",
       "      <td>1</td>\n",
       "    </tr>\n",
       "    <tr>\n",
       "      <th>801350</th>\n",
       "      <td>0</td>\n",
       "      <td>240</td>\n",
       "      <td>688551.6</td>\n",
       "      <td>1</td>\n",
       "    </tr>\n",
       "    <tr>\n",
       "      <th>801351</th>\n",
       "      <td>0</td>\n",
       "      <td>240</td>\n",
       "      <td>688565.3</td>\n",
       "      <td>1</td>\n",
       "    </tr>\n",
       "    <tr>\n",
       "      <th>801352</th>\n",
       "      <td>0</td>\n",
       "      <td>240</td>\n",
       "      <td>688868.9</td>\n",
       "      <td>1</td>\n",
       "    </tr>\n",
       "    <tr>\n",
       "      <th>801353</th>\n",
       "      <td>0</td>\n",
       "      <td>240</td>\n",
       "      <td>689761.0</td>\n",
       "      <td>1</td>\n",
       "    </tr>\n",
       "  </tbody>\n",
       "</table>\n",
       "<p>18571 rows × 4 columns</p>\n",
       "</div>"
      ],
      "text/plain": [
       "        event_id  sensor_id  time_bin  charge\n",
       "782783         0        240      34.7       1\n",
       "782784         0        240      70.8       1\n",
       "782785         0        240      74.5       1\n",
       "782786         0        240      74.8       1\n",
       "782787         0        240      87.3       1\n",
       "...          ...        ...       ...     ...\n",
       "801349         0        240  687722.0       1\n",
       "801350         0        240  688551.6       1\n",
       "801351         0        240  688565.3       1\n",
       "801352         0        240  688868.9       1\n",
       "801353         0        240  689761.0       1\n",
       "\n",
       "[18571 rows x 4 columns]"
      ]
     },
     "execution_count": 52,
     "metadata": {},
     "output_type": "execute_result"
    }
   ],
   "source": [
    "dst_onesens"
   ]
  },
  {
   "cell_type": "markdown",
   "id": "c394dca4",
   "metadata": {},
   "source": [
    "<h1> __________________________ </h1>\n",
    "<h2> Analysis </h2>"
   ]
  },
  {
   "cell_type": "markdown",
   "id": "b0cbeb63",
   "metadata": {},
   "source": [
    "-  <p style=\"font-size: 17px; color: black;\"> <b> Direct s2 waveform </b> </p>"
   ]
  },
  {
   "cell_type": "code",
   "execution_count": 57,
   "id": "fd64b37e",
   "metadata": {},
   "outputs": [
    {
     "data": {
      "text/plain": [
       "<matplotlib.legend.Legend at 0x7fa94b26a640>"
      ]
     },
     "execution_count": 57,
     "metadata": {},
     "output_type": "execute_result"
    },
    {
     "data": {
      "image/png": "[encoded data removed]",
      "text/plain": [
       "<Figure size 700x700 with 1 Axes>"
      ]
     },
     "metadata": {},
     "output_type": "display_data"
    }
   ],
   "source": [
    "fig, ax = plt.subplots(nrows = 1, ncols = 1, figsize=(7, 7), constrained_layout=True)\n",
    "# s2_waveform(0, 240)\n",
    "\n",
    "font_size = 15\n",
    "ev = '0'\n",
    "sensor = f'sens_{sens}'\n",
    "\n",
    "# Open the HDF5 file in read mode\n",
    "with h5py.File(filename, 'r') as file:\n",
    "\n",
    "    # Get the group corresponding to the current key\n",
    "    group = file[ev]\n",
    "\n",
    "\n",
    "    # Get and print the value corresponding to the current subkey\n",
    "    signal = group[sensor][()]\n",
    "    signal = pd.DataFrame(signal)\n",
    "    signal.rename(columns = columns, inplace=True)\n",
    "\n",
    "\n",
    "\n",
    "    off_t = signal.time*1e-3 # [us]\n",
    "    offline_s2 = signal.s2 # [e]\n",
    "\n",
    "    bin_width = 1 # time units ([us])\n",
    "\n",
    "    off_binin = np.arange(t.min() - bin_width, t.max() + 2*bin_width, bin_width)\n",
    "\n",
    "    events, bins, bars = ax.hist(off_t, off_binin, \n",
    "                                 weights = offline_s2,\n",
    "                                 density=False,\n",
    "                                 histtype='step',\n",
    "                                 label = f's2 of event {ev} in {sens} using maps'\n",
    "                                )\n",
    "#     ax.set_title(f's2 of event {ev} in {sens}', fontsize = font_size);\n",
    "#     ax.set_xlabel('Time [us]', fontsize = font_size);\n",
    "#     ax.set_ylabel('Signal [e]', fontsize = font_size);\n",
    "\n",
    "#     ax.tick_params(axis='both', labelsize = font_size*2/3)\n",
    "\n",
    "# font_size = 15\n",
    "\n",
    "# signal = dst_fibers\n",
    "signal = dst_onesens\n",
    "\n",
    "tt = signal.time_bin*1e-3 # [us]\n",
    "online_s2 = signal.charge # [e]\n",
    "\n",
    "t_window_min = 400 # [us]\n",
    "t_window_max = 1000 # [us]\n",
    "\n",
    "t_window = (t_window_min < tt) & (tt < t_window_max)\n",
    "\n",
    "on_t = tt[t_window]\n",
    "online_s2 = online_s2[t_window]\n",
    "\n",
    "\n",
    "bin_width = 1 # time units ([us])\n",
    "\n",
    "on_binin = np.arange(t.min() - bin_width, t.max() + 2*bin_width, bin_width)\n",
    "\n",
    "events, bins, bars = ax.hist(on_t, on_binin, \n",
    "                             weights = online_s2,\n",
    "                             density=False,\n",
    "                             histtype='step',\n",
    "                             label = f's2 of event {0} in {sens} direct simulation'\n",
    "                            )\n",
    "\n",
    "ax.set_title(f's2 waveform for sensor {sens}', fontsize = font_size);\n",
    "ax.set_xlabel('Time [us]', fontsize = font_size);\n",
    "ax.set_ylabel('Signal [e]', fontsize = font_size);\n",
    "\n",
    "ax.tick_params(axis='both', labelsize = font_size*2/3)\n",
    "\n",
    "ax.legend()\n"
   ]
  },
  {
   "cell_type": "code",
   "execution_count": null,
   "id": "d0ee9c54",
   "metadata": {},
   "outputs": [],
   "source": []
  },
  {
   "cell_type": "code",
   "execution_count": 55,
   "id": "f6a0d2e2",
   "metadata": {},
   "outputs": [
    {
     "data": {
      "text/plain": [
       "<matplotlib.legend.Legend at 0x7fa94a7749a0>"
      ]
     },
     "execution_count": 55,
     "metadata": {},
     "output_type": "execute_result"
    },
    {
     "data": {
      "image/png": "[encoded data removed]",
      "text/plain": [
       "<Figure size 700x700 with 1 Axes>"
      ]
     },
     "metadata": {},
     "output_type": "display_data"
    }
   ],
   "source": [
    "fig, ax = plt.subplots(nrows = 1, ncols = 1, figsize=(7, 7), constrained_layout=True)\n",
    "# s2_waveform(0, 240)\n",
    "\n",
    "font_size = 15\n",
    "ev = '0'\n",
    "sensor = f'sens_{sens}'\n",
    "\n",
    "# Open the HDF5 file in read mode\n",
    "with h5py.File(filename, 'r') as file:\n",
    "\n",
    "    # Get the group corresponding to the current key\n",
    "    group = file[ev]\n",
    "    \n",
    "    # Get a list of all keys (sensor names) in the group\n",
    "    sensor_keys = list(group.keys())\n",
    "\n",
    "    # Use list comprehension to get all datasets (signals) for all sensors in the group\n",
    "    all_signals = [group[sensor_key][()] for sensor_key in sensor_keys]\n",
    "\n",
    "    # Convert the list of signals to a DataFrame\n",
    "    df_all_sensors = pd.DataFrame(np.concatenate(all_signals))\n",
    "\n",
    "    # Assuming 'columns' is defined elsewhere in your code\n",
    "    df_all_sensors.rename(columns=columns, inplace=True)\n",
    "\n",
    "\n",
    "    t = df_all_sensors.time*1e-3 # [us]\n",
    "    s2 = df_all_sensors.s2 # [e]\n",
    "\n",
    "    bin_width = 1 # time units ([us])\n",
    "\n",
    "    binin = np.arange(t.min() - bin_width, t.max() + 2*bin_width, bin_width)\n",
    "\n",
    "    events, bins, bars = ax.hist(t, binin, \n",
    "                                 weights = s2,\n",
    "                                 density=False,\n",
    "                                 histtype='step',\n",
    "                                 label = f's2 of event {ev} using maps'\n",
    "                                )\n",
    "\n",
    "signal = dst_fibers\n",
    "\n",
    "tt = signal.time_bin*1e-3 # [us]\n",
    "s2 = signal.charge # [e]\n",
    "\n",
    "t_window_min = 400 # [us]\n",
    "t_window_max = 1000 # [us]\n",
    "\n",
    "t_window = (t_window_min < tt) & (tt < t_window_max)\n",
    "\n",
    "t = tt[t_window]\n",
    "s2 = s2[t_window]\n",
    "\n",
    "\n",
    "bin_width = 1 # time units ([us])\n",
    "\n",
    "binin = np.arange(t.min() - bin_width, t.max() + 2*bin_width, bin_width)\n",
    "\n",
    "events, bins, bars = ax.hist(t, binin, \n",
    "                             weights = s2,\n",
    "                             density=False,\n",
    "                             histtype='step',\n",
    "                             label = f's2 of event {0} direct simulation'\n",
    "                            )\n",
    "\n",
    "ax.set_title(f's2 waveform for all sensors', fontsize = font_size);\n",
    "ax.set_xlabel('Time [us]', fontsize = font_size);\n",
    "ax.set_ylabel('Signal [e]', fontsize = font_size);\n",
    "\n",
    "ax.tick_params(axis='both', labelsize = font_size*2/3)\n",
    "\n",
    "ax.legend()\n"
   ]
  },
  {
   "cell_type": "code",
   "execution_count": null,
   "id": "e04317bf",
   "metadata": {},
   "outputs": [],
   "source": []
  },
  {
   "cell_type": "code",
   "execution_count": null,
   "id": "8d4db48c",
   "metadata": {},
   "outputs": [],
   "source": []
  },
  {
   "cell_type": "code",
   "execution_count": null,
   "id": "105a5935",
   "metadata": {},
   "outputs": [],
   "source": []
  },
  {
   "cell_type": "code",
   "execution_count": null,
   "id": "e2d40cc0",
   "metadata": {},
   "outputs": [],
   "source": []
  },
  {
   "cell_type": "code",
   "execution_count": null,
   "id": "2409e295",
   "metadata": {},
   "outputs": [],
   "source": []
  },
  {
   "cell_type": "code",
   "execution_count": null,
   "id": "fc8820a5",
   "metadata": {},
   "outputs": [],
   "source": []
  },
  {
   "cell_type": "code",
   "execution_count": null,
   "id": "bd37e621",
   "metadata": {},
   "outputs": [],
   "source": []
  },
  {
   "cell_type": "code",
   "execution_count": null,
   "id": "d3e9837a",
   "metadata": {},
   "outputs": [],
   "source": []
  },
  {
   "cell_type": "code",
   "execution_count": null,
   "id": "240fee9f",
   "metadata": {},
   "outputs": [],
   "source": []
  },
  {
   "cell_type": "code",
   "execution_count": null,
   "id": "f3b0464d",
   "metadata": {},
   "outputs": [],
   "source": []
  },
  {
   "cell_type": "code",
   "execution_count": null,
   "id": "f43f4652",
   "metadata": {},
   "outputs": [],
   "source": [
    "len(h5py.File(filename, 'r').keys())"
   ]
  },
  {
   "cell_type": "code",
   "execution_count": 32,
   "id": "104bea57",
   "metadata": {},
   "outputs": [
    {
     "data": {
      "image/png": "[encoded data removed]",
      "text/plain": [
       "<Figure size 700x700 with 1 Axes>"
      ]
     },
     "metadata": {},
     "output_type": "display_data"
    }
   ],
   "source": [
    "# s2 = np.array(list(s2_max_dict.values()))\n",
    "s2 = np.array(list(full_s2_max_dict.values()))\n",
    "\n",
    "n_events = np.shape(s2)[0]\n",
    "# n_events = np.shape(s2)[1]\n",
    "n_sensors = 90\n",
    "\n",
    "# s2 = np.concatenate(s2)\n",
    "\n",
    "fig, ax = plt.subplots(nrows = 1, ncols = 1, figsize=(7,7), constrained_layout=True)\n",
    "\n",
    "bin_width = 1 # [e]\n",
    "n_bins = 50\n",
    "# binin = np.arange(s2.min() - bin_width, s2.max() + 2*bin_width, bin_width)\n",
    "binin = n_bins\n",
    "\n",
    "font_size = 20\n",
    "\n",
    "events, bins, bars = ax.hist(s2, binin, \n",
    "                             density=False,\n",
    "                             label='s2: max=%.2f; $\\mu$=%.2f; $\\sigma$=%.2f'%(s2.max(), s2.mean(), s2.std()), \n",
    "                             histtype='step')\n",
    "\n",
    "ax.set_title(f'Max s2 signal in all {n_sensors} sensors for {n_events} events', fontsize = font_size);\n",
    "ax.set_xlabel('s2 signal max [e]', fontsize = font_size);\n",
    "ax.set_ylabel('Counts', fontsize = font_size);\n",
    "ax.set_yscale('log')\n",
    "\n",
    "ax.legend(fontsize=0.7*font_size, loc='best')\n",
    "\n",
    "ax.tick_params(axis='both', labelsize = font_size*2/3)"
   ]
  },
  {
   "cell_type": "code",
   "execution_count": null,
   "id": "3a223c87",
   "metadata": {},
   "outputs": [],
   "source": [
    "fig, ax = plt.subplots(nrows = 1, ncols = 1, figsize=(15,10), constrained_layout=True)\n",
    "\n",
    "s2 = np.array(list(s2_max_dict.values()))\n",
    "s2 = np.concatenate(s2)\n",
    "\n",
    "# Create a histogram\n",
    "events, bin_ref = np.histogram(s2, bins=binin)\n",
    "\n",
    "# Plot the histogram\n",
    "ax.hist((bin_ref[1:] + bin_ref[:-1])/2, bins=bin_ref,\n",
    "         weights = events, \n",
    "         alpha=1)\n",
    "\n",
    "# events, bins, bars = ax.hist(s2, binin, \n",
    "#                              density=False,\n",
    "#                              alpha=0.7,\n",
    "#                              histtype='step')\n",
    "\n",
    "s2 = s2[s2 < 2000]\n",
    "events, bins = np.histogram(s2, bins=bin_ref)\n",
    "ax.hist((bins[1:] + bins[:-1])/2, bins=bin_ref,\n",
    "         weights = events, \n",
    "         alpha=0.7)\n",
    "\n",
    "# events, bins, bars = ax.hist(s2, binin, \n",
    "#                              density=False,\n",
    "#                              alpha=0.7,\n",
    "#                              histtype='step')\n",
    "\n",
    "ax.set_title('Histogram')\n",
    "ax.set_xlabel('Value')\n",
    "ax.set_ylabel('Frequency')\n"
   ]
  },
  {
   "cell_type": "code",
   "execution_count": null,
   "id": "9c23ea9f",
   "metadata": {},
   "outputs": [],
   "source": [
    "# s2 = np.array(list(s2_max_dict.values()))\n",
    "# s2 = np.concatenate(s2)\n",
    "s2 = np.array(list(full_s2_max_dict.values()))\n",
    "\n",
    "# Create a histogram\n",
    "events_ref, bin_ref = np.histogram(s2, bins=binin)\n",
    "\n",
    "cuts = np.arange(s2.max(), s2.min(), -500)\n",
    "eff_dict = {}\n",
    "\n",
    "for ii, cut in enumerate(cuts):\n",
    "    \n",
    "    s2 = s2[s2 < cut]\n",
    "    events, bins = np.histogram(s2, bins=bin_ref)\n",
    "    \n",
    "    eff = events.sum()*100/events_ref.sum()\n",
    "    \n",
    "    eff_dict[cut] = eff\n",
    "    \n"
   ]
  },
  {
   "cell_type": "code",
   "execution_count": null,
   "id": "e61ba06f",
   "metadata": {},
   "outputs": [],
   "source": [
    "# eff_dict"
   ]
  },
  {
   "cell_type": "code",
   "execution_count": null,
   "id": "eb4908c9",
   "metadata": {},
   "outputs": [],
   "source": [
    "fig, ax = plt.subplots(nrows = 1, ncols = 1, figsize=(7, 7), constrained_layout=True)\n",
    "font_size = 22\n",
    "\n",
    "ax.plot(eff_dict.keys(), eff_dict.values(), 'o')\n",
    "ax.set_title('Cut efficiency', fontsize = font_size)\n",
    "ax.set_ylabel('Efficieny [%]', fontsize = font_size)\n",
    "ax.set_xlabel('Cut [e]', fontsize = font_size)\n",
    "\n",
    "ax.tick_params(axis='both', labelsize = font_size*2/3)\n",
    "# ax.tick_params(axis='y', labelsize = font_size)\n"
   ]
  },
  {
   "cell_type": "code",
   "execution_count": null,
   "id": "b17bc9f2",
   "metadata": {},
   "outputs": [],
   "source": []
  }
 ],
 "metadata": {
  "kernelspec": {
   "display_name": "Python 3 (ipykernel)",
   "language": "python",
   "name": "python3"
  },
  "language_info": {
   "codemirror_mode": {
    "name": "ipython",
    "version": 3
   },
   "file_extension": ".py",
   "mimetype": "text/x-python",
   "name": "python",
   "nbconvert_exporter": "python",
   "pygments_lexer": "ipython3",
   "version": "3.8.16"
  }
 },
 "nbformat": 4,
 "nbformat_minor": 5
}
