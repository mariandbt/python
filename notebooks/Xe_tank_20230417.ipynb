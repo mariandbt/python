{
 "cells": [
  {
   "cell_type": "code",
   "execution_count": 1,
   "id": "19d793eb",
   "metadata": {},
   "outputs": [],
   "source": [
    "import numpy              as np\n",
    "import pandas             as pd\n",
    "\n",
    "import scipy              \n",
    "from scipy import stats, integrate\n",
    "\n",
    "import matplotlib.pyplot  as plt\n",
    "\n",
    "from matplotlib.ticker import FormatStrFormatter # to set the format of the plot's axis\n",
    "from matplotlib.patches import Rectangle # To add blanck spaces in tabular legends\n",
    "\n",
    "import os\n",
    "import math\n",
    "import tables as tb"
   ]
  },
  {
   "cell_type": "markdown",
   "id": "85a2dfe0",
   "metadata": {},
   "source": [
    "# Functions"
   ]
  },
  {
   "cell_type": "code",
   "execution_count": 2,
   "id": "c057ab51",
   "metadata": {},
   "outputs": [],
   "source": [
    "# Fitting distributions to define\n",
    "\n",
    "# note: pdf are normilized to 1 so we have yo add an amplitude param\n",
    "def gauss(x, a,  mu, sigma):\n",
    "    return a*stats.norm.pdf(x, mu, sigma) \n",
    "\n",
    "def gauss_sum(x, a0,  mu0, sigma0, a1, mu1, sigma1):\n",
    "    return a0*stats.norm.pdf(x, mu0, sigma0)  + a1*stats.norm.pdf(x, mu1, sigma1)\n",
    "\n",
    "def EL_yield(E, p, d):\n",
    "    # E[kV/cm] electric field \n",
    "    # p[bar] pressure\n",
    "    # d[cm] average absorption depth\n",
    "    return (140*E/p - 116)*d*p # [photons/e⁻]\n"
   ]
  },
  {
   "cell_type": "markdown",
   "id": "f55cea8a",
   "metadata": {},
   "source": [
    "# Global parameters"
   ]
  },
  {
   "cell_type": "code",
   "execution_count": 3,
   "id": "5562c609",
   "metadata": {},
   "outputs": [],
   "source": [
    "pd.set_option('display.max_columns', None)\n",
    "pd.set_option('display.max_rows', 100)\n",
    "pd.set_option('display.min_rows', 20)"
   ]
  },
  {
   "cell_type": "code",
   "execution_count": 4,
   "id": "e9c3a83a",
   "metadata": {},
   "outputs": [],
   "source": [
    "# plt.rcParams[\"figure.figsize\"] = 10, 8\n",
    "# plt.rcParams[\"font.size\"] = 10"
   ]
  },
  {
   "cell_type": "code",
   "execution_count": 5,
   "id": "fa353cae",
   "metadata": {},
   "outputs": [
    {
     "name": "stdout",
     "output_type": "stream",
     "text": [
      "EL_gain =  [500, 1000, 1500, 2000]\n"
     ]
    }
   ],
   "source": [
    "dt = 1e3 # [ns] = 1us\n",
    "\n",
    "v_d = 967.99*1e-6 # [mm/ns] = 967.99 [um/us] Drift velocity\n",
    "Xe_ion = 11.14*1e-6 # [MeV] Xe ionization potential\n",
    "\n",
    "\n",
    "d = 0.5 # [cm] average absorption depth (https://arxiv.org/pdf/1202.0721.pdf)\n",
    "p = 15 # [bar] pressure\n",
    "E = 3*p # [kV/cm] electric field (we ussually get E/p, so we define E in terms of p) (https://arxiv.org/pdf/1202.0721.pdf)\n",
    "V = E*d # [kV] voltage\n",
    "\n",
    "# EL_gain = 75 # [photons/e⁻] optical gain (https://iopscience.iop.org/article/10.1088/1748-0221/10/03/P03025/pdf)\n",
    "# EL_gain = 700 # [photons/e⁻] optical gain (Francesc)\n",
    "# EL_gain = 2500 # [photons/e⁻] optical gain (https://arxiv.org/pdf/1202.0721.pdf)\n",
    "# EL_gain = EL_yield(E, p, d) # [photons/e⁻] optical gain (https://arxiv.org/pdf/physics/0702142.pdf)\n",
    "# EL_gain = 140*V # [photons/e⁻] optical gain (https://arxiv.org/pdf/physics/0702142.pdf)\n",
    "EL_gain = [500, 1000, 1500, 2000] # [photons/e⁻] optical gain \n",
    "print('EL_gain = ', EL_gain)\n",
    "\n",
    "# e_lt = 16e5 # electron lifetime\n",
    "e_lt = 10e6 # [ns] = 10 [ms] electron lifetime\n",
    "# recombi = 0.026 # recombination factor (https://iopscience.iop.org/article/10.1088/1748-0221/10/03/P03025/pdf)\n",
    "recombi = 0. # recombination factor (Ander)\n",
    "\n",
    "z_max = 1.5e3 # [mm] Detector length/2\n",
    "z_min = -z_max # symmetric detector"
   ]
  },
  {
   "cell_type": "markdown",
   "id": "7af0b327",
   "metadata": {},
   "source": [
    "# Data"
   ]
  },
  {
   "cell_type": "markdown",
   "id": "b0b784dd",
   "metadata": {},
   "source": [
    "## Units are fundamental units used in Geant4, ie:\n",
    "\n",
    "### Length [L]: mm (milimeter)\n",
    "### Time [T]: ns (nanosecond)\n",
    "### Energy [E]: MeV (megaelectronvolt)\n"
   ]
  },
  {
   "cell_type": "code",
   "execution_count": 6,
   "id": "1ee61880",
   "metadata": {},
   "outputs": [],
   "source": [
    "path = '/home/investigator/mariandbt/nexus/'\n",
    "\n",
    "filename = os.path.join(path, \"Xe_tank_bb0nu.next.h5\")"
   ]
  },
  {
   "cell_type": "code",
   "execution_count": 7,
   "id": "3557f9c6",
   "metadata": {},
   "outputs": [
    {
     "name": "stdout",
     "output_type": "stream",
     "text": [
      "/home/investigator/mariandbt/nexus/Xe_tank_bb0nu.next.h5 (File) ''\n",
      "Last modif.: '2023-03-27T15:22:22+00:00'\n",
      "Object Tree: \n",
      "/ (RootGroup) ''\n",
      "/MC (Group) ''\n",
      "/MC/configuration (Table(36,)) ''\n",
      "/MC/hits (Table(1499311,)) ''\n",
      "/MC/particles (Table(317632,)) ''\n",
      "/MC/sns_positions (Table(0,)) ''\n",
      "/MC/sns_response (Table(0,)) ''\n",
      "\n"
     ]
    }
   ],
   "source": [
    "# inside a .h5 file there are several objects, let's see which data-set (dst) we want\n",
    "with tb.open_file(filename) as file:\n",
    "    print(file)"
   ]
  },
  {
   "cell_type": "code",
   "execution_count": 8,
   "id": "f353a737",
   "metadata": {},
   "outputs": [],
   "source": [
    "# %%timeit # WITH THIS YOU'RE ONLY TIMING, BUT IT DOESN'T REALLY RUN THE COMMANDS YOU TIME\n",
    "data = pd.read_hdf(filename, \"/MC/hits\")\n",
    "# dst = pd.read_hdf(filename, \"/MC/hits\").groupby(\"event_id\").get_group(event_id)"
   ]
  },
  {
   "cell_type": "code",
   "execution_count": 9,
   "id": "2595a19b",
   "metadata": {},
   "outputs": [],
   "source": [
    "dst = data.copy()"
   ]
  },
  {
   "cell_type": "markdown",
   "id": "4b32220d",
   "metadata": {},
   "source": [
    "# Electron distribution on time"
   ]
  },
  {
   "cell_type": "markdown",
   "id": "1ed51f88",
   "metadata": {},
   "source": [
    "### Number of events"
   ]
  },
  {
   "cell_type": "code",
   "execution_count": 10,
   "id": "008fbc22",
   "metadata": {},
   "outputs": [
    {
     "data": {
      "text/plain": [
       "10000"
      ]
     },
     "execution_count": 10,
     "metadata": {},
     "output_type": "execute_result"
    }
   ],
   "source": [
    "n_events = len(dst['event_id'].unique())\n",
    "n_events"
   ]
  },
  {
   "cell_type": "markdown",
   "id": "b50bf513",
   "metadata": {},
   "source": [
    "### Total time = initial time + drift time"
   ]
  },
  {
   "cell_type": "code",
   "execution_count": 11,
   "id": "6dcdb3f9",
   "metadata": {},
   "outputs": [],
   "source": [
    "drift_time = (z_max - dst['z'])/(v_d) # [ns]\n",
    "dst['drift_time'] = drift_time\n",
    "dst['tot_time'] = dst['time'] + drift_time"
   ]
  },
  {
   "cell_type": "markdown",
   "id": "df45dff8",
   "metadata": {},
   "source": [
    "### Number of electrons = (energy deposition) * (EL gain) * (1 - recombination factor) * (lifetime factor)/ (ionization energy Xe)"
   ]
  },
  {
   "cell_type": "code",
   "execution_count": 12,
   "id": "e257f518",
   "metadata": {},
   "outputs": [],
   "source": [
    "n_e = np.floor(dst['energy']*(1 - recombi)*np.exp(-dst['drift_time']/e_lt)/Xe_ion)\n",
    "dst['n_e'] = n_e"
   ]
  },
  {
   "cell_type": "markdown",
   "id": "a1ec846c",
   "metadata": {},
   "source": [
    "### Nph = Ne*(EL gain)"
   ]
  },
  {
   "cell_type": "code",
   "execution_count": 13,
   "id": "b3046e59",
   "metadata": {},
   "outputs": [],
   "source": [
    "for count, EL_value in enumerate(EL_gain):\n",
    "    dst['n_ph_'+str(count)] = np.floor(dst['n_e']*EL_value)"
   ]
  },
  {
   "cell_type": "markdown",
   "id": "fb6227c4",
   "metadata": {},
   "source": [
    "### Max S2 signal"
   ]
  },
  {
   "cell_type": "code",
   "execution_count": 14,
   "id": "49e64038",
   "metadata": {},
   "outputs": [],
   "source": [
    "# %%timeit\n",
    "\n",
    "s2_hist = []\n",
    "\n",
    "for count, EL_gain_value in enumerate(EL_gain):\n",
    "    \n",
    "    s2 = []\n",
    "    \n",
    "    # for ii in range(1000):\n",
    "    for ii in range(n_events):\n",
    "\n",
    "        dst_event = dst.loc[(dst['event_id'] == ii), :] # faster\n",
    "    #     dst_event = dst.groupby(\"event_id\").get_group(ii) # slower\n",
    "\n",
    "        if (dst_event['tot_time'].max() - dst_event['tot_time'].min()) > dt:\n",
    "            hist_bins = np.arange(dst_event['tot_time'].min(), dst_event['tot_time'].max(), dt)\n",
    "        else:\n",
    "            hist_bins = np.array([dst_event['tot_time'].min(), dst_event['tot_time'].max()])\n",
    "\n",
    "    #     hist_weights = dst_event['n_ph']\n",
    "        hist_weights = dst_event[str('n_ph_' + str(count))]\n",
    "        events, bins = np.histogram(dst_event['tot_time'], hist_bins, weights = hist_weights);\n",
    "\n",
    "        s2.append(events.max())\n",
    "        \n",
    "    s2_hist.append(np.array(s2))\n",
    "    "
   ]
  },
  {
   "cell_type": "code",
   "execution_count": 15,
   "id": "c37d8cf4",
   "metadata": {},
   "outputs": [
    {
     "data": {
      "text/plain": [
       "<matplotlib.legend.Legend at 0x7f749b195a60>"
      ]
     },
     "execution_count": 15,
     "metadata": {},
     "output_type": "execute_result"
    },
    {
     "data": {
      "image/png": "[encoded data removed]",
      "text/plain": [
       "<Figure size 1000x500 with 1 Axes>"
      ]
     },
     "metadata": {},
     "output_type": "display_data"
    }
   ],
   "source": [
    "fig, ax = plt.subplots(nrows=1, ncols=1, figsize=(10,5), constrained_layout=True)\n",
    "\n",
    "#_________plot_settings_________________________________________________\n",
    "\n",
    "\n",
    "s2_mean = []\n",
    "s2_max = []\n",
    "\n",
    "for count, EL_gain_value in enumerate(EL_gain):\n",
    "# for count, EL_gain_value in enumerate([500]):\n",
    "\n",
    "    events, bins, bars = ax.hist(s2_hist[count], 50, density=False, \n",
    "                                 label='S2 photon distribution', \n",
    "                                 histtype='step', \n",
    "                                 alpha = (0.25 + 0.25*count),\n",
    "                                 lw = 2\n",
    "                                )\n",
    "\n",
    "    s2_mean.append(s2_hist[count].mean())\n",
    "    s2_max.append(s2_hist[count].max())\n",
    "\n",
    "# ax.set_xlabel('Number of photons in S2');\n",
    "ax.set_xlabel('Maximum number of photons in each event');\n",
    "ax.set_ylabel('Counts');\n",
    "\n",
    "hand, labl = ax.get_legend_handles_labels()\n",
    "s2_mean = np.array(s2_mean)\n",
    "s2_max = np.array(s2_max)\n",
    "\n",
    "# create blank rectangle\n",
    "extra = Rectangle((0, 0), 1, 1, fc=\"w\", fill=False, edgecolor='none', linewidth=0)\n",
    "\n",
    "#Create organized list containing all handles for table. Extra represent empty space\n",
    "legend_handle = np.concatenate([[extra], hand, \n",
    "                                [extra]*(len(hand) + 1),\n",
    "                                [extra]*(len(hand) + 1),\n",
    "                                [extra]*(len(hand) + 1)\n",
    "                               ])\n",
    "\n",
    "#Define the labels\n",
    "label_empty = [\"\"]\n",
    "label_markers = [r\"Color\"]\n",
    "label_EL = [r\"EL Gain [ph/e]\", '%.0f'%(EL_gain[0]), '%.0f'%(EL_gain[1]), '%.0f'%(EL_gain[2]), '%.0f'%(EL_gain[3])]\n",
    "label_s2mean = [r\"$\\mu$ [ph]\", '%.2E'%(s2_mean[0]), '%.2E'%(s2_mean[1]), '%.2E'%(s2_mean[2]), '%.2E'%(s2_mean[3])]\n",
    "label_s2max = [r\"Max [ph]\", '%.2E'%(s2_max[0]), '%.2E'%(s2_max[1]), '%.2E'%(s2_max[2]), '%.2E'%(s2_max[3])]\n",
    "\n",
    "#organize labels for table construction\n",
    "legend_labels = np.concatenate([label_markers, label_empty*len(hand), \n",
    "                                label_EL, label_s2mean, label_s2max])\n",
    "\n",
    "#Create legend\n",
    "ax.legend(legend_handle, legend_labels, \n",
    "          loc = 'best', ncol = 4, shadow = False, handletextpad = -2)\n"
   ]
  },
  {
   "cell_type": "code",
   "execution_count": null,
   "id": "157c0c75",
   "metadata": {},
   "outputs": [],
   "source": []
  }
 ],
 "metadata": {
  "kernelspec": {
   "display_name": "Python 3 (ipykernel)",
   "language": "python",
   "name": "python3"
  },
  "language_info": {
   "codemirror_mode": {
    "name": "ipython",
    "version": 3
   },
   "file_extension": ".py",
   "mimetype": "text/x-python",
   "name": "python",
   "nbconvert_exporter": "python",
   "pygments_lexer": "ipython3",
   "version": "3.8.13"
  }
 },
 "nbformat": 4,
 "nbformat_minor": 5
}
