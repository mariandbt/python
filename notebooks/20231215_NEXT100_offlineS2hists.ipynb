{
 "cells": [
  {
   "cell_type": "markdown",
   "id": "f55cea8a",
   "metadata": {},
   "source": [
    "<h1> ______________________________________ </h1>\n",
    "\n",
    "<h1> Full NEXT100 with fiber panels simulation mapping analysis </h1>\n",
    "<h1> ______________________________________ </h1>\n",
    "\n",
    "<p style=\"font-size: 17px; color: black;\"> In this Notebook we take as input the maps created in the previous notebook and use it to simulate an s2 signal for bb0nu events. </p>\n",
    "\n",
    "\n"
   ]
  },
  {
   "cell_type": "markdown",
   "id": "0a6c28e7",
   "metadata": {},
   "source": [
    "<h1> ____________ </h1>\n",
    "<h2> This version </h2>\n",
    "<h1> ____________ </h1>\n",
    "\n",
    "-  <p style=\"font-size: 17px; color: black;\"> 100K ie S2 events. </p>\n",
    "-  <p style=\"font-size: 17px; color: black;\"> Mapping separated by sensors. </p>\n",
    "\n",
    "-  <p style=\"font-size: 17px; color: black;\"> Geant4 fundamental units: </p>\n",
    "\n",
    " -  <p style=\"font-size: 17px; color: black;\"> Length [L]: mm (milimeter) </p>\n",
    " -  <p style=\"font-size: 17px; color: black;\"> Time [T]: ns (nanosecond) </p>\n",
    " -  <p style=\"font-size: 17px; color: black;\"> Energy [E]: MeV (megaelectronvolt) </p>\n",
    "\n",
    "\n",
    "\n"
   ]
  },
  {
   "cell_type": "code",
   "execution_count": 1,
   "id": "19d793eb",
   "metadata": {},
   "outputs": [],
   "source": [
    "import numpy              as np\n",
    "import pandas             as pd\n",
    "\n",
    "import scipy              \n",
    "from scipy                import stats, integrate\n",
    "from scipy.signal         import convolve\n",
    "\n",
    "import matplotlib.pyplot  as plt\n",
    "\n",
    "from matplotlib.ticker    import FormatStrFormatter # to set the format of the plot's axis\n",
    "from matplotlib.patches   import Rectangle # To add blanck spaces in tabular legends\n",
    "\n",
    "import os\n",
    "import math\n",
    "import tables             as tb"
   ]
  },
  {
   "cell_type": "code",
   "execution_count": 2,
   "id": "1ee61880",
   "metadata": {
    "scrolled": true
   },
   "outputs": [
    {
     "name": "stdout",
     "output_type": "stream",
     "text": [
      "/home/investigator/mariandbt/python/data/20231025_NEXT100_full_mapping/20231218_bb0nu_s2_signal.h5 (File) ''\n",
      "Last modif.: '2023-12-18T09:56:31+00:00'\n",
      "Object Tree: \n",
      "/ (RootGroup) ''\n",
      "/sens_200 (Array(109684, 2)) ''\n",
      "/sens_201 (Array(109684, 2)) ''\n",
      "/sens_202 (Array(109684, 2)) ''\n",
      "/sens_203 (Array(109684, 2)) ''\n",
      "/sens_204 (Array(109684, 2)) ''\n",
      "/sens_205 (Array(109684, 2)) ''\n",
      "/sens_206 (Array(109684, 2)) ''\n",
      "/sens_207 (Array(109684, 2)) ''\n",
      "/sens_208 (Array(109684, 2)) ''\n",
      "/sens_209 (Array(109684, 2)) ''\n",
      "/sens_210 (Array(109684, 2)) ''\n",
      "/sens_211 (Array(109684, 2)) ''\n",
      "/sens_212 (Array(109684, 2)) ''\n",
      "/sens_213 (Array(109684, 2)) ''\n",
      "/sens_214 (Array(109684, 2)) ''\n",
      "/sens_215 (Array(109684, 2)) ''\n",
      "/sens_216 (Array(109684, 2)) ''\n",
      "/sens_217 (Array(109684, 2)) ''\n",
      "/sens_218 (Array(109684, 2)) ''\n",
      "/sens_219 (Array(109684, 2)) ''\n",
      "/sens_220 (Array(109684, 2)) ''\n",
      "/sens_221 (Array(109684, 2)) ''\n",
      "/sens_222 (Array(109684, 2)) ''\n",
      "/sens_223 (Array(109684, 2)) ''\n",
      "/sens_224 (Array(109684, 2)) ''\n",
      "/sens_225 (Array(109684, 2)) ''\n",
      "/sens_226 (Array(109684, 2)) ''\n",
      "/sens_227 (Array(109684, 2)) ''\n",
      "/sens_228 (Array(109684, 2)) ''\n",
      "/sens_229 (Array(109684, 2)) ''\n",
      "/sens_230 (Array(109684, 2)) ''\n",
      "/sens_231 (Array(109684, 2)) ''\n",
      "/sens_232 (Array(109684, 2)) ''\n",
      "/sens_233 (Array(109684, 2)) ''\n",
      "/sens_234 (Array(109684, 2)) ''\n",
      "/sens_235 (Array(109684, 2)) ''\n",
      "/sens_236 (Array(109684, 2)) ''\n",
      "/sens_237 (Array(109684, 2)) ''\n",
      "/sens_238 (Array(109684, 2)) ''\n",
      "/sens_239 (Array(109684, 2)) ''\n",
      "/sens_240 (Array(109684, 2)) ''\n",
      "/sens_241 (Array(109684, 2)) ''\n",
      "/sens_242 (Array(109684, 2)) ''\n",
      "/sens_243 (Array(109684, 2)) ''\n",
      "/sens_244 (Array(109684, 2)) ''\n",
      "/sens_245 (Array(109684, 2)) ''\n",
      "/sens_246 (Array(109684, 2)) ''\n",
      "/sens_247 (Array(109684, 2)) ''\n",
      "/sens_248 (Array(109684, 2)) ''\n",
      "/sens_249 (Array(109684, 2)) ''\n",
      "/sens_250 (Array(109684, 2)) ''\n",
      "/sens_251 (Array(109684, 2)) ''\n",
      "/sens_252 (Array(109684, 2)) ''\n",
      "/sens_253 (Array(109684, 2)) ''\n",
      "/sens_254 (Array(109684, 2)) ''\n",
      "/sens_255 (Array(109684, 2)) ''\n",
      "/sens_256 (Array(109684, 2)) ''\n",
      "/sens_257 (Array(109684, 2)) ''\n",
      "/sens_258 (Array(109684, 2)) ''\n",
      "/sens_259 (Array(109684, 2)) ''\n",
      "/sens_260 (Array(109684, 2)) ''\n",
      "/sens_261 (Array(109684, 2)) ''\n",
      "/sens_262 (Array(109684, 2)) ''\n",
      "/sens_263 (Array(109684, 2)) ''\n",
      "/sens_264 (Array(109684, 2)) ''\n",
      "/sens_265 (Array(109684, 2)) ''\n",
      "/sens_266 (Array(109684, 2)) ''\n",
      "/sens_267 (Array(109684, 2)) ''\n",
      "/sens_268 (Array(109684, 2)) ''\n",
      "/sens_269 (Array(109684, 2)) ''\n",
      "/sens_270 (Array(109684, 2)) ''\n",
      "/sens_271 (Array(109684, 2)) ''\n",
      "/sens_272 (Array(109684, 2)) ''\n",
      "/sens_273 (Array(109684, 2)) ''\n",
      "/sens_274 (Array(109684, 2)) ''\n",
      "/sens_275 (Array(109684, 2)) ''\n",
      "/sens_276 (Array(109684, 2)) ''\n",
      "/sens_277 (Array(109684, 2)) ''\n",
      "/sens_278 (Array(109684, 2)) ''\n",
      "/sens_279 (Array(109684, 2)) ''\n",
      "/sens_280 (Array(109684, 2)) ''\n",
      "/sens_281 (Array(109684, 2)) ''\n",
      "/sens_282 (Array(109684, 2)) ''\n",
      "/sens_283 (Array(109684, 2)) ''\n",
      "/sens_284 (Array(109684, 2)) ''\n",
      "/sens_285 (Array(109684, 2)) ''\n",
      "/sens_286 (Array(109684, 2)) ''\n",
      "/sens_287 (Array(109684, 2)) ''\n",
      "/sens_288 (Array(109684, 2)) ''\n",
      "/sens_289 (Array(109684, 2)) ''\n",
      "\n"
     ]
    }
   ],
   "source": [
    "path = '/home/investigator/mariandbt/python/data'\n",
    "path = path + '/20231025_NEXT100_full_mapping'\n",
    "\n",
    "# filename = os.path.join(path, \"bb0nu_s2_signal.h5\")\n",
    "# filename = os.path.join(path, \"20231215_bb0nu_s2_signal.h5\")\n",
    "filename = os.path.join(path, \"20231218_bb0nu_s2_signal.h5\")\n",
    "\n",
    "\n",
    "with tb.open_file(filename) as file:\n",
    "    print(file)"
   ]
  },
  {
   "cell_type": "code",
   "execution_count": 3,
   "id": "5ae5913a",
   "metadata": {},
   "outputs": [],
   "source": [
    "import h5py\n",
    "\n",
    "# Load the 3D dictionary from the HDF5 file\n",
    "loaded_data_dict = {}\n",
    "\n",
    "columns = {0:'time',\n",
    "           1:'s2'\n",
    "          }\n",
    "\n",
    "with h5py.File(filename, 'r') as file:\n",
    "    for table_id in file.keys():\n",
    "        # Get the column names from the HDF5 attributes\n",
    "        loaded_data_dict[table_id] = pd.DataFrame(file[table_id][:])\n",
    "        loaded_data_dict[table_id].rename(columns = columns, inplace=True)\n",
    "\n"
   ]
  },
  {
   "cell_type": "code",
   "execution_count": 4,
   "id": "e6ed2cb7",
   "metadata": {},
   "outputs": [],
   "source": [
    "s2_dict = loaded_data_dict.copy()"
   ]
  },
  {
   "cell_type": "code",
   "execution_count": 5,
   "id": "35bf8bec",
   "metadata": {},
   "outputs": [
    {
     "data": {
      "text/plain": [
       "dict_keys(['sens_200', 'sens_201', 'sens_202', 'sens_203', 'sens_204', 'sens_205', 'sens_206', 'sens_207', 'sens_208', 'sens_209', 'sens_210', 'sens_211', 'sens_212', 'sens_213', 'sens_214', 'sens_215', 'sens_216', 'sens_217', 'sens_218', 'sens_219', 'sens_220', 'sens_221', 'sens_222', 'sens_223', 'sens_224', 'sens_225', 'sens_226', 'sens_227', 'sens_228', 'sens_229', 'sens_230', 'sens_231', 'sens_232', 'sens_233', 'sens_234', 'sens_235', 'sens_236', 'sens_237', 'sens_238', 'sens_239', 'sens_240', 'sens_241', 'sens_242', 'sens_243', 'sens_244', 'sens_245', 'sens_246', 'sens_247', 'sens_248', 'sens_249', 'sens_250', 'sens_251', 'sens_252', 'sens_253', 'sens_254', 'sens_255', 'sens_256', 'sens_257', 'sens_258', 'sens_259', 'sens_260', 'sens_261', 'sens_262', 'sens_263', 'sens_264', 'sens_265', 'sens_266', 'sens_267', 'sens_268', 'sens_269', 'sens_270', 'sens_271', 'sens_272', 'sens_273', 'sens_274', 'sens_275', 'sens_276', 'sens_277', 'sens_278', 'sens_279', 'sens_280', 'sens_281', 'sens_282', 'sens_283', 'sens_284', 'sens_285', 'sens_286', 'sens_287', 'sens_288', 'sens_289'])"
      ]
     },
     "execution_count": 5,
     "metadata": {},
     "output_type": "execute_result"
    }
   ],
   "source": [
    "s2_dict.keys()"
   ]
  },
  {
   "cell_type": "code",
   "execution_count": 6,
   "id": "382c48dd",
   "metadata": {},
   "outputs": [
    {
     "data": {
      "image/png": "[encoded data removed]",
      "text/plain": [
       "<Figure size 500x500 with 1 Axes>"
      ]
     },
     "metadata": {},
     "output_type": "display_data"
    }
   ],
   "source": [
    "sensor = 'sens_200'\n",
    "\n",
    "signal = s2_dict[sensor]\n",
    "\n",
    "t = signal.time\n",
    "s2 = signal.s2\n",
    "\n",
    "fig, ax = plt.subplots(nrows = 1, ncols = 1, figsize=(5,5), constrained_layout=True)\n",
    "\n",
    "bin_width = 1000 # [ns] = 1 [us]\n",
    "binin = np.arange(t.min() - bin_width, t.max() + 2*bin_width, bin_width)\n",
    "font_size = 8.5\n",
    "\n",
    "events, bins, bars = ax.hist(t, binin, \n",
    "                             weights = s2,\n",
    "                             density=False,\n",
    "                             label='s2', \n",
    "                             histtype='step')\n",
    "\n",
    "ax.set_title(f's2 in {sensor}');\n",
    "ax.set_xlabel('Time [ns]');\n",
    "ax.set_ylabel('Signal [e]');"
   ]
  },
  {
   "cell_type": "code",
   "execution_count": 7,
   "id": "65f53a91",
   "metadata": {},
   "outputs": [
    {
     "data": {
      "text/plain": [
       "112"
      ]
     },
     "execution_count": 7,
     "metadata": {},
     "output_type": "execute_result"
    }
   ],
   "source": [
    "len(bins)"
   ]
  },
  {
   "cell_type": "code",
   "execution_count": 8,
   "id": "e10b58df",
   "metadata": {},
   "outputs": [
    {
     "data": {
      "image/png": "[encoded data removed]",
      "text/plain": [
       "<Figure size 500x500 with 1 Axes>"
      ]
     },
     "metadata": {},
     "output_type": "display_data"
    }
   ],
   "source": [
    "sensor = 'sens_204'\n",
    "\n",
    "signal = s2_dict[sensor]\n",
    "\n",
    "t = signal.time\n",
    "s2 = signal.s2\n",
    "\n",
    "fig, ax = plt.subplots(nrows = 1, ncols = 1, figsize=(5,5), constrained_layout=True)\n",
    "\n",
    "bin_width = 1000 # [ns] = 1 [us]\n",
    "binin = np.arange(t.min() - bin_width, t.max() + 2*bin_width, bin_width)\n",
    "font_size = 8.5\n",
    "\n",
    "events, bins, bars = ax.hist(t, binin, \n",
    "                             weights = s2,\n",
    "                             density=False,\n",
    "                             label='s2', \n",
    "                             histtype='step')\n",
    "\n",
    "ax.set_title(f's2 in {sensor}');\n",
    "ax.set_xlabel('Time [ns]');\n",
    "ax.set_ylabel('Signal [e]');"
   ]
  },
  {
   "cell_type": "code",
   "execution_count": 9,
   "id": "eb6c04f7",
   "metadata": {},
   "outputs": [],
   "source": [
    "hist_max = np.array([])\n",
    "hist_max_sens = np.array([])\n",
    "\n",
    "for sensor in s2_dict.keys():\n",
    "    signal = s2_dict[sensor]\n",
    "\n",
    "    t = signal.time\n",
    "    s2 = signal.s2\n",
    "\n",
    "    bin_width = 1000 # [ns] = 1 [us]\n",
    "    binin = np.arange(t.min() - bin_width, t.max() + 2*bin_width, bin_width)\n",
    "    font_size = 8.5\n",
    "\n",
    "    # Create a histogram\n",
    "    hist_values, bin_edges = np.histogram(t, bins=binin,\n",
    "                                          weights = s2)\n",
    "\n",
    "    hist_max = np.append(hist_max, hist_values.max())\n",
    "    hist_max_sens = np.append(hist_max_sens, sensor)\n",
    "    "
   ]
  },
  {
   "cell_type": "code",
   "execution_count": 10,
   "id": "fe789ba1",
   "metadata": {},
   "outputs": [
    {
     "data": {
      "text/plain": [
       "1067.7581710897211"
      ]
     },
     "execution_count": 10,
     "metadata": {},
     "output_type": "execute_result"
    }
   ],
   "source": [
    "hist_max.max()"
   ]
  },
  {
   "cell_type": "code",
   "execution_count": 11,
   "id": "a3dc306f",
   "metadata": {},
   "outputs": [
    {
     "data": {
      "text/plain": [
       "'sens_287'"
      ]
     },
     "execution_count": 11,
     "metadata": {},
     "output_type": "execute_result"
    }
   ],
   "source": [
    "str(hist_max_sens[hist_max == hist_max.max()][0])"
   ]
  },
  {
   "cell_type": "code",
   "execution_count": 12,
   "id": "96c27cb5",
   "metadata": {},
   "outputs": [
    {
     "data": {
      "image/png": "[encoded data removed]",
      "text/plain": [
       "<Figure size 500x500 with 1 Axes>"
      ]
     },
     "metadata": {},
     "output_type": "display_data"
    }
   ],
   "source": [
    "sensor = str(hist_max_sens[hist_max == hist_max.max()][0])\n",
    "\n",
    "signal = s2_dict[sensor]\n",
    "\n",
    "t = signal.time\n",
    "s2 = signal.s2\n",
    "\n",
    "fig, ax = plt.subplots(nrows = 1, ncols = 1, figsize=(5,5), constrained_layout=True)\n",
    "\n",
    "bin_width = 1000 # [ns] = 1 [us]\n",
    "binin = np.arange(t.min() - bin_width, t.max() + 2*bin_width, bin_width)\n",
    "font_size = 8.5\n",
    "\n",
    "events, bins, bars = ax.hist(t, binin, \n",
    "                             weights = s2,\n",
    "                             density=False,\n",
    "                             label='s2', \n",
    "                             histtype='step')\n",
    "\n",
    "ax.set_title(f's2 in {sensor}');\n",
    "ax.set_xlabel('Time [ns]');\n",
    "ax.set_ylabel('Signal [e]');"
   ]
  },
  {
   "cell_type": "code",
   "execution_count": null,
   "id": "1b2ec8f1",
   "metadata": {},
   "outputs": [],
   "source": []
  }
 ],
 "metadata": {
  "kernelspec": {
   "display_name": "Python 3 (ipykernel)",
   "language": "python",
   "name": "python3"
  },
  "language_info": {
   "codemirror_mode": {
    "name": "ipython",
    "version": 3
   },
   "file_extension": ".py",
   "mimetype": "text/x-python",
   "name": "python",
   "nbconvert_exporter": "python",
   "pygments_lexer": "ipython3",
   "version": "3.8.13"
  }
 },
 "nbformat": 4,
 "nbformat_minor": 5
}
