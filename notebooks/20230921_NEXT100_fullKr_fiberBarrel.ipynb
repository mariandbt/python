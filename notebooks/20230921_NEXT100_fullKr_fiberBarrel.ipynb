{
 "cells": [
  {
   "cell_type": "markdown",
   "id": "f55cea8a",
   "metadata": {},
   "source": [
    "<h1> ______________________________________ </h1>\n",
    "\n",
    "<h1> Full NEXT100 with fiber panels and Kr38m decays simulation analysis </h1>\n",
    "<h1> ______________________________________ </h1>\n",
    "\n",
    "<p style=\"font-size: 17px; color: black;\"> In this Notebook we analyse the results from the 10000 MC Kr38m decay events simulated in a \"realistic\" fiber barrel to check if we're able to see the krypton signal with enough resolution. </p>\n",
    "\n",
    "\n"
   ]
  },
  {
   "cell_type": "markdown",
   "id": "0a6c28e7",
   "metadata": {},
   "source": [
    "<h1> ____________ </h1>\n",
    "<h2> This version </h2>\n",
    "<h1> ____________ </h1>\n",
    "\n",
    "-  <p style=\"font-size: 17px; color: black;\"> 100 events. </p>\n",
    "\n",
    "-  <p style=\"font-size: 17px; color: black;\"> Geant4 fundamental units: </p>\n",
    "\n",
    " -  <p style=\"font-size: 17px; color: black;\"> Length [L]: mm (milimeter) </p>\n",
    " -  <p style=\"font-size: 17px; color: black;\"> Time [T]: ns (nanosecond) </p>\n",
    " -  <p style=\"font-size: 17px; color: black;\"> Energy [E]: MeV (megaelectronvolt) </p>\n",
    "\n",
    "\n",
    "\n"
   ]
  },
  {
   "cell_type": "code",
   "execution_count": 1,
   "id": "19d793eb",
   "metadata": {},
   "outputs": [],
   "source": [
    "import numpy              as np\n",
    "import pandas             as pd\n",
    "\n",
    "import scipy              \n",
    "from scipy                import stats, integrate\n",
    "from scipy.signal         import convolve\n",
    "\n",
    "import matplotlib.pyplot  as plt\n",
    "\n",
    "from matplotlib.ticker    import FormatStrFormatter # to set the format of the plot's axis\n",
    "from matplotlib.patches   import Rectangle # To add blanck spaces in tabular legends\n",
    "\n",
    "import os\n",
    "import math\n",
    "import tables             as tb"
   ]
  },
  {
   "cell_type": "markdown",
   "id": "7ca48882",
   "metadata": {},
   "source": [
    "<h1> _________________________________________________________________________________________________________ </h1>\n"
   ]
  },
  {
   "cell_type": "markdown",
   "id": "85a2dfe0",
   "metadata": {},
   "source": [
    "<h1> __________________________ </h1>\n",
    "<h2> Functions </h2>\n",
    "\n",
    "-  <p style=\"font-size: 17px; color: black;\"> <b> gauss(x, a,  mu, sigma): </b> Gaussian normalized to $a$. </p>\n",
    "\n",
    "\n",
    "-  <p style=\"font-size: 17px; color: black;\"> <b> gauss_sum(x, a0,  mu0, sigma0, a1, mu1, sigma1): </b> Sum of 2 gaussians. </p>\n",
    "\n",
    "\n",
    "-  <p style=\"font-size: 17px; color: black;\"> <b> dirac(x, x0): </b> Dirac delta at $x0$. </p>\n",
    "\n",
    "\n"
   ]
  },
  {
   "cell_type": "code",
   "execution_count": 2,
   "id": "c057ab51",
   "metadata": {},
   "outputs": [],
   "source": [
    "# Fitting distributions to define\n",
    "\n",
    "# note: pdf are normilized to 1 so we have yo add an amplitude param\n",
    "def gauss(x, a,  mu, sigma):\n",
    "    \n",
    "    gaussian = stats.norm.pdf(np.sort(x), mu, sigma) \n",
    "    \n",
    "    return (a/gaussian.sum())*gaussian\n",
    "\n",
    "def gauss_sum(x, a0,  mu0, sigma0, a1, mu1, sigma1):\n",
    "    return a0*stats.norm.pdf(x, mu0, sigma0)  + a1*stats.norm.pdf(x, mu1, sigma1)\n",
    "\n",
    "def dirac(x, x0):\n",
    "    return np.where((x - x0) == 0, 1, 0)\n",
    "\n",
    "def EL_yield(E, p, d):\n",
    "    # E[kV/cm] electric field \n",
    "    # p[bar] pressure\n",
    "    # d[cm] average absorption depth\n",
    "    return (140*E/p - 116)*d*p # [photons/e⁻]\n"
   ]
  },
  {
   "cell_type": "code",
   "execution_count": 3,
   "id": "ef37153d",
   "metadata": {},
   "outputs": [],
   "source": [
    "def dark_rate(dark25, dT, T):\n",
    "    \n",
    "#     dark25[Kcps] Dark rate at 25ºC\n",
    "#     dT[ºC] Decay constant at which dark rate halves\n",
    "#     T[ºC] Temperature\n",
    "\n",
    "    exponent = (T - 25)/dT\n",
    "\n",
    "    dark_rate = dark25*(2**exponent)\n",
    "    \n",
    "    return dark_rate"
   ]
  },
  {
   "cell_type": "code",
   "execution_count": 4,
   "id": "0796d814",
   "metadata": {},
   "outputs": [],
   "source": [
    "def noise(dark_rate, x_talk, t0, tf, dt, n_sensors):\n",
    "    \n",
    "#     dark_rate[Kcps] Number of dark pulses per second\n",
    "#     x_talk[%] Cross talk probability (so the dark pulse is 2pe instead of 1pe)\n",
    "#     t0[s] Measurements STARTING time\n",
    "#     tf[s] Measurements ENDIND time\n",
    "#     dt[s] Width of the time bin\n",
    "\n",
    "    \"\"\"\n",
    "    Here we do it explained with all the steps, it can be done easier tho\n",
    "\n",
    "    n_bin = (tf - t0)/dt\n",
    "\n",
    "    pulse_rate = dark_rate*1e3*dt # probability of having a dark pulse in a bin\n",
    "    \n",
    "    pe1 = (1 - x_talk/100) # probability of that pulse being 1pe signal\n",
    "    pe2 = x_talk/100 # probability of that pulse being 2pe signal\n",
    "\n",
    "    n_1pe = int(pulse_rate*pe1*n_bin) # number of 1pe dark counts throughout measurement time in 1 sensor\n",
    "    n_2pe = int(pulse_rate*pe2*n_bin) # number of 2pe dark counts throughout measurement time in 1 sensor\n",
    "    \n",
    "    \"\"\";\n",
    "    \n",
    "    pe1 = (1 - x_talk/100) # probability of that pulse being 1pe signal\n",
    "    pe2 = x_talk/100 # probability of that pulse being 2pe signal\n",
    "        \n",
    "    n_1pe = dark_rate*1e3*(tf - t0)*pe1 # number of 1pe dark counts throughout measurement time in 1 sensor for 1 event\n",
    "    n_2pe = dark_rate*1e3*(tf - t0)*pe2 # number of 2pe dark counts throughout measurement time in 1 sensor for 1 event\n",
    "    \n",
    "    n_1pe = n_1pe*n_sensors # TOTAL number of 1pe dark counts throughout measurement time for all sensors for 1 event\n",
    "    n_2pe = n_2pe*n_sensors # TOTAL number of 2pe dark counts throughout measurement time for all sensors for 1 event\n",
    "\n",
    "    n_1pe = int(n_1pe)\n",
    "    n_2pe = int(n_2pe)\n",
    "    \n",
    "    return n_1pe, n_2pe"
   ]
  },
  {
   "cell_type": "markdown",
   "id": "5476af0e",
   "metadata": {},
   "source": [
    "<h1> __________________________ </h1>\n",
    "<h2> Global parameters </h2>"
   ]
  },
  {
   "cell_type": "markdown",
   "id": "40924491",
   "metadata": {},
   "source": [
    "-  <p style=\"font-size: 17px; color: black;\"> <b> Pandas dataset params: </b> Allows to set the max number of columns and rows that are shown in a pandas dataset. </p>"
   ]
  },
  {
   "cell_type": "code",
   "execution_count": 5,
   "id": "5562c609",
   "metadata": {},
   "outputs": [],
   "source": [
    "pd.set_option('display.max_columns', None)\n",
    "pd.set_option('display.max_rows', 100)\n",
    "pd.set_option('display.min_rows', 20)"
   ]
  },
  {
   "cell_type": "markdown",
   "id": "11e3df95",
   "metadata": {},
   "source": [
    "-  <p style=\"font-size: 17px; color: black;\"> <b> Plots params: </b> In case you want to fix the parameters for all plots. </p>"
   ]
  },
  {
   "cell_type": "code",
   "execution_count": 6,
   "id": "e9c3a83a",
   "metadata": {},
   "outputs": [],
   "source": [
    "# plt.rcParams[\"figure.figsize\"] = 10, 8\n",
    "# plt.rcParams[\"font.size\"] = 10"
   ]
  },
  {
   "cell_type": "markdown",
   "id": "faa5a7df",
   "metadata": {},
   "source": [
    "-  <p style=\"font-size: 17px; color: black;\"> <b> Analysis parameters </b> </p>\n",
    "\n",
    " -  <p style=\"font-size: 17px; color: black;\"> <b> dark_rate: </b> Dark pulses rate. </p>\n",
    " -  <p style=\"font-size: 17px; color: black;\"> <b> x_talk: </b> Cross talk probability. </p>\n",
    " -  <p style=\"font-size: 17px; color: black;\"> <b> n_sensors: </b> Total number of sensors used. </p>\n",
    " "
   ]
  },
  {
   "cell_type": "code",
   "execution_count": 7,
   "id": "a68ca9ee",
   "metadata": {},
   "outputs": [],
   "source": [
    "dark25 = 2000 # [Kcps] (1Kcps = 1e3 dark pulses per second) DCR at 25ºC\n",
    "x_talk = 7 # [%] Probability of a dark count to be 2pe instead of 1pe\n",
    "n_sensors = 90 \n",
    "t_binning = 0.1 # [ns] Conversion constant from bin enumerations to nanoseconds (binning used in the simulation)\n",
    "dT = 5.3 # [ºC] Decay factor at which the dark rate halves"
   ]
  },
  {
   "cell_type": "markdown",
   "id": "e8b38a7d",
   "metadata": {},
   "source": [
    "<h1> __________________________ </h1>\n",
    "<h2> Data </h2>"
   ]
  },
  {
   "cell_type": "markdown",
   "id": "aba914e0",
   "metadata": {},
   "source": [
    "-  <p style=\"font-size: 17px; color: black;\"> <b> Reading the file </b> </p>"
   ]
  },
  {
   "cell_type": "markdown",
   "id": "fcbac72c",
   "metadata": {},
   "source": [
    "-  <p style=\"font-size: 17px; color: black;\"> File's path </p>"
   ]
  },
  {
   "cell_type": "code",
   "execution_count": 12,
   "id": "1ee61880",
   "metadata": {},
   "outputs": [],
   "source": [
    "path = '/home/investigator/mariandbt/python/data/'\n",
    "path = path + '/20230921_NEXT100_full_fiber_barrel'\n",
    "\n",
    "# path = '/home/investigator/mariandbt/nexus'\n",
    "\n",
    "# filename = os.path.join(path, \"Next100_full.next.h5\")\n",
    "filename = os.path.join(path, \"Next100_full_1event.next.h5\")\n",
    "# filename = os.path.join(path, \"Next100_full_noEL_100ev.next.h5\")\n"
   ]
  },
  {
   "cell_type": "markdown",
   "id": "c86e5025",
   "metadata": {},
   "source": [
    "-  <p style=\"font-size: 17px; color: black;\"> In a .h5 file there are several objects, so we print them all to then pick the one we're interested in </p>"
   ]
  },
  {
   "cell_type": "code",
   "execution_count": 13,
   "id": "3557f9c6",
   "metadata": {},
   "outputs": [
    {
     "name": "stdout",
     "output_type": "stream",
     "text": [
      "/home/investigator/mariandbt/python/data//20230921_NEXT100_full_fiber_barrel/Next100_full_1event.next.h5 (File) ''\n",
      "Last modif.: '2023-09-21T15:43:52+00:00'\n",
      "Object Tree: \n",
      "/ (RootGroup) ''\n",
      "/MC (Group) ''\n",
      "/MC/configuration (Table(38,)) ''\n",
      "/MC/hits (Table(63,)) ''\n",
      "/MC/particles (Table(2,)) ''\n",
      "/MC/sns_positions (Table(941,)) ''\n",
      "/MC/sns_response (Table(1355,)) ''\n",
      "\n"
     ]
    }
   ],
   "source": [
    "with tb.open_file(filename) as file:\n",
    "    print(file)"
   ]
  },
  {
   "cell_type": "markdown",
   "id": "a803c911",
   "metadata": {},
   "source": [
    "-  <p style=\"font-size: 17px; color: black;\"> Read the file and make a copy to work with, this way it's easier to re-start the copy instead of re-reading the file. </p>"
   ]
  },
  {
   "cell_type": "code",
   "execution_count": 14,
   "id": "f353a737",
   "metadata": {},
   "outputs": [],
   "source": [
    "# %%timeit # WITH THIS YOU'RE ONLY TIMING, BUT IT DOESN'T REALLY RUN THE COMMANDS YOU TIME\n",
    "# data = pd.read_hdf(filename, \"/MC/particles\")\n",
    "# data = pd.read_hdf(filename, \"/MC/sns_positions\")\n",
    "data = pd.read_hdf(filename, \"/MC/sns_response\")\n",
    "# data = pd.read_hdf(filename, \"/MC/hits\")\n",
    "# dst = pd.read_hdf(filename, \"/MC/hits\").groupby(\"event_id\").get_group(event_id)"
   ]
  },
  {
   "cell_type": "code",
   "execution_count": 15,
   "id": "3e3460fd",
   "metadata": {},
   "outputs": [],
   "source": [
    "dst = data.copy()"
   ]
  },
  {
   "cell_type": "code",
   "execution_count": 16,
   "id": "b2aee636",
   "metadata": {},
   "outputs": [],
   "source": [
    "dst.time_bin = dst.time_bin*t_binning # change units to ns"
   ]
  },
  {
   "cell_type": "code",
   "execution_count": 17,
   "id": "e8dd84b8",
   "metadata": {},
   "outputs": [
    {
     "data": {
      "text/plain": [
       "(array([ 3112,  3108,  3079,  3110,  3150,  3133,  3085,  3096,  3138,\n",
       "         3149,  3099,  3115,  3114,  3129,  3158,  3102,  3155,  3136,\n",
       "         3084,  3109,  3100,  3123,  3092,  3101,  3167,  3162,  3139,\n",
       "         3104,  3134,  3140,  3122,  3152,  3098,  3137,  3135,  3088,\n",
       "         3094,  3163,  3083,  3144,  3143,  3093,  3145,  3127,  3157,\n",
       "         3132,  3087,  3130,  3141,  3124,  3159,  3142,  3154,  3160,\n",
       "         3121,  3125,  3120,  3106,  3097,  3081,  3148,  3165,  3164,\n",
       "         3107,  3103,  3131,  3118,  3080,  3161,  3090,  3086,  3147,\n",
       "         3151,  3117,  3082,  3126,  3116,    34,     1,     0,     4,\n",
       "           29,    53, 40004, 50040, 17044, 34028, 21033, 28013, 17018,\n",
       "        47020, 17027, 52000, 17054, 55014, 17035, 14008, 31038, 17037,\n",
       "        41018, 22045, 32000, 15063, 30014, 14039, 39013, 17050, 50025,\n",
       "        27041, 42016, 17034, 24047, 36033, 17013,  6055,  3040, 30061,\n",
       "        35013, 27020, 17036, 26002, 47052, 35011, 17062, 52007, 49023,\n",
       "        34049, 50018, 26061, 17030, 46059, 21052, 28032, 20008, 24017,\n",
       "        24023, 17002, 17043, 35023, 17042, 17047, 37054, 53015, 21036,\n",
       "        27013, 21034, 34002, 17028, 39048, 34009, 51032, 25010, 30015,\n",
       "        18008, 25011, 10022, 47040, 11010, 13038, 20062, 48031, 17055,\n",
       "        27030, 17024, 30053,  4055, 17026, 21061, 16034, 45012, 15049,\n",
       "        36009, 17045,  7012, 24009, 17015, 17029, 26012, 54005, 22011,\n",
       "        17033, 17051, 17058, 56011, 17053,  5057, 18045, 50043, 33004,\n",
       "        12059, 42032, 38013, 43063, 16001, 30035, 51010, 43006,  3061,\n",
       "        30017, 27040, 17025, 43053, 38017, 12024, 25003, 36037, 50038,\n",
       "        47021, 36052, 35062,  3058, 54020, 42052, 46044, 25014, 36045,\n",
       "        48003, 32046, 31049, 48009, 17048, 16037, 13012, 49019, 38044,\n",
       "        16029, 17020, 17059, 26009,  3049, 23021, 17052,  9044, 16000,\n",
       "         4062, 54023, 40020, 11024, 17019, 46035, 49001, 19007, 19044,\n",
       "        24058,  9004, 49047, 45029, 17049,  1062, 11042, 42013, 52021,\n",
       "        33003, 52022, 21003, 16019, 18020, 17007, 28026, 41011,  9058,\n",
       "        17041, 39063, 27057, 22059,  3023, 18048, 48014, 17060, 39053,\n",
       "        11002, 39022, 17040, 33009, 27032, 27034, 19001,  9010, 41035,\n",
       "        41053, 12048, 53002, 18021, 13003,  7004, 39033,  6038, 15041,\n",
       "        32055, 39062, 17012, 25024,  6054, 54041, 11023, 17038, 19017,\n",
       "        40047, 20001, 28062, 17021, 49024, 31027, 17046,  9030, 39058,\n",
       "        33044,  9005,  7020, 17011, 41020, 17031, 10003,  2050, 21044,\n",
       "        44017, 56024,  7052, 24046, 18024, 41046, 23025,  7058, 49005,\n",
       "        39014, 41001,  2029, 42053, 36026, 35054, 48038,  8008, 35024,\n",
       "        10047, 17061, 49046,  9054, 17003,  9040, 37012, 55022, 38032,\n",
       "        25038,  9041, 50034, 45054,  2025, 25001, 42007, 35019,  8058,\n",
       "        49017, 16046, 56001, 31000, 25039, 25009, 38026, 56000, 13036,\n",
       "        54001,  6047, 30003, 10043,  9063, 10013, 24024, 23053, 44002,\n",
       "        15012, 53037, 14002, 35010, 26025, 26000, 21062, 37026, 10042,\n",
       "        30033, 33053, 13019, 14054, 26024, 26041,  4039, 26037, 11041,\n",
       "        19059, 48016, 46020, 14013,  7025, 53049, 22000, 25059, 44048,\n",
       "        17016, 17022, 25007,  2030, 15038, 54014, 10011, 49056, 11044,\n",
       "        29043, 47044, 55041, 25019, 36028, 50045, 31056, 16056, 35003,\n",
       "        27006, 44043, 25012,  3030,  8022, 15058, 16061, 10014, 35030,\n",
       "        23014, 24005, 14041, 10051,  8010, 29031, 17014, 15040,  8048,\n",
       "        23058, 47028, 22003, 33035, 43032, 11053, 47022, 55033, 25028,\n",
       "        41060, 31020, 47045, 15003,  9062, 42039, 53006, 14038, 38021,\n",
       "        32023, 21042, 56005, 10021, 42002, 25005, 55028, 43051, 50029,\n",
       "        16007,  6044,  7027, 19054,  9016, 10016,  8020, 34037,  8011,\n",
       "        45020, 53013, 36055, 38059, 26020, 24027, 16062,  4016,  6042,\n",
       "        28012, 19055, 32053, 38043, 41043, 31011, 40063, 43026, 28036,\n",
       "        34000, 43014, 23008, 10000, 54024, 10055, 44035, 18042, 24041,\n",
       "         2045, 18033, 19021, 14057, 11006,  8044, 36010,  8013, 22019,\n",
       "        25002, 54021, 46048,  8035, 10002, 52020, 26043, 40061, 10036,\n",
       "        36002, 29042, 17056,  3038, 35031, 49006, 39051, 22034, 47054,\n",
       "        31024, 33018,  9035, 23055, 30041, 53010, 33054, 10017, 10052,\n",
       "         9017, 30025, 35057, 31017,  8052, 23037, 27028, 32038, 14004,\n",
       "        42026, 47034,  3005, 31057, 11027, 16055, 16017, 31062, 41057,\n",
       "        13007, 44056, 24038, 30028, 11063, 37004, 47029, 25006, 56018,\n",
       "        46008, 18032, 42017, 11060, 38027, 37001, 17032, 38019, 30018,\n",
       "        20026, 46002, 16009, 48034, 42047, 14003, 18053, 39009, 26057,\n",
       "        19010, 32016, 41017, 20010, 20061, 11021, 22005, 42062, 54048,\n",
       "        23045, 18006, 55000, 22040, 15062, 38060,  5061, 15046, 36046,\n",
       "        27018,  8017, 19009, 38042,  2042, 10035, 40049, 30049, 16053,\n",
       "        56032,  1055, 49038, 14051, 35056, 55024, 43061, 44012, 54052,\n",
       "        24060, 35021, 32057, 30023, 48056,  3036, 14021, 10019,  6023,\n",
       "        25030, 39004, 37030, 41042, 33040, 46036, 35050, 29006, 17017,\n",
       "        18061, 36024, 41012, 43046, 16049, 10018, 46057, 39049,  9020,\n",
       "        21011, 16002, 12040, 10034, 42042, 14032, 29003, 35047, 34017,\n",
       "        19016, 41061, 30009, 48013, 42030,  7060, 34051,  3039, 28016,\n",
       "        32050, 21053, 47019, 35032, 24059, 18035, 32030, 14014,  1051,\n",
       "        29001, 37023, 16006, 43027, 42051, 22044,  2026, 23039, 23029,\n",
       "        23052,  3035, 53004, 15051, 10001, 31037, 51011,  5059, 43038,\n",
       "        29014, 51042, 24045, 39055, 54036, 49033, 33026, 11058, 24003,\n",
       "        25004, 27019,  6052, 29013, 15019, 46045, 32012,  8036, 13060,\n",
       "        45022, 25057, 27036, 23016, 11050, 16004,  8057, 23020, 32010,\n",
       "        32007, 51035, 43002, 16054, 21038, 56019, 19031, 10060, 17005,\n",
       "         2018, 20036,  9049, 28043, 15030, 51033, 53005, 19063,  6036,\n",
       "        20059, 25029,  3011, 18058, 23031, 40021, 38039, 39039,  7048,\n",
       "        16030, 42054, 34029, 17063, 26062, 16033, 36003,  6045,  1027,\n",
       "        51036,  4044, 32015, 37053, 29020, 43043, 19005, 16022, 24000,\n",
       "        46051, 25048, 24010, 42003, 49011, 39036, 13031, 41051, 28019,\n",
       "        11062,  7023, 42045, 25032, 45021, 48059, 34034, 27054, 42063,\n",
       "        48057,  4017, 52002, 25047, 34059, 47053, 48046, 35005, 19061,\n",
       "        45038, 22058, 28030, 31016, 25013, 13034, 26010, 19011, 26013,\n",
       "        17009, 22047, 47005,  8043, 21006, 49018,  4040, 47042, 13021,\n",
       "        12017, 48020, 56029, 34062, 37014, 19056,  6051, 21027, 16052,\n",
       "        11038, 32056, 21010, 10048, 16063, 18038, 36011, 33042, 42038,\n",
       "        46010, 13006, 46041, 27033, 41045, 39045, 22007, 41027, 16060,\n",
       "        33020, 26017, 36056, 49045, 43025, 17010, 37020,  5062, 32006,\n",
       "        36042, 55005, 46062, 23027,  8032, 18030, 48000, 16025, 15010,\n",
       "        23040, 30013, 16003, 11008, 38001, 28052, 32018, 14055, 24049,\n",
       "        42004, 32061,  3018, 17006, 41003, 27058, 32062, 50051, 37022,\n",
       "        14007, 47014,  8049, 11035, 30054,  4038,  5053,  4050, 10030,\n",
       "        10004, 11012, 21023, 49058,  2036, 37039,  7001, 41019, 51020,\n",
       "        30063, 21050, 46004, 52038,  1024, 33052, 22029, 19046, 11020,\n",
       "        49000, 18022, 36051,  4024, 18000, 49027, 31028, 36057, 26032,\n",
       "        42035, 32054, 33046,  6031,  3019, 33059, 20012, 10057, 42000,\n",
       "         3053, 25043, 15006, 22048, 22016, 30020, 37002, 20040, 47062,\n",
       "        21029, 23038, 16008,  4057, 28023,  9027, 20043, 22028, 21054,\n",
       "        24011, 46049, 38047,  7053, 41044, 21020, 33015, 11056, 48010,\n",
       "        54032, 39041, 53019, 20058, 23056], dtype=uint32),\n",
       " 941)"
      ]
     },
     "execution_count": 17,
     "metadata": {},
     "output_type": "execute_result"
    }
   ],
   "source": [
    "# dst.final_volume.unique() \n",
    "# dst.initial_volume.unique()\n",
    "# dst.particle_name.unique()\n",
    "dst.sensor_id.unique(), len(dst.sensor_id.unique())"
   ]
  },
  {
   "cell_type": "code",
   "execution_count": 18,
   "id": "92dbd590",
   "metadata": {},
   "outputs": [
    {
     "data": {
      "text/plain": [
       "(array([ 1,  3,  5,  8, 10,  4,  2,  7,  6, 14,  9, 17, 12, 11],\n",
       "       dtype=uint32),\n",
       " 14)"
      ]
     },
     "execution_count": 18,
     "metadata": {},
     "output_type": "execute_result"
    }
   ],
   "source": [
    "dst.time_bin.unique(), len(dst.time_bin.unique())\n",
    "dst.charge.unique(), len(dst.charge.unique())\n"
   ]
  },
  {
   "cell_type": "code",
   "execution_count": 19,
   "id": "a78e176e",
   "metadata": {},
   "outputs": [
    {
     "data": {
      "text/html": [
       "<div>\n",
       "<style scoped>\n",
       "    .dataframe tbody tr th:only-of-type {\n",
       "        vertical-align: middle;\n",
       "    }\n",
       "\n",
       "    .dataframe tbody tr th {\n",
       "        vertical-align: top;\n",
       "    }\n",
       "\n",
       "    .dataframe thead th {\n",
       "        text-align: right;\n",
       "    }\n",
       "</style>\n",
       "<table border=\"1\" class=\"dataframe\">\n",
       "  <thead>\n",
       "    <tr style=\"text-align: right;\">\n",
       "      <th></th>\n",
       "      <th>event_id</th>\n",
       "      <th>sensor_id</th>\n",
       "      <th>time_bin</th>\n",
       "      <th>charge</th>\n",
       "    </tr>\n",
       "  </thead>\n",
       "  <tbody>\n",
       "    <tr>\n",
       "      <th>0</th>\n",
       "      <td>0</td>\n",
       "      <td>3112</td>\n",
       "      <td>434262.6</td>\n",
       "      <td>1</td>\n",
       "    </tr>\n",
       "    <tr>\n",
       "      <th>1</th>\n",
       "      <td>0</td>\n",
       "      <td>3112</td>\n",
       "      <td>435405.8</td>\n",
       "      <td>1</td>\n",
       "    </tr>\n",
       "    <tr>\n",
       "      <th>2</th>\n",
       "      <td>0</td>\n",
       "      <td>3112</td>\n",
       "      <td>437290.2</td>\n",
       "      <td>1</td>\n",
       "    </tr>\n",
       "    <tr>\n",
       "      <th>3</th>\n",
       "      <td>0</td>\n",
       "      <td>3108</td>\n",
       "      <td>436894.5</td>\n",
       "      <td>1</td>\n",
       "    </tr>\n",
       "    <tr>\n",
       "      <th>4</th>\n",
       "      <td>0</td>\n",
       "      <td>3108</td>\n",
       "      <td>437437.2</td>\n",
       "      <td>1</td>\n",
       "    </tr>\n",
       "    <tr>\n",
       "      <th>5</th>\n",
       "      <td>0</td>\n",
       "      <td>3108</td>\n",
       "      <td>437488.5</td>\n",
       "      <td>1</td>\n",
       "    </tr>\n",
       "    <tr>\n",
       "      <th>6</th>\n",
       "      <td>0</td>\n",
       "      <td>3108</td>\n",
       "      <td>438066.7</td>\n",
       "      <td>1</td>\n",
       "    </tr>\n",
       "    <tr>\n",
       "      <th>7</th>\n",
       "      <td>0</td>\n",
       "      <td>3108</td>\n",
       "      <td>438067.2</td>\n",
       "      <td>1</td>\n",
       "    </tr>\n",
       "    <tr>\n",
       "      <th>8</th>\n",
       "      <td>0</td>\n",
       "      <td>3108</td>\n",
       "      <td>439753.7</td>\n",
       "      <td>1</td>\n",
       "    </tr>\n",
       "    <tr>\n",
       "      <th>9</th>\n",
       "      <td>0</td>\n",
       "      <td>3079</td>\n",
       "      <td>435796.2</td>\n",
       "      <td>1</td>\n",
       "    </tr>\n",
       "    <tr>\n",
       "      <th>...</th>\n",
       "      <td>...</td>\n",
       "      <td>...</td>\n",
       "      <td>...</td>\n",
       "      <td>...</td>\n",
       "    </tr>\n",
       "    <tr>\n",
       "      <th>1345</th>\n",
       "      <td>0</td>\n",
       "      <td>41044</td>\n",
       "      <td>43.5</td>\n",
       "      <td>1</td>\n",
       "    </tr>\n",
       "    <tr>\n",
       "      <th>1346</th>\n",
       "      <td>0</td>\n",
       "      <td>21020</td>\n",
       "      <td>43.7</td>\n",
       "      <td>1</td>\n",
       "    </tr>\n",
       "    <tr>\n",
       "      <th>1347</th>\n",
       "      <td>0</td>\n",
       "      <td>33015</td>\n",
       "      <td>43.6</td>\n",
       "      <td>1</td>\n",
       "    </tr>\n",
       "    <tr>\n",
       "      <th>1348</th>\n",
       "      <td>0</td>\n",
       "      <td>11056</td>\n",
       "      <td>44.1</td>\n",
       "      <td>1</td>\n",
       "    </tr>\n",
       "    <tr>\n",
       "      <th>1349</th>\n",
       "      <td>0</td>\n",
       "      <td>48010</td>\n",
       "      <td>43.8</td>\n",
       "      <td>1</td>\n",
       "    </tr>\n",
       "    <tr>\n",
       "      <th>1350</th>\n",
       "      <td>0</td>\n",
       "      <td>54032</td>\n",
       "      <td>43.5</td>\n",
       "      <td>1</td>\n",
       "    </tr>\n",
       "    <tr>\n",
       "      <th>1351</th>\n",
       "      <td>0</td>\n",
       "      <td>39041</td>\n",
       "      <td>43.2</td>\n",
       "      <td>1</td>\n",
       "    </tr>\n",
       "    <tr>\n",
       "      <th>1352</th>\n",
       "      <td>0</td>\n",
       "      <td>53019</td>\n",
       "      <td>43.5</td>\n",
       "      <td>1</td>\n",
       "    </tr>\n",
       "    <tr>\n",
       "      <th>1353</th>\n",
       "      <td>0</td>\n",
       "      <td>20058</td>\n",
       "      <td>43.8</td>\n",
       "      <td>1</td>\n",
       "    </tr>\n",
       "    <tr>\n",
       "      <th>1354</th>\n",
       "      <td>0</td>\n",
       "      <td>23056</td>\n",
       "      <td>43.6</td>\n",
       "      <td>1</td>\n",
       "    </tr>\n",
       "  </tbody>\n",
       "</table>\n",
       "<p>1355 rows × 4 columns</p>\n",
       "</div>"
      ],
      "text/plain": [
       "      event_id  sensor_id  time_bin  charge\n",
       "0            0       3112  434262.6       1\n",
       "1            0       3112  435405.8       1\n",
       "2            0       3112  437290.2       1\n",
       "3            0       3108  436894.5       1\n",
       "4            0       3108  437437.2       1\n",
       "5            0       3108  437488.5       1\n",
       "6            0       3108  438066.7       1\n",
       "7            0       3108  438067.2       1\n",
       "8            0       3108  439753.7       1\n",
       "9            0       3079  435796.2       1\n",
       "...        ...        ...       ...     ...\n",
       "1345         0      41044      43.5       1\n",
       "1346         0      21020      43.7       1\n",
       "1347         0      33015      43.6       1\n",
       "1348         0      11056      44.1       1\n",
       "1349         0      48010      43.8       1\n",
       "1350         0      54032      43.5       1\n",
       "1351         0      39041      43.2       1\n",
       "1352         0      53019      43.5       1\n",
       "1353         0      20058      43.8       1\n",
       "1354         0      23056      43.6       1\n",
       "\n",
       "[1355 rows x 4 columns]"
      ]
     },
     "execution_count": 19,
     "metadata": {},
     "output_type": "execute_result"
    }
   ],
   "source": [
    "# dst.loc[dst.final_volume.str.contains('SENS')]\n",
    "# dst.loc[(dst.initial_volume != 'WORLD') & (dst.primary == 0)]\n",
    "dst"
   ]
  },
  {
   "cell_type": "markdown",
   "id": "0afa1e25",
   "metadata": {},
   "source": [
    "-  <p style=\"font-size: 17px; color: black;\"> <b> Tests on the data: </b> We perform some tests on the dataset to check the simulation is valid. </p>"
   ]
  },
  {
   "cell_type": "markdown",
   "id": "d1639c8b",
   "metadata": {},
   "source": [
    "-  <p style=\"font-size: 17px; color: black;\"> Group the data by sensors. </p>"
   ]
  },
  {
   "cell_type": "code",
   "execution_count": 20,
   "id": "60cce18f",
   "metadata": {},
   "outputs": [
    {
     "data": {
      "text/plain": [
       "(1713, 1355)"
      ]
     },
     "execution_count": 20,
     "metadata": {},
     "output_type": "execute_result"
    }
   ],
   "source": [
    "dst.charge.sum(), len(dst.charge)"
   ]
  },
  {
   "cell_type": "code",
   "execution_count": 21,
   "id": "15e4f36d",
   "metadata": {},
   "outputs": [],
   "source": [
    "# g = dst.groupby(dst.sensor_id)\n",
    "g = dst.groupby(dst.event_id)\n"
   ]
  },
  {
   "cell_type": "code",
   "execution_count": 22,
   "id": "e95bd8e5",
   "metadata": {},
   "outputs": [],
   "source": [
    "# g.charge.sum()"
   ]
  },
  {
   "cell_type": "markdown",
   "id": "c394dca4",
   "metadata": {},
   "source": [
    "<h1> __________________________ </h1>\n",
    "<h2> Analysis </h2>"
   ]
  },
  {
   "cell_type": "code",
   "execution_count": 23,
   "id": "3bf6347e",
   "metadata": {},
   "outputs": [
    {
     "data": {
      "text/html": [
       "<div>\n",
       "<style scoped>\n",
       "    .dataframe tbody tr th:only-of-type {\n",
       "        vertical-align: middle;\n",
       "    }\n",
       "\n",
       "    .dataframe tbody tr th {\n",
       "        vertical-align: top;\n",
       "    }\n",
       "\n",
       "    .dataframe thead th {\n",
       "        text-align: right;\n",
       "    }\n",
       "</style>\n",
       "<table border=\"1\" class=\"dataframe\">\n",
       "  <thead>\n",
       "    <tr style=\"text-align: right;\">\n",
       "      <th></th>\n",
       "      <th>event_id</th>\n",
       "      <th>particle_id</th>\n",
       "      <th>particle_name</th>\n",
       "      <th>primary</th>\n",
       "      <th>mother_id</th>\n",
       "      <th>initial_x</th>\n",
       "      <th>initial_y</th>\n",
       "      <th>initial_z</th>\n",
       "      <th>initial_t</th>\n",
       "      <th>final_x</th>\n",
       "      <th>final_y</th>\n",
       "      <th>final_z</th>\n",
       "      <th>final_t</th>\n",
       "      <th>initial_volume</th>\n",
       "      <th>final_volume</th>\n",
       "      <th>initial_momentum_x</th>\n",
       "      <th>initial_momentum_y</th>\n",
       "      <th>initial_momentum_z</th>\n",
       "      <th>final_momentum_x</th>\n",
       "      <th>final_momentum_y</th>\n",
       "      <th>final_momentum_z</th>\n",
       "      <th>kin_energy</th>\n",
       "      <th>length</th>\n",
       "      <th>creator_proc</th>\n",
       "      <th>final_proc</th>\n",
       "    </tr>\n",
       "  </thead>\n",
       "  <tbody>\n",
       "    <tr>\n",
       "      <th>0</th>\n",
       "      <td>0</td>\n",
       "      <td>2</td>\n",
       "      <td>e-</td>\n",
       "      <td>1</td>\n",
       "      <td>0</td>\n",
       "      <td>-173.687256</td>\n",
       "      <td>60.26133</td>\n",
       "      <td>428.387695</td>\n",
       "      <td>0.0</td>\n",
       "      <td>-173.704376</td>\n",
       "      <td>60.282318</td>\n",
       "      <td>428.400085</td>\n",
       "      <td>0.001205</td>\n",
       "      <td>ACTIVE</td>\n",
       "      <td>ACTIVE</td>\n",
       "      <td>-0.072218</td>\n",
       "      <td>-0.059289</td>\n",
       "      <td>-0.030989</td>\n",
       "      <td>0.0</td>\n",
       "      <td>0.0</td>\n",
       "      <td>0.0</td>\n",
       "      <td>0.009396</td>\n",
       "      <td>0.087473</td>\n",
       "      <td>none</td>\n",
       "      <td>NoProcess</td>\n",
       "    </tr>\n",
       "    <tr>\n",
       "      <th>1</th>\n",
       "      <td>0</td>\n",
       "      <td>1</td>\n",
       "      <td>e-</td>\n",
       "      <td>1</td>\n",
       "      <td>0</td>\n",
       "      <td>-173.687256</td>\n",
       "      <td>60.26133</td>\n",
       "      <td>428.387695</td>\n",
       "      <td>0.0</td>\n",
       "      <td>-173.519302</td>\n",
       "      <td>60.020336</td>\n",
       "      <td>428.400818</td>\n",
       "      <td>0.007955</td>\n",
       "      <td>ACTIVE</td>\n",
       "      <td>ACTIVE</td>\n",
       "      <td>-0.135644</td>\n",
       "      <td>-0.124305</td>\n",
       "      <td>0.006081</td>\n",
       "      <td>0.0</td>\n",
       "      <td>-0.0</td>\n",
       "      <td>-0.0</td>\n",
       "      <td>0.032147</td>\n",
       "      <td>0.706361</td>\n",
       "      <td>none</td>\n",
       "      <td>NoProcess</td>\n",
       "    </tr>\n",
       "  </tbody>\n",
       "</table>\n",
       "</div>"
      ],
      "text/plain": [
       "   event_id  particle_id particle_name  primary  mother_id   initial_x  \\\n",
       "0         0            2            e-        1          0 -173.687256   \n",
       "1         0            1            e-        1          0 -173.687256   \n",
       "\n",
       "   initial_y   initial_z  initial_t     final_x    final_y     final_z  \\\n",
       "0   60.26133  428.387695        0.0 -173.704376  60.282318  428.400085   \n",
       "1   60.26133  428.387695        0.0 -173.519302  60.020336  428.400818   \n",
       "\n",
       "    final_t initial_volume final_volume  initial_momentum_x  \\\n",
       "0  0.001205         ACTIVE       ACTIVE           -0.072218   \n",
       "1  0.007955         ACTIVE       ACTIVE           -0.135644   \n",
       "\n",
       "   initial_momentum_y  initial_momentum_z  final_momentum_x  final_momentum_y  \\\n",
       "0           -0.059289           -0.030989               0.0               0.0   \n",
       "1           -0.124305            0.006081               0.0              -0.0   \n",
       "\n",
       "   final_momentum_z  kin_energy    length creator_proc final_proc  \n",
       "0               0.0    0.009396  0.087473         none  NoProcess  \n",
       "1              -0.0    0.032147  0.706361         none  NoProcess  "
      ]
     },
     "execution_count": 23,
     "metadata": {},
     "output_type": "execute_result"
    }
   ],
   "source": [
    "particle_dst = pd.read_hdf(filename, \"/MC/particles\")\n",
    "particle_dst"
   ]
  },
  {
   "cell_type": "markdown",
   "id": "1770c3d4",
   "metadata": {},
   "source": [
    "<h2> Charge distribution in an event. </h2>"
   ]
  },
  {
   "cell_type": "markdown",
   "id": "f2eedc3c",
   "metadata": {},
   "source": [
    "-  <p style=\"font-size: 17px; color: black;\"> 1 event </p>"
   ]
  },
  {
   "cell_type": "code",
   "execution_count": null,
   "id": "4cc40aac",
   "metadata": {},
   "outputs": [],
   "source": [
    "ev = 3"
   ]
  },
  {
   "cell_type": "code",
   "execution_count": null,
   "id": "66b351eb",
   "metadata": {},
   "outputs": [],
   "source": [
    "wvf = dst.groupby(dst.event_id).get_group(ev)"
   ]
  },
  {
   "cell_type": "code",
   "execution_count": null,
   "id": "f7742dc3",
   "metadata": {},
   "outputs": [],
   "source": [
    "# wvf.groupby(wvf.sensor_id).get_group(3163)\n",
    "wvf"
   ]
  },
  {
   "cell_type": "markdown",
   "id": "7c461520",
   "metadata": {},
   "source": [
    "-  <p style=\"font-size: 17px; color: black;\"> All events </p>"
   ]
  },
  {
   "cell_type": "code",
   "execution_count": null,
   "id": "0a8fb786",
   "metadata": {},
   "outputs": [],
   "source": [
    "n_events = dst.event_id.max() + 1"
   ]
  },
  {
   "cell_type": "code",
   "execution_count": null,
   "id": "a2daf764",
   "metadata": {},
   "outputs": [],
   "source": [
    "# for ev, ev_group in dst.groupby(dst.event_id):\n",
    "#     for sens, sens_group in ev_group.groupby(ev_group.sensor_id):\n",
    "        \n",
    "#         Introduce here a np.hist() for each sensor in each event and obtain the corresponding info\n",
    "        \n",
    "        "
   ]
  },
  {
   "cell_type": "code",
   "execution_count": null,
   "id": "b45515de",
   "metadata": {},
   "outputs": [],
   "source": [
    "# len(time_bin), len(np.unique(time_bin))"
   ]
  },
  {
   "cell_type": "code",
   "execution_count": null,
   "id": "74a82ffd",
   "metadata": {},
   "outputs": [],
   "source": [
    "# time_bin"
   ]
  },
  {
   "cell_type": "code",
   "execution_count": null,
   "id": "176832a1",
   "metadata": {},
   "outputs": [],
   "source": [
    "fig, ax = plt.subplots(nrows = 1, ncols = 1, figsize=(5,5), constrained_layout=True)\n",
    "\n",
    "n_bins = 100\n",
    "font_size = 8.5\n",
    "\n",
    "events, bins, bars = ax.hist(dst.time_bin, n_bins, \n",
    "                             weights = dst.charge/n_events,\n",
    "                             density=False,\n",
    "                             range=(-1*(dst.time_bin.max()), dst.time_bin.max()),\n",
    "                             label='Charge distribution \\nnormalized to 1 event \\n($N_{events}$ = %s)'%(n_events), \n",
    "                             histtype='step')\n",
    "\n",
    "ax.text(0.75, .85, r'$N_{bins}$ = ' + str(n_bins), transform = ax.transAxes,\n",
    "        fontsize = font_size, verticalalignment = 'top', fontfamily = 'serif',\n",
    "        bbox = dict(facecolor='1.', edgecolor = 'none', pad = 3.0))\n",
    "\n",
    "ax.set_ylabel('Charge [e]')\n",
    "ax.set_xlabel('Time bin [ns]')\n",
    "ax.legend(fontsize = font_size);\n"
   ]
  },
  {
   "cell_type": "code",
   "execution_count": null,
   "id": "d491efa7",
   "metadata": {},
   "outputs": [],
   "source": [
    "events.sum()"
   ]
  },
  {
   "cell_type": "markdown",
   "id": "e77d2202",
   "metadata": {},
   "source": [
    "<h2> Add dark counts. </h2>"
   ]
  },
  {
   "cell_type": "markdown",
   "id": "d1d1e26a",
   "metadata": {},
   "source": [
    "-  <p style=\"font-size: 17px; color: black;\"> Create the noise at 25ºC </p>"
   ]
  },
  {
   "cell_type": "code",
   "execution_count": null,
   "id": "70cfb950",
   "metadata": {},
   "outputs": [],
   "source": [
    "dt = 1e-6 # [s] = 1us\n",
    "dt = 10*1e-6 # [s] = 1us\n"
   ]
  },
  {
   "cell_type": "code",
   "execution_count": null,
   "id": "4f32a759",
   "metadata": {},
   "outputs": [],
   "source": [
    "tf = dst.time_bin.max()*1e-9 # [s]\n",
    "t0 = -1*tf # [s]\n",
    "n_bins = (tf - t0)/dt"
   ]
  },
  {
   "cell_type": "code",
   "execution_count": null,
   "id": "14bef172",
   "metadata": {},
   "outputs": [],
   "source": [
    "n_1pe, n_2pe = noise(dark25, x_talk, t0, tf, dt, n_sensors)\n",
    "\n",
    "print('We have %s 1pe dark pulses and %s 2pe dark pulses'%(n_1pe, n_2pe))"
   ]
  },
  {
   "cell_type": "code",
   "execution_count": null,
   "id": "90492adc",
   "metadata": {},
   "outputs": [],
   "source": [
    "noise_1pe = np.random.randint(t0*1e9, tf*1e9, n_1pe) # [ns]\n",
    "noise_2pe = np.random.randint(t0*1e9, tf*1e9, n_2pe) # [ns]\n",
    "\n",
    "t_noise = np.concatenate((noise_1pe, noise_2pe))\n",
    "c_noise = np.concatenate((1*np.ones(n_1pe), 2*np.ones(n_2pe)))"
   ]
  },
  {
   "cell_type": "code",
   "execution_count": null,
   "id": "fdd6b21b",
   "metadata": {},
   "outputs": [],
   "source": [
    "t_signal = np.asarray(dst.time_bin)\n",
    "c_signal = np.asarray(dst.charge)"
   ]
  },
  {
   "cell_type": "code",
   "execution_count": null,
   "id": "3ca15387",
   "metadata": {},
   "outputs": [],
   "source": [
    "tt = np.concatenate((t_signal, t_noise))\n",
    "cc = np.concatenate((c_signal/n_events, c_noise))"
   ]
  },
  {
   "cell_type": "code",
   "execution_count": null,
   "id": "03ec9ab4",
   "metadata": {},
   "outputs": [],
   "source": [
    "fig, ax = plt.subplots(nrows = 1, ncols = 1, figsize=(5,5), constrained_layout=True)\n",
    "\n",
    "font_size = 8.5\n",
    "\n",
    "\n",
    "t_low = -1*(tt.max())\n",
    "t_up = tt.max()\n",
    "\n",
    "#     dt = (t_up - t_low)*1e-9/n_bins # [s]\n",
    "n_bins = int((t_up - t_low)*1e-9/dt) + 1\n",
    "\n",
    "# \"Data\"\n",
    "events, bins, bars = ax.hist(tt, n_bins, \n",
    "                             weights = cc,  # only part of it has to be normalized (signal part)\n",
    "                             density=False,\n",
    "                             range=(t_low, t_up),\n",
    "                             label='Charge distribution \\nnormalized to 1 event \\n(%i events simulated)'%(n_events), \n",
    "                             histtype='step')\n",
    "\n",
    "\n",
    "# Signal\n",
    "s_events, s_bins, s_bars = ax.hist(t_signal, n_bins, \n",
    "                                   weights = c_signal/n_events,\n",
    "                                   density=False,\n",
    "                                   range=(t_low, t_up),\n",
    "                                   label='Signal ($N_{pulses}$ = %i)'%((c_signal/n_events).sum()), \n",
    "                                   alpha = 1,\n",
    "                                   histtype='stepfilled')\n",
    "\n",
    "\n",
    "# Noise\n",
    "bkg_events, bkg_bins, bkg_bars = ax.hist(t_noise, n_bins, \n",
    "                                         weights = c_noise, # noise is already normalized\n",
    "                                         density=False,\n",
    "                                         range=(t_low, t_up),\n",
    "                                         label='Noise ($N_{pulses}$ = %i)'%(c_noise.sum()), \n",
    "                                         alpha = 0.5,\n",
    "                                         histtype='stepfilled')\n",
    "\n",
    "\n",
    "ax.text(0.1, .7, '$N_{bins}$ = %s \\ndt = %.1E [s]'%(n_bins, dt), transform = ax.transAxes,\n",
    "        fontsize = font_size, verticalalignment = 'top', #fontfamily = 'serif',\n",
    "        bbox = dict(facecolor='1.', edgecolor = 'none', pad = 1., alpha = 0.))\n",
    "\n",
    "ax.set_ylabel('Charge [e]')\n",
    "ax.set_xlabel('Time bin [ns]')\n",
    "ax.legend(fontsize = font_size, loc = 'upper left');\n",
    "\n",
    "print('Total events = %i = %i (signal) + %i (bkg) = %i'%(s_events.sum() + bkg_events.sum(), \n",
    "                                                         s_events.sum(), bkg_events.sum(), \n",
    "                                                         events.sum()))\n"
   ]
  },
  {
   "cell_type": "code",
   "execution_count": null,
   "id": "bd380db2",
   "metadata": {},
   "outputs": [],
   "source": [
    "events.mean()"
   ]
  },
  {
   "cell_type": "code",
   "execution_count": null,
   "id": "42da7b1b",
   "metadata": {
    "scrolled": false
   },
   "outputs": [],
   "source": [
    "font_size = 8.5\n",
    "\n",
    "# for n_bins in [200, 150, 100, 70, 50, 20, 10, 5]:\n",
    "for dt in [1e-4, 5e-5, 1e-5, 1e-6, 0.5e-6, 0.25e-6]:\n",
    "    \n",
    "    fig, ax = plt.subplots(nrows = 1, ncols = 1, figsize=(5,5), constrained_layout=True)\n",
    "\n",
    "    t_low = -1*(tt.max())\n",
    "    t_up = tt.max()\n",
    "\n",
    "#     dt = (t_up - t_low)*1e-9/n_bins # [s]\n",
    "    n_bins = int((t_up - t_low)*1e-9/dt) + 1\n",
    "\n",
    "    # \"Data\"\n",
    "    events, bins, bars = ax.hist(tt, n_bins, \n",
    "                                 weights = cc,  # only part of it has to be normalized (signal part)\n",
    "                                 density=False,\n",
    "                                 range=(t_low, t_up),\n",
    "                                 label='Charge distribution \\nnormalized to 1 event \\n(%i events simulated)'%(n_events), \n",
    "                                 histtype='step')\n",
    "\n",
    "\n",
    "    # Signal\n",
    "    s_events, s_bins, s_bars = ax.hist(t_signal, n_bins, \n",
    "                                       weights = c_signal/n_events,\n",
    "                                       density=False,\n",
    "                                       range=(t_low, t_up),\n",
    "                                       label='Signal ($N_{pulses}$ = %i)'%((c_signal/n_events).sum()), \n",
    "                                       alpha = 1,\n",
    "                                       histtype='stepfilled')\n",
    "\n",
    "\n",
    "    # Noise\n",
    "    bkg_events, bkg_bins, bkg_bars = ax.hist(t_noise, n_bins, \n",
    "                                             weights = c_noise, # noise is already normalized\n",
    "                                             density=False,\n",
    "                                             range=(t_low, t_up),\n",
    "                                             label='Noise ($N_{pulses}$ = %i)'%(c_noise.sum()), \n",
    "                                             alpha = 0.5,\n",
    "                                             histtype='stepfilled')\n",
    "\n",
    "\n",
    "    ax.text(0.1, .7, \n",
    "            '$N_{bins}$ = %s \\ndt = %.1E [s] \\nEvents/$\\mu$s/sens = %.2f'%(n_bins, dt, events.mean()*1e-6/dt/n_sensors), \n",
    "            transform = ax.transAxes,\n",
    "            fontsize = font_size, verticalalignment = 'top', #fontfamily = 'serif',\n",
    "            bbox = dict(facecolor='1.', edgecolor = 'none', pad = 1., alpha = 0.))\n",
    "\n",
    "    ax.set_ylabel('Charge [e]')\n",
    "    ax.set_xlabel('Time bin [ns]')\n",
    "    ax.legend(fontsize = font_size, loc = 'upper left');\n",
    "\n",
    "    print('Total events = %i = %i (signal) + %i (bkg) = %i'%(s_events.sum() + bkg_events.sum(), \n",
    "                                                             s_events.sum(), bkg_events.sum(), \n",
    "                                                             events.sum()))\n",
    "    \n"
   ]
  },
  {
   "cell_type": "markdown",
   "id": "3707fcc8",
   "metadata": {},
   "source": [
    "-  <p style=\"font-size: 17px; color: black;\"> Create the noise at different ºC </p>"
   ]
  },
  {
   "cell_type": "code",
   "execution_count": null,
   "id": "b7e0f137",
   "metadata": {},
   "outputs": [],
   "source": [
    "dt = 1e-6 # [s] = 1us"
   ]
  },
  {
   "cell_type": "code",
   "execution_count": null,
   "id": "e8316a34",
   "metadata": {},
   "outputs": [],
   "source": [
    "tf = dst.time_bin.max()*1e-9 # [s]\n",
    "t0 = -1*tf # [s]\n",
    "n_bins = (tf - t0)/dt"
   ]
  },
  {
   "cell_type": "code",
   "execution_count": null,
   "id": "d071ecc8",
   "metadata": {},
   "outputs": [],
   "source": [
    "# temp = 20"
   ]
  },
  {
   "cell_type": "code",
   "execution_count": null,
   "id": "10b43ff1",
   "metadata": {
    "scrolled": false
   },
   "outputs": [],
   "source": [
    "for temp in [25, 22.5, 20]:\n",
    "    \n",
    "    DCR = dark_rate(dark25, dT, temp)\n",
    "\n",
    "    n_1pe, n_2pe = noise(DCR, x_talk, t0, tf, dt, n_sensors)\n",
    "\n",
    "    print('We have %s 1pe dark pulses and %s 2pe dark pulses'%(n_1pe, n_2pe))\n",
    "\n",
    "    noise_1pe = np.random.randint(t0*1e9, tf*1e9, n_1pe) # [ns]\n",
    "    noise_2pe = np.random.randint(t0*1e9, tf*1e9, n_2pe) # [ns]\n",
    "\n",
    "    t_noise = np.concatenate((noise_1pe, noise_2pe))\n",
    "    c_noise = np.concatenate((1*np.ones(n_1pe), 2*np.ones(n_2pe)))\n",
    "\n",
    "    t_signal = np.asarray(dst.time_bin)\n",
    "    c_signal = np.asarray(dst.charge)\n",
    "\n",
    "    tt = np.concatenate((t_signal, t_noise))\n",
    "    cc = np.concatenate((c_signal/n_events, c_noise))\n",
    "\n",
    "\n",
    "    font_size = 8.5\n",
    "\n",
    "    # for n_bins in [200, 150, 100, 70, 50, 20, 10, 5]:\n",
    "    for dt in [1e-4, 1e-5, 1e-6, 0.5e-6, 0.25e-6]:\n",
    "\n",
    "        fig, ax = plt.subplots(nrows = 1, ncols = 1, figsize=(5,5), constrained_layout=True)\n",
    "\n",
    "        t_low = -1*(tt.max())\n",
    "        t_up = tt.max()\n",
    "\n",
    "    #     dt = (t_up - t_low)*1e-9/n_bins # [s]\n",
    "        n_bins = int((t_up - t_low)*1e-9/dt) + 1\n",
    "\n",
    "        # \"Data\"\n",
    "        events, bins, bars = ax.hist(tt, n_bins, \n",
    "                                     weights = cc,  # only part of it has to be normalized (signal part)\n",
    "                                     density=False,\n",
    "                                     range=(t_low, t_up),\n",
    "                                     label='Charge distribution \\nnormalized to 1 event \\n(%i events simulated)'%(n_events), \n",
    "                                     histtype='step')\n",
    "\n",
    "\n",
    "        # Signal\n",
    "        s_events, s_bins, s_bars = ax.hist(t_signal, n_bins, \n",
    "                                           weights = c_signal/n_events,\n",
    "                                           density=False,\n",
    "                                           range=(t_low, t_up),\n",
    "                                           label='Signal ($N_{pulses}$ = %i)'%((c_signal/n_events).sum()), \n",
    "                                           alpha = 1,\n",
    "                                           histtype='stepfilled')\n",
    "\n",
    "\n",
    "        # Noise\n",
    "        bkg_events, bkg_bins, bkg_bars = ax.hist(t_noise, n_bins, \n",
    "                                                 weights = c_noise, # noise is already normalized\n",
    "                                                 density=False,\n",
    "                                                 range=(t_low, t_up),\n",
    "                                                 label='Noise ($N_{pulses}$ = %i)'%(c_noise.sum()), \n",
    "                                                 alpha = 0.5,\n",
    "                                                 histtype='stepfilled')\n",
    "\n",
    "\n",
    "        ax.text(0.05, .7, \n",
    "                'DCR(%.2f ºC) = %.2f [Kcps]'%(temp, DCR), \n",
    "                transform = ax.transAxes,\n",
    "                fontsize = font_size, verticalalignment = 'top', #fontfamily = 'serif',\n",
    "                bbox = dict(facecolor='1.', edgecolor = 'none', pad = 1., alpha = 0.))\n",
    "\n",
    "\n",
    "        ax.text(0.05, .65, \n",
    "                '$N_{bins}$ = %s \\ndt = %.1E [s] \\nDCounts/$\\mu$s/sens = %.2f'%(n_bins, dt, bkg_events.mean()*1e-6/dt/n_sensors), \n",
    "                transform = ax.transAxes,\n",
    "                fontsize = font_size, verticalalignment = 'top', #fontfamily = 'serif',\n",
    "                bbox = dict(facecolor='1.', edgecolor = 'none', pad = 1., alpha = 0.))\n",
    "\n",
    "        ax.set_ylabel('Charge [e]')\n",
    "        ax.set_xlabel('Time bin [ns]')\n",
    "        ax.legend(fontsize = font_size, loc = 'upper left');\n",
    "\n",
    "        print('Total events = %i = %i (signal) + %i (bkg) = %i'%(s_events.sum() + bkg_events.sum(), \n",
    "                                                                 s_events.sum(), bkg_events.sum(), \n",
    "                                                                 events.sum()))\n",
    "\n"
   ]
  },
  {
   "cell_type": "code",
   "execution_count": null,
   "id": "720b8d2a",
   "metadata": {},
   "outputs": [],
   "source": []
  }
 ],
 "metadata": {
  "kernelspec": {
   "display_name": "Python 3 (ipykernel)",
   "language": "python",
   "name": "python3"
  },
  "language_info": {
   "codemirror_mode": {
    "name": "ipython",
    "version": 3
   },
   "file_extension": ".py",
   "mimetype": "text/x-python",
   "name": "python",
   "nbconvert_exporter": "python",
   "pygments_lexer": "ipython3",
   "version": "3.8.16"
  }
 },
 "nbformat": 4,
 "nbformat_minor": 5
}
