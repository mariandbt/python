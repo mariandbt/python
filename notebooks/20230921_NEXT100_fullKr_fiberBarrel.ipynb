{
 "cells": [
  {
   "cell_type": "markdown",
   "id": "f55cea8a",
   "metadata": {},
   "source": [
    "<h1> ______________________________________ </h1>\n",
    "\n",
    "<h1> Full NEXT100 with fiber panels and Kr38m decays simulation analysis </h1>\n",
    "<h1> ______________________________________ </h1>\n",
    "\n",
    "<p style=\"font-size: 17px; color: black;\"> In this Notebook we analyse the results from the 10000 MC Kr38m decay events simulated in a \"realistic\" fiber barrel to check if we're able to see the krypton signal with enough resolution. </p>\n",
    "\n",
    "\n"
   ]
  },
  {
   "cell_type": "markdown",
   "id": "0a6c28e7",
   "metadata": {},
   "source": [
    "<h1> ____________ </h1>\n",
    "<h2> This version </h2>\n",
    "<h1> ____________ </h1>\n",
    "\n",
    "-  <p style=\"font-size: 17px; color: black;\"> 100 events. </p>\n",
    "\n",
    "-  <p style=\"font-size: 17px; color: black;\"> Geant4 fundamental units: </p>\n",
    "\n",
    " -  <p style=\"font-size: 17px; color: black;\"> Length [L]: mm (milimeter) </p>\n",
    " -  <p style=\"font-size: 17px; color: black;\"> Time [T]: ns (nanosecond) </p>\n",
    " -  <p style=\"font-size: 17px; color: black;\"> Energy [E]: MeV (megaelectronvolt) </p>\n",
    "\n",
    "\n",
    "\n"
   ]
  },
  {
   "cell_type": "code",
   "execution_count": 1,
   "id": "19d793eb",
   "metadata": {},
   "outputs": [],
   "source": [
    "import numpy              as np\n",
    "import pandas             as pd\n",
    "\n",
    "import scipy              \n",
    "from scipy                import stats, integrate\n",
    "from scipy.signal         import convolve\n",
    "\n",
    "import matplotlib.pyplot  as plt\n",
    "\n",
    "from matplotlib.ticker    import FormatStrFormatter # to set the format of the plot's axis\n",
    "from matplotlib.patches   import Rectangle # To add blanck spaces in tabular legends\n",
    "\n",
    "import os\n",
    "import math\n",
    "import tables             as tb"
   ]
  },
  {
   "cell_type": "markdown",
   "id": "7ca48882",
   "metadata": {},
   "source": [
    "<h1> _________________________________________________________________________________________________________ </h1>\n"
   ]
  },
  {
   "cell_type": "markdown",
   "id": "85a2dfe0",
   "metadata": {},
   "source": [
    "<h1> __________________________ </h1>\n",
    "<h2> Functions </h2>\n",
    "\n",
    "-  <p style=\"font-size: 17px; color: black;\"> <b> gauss(x, a,  mu, sigma): </b> Gaussian normalized to $a$. </p>\n",
    "\n",
    "\n",
    "-  <p style=\"font-size: 17px; color: black;\"> <b> gauss_sum(x, a0,  mu0, sigma0, a1, mu1, sigma1): </b> Sum of 2 gaussians. </p>\n",
    "\n",
    "\n",
    "-  <p style=\"font-size: 17px; color: black;\"> <b> dirac(x, x0): </b> Dirac delta at $x0$. </p>\n",
    "\n",
    "\n"
   ]
  },
  {
   "cell_type": "code",
   "execution_count": 2,
   "id": "c057ab51",
   "metadata": {},
   "outputs": [],
   "source": [
    "# Fitting distributions to define\n",
    "\n",
    "# note: pdf are normilized to 1 so we have yo add an amplitude param\n",
    "def gauss(x, a,  mu, sigma):\n",
    "    \n",
    "    gaussian = stats.norm.pdf(np.sort(x), mu, sigma) \n",
    "    \n",
    "    return (a/gaussian.sum())*gaussian\n",
    "\n",
    "def gauss_sum(x, a0,  mu0, sigma0, a1, mu1, sigma1):\n",
    "    return a0*stats.norm.pdf(x, mu0, sigma0)  + a1*stats.norm.pdf(x, mu1, sigma1)\n",
    "\n",
    "def dirac(x, x0):\n",
    "    return np.where((x - x0) == 0, 1, 0)\n",
    "\n",
    "def EL_yield(E, p, d):\n",
    "    # E[kV/cm] electric field \n",
    "    # p[bar] pressure\n",
    "    # d[cm] average absorption depth\n",
    "    return (140*E/p - 116)*d*p # [photons/e⁻]\n"
   ]
  },
  {
   "cell_type": "code",
   "execution_count": 3,
   "id": "ef37153d",
   "metadata": {},
   "outputs": [],
   "source": [
    "def dark_rate(dark25, dT, T):\n",
    "    \n",
    "#     dark25[Kcps] Dark rate at 25ºC\n",
    "#     dT[ºC] Decay constant at which dark rate halves\n",
    "#     T[ºC] Temperature\n",
    "\n",
    "    exponent = (T - 25)/dT\n",
    "\n",
    "    dark_rate = dark25*(2**exponent)\n",
    "    \n",
    "    return dark_rate"
   ]
  },
  {
   "cell_type": "code",
   "execution_count": 4,
   "id": "0796d814",
   "metadata": {},
   "outputs": [],
   "source": [
    "def noise(dark_rate, x_talk, t0, tf, dt, n_sensors):\n",
    "    \n",
    "#     dark_rate[Kcps] Number of dark pulses per second\n",
    "#     x_talk[%] Cross talk probability (so the dark pulse is 2pe instead of 1pe)\n",
    "#     t0[s] Measurements STARTING time\n",
    "#     tf[s] Measurements ENDIND time\n",
    "#     dt[s] Width of the time bin\n",
    "\n",
    "    \"\"\"\n",
    "    Here we do it explained with all the steps, it can be done easier tho\n",
    "\n",
    "    n_bin = (tf - t0)/dt\n",
    "\n",
    "    pulse_rate = dark_rate*1e3*dt # probability of having a dark pulse in a bin\n",
    "    \n",
    "    pe1 = (1 - x_talk/100) # probability of that pulse being 1pe signal\n",
    "    pe2 = x_talk/100 # probability of that pulse being 2pe signal\n",
    "\n",
    "    n_1pe = int(pulse_rate*pe1*n_bin) # number of 1pe dark counts throughout measurement time in 1 sensor\n",
    "    n_2pe = int(pulse_rate*pe2*n_bin) # number of 2pe dark counts throughout measurement time in 1 sensor\n",
    "    \n",
    "    \"\"\";\n",
    "    \n",
    "    pe1 = (1 - x_talk/100) # probability of that pulse being 1pe signal\n",
    "    pe2 = x_talk/100 # probability of that pulse being 2pe signal\n",
    "        \n",
    "    n_1pe = dark_rate*1e3*(tf - t0)*pe1 # number of 1pe dark counts throughout measurement time in 1 sensor for 1 event\n",
    "    n_2pe = dark_rate*1e3*(tf - t0)*pe2 # number of 2pe dark counts throughout measurement time in 1 sensor for 1 event\n",
    "    \n",
    "    n_1pe = n_1pe*n_sensors # TOTAL number of 1pe dark counts throughout measurement time for all sensors for 1 event\n",
    "    n_2pe = n_2pe*n_sensors # TOTAL number of 2pe dark counts throughout measurement time for all sensors for 1 event\n",
    "\n",
    "    n_1pe = int(n_1pe)\n",
    "    n_2pe = int(n_2pe)\n",
    "    \n",
    "    return n_1pe, n_2pe"
   ]
  },
  {
   "cell_type": "markdown",
   "id": "5476af0e",
   "metadata": {},
   "source": [
    "<h1> __________________________ </h1>\n",
    "<h2> Global parameters </h2>"
   ]
  },
  {
   "cell_type": "markdown",
   "id": "40924491",
   "metadata": {},
   "source": [
    "-  <p style=\"font-size: 17px; color: black;\"> <b> Pandas dataset params: </b> Allows to set the max number of columns and rows that are shown in a pandas dataset. </p>"
   ]
  },
  {
   "cell_type": "code",
   "execution_count": 5,
   "id": "5562c609",
   "metadata": {},
   "outputs": [],
   "source": [
    "pd.set_option('display.max_columns', None)\n",
    "pd.set_option('display.max_rows', 100)\n",
    "pd.set_option('display.min_rows', 20)"
   ]
  },
  {
   "cell_type": "markdown",
   "id": "11e3df95",
   "metadata": {},
   "source": [
    "-  <p style=\"font-size: 17px; color: black;\"> <b> Plots params: </b> In case you want to fix the parameters for all plots. </p>"
   ]
  },
  {
   "cell_type": "code",
   "execution_count": 6,
   "id": "e9c3a83a",
   "metadata": {},
   "outputs": [],
   "source": [
    "# plt.rcParams[\"figure.figsize\"] = 10, 8\n",
    "# plt.rcParams[\"font.size\"] = 10"
   ]
  },
  {
   "cell_type": "markdown",
   "id": "faa5a7df",
   "metadata": {},
   "source": [
    "-  <p style=\"font-size: 17px; color: black;\"> <b> Analysis parameters </b> </p>\n",
    "\n",
    " -  <p style=\"font-size: 17px; color: black;\"> <b> dark_rate: </b> Dark pulses rate. </p>\n",
    " -  <p style=\"font-size: 17px; color: black;\"> <b> x_talk: </b> Cross talk probability. </p>\n",
    " -  <p style=\"font-size: 17px; color: black;\"> <b> n_sensors: </b> Total number of sensors used. </p>\n",
    " "
   ]
  },
  {
   "cell_type": "code",
   "execution_count": 7,
   "id": "a68ca9ee",
   "metadata": {},
   "outputs": [],
   "source": [
    "dark25 = 2000 # [Kcps] (1Kcps = 1e3 dark pulses per second) DCR at 25ºC\n",
    "x_talk = 7 # [%] Probability of a dark count to be 2pe instead of 1pe\n",
    "n_sensors = 90 \n",
    "t_binning = 0.1 # [ns] Conversion constant from bin enumerations to nanoseconds (binning used in the simulation)\n",
    "dT = 5.3 # [ºC] Decay factor at which the dark rate halves"
   ]
  },
  {
   "cell_type": "markdown",
   "id": "e8b38a7d",
   "metadata": {},
   "source": [
    "<h1> __________________________ </h1>\n",
    "<h2> Data </h2>"
   ]
  },
  {
   "cell_type": "markdown",
   "id": "aba914e0",
   "metadata": {},
   "source": [
    "-  <p style=\"font-size: 17px; color: black;\"> <b> Reading the file </b> </p>"
   ]
  },
  {
   "cell_type": "markdown",
   "id": "fcbac72c",
   "metadata": {},
   "source": [
    "-  <p style=\"font-size: 17px; color: black;\"> File's path </p>"
   ]
  },
  {
   "cell_type": "code",
   "execution_count": 8,
   "id": "1ee61880",
   "metadata": {},
   "outputs": [],
   "source": [
    "# path = '/home/investigator/mariandbt/python/data/'\n",
    "# path = path + '/20230921_NEXT100_full_fiber_barrel'\n",
    "\n",
    "path = '/home/investigator/mariandbt/nexus'\n",
    "\n",
    "filename = os.path.join(path, \"Next100_full.next.h5\")\n",
    "# filename = os.path.join(path, \"Next100_full_1event.next.h5\")\n",
    "# filename = os.path.join(path, \"Next100_full_noEL_100ev.next.h5\")\n",
    "# filename = os.path.join(path, \"Next100_full_noEL_100ev_sensName.next.h5\")\n",
    "# filename = os.path.join(path, \"Next100_full_noEL_20ev.next.h5\")\n"
   ]
  },
  {
   "cell_type": "markdown",
   "id": "c86e5025",
   "metadata": {},
   "source": [
    "-  <p style=\"font-size: 17px; color: black;\"> In a .h5 file there are several objects, so we print them all to then pick the one we're interested in </p>"
   ]
  },
  {
   "cell_type": "code",
   "execution_count": 9,
   "id": "3557f9c6",
   "metadata": {},
   "outputs": [
    {
     "ename": "HDF5ExtError",
     "evalue": "HDF5 error back trace\n\n  File \"H5F.c\", line 620, in H5Fopen\n    unable to open file\n  File \"H5VLcallback.c\", line 3502, in H5VL_file_open\n    failed to iterate over available VOL connector plugins\n  File \"H5PLpath.c\", line 579, in H5PL__path_table_iterate\n    can't iterate over plugins in plugin path '(null)'\n  File \"H5PLpath.c\", line 620, in H5PL__path_table_iterate_process_path\n    can't open directory: /home/investigator/miniconda/envs/IC-3.8-2022-04-13/lib/hdf5/plugin\n  File \"H5VLcallback.c\", line 3351, in H5VL__file_open\n    open failed\n  File \"H5VLnative_file.c\", line 97, in H5VL__native_file_open\n    unable to open file\n  File \"H5Fint.c\", line 1990, in H5F_open\n    unable to read superblock\n  File \"H5Fsuper.c\", line 617, in H5F__super_read\n    truncated file: eof = 96, sblock->base_addr = 0, stored_eof = 2048\n\nEnd of HDF5 error back trace\n\nUnable to open/create file '/home/investigator/mariandbt/nexus/Next100_full.next.h5'",
     "output_type": "error",
     "traceback": [
      "\u001b[0;31m---------------------------------------------------------------------------\u001b[0m",
      "\u001b[0;31mHDF5ExtError\u001b[0m                              Traceback (most recent call last)",
      "Input \u001b[0;32mIn [9]\u001b[0m, in \u001b[0;36m<cell line: 1>\u001b[0;34m()\u001b[0m\n\u001b[0;32m----> 1\u001b[0m \u001b[38;5;28;01mwith\u001b[39;00m \u001b[43mtb\u001b[49m\u001b[38;5;241;43m.\u001b[39;49m\u001b[43mopen_file\u001b[49m\u001b[43m(\u001b[49m\u001b[43mfilename\u001b[49m\u001b[43m)\u001b[49m \u001b[38;5;28;01mas\u001b[39;00m file:\n\u001b[1;32m      2\u001b[0m     \u001b[38;5;28mprint\u001b[39m(file)\n",
      "File \u001b[0;32m~/miniconda/envs/IC-3.8-2022-04-13/lib/python3.8/site-packages/tables/file.py:300\u001b[0m, in \u001b[0;36mopen_file\u001b[0;34m(filename, mode, title, root_uep, filters, **kwargs)\u001b[0m\n\u001b[1;32m    295\u001b[0m             \u001b[38;5;28;01mraise\u001b[39;00m \u001b[38;5;167;01mValueError\u001b[39;00m(\n\u001b[1;32m    296\u001b[0m                 \u001b[38;5;124m\"\u001b[39m\u001b[38;5;124mThe file \u001b[39m\u001b[38;5;124m'\u001b[39m\u001b[38;5;132;01m%s\u001b[39;00m\u001b[38;5;124m'\u001b[39m\u001b[38;5;124m is already opened.  Please \u001b[39m\u001b[38;5;124m\"\u001b[39m\n\u001b[1;32m    297\u001b[0m                 \u001b[38;5;124m\"\u001b[39m\u001b[38;5;124mclose it before reopening in write mode.\u001b[39m\u001b[38;5;124m\"\u001b[39m \u001b[38;5;241m%\u001b[39m filename)\n\u001b[1;32m    299\u001b[0m \u001b[38;5;66;03m# Finally, create the File instance, and return it\u001b[39;00m\n\u001b[0;32m--> 300\u001b[0m \u001b[38;5;28;01mreturn\u001b[39;00m \u001b[43mFile\u001b[49m\u001b[43m(\u001b[49m\u001b[43mfilename\u001b[49m\u001b[43m,\u001b[49m\u001b[43m \u001b[49m\u001b[43mmode\u001b[49m\u001b[43m,\u001b[49m\u001b[43m \u001b[49m\u001b[43mtitle\u001b[49m\u001b[43m,\u001b[49m\u001b[43m \u001b[49m\u001b[43mroot_uep\u001b[49m\u001b[43m,\u001b[49m\u001b[43m \u001b[49m\u001b[43mfilters\u001b[49m\u001b[43m,\u001b[49m\u001b[43m \u001b[49m\u001b[38;5;241;43m*\u001b[39;49m\u001b[38;5;241;43m*\u001b[39;49m\u001b[43mkwargs\u001b[49m\u001b[43m)\u001b[49m\n",
      "File \u001b[0;32m~/miniconda/envs/IC-3.8-2022-04-13/lib/python3.8/site-packages/tables/file.py:750\u001b[0m, in \u001b[0;36mFile.__init__\u001b[0;34m(self, filename, mode, title, root_uep, filters, **kwargs)\u001b[0m\n\u001b[1;32m    747\u001b[0m \u001b[38;5;28mself\u001b[39m\u001b[38;5;241m.\u001b[39mparams \u001b[38;5;241m=\u001b[39m params\n\u001b[1;32m    749\u001b[0m \u001b[38;5;66;03m# Now, it is time to initialize the File extension\u001b[39;00m\n\u001b[0;32m--> 750\u001b[0m \u001b[38;5;28;43mself\u001b[39;49m\u001b[38;5;241;43m.\u001b[39;49m\u001b[43m_g_new\u001b[49m\u001b[43m(\u001b[49m\u001b[43mfilename\u001b[49m\u001b[43m,\u001b[49m\u001b[43m \u001b[49m\u001b[43mmode\u001b[49m\u001b[43m,\u001b[49m\u001b[43m \u001b[49m\u001b[38;5;241;43m*\u001b[39;49m\u001b[38;5;241;43m*\u001b[39;49m\u001b[43mparams\u001b[49m\u001b[43m)\u001b[49m\n\u001b[1;32m    752\u001b[0m \u001b[38;5;66;03m# Check filters and set PyTables format version for new files.\u001b[39;00m\n\u001b[1;32m    753\u001b[0m new \u001b[38;5;241m=\u001b[39m \u001b[38;5;28mself\u001b[39m\u001b[38;5;241m.\u001b[39m_v_new\n",
      "File \u001b[0;32m~/miniconda/envs/IC-3.8-2022-04-13/lib/python3.8/site-packages/tables/hdf5extension.pyx:486\u001b[0m, in \u001b[0;36mtables.hdf5extension.File._g_new\u001b[0;34m()\u001b[0m\n",
      "\u001b[0;31mHDF5ExtError\u001b[0m: HDF5 error back trace\n\n  File \"H5F.c\", line 620, in H5Fopen\n    unable to open file\n  File \"H5VLcallback.c\", line 3502, in H5VL_file_open\n    failed to iterate over available VOL connector plugins\n  File \"H5PLpath.c\", line 579, in H5PL__path_table_iterate\n    can't iterate over plugins in plugin path '(null)'\n  File \"H5PLpath.c\", line 620, in H5PL__path_table_iterate_process_path\n    can't open directory: /home/investigator/miniconda/envs/IC-3.8-2022-04-13/lib/hdf5/plugin\n  File \"H5VLcallback.c\", line 3351, in H5VL__file_open\n    open failed\n  File \"H5VLnative_file.c\", line 97, in H5VL__native_file_open\n    unable to open file\n  File \"H5Fint.c\", line 1990, in H5F_open\n    unable to read superblock\n  File \"H5Fsuper.c\", line 617, in H5F__super_read\n    truncated file: eof = 96, sblock->base_addr = 0, stored_eof = 2048\n\nEnd of HDF5 error back trace\n\nUnable to open/create file '/home/investigator/mariandbt/nexus/Next100_full.next.h5'"
     ]
    }
   ],
   "source": [
    "with tb.open_file(filename) as file:\n",
    "    print(file)"
   ]
  },
  {
   "cell_type": "markdown",
   "id": "a803c911",
   "metadata": {},
   "source": [
    "-  <p style=\"font-size: 17px; color: black;\"> Read the file and make a copy to work with, this way it's easier to re-start the copy instead of re-reading the file. </p>"
   ]
  },
  {
   "cell_type": "code",
   "execution_count": null,
   "id": "f353a737",
   "metadata": {},
   "outputs": [],
   "source": [
    "# %%timeit # WITH THIS YOU'RE ONLY TIMING, BUT IT DOESN'T REALLY RUN THE COMMANDS YOU TIME\n",
    "# data = pd.read_hdf(filename, \"/MC/particles\")\n",
    "# data = pd.read_hdf(filename, \"/MC/sns_positions\")\n",
    "data = pd.read_hdf(filename, \"/MC/sns_response\")\n",
    "# data = pd.read_hdf(filename, \"/MC/hits\")\n",
    "# dst = pd.read_hdf(filename, \"/MC/hits\").groupby(\"event_id\").get_group(event_id)"
   ]
  },
  {
   "cell_type": "code",
   "execution_count": null,
   "id": "3e3460fd",
   "metadata": {},
   "outputs": [],
   "source": [
    "dst = data.copy()"
   ]
  },
  {
   "cell_type": "code",
   "execution_count": null,
   "id": "b2aee636",
   "metadata": {},
   "outputs": [],
   "source": [
    "dst.time_bin = dst.time_bin*t_binning # change units to ns"
   ]
  },
  {
   "cell_type": "code",
   "execution_count": null,
   "id": "e8dd84b8",
   "metadata": {},
   "outputs": [],
   "source": [
    "# dst.final_volume.unique() \n",
    "# dst.initial_volume.unique()\n",
    "# dst.particle_name.unique()\n",
    "dst.sensor_id.unique(), len(dst.sensor_id.unique())"
   ]
  },
  {
   "cell_type": "code",
   "execution_count": null,
   "id": "92dbd590",
   "metadata": {},
   "outputs": [],
   "source": [
    "dst.time_bin.unique(), len(dst.time_bin.unique())\n",
    "dst.charge.unique(), len(dst.charge.unique())\n"
   ]
  },
  {
   "cell_type": "code",
   "execution_count": null,
   "id": "a78e176e",
   "metadata": {},
   "outputs": [],
   "source": [
    "# dst.loc[dst.final_volume.str.contains('SENS')]\n",
    "# dst.loc[(dst.initial_volume != 'WORLD') & (dst.primary == 0)]\n",
    "dst"
   ]
  },
  {
   "cell_type": "markdown",
   "id": "0afa1e25",
   "metadata": {},
   "source": [
    "-  <p style=\"font-size: 17px; color: black;\"> <b> Tests on the data: </b> We perform some tests on the dataset to check the simulation is valid. </p>"
   ]
  },
  {
   "cell_type": "markdown",
   "id": "d1639c8b",
   "metadata": {},
   "source": [
    "-  <p style=\"font-size: 17px; color: black;\"> Group the data by sensors. </p>"
   ]
  },
  {
   "cell_type": "code",
   "execution_count": null,
   "id": "60cce18f",
   "metadata": {},
   "outputs": [],
   "source": [
    "dst.charge.sum(), len(dst.charge)"
   ]
  },
  {
   "cell_type": "code",
   "execution_count": null,
   "id": "15e4f36d",
   "metadata": {},
   "outputs": [],
   "source": [
    "# g = dst.groupby(dst.sensor_id)\n",
    "g = dst.groupby(dst.event_id)\n"
   ]
  },
  {
   "cell_type": "code",
   "execution_count": null,
   "id": "e95bd8e5",
   "metadata": {},
   "outputs": [],
   "source": [
    "# g.charge.sum()"
   ]
  },
  {
   "cell_type": "markdown",
   "id": "c394dca4",
   "metadata": {},
   "source": [
    "<h1> __________________________ </h1>\n",
    "<h2> Analysis </h2>"
   ]
  },
  {
   "cell_type": "code",
   "execution_count": null,
   "id": "506d1b39",
   "metadata": {},
   "outputs": [],
   "source": [
    "dst_sens = pd.read_hdf(filename, \"/MC/sns_positions\")\n",
    "dst_sens.sensor_name.unique()\n",
    "len(dst_sens.loc[dst_sens.sensor_name == 'F_SENSOR'])\n",
    "# dst_sens.loc[dst_sens.sensor_name == 'F_SENSOR']\n",
    "dst_sens"
   ]
  },
  {
   "cell_type": "code",
   "execution_count": null,
   "id": "7e855626",
   "metadata": {},
   "outputs": [],
   "source": [
    "dst_particle = pd.read_hdf(filename, \"/MC/particles\")\n",
    "dst_particle.loc[dst_particle.particle_name == 'opticalphoton']\n",
    "dst_particle.loc[(dst_particle.particle_name == 'opticalphoton') & \n",
    "                 (dst_particle.final_volume.str.contains('SENSAREA')) \n",
    "#                  (dst_particle.final_volume.str.contains('F_SENSOR_SENSAREA')) \n",
    "#                  (~dst_particle.final_volume.str.contains('F_SENSOR_CASE_')) \n",
    "#                  (dst_particle.event_id < 5) \n",
    "                ]"
   ]
  },
  {
   "cell_type": "code",
   "execution_count": null,
   "id": "caa3d46f",
   "metadata": {},
   "outputs": [],
   "source": [
    "dst_particle.particle_name.unique()\n",
    "# dst_particle.final_volume.unique()\n"
   ]
  },
  {
   "cell_type": "code",
   "execution_count": null,
   "id": "3bf6347e",
   "metadata": {
    "scrolled": false
   },
   "outputs": [],
   "source": [
    "len(dst_particle.loc[(dst_particle.particle_name == 'opticalphoton') &\n",
    "                     (dst_particle.final_volume.str.contains('SENSAREA'))])\n",
    "#                      (dst_particle.final_volume.str.contains('F_SENSOR_SENSAREA'))])\n",
    "# len(dst_particle.loc[(dst_particle.final_volume.str.contains('F_SENSOR'))])\n"
   ]
  },
  {
   "cell_type": "code",
   "execution_count": null,
   "id": "03a74cb1",
   "metadata": {},
   "outputs": [],
   "source": [
    "category_counts = dst_particle.final_volume.value_counts()\n",
    "# category_counts"
   ]
  },
  {
   "cell_type": "code",
   "execution_count": null,
   "id": "5d8f1248",
   "metadata": {},
   "outputs": [],
   "source": [
    "category_counts[:10]"
   ]
  },
  {
   "cell_type": "code",
   "execution_count": null,
   "id": "5665b8c5",
   "metadata": {},
   "outputs": [],
   "source": [
    "# category_counts[category_counts > 10]"
   ]
  },
  {
   "cell_type": "code",
   "execution_count": null,
   "id": "936406cc",
   "metadata": {},
   "outputs": [],
   "source": [
    "plt.figure(figsize=(8, 6))\n",
    "\n",
    "# category_counts[category_counts > 100].plot(kind=\"bar\")\n",
    "category_counts[:20].plot(kind=\"bar\")\n",
    "\n",
    "plt.xlabel(\"Final volume\")\n",
    "plt.ylabel(\"Frequency\")\n",
    "plt.title(\"Bar Histogram of Final volume Frequencies\")\n",
    "plt.xticks(rotation=90)  # Rotates the x-axis labels if needed\n",
    "plt.show()\n"
   ]
  },
  {
   "cell_type": "markdown",
   "id": "1770c3d4",
   "metadata": {},
   "source": [
    "<h2> Charge distribution in an event. </h2>"
   ]
  },
  {
   "cell_type": "markdown",
   "id": "f2eedc3c",
   "metadata": {},
   "source": [
    "-  <p style=\"font-size: 17px; color: black;\"> 1 event </p>"
   ]
  },
  {
   "cell_type": "code",
   "execution_count": null,
   "id": "4cc40aac",
   "metadata": {},
   "outputs": [],
   "source": [
    "ev = 0"
   ]
  },
  {
   "cell_type": "code",
   "execution_count": null,
   "id": "66b351eb",
   "metadata": {},
   "outputs": [],
   "source": [
    "wvf = dst.groupby(dst.event_id).get_group(ev)"
   ]
  },
  {
   "cell_type": "code",
   "execution_count": null,
   "id": "f7742dc3",
   "metadata": {},
   "outputs": [],
   "source": [
    "# wvf.groupby(wvf.sensor_id).get_group(3163)\n",
    "wvf"
   ]
  },
  {
   "cell_type": "markdown",
   "id": "7c461520",
   "metadata": {},
   "source": [
    "-  <p style=\"font-size: 17px; color: black;\"> All events </p>"
   ]
  },
  {
   "cell_type": "code",
   "execution_count": null,
   "id": "0a8fb786",
   "metadata": {},
   "outputs": [],
   "source": [
    "n_events = dst.event_id.max() + 1"
   ]
  },
  {
   "cell_type": "code",
   "execution_count": null,
   "id": "a2daf764",
   "metadata": {},
   "outputs": [],
   "source": [
    "# for ev, ev_group in dst.groupby(dst.event_id):\n",
    "#     for sens, sens_group in ev_group.groupby(ev_group.sensor_id):\n",
    "        \n",
    "#         Introduce here a np.hist() for each sensor in each event and obtain the corresponding info\n",
    "        \n",
    "        "
   ]
  },
  {
   "cell_type": "code",
   "execution_count": null,
   "id": "b45515de",
   "metadata": {},
   "outputs": [],
   "source": [
    "# len(time_bin), len(np.unique(time_bin))"
   ]
  },
  {
   "cell_type": "code",
   "execution_count": null,
   "id": "74a82ffd",
   "metadata": {},
   "outputs": [],
   "source": [
    "# time_bin"
   ]
  },
  {
   "cell_type": "code",
   "execution_count": null,
   "id": "176832a1",
   "metadata": {},
   "outputs": [],
   "source": [
    "fig, ax = plt.subplots(nrows = 1, ncols = 1, figsize=(5,5), constrained_layout=True)\n",
    "\n",
    "n_bins = 10\n",
    "font_size = 8.5\n",
    "\n",
    "events, bins, bars = ax.hist(dst.time_bin, n_bins, \n",
    "                             weights = dst.charge/n_events,\n",
    "                             density=False,\n",
    "                             range=(-1*(dst.time_bin.max()), dst.time_bin.max()),\n",
    "                             label='Charge distribution \\nnormalized to 1 event \\n($N_{events}$ = %s)'%(n_events), \n",
    "                             histtype='step')\n",
    "\n",
    "ax.text(0.75, .85, r'$N_{bins}$ = ' + str(n_bins), transform = ax.transAxes,\n",
    "        fontsize = font_size, verticalalignment = 'top', fontfamily = 'serif',\n",
    "        bbox = dict(facecolor='1.', edgecolor = 'none', pad = 3.0))\n",
    "\n",
    "ax.set_ylabel('Charge [e]')\n",
    "ax.set_xlabel('Time bin [ns]')\n",
    "ax.legend(fontsize = font_size);\n"
   ]
  },
  {
   "cell_type": "code",
   "execution_count": null,
   "id": "d491efa7",
   "metadata": {},
   "outputs": [],
   "source": [
    "events.sum()"
   ]
  },
  {
   "cell_type": "markdown",
   "id": "e77d2202",
   "metadata": {},
   "source": [
    "<h2> Add dark counts. </h2>"
   ]
  },
  {
   "cell_type": "markdown",
   "id": "d1d1e26a",
   "metadata": {},
   "source": [
    "-  <p style=\"font-size: 17px; color: black;\"> Create the noise at 25ºC </p>"
   ]
  },
  {
   "cell_type": "code",
   "execution_count": null,
   "id": "70cfb950",
   "metadata": {},
   "outputs": [],
   "source": [
    "dt = 1e-6 # [s] = 1us\n",
    "dt = 10*1e-6 # [s] = 1us\n"
   ]
  },
  {
   "cell_type": "code",
   "execution_count": null,
   "id": "4f32a759",
   "metadata": {},
   "outputs": [],
   "source": [
    "tf = dst.time_bin.max()*1e-9 # [s]\n",
    "t0 = -1*tf # [s]\n",
    "n_bins = (tf - t0)/dt"
   ]
  },
  {
   "cell_type": "code",
   "execution_count": null,
   "id": "14bef172",
   "metadata": {},
   "outputs": [],
   "source": [
    "n_1pe, n_2pe = noise(dark25, x_talk, t0, tf, dt, n_sensors)\n",
    "\n",
    "print('We have %s 1pe dark pulses and %s 2pe dark pulses'%(n_1pe, n_2pe))"
   ]
  },
  {
   "cell_type": "code",
   "execution_count": null,
   "id": "90492adc",
   "metadata": {},
   "outputs": [],
   "source": [
    "noise_1pe = np.random.randint(t0*1e9, tf*1e9, n_1pe) # [ns]\n",
    "noise_2pe = np.random.randint(t0*1e9, tf*1e9, n_2pe) # [ns]\n",
    "\n",
    "t_noise = np.concatenate((noise_1pe, noise_2pe))\n",
    "c_noise = np.concatenate((1*np.ones(n_1pe), 2*np.ones(n_2pe)))"
   ]
  },
  {
   "cell_type": "code",
   "execution_count": null,
   "id": "fdd6b21b",
   "metadata": {},
   "outputs": [],
   "source": [
    "t_signal = np.asarray(dst.time_bin)\n",
    "c_signal = np.asarray(dst.charge)"
   ]
  },
  {
   "cell_type": "code",
   "execution_count": null,
   "id": "3ca15387",
   "metadata": {},
   "outputs": [],
   "source": [
    "tt = np.concatenate((t_signal, t_noise))\n",
    "cc = np.concatenate((c_signal/n_events, c_noise))"
   ]
  },
  {
   "cell_type": "code",
   "execution_count": null,
   "id": "03ec9ab4",
   "metadata": {},
   "outputs": [],
   "source": [
    "fig, ax = plt.subplots(nrows = 1, ncols = 1, figsize=(5,5), constrained_layout=True)\n",
    "\n",
    "font_size = 8.5\n",
    "\n",
    "\n",
    "t_low = -1*(tt.max())\n",
    "t_up = tt.max()\n",
    "\n",
    "#     dt = (t_up - t_low)*1e-9/n_bins # [s]\n",
    "n_bins = int((t_up - t_low)*1e-9/dt) + 1\n",
    "\n",
    "# \"Data\"\n",
    "events, bins, bars = ax.hist(tt, n_bins, \n",
    "                             weights = cc,  # only part of it has to be normalized (signal part)\n",
    "                             density=False,\n",
    "                             range=(t_low, t_up),\n",
    "                             label='Charge distribution \\nnormalized to 1 event \\n(%i events simulated)'%(n_events), \n",
    "                             histtype='step')\n",
    "\n",
    "\n",
    "# Signal\n",
    "s_events, s_bins, s_bars = ax.hist(t_signal, n_bins, \n",
    "                                   weights = c_signal/n_events,\n",
    "                                   density=False,\n",
    "                                   range=(t_low, t_up),\n",
    "                                   label='Signal ($N_{pulses}$ = %i)'%((c_signal/n_events).sum()), \n",
    "                                   alpha = 1,\n",
    "                                   histtype='stepfilled')\n",
    "\n",
    "\n",
    "# Noise\n",
    "bkg_events, bkg_bins, bkg_bars = ax.hist(t_noise, n_bins, \n",
    "                                         weights = c_noise, # noise is already normalized\n",
    "                                         density=False,\n",
    "                                         range=(t_low, t_up),\n",
    "                                         label='Noise ($N_{pulses}$ = %i)'%(c_noise.sum()), \n",
    "                                         alpha = 0.5,\n",
    "                                         histtype='stepfilled')\n",
    "\n",
    "\n",
    "ax.text(0.1, .7, '$N_{bins}$ = %s \\ndt = %.1E [s]'%(n_bins, dt), transform = ax.transAxes,\n",
    "        fontsize = font_size, verticalalignment = 'top', #fontfamily = 'serif',\n",
    "        bbox = dict(facecolor='1.', edgecolor = 'none', pad = 1., alpha = 0.))\n",
    "\n",
    "ax.set_ylabel('Charge [e]')\n",
    "ax.set_xlabel('Time bin [ns]')\n",
    "ax.legend(fontsize = font_size, loc = 'upper left');\n",
    "\n",
    "print('Total events = %i = %i (signal) + %i (bkg) = %i'%(s_events.sum() + bkg_events.sum(), \n",
    "                                                         s_events.sum(), bkg_events.sum(), \n",
    "                                                         events.sum()))\n"
   ]
  },
  {
   "cell_type": "code",
   "execution_count": null,
   "id": "bd380db2",
   "metadata": {},
   "outputs": [],
   "source": [
    "events.mean()"
   ]
  },
  {
   "cell_type": "code",
   "execution_count": null,
   "id": "42da7b1b",
   "metadata": {
    "scrolled": false
   },
   "outputs": [],
   "source": [
    "font_size = 8.5\n",
    "\n",
    "# for n_bins in [200, 150, 100, 70, 50, 20, 10, 5]:\n",
    "for dt in [1e-4, 5e-5, 1e-5, 1e-6, 0.5e-6, 0.25e-6]:\n",
    "    \n",
    "    fig, ax = plt.subplots(nrows = 1, ncols = 1, figsize=(5,5), constrained_layout=True)\n",
    "\n",
    "    t_low = -1*(tt.max())\n",
    "    t_up = tt.max()\n",
    "\n",
    "#     dt = (t_up - t_low)*1e-9/n_bins # [s]\n",
    "    n_bins = int((t_up - t_low)*1e-9/dt) + 1\n",
    "\n",
    "    # \"Data\"\n",
    "    events, bins, bars = ax.hist(tt, n_bins, \n",
    "                                 weights = cc,  # only part of it has to be normalized (signal part)\n",
    "                                 density=False,\n",
    "                                 range=(t_low, t_up),\n",
    "                                 label='Charge distribution \\nnormalized to 1 event \\n(%i events simulated)'%(n_events), \n",
    "                                 histtype='step')\n",
    "\n",
    "\n",
    "    # Signal\n",
    "    s_events, s_bins, s_bars = ax.hist(t_signal, n_bins, \n",
    "                                       weights = c_signal/n_events,\n",
    "                                       density=False,\n",
    "                                       range=(t_low, t_up),\n",
    "                                       label='Signal ($N_{pulses}$ = %i)'%((c_signal/n_events).sum()), \n",
    "                                       alpha = 1,\n",
    "                                       histtype='stepfilled')\n",
    "\n",
    "\n",
    "    # Noise\n",
    "    bkg_events, bkg_bins, bkg_bars = ax.hist(t_noise, n_bins, \n",
    "                                             weights = c_noise, # noise is already normalized\n",
    "                                             density=False,\n",
    "                                             range=(t_low, t_up),\n",
    "                                             label='Noise ($N_{pulses}$ = %i)'%(c_noise.sum()), \n",
    "                                             alpha = 0.5,\n",
    "                                             histtype='stepfilled')\n",
    "\n",
    "\n",
    "    ax.text(0.1, .7, \n",
    "            '$N_{bins}$ = %s \\ndt = %.1E [s] \\nEvents/$\\mu$s/sens = %.2f'%(n_bins, dt, events.mean()*1e-6/dt/n_sensors), \n",
    "            transform = ax.transAxes,\n",
    "            fontsize = font_size, verticalalignment = 'top', #fontfamily = 'serif',\n",
    "            bbox = dict(facecolor='1.', edgecolor = 'none', pad = 1., alpha = 0.))\n",
    "\n",
    "    ax.set_ylabel('Charge [e]')\n",
    "    ax.set_xlabel('Time bin [ns]')\n",
    "    ax.legend(fontsize = font_size, loc = 'upper left');\n",
    "\n",
    "    print('Total events = %i = %i (signal) + %i (bkg) = %i'%(s_events.sum() + bkg_events.sum(), \n",
    "                                                             s_events.sum(), bkg_events.sum(), \n",
    "                                                             events.sum()))\n",
    "    \n"
   ]
  },
  {
   "cell_type": "markdown",
   "id": "3707fcc8",
   "metadata": {},
   "source": [
    "-  <p style=\"font-size: 17px; color: black;\"> Create the noise at different ºC </p>"
   ]
  },
  {
   "cell_type": "code",
   "execution_count": null,
   "id": "b7e0f137",
   "metadata": {},
   "outputs": [],
   "source": [
    "dt = 1e-6 # [s] = 1us"
   ]
  },
  {
   "cell_type": "code",
   "execution_count": null,
   "id": "e8316a34",
   "metadata": {},
   "outputs": [],
   "source": [
    "tf = dst.time_bin.max()*1e-9 # [s]\n",
    "t0 = -1*tf # [s]\n",
    "n_bins = (tf - t0)/dt"
   ]
  },
  {
   "cell_type": "code",
   "execution_count": null,
   "id": "d071ecc8",
   "metadata": {},
   "outputs": [],
   "source": [
    "# temp = 20"
   ]
  },
  {
   "cell_type": "code",
   "execution_count": null,
   "id": "10b43ff1",
   "metadata": {
    "scrolled": false
   },
   "outputs": [],
   "source": [
    "for temp in [25, 22.5, 20]:\n",
    "    \n",
    "    DCR = dark_rate(dark25, dT, temp)\n",
    "\n",
    "    n_1pe, n_2pe = noise(DCR, x_talk, t0, tf, dt, n_sensors)\n",
    "\n",
    "    print('We have %s 1pe dark pulses and %s 2pe dark pulses'%(n_1pe, n_2pe))\n",
    "\n",
    "    noise_1pe = np.random.randint(t0*1e9, tf*1e9, n_1pe) # [ns]\n",
    "    noise_2pe = np.random.randint(t0*1e9, tf*1e9, n_2pe) # [ns]\n",
    "\n",
    "    t_noise = np.concatenate((noise_1pe, noise_2pe))\n",
    "    c_noise = np.concatenate((1*np.ones(n_1pe), 2*np.ones(n_2pe)))\n",
    "\n",
    "    t_signal = np.asarray(dst.time_bin)\n",
    "    c_signal = np.asarray(dst.charge)\n",
    "\n",
    "    tt = np.concatenate((t_signal, t_noise))\n",
    "    cc = np.concatenate((c_signal/n_events, c_noise))\n",
    "\n",
    "\n",
    "    font_size = 8.5\n",
    "\n",
    "    # for n_bins in [200, 150, 100, 70, 50, 20, 10, 5]:\n",
    "    for dt in [1e-4, 1e-5, 1e-6, 0.5e-6, 0.25e-6]:\n",
    "\n",
    "        fig, ax = plt.subplots(nrows = 1, ncols = 1, figsize=(5,5), constrained_layout=True)\n",
    "\n",
    "        t_low = -1*(tt.max())\n",
    "        t_up = tt.max()\n",
    "\n",
    "    #     dt = (t_up - t_low)*1e-9/n_bins # [s]\n",
    "        n_bins = int((t_up - t_low)*1e-9/dt) + 1\n",
    "\n",
    "        # \"Data\"\n",
    "        events, bins, bars = ax.hist(tt, n_bins, \n",
    "                                     weights = cc,  # only part of it has to be normalized (signal part)\n",
    "                                     density=False,\n",
    "                                     range=(t_low, t_up),\n",
    "                                     label='Charge distribution \\nnormalized to 1 event \\n(%i events simulated)'%(n_events), \n",
    "                                     histtype='step')\n",
    "\n",
    "\n",
    "        # Signal\n",
    "        s_events, s_bins, s_bars = ax.hist(t_signal, n_bins, \n",
    "                                           weights = c_signal/n_events,\n",
    "                                           density=False,\n",
    "                                           range=(t_low, t_up),\n",
    "                                           label='Signal ($N_{pulses}$ = %i)'%((c_signal/n_events).sum()), \n",
    "                                           alpha = 1,\n",
    "                                           histtype='stepfilled')\n",
    "\n",
    "\n",
    "        # Noise\n",
    "        bkg_events, bkg_bins, bkg_bars = ax.hist(t_noise, n_bins, \n",
    "                                                 weights = c_noise, # noise is already normalized\n",
    "                                                 density=False,\n",
    "                                                 range=(t_low, t_up),\n",
    "                                                 label='Noise ($N_{pulses}$ = %i)'%(c_noise.sum()), \n",
    "                                                 alpha = 0.5,\n",
    "                                                 histtype='stepfilled')\n",
    "\n",
    "\n",
    "        ax.text(0.05, .7, \n",
    "                'DCR(%.2f ºC) = %.2f [Kcps]'%(temp, DCR), \n",
    "                transform = ax.transAxes,\n",
    "                fontsize = font_size, verticalalignment = 'top', #fontfamily = 'serif',\n",
    "                bbox = dict(facecolor='1.', edgecolor = 'none', pad = 1., alpha = 0.))\n",
    "\n",
    "\n",
    "        ax.text(0.05, .65, \n",
    "                '$N_{bins}$ = %s \\ndt = %.1E [s] \\nDCounts/$\\mu$s/sens = %.2f'%(n_bins, dt, bkg_events.mean()*1e-6/dt/n_sensors), \n",
    "                transform = ax.transAxes,\n",
    "                fontsize = font_size, verticalalignment = 'top', #fontfamily = 'serif',\n",
    "                bbox = dict(facecolor='1.', edgecolor = 'none', pad = 1., alpha = 0.))\n",
    "\n",
    "        ax.set_ylabel('Charge [e]')\n",
    "        ax.set_xlabel('Time bin [ns]')\n",
    "        ax.legend(fontsize = font_size, loc = 'upper left');\n",
    "\n",
    "        print('Total events = %i = %i (signal) + %i (bkg) = %i'%(s_events.sum() + bkg_events.sum(), \n",
    "                                                                 s_events.sum(), bkg_events.sum(), \n",
    "                                                                 events.sum()))\n",
    "\n"
   ]
  },
  {
   "cell_type": "code",
   "execution_count": null,
   "id": "720b8d2a",
   "metadata": {},
   "outputs": [],
   "source": []
  },
  {
   "cell_type": "code",
   "execution_count": null,
   "id": "ed885d38",
   "metadata": {},
   "outputs": [],
   "source": []
  }
 ],
 "metadata": {
  "kernelspec": {
   "display_name": "Python 3 (ipykernel)",
   "language": "python",
   "name": "python3"
  },
  "language_info": {
   "codemirror_mode": {
    "name": "ipython",
    "version": 3
   },
   "file_extension": ".py",
   "mimetype": "text/x-python",
   "name": "python",
   "nbconvert_exporter": "python",
   "pygments_lexer": "ipython3",
   "version": "3.8.13"
  }
 },
 "nbformat": 4,
 "nbformat_minor": 5
}
