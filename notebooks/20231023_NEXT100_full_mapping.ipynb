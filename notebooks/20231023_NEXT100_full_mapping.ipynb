{
 "cells": [
  {
   "cell_type": "markdown",
   "id": "f55cea8a",
   "metadata": {},
   "source": [
    "<h1> ______________________________________ </h1>\n",
    "\n",
    "<h1> Full NEXT100 with fiber panels simulation mapping analysis </h1>\n",
    "<h1> ______________________________________ </h1>\n",
    "\n",
    "<p style=\"font-size: 17px; color: black;\"> In this Notebook we analyse the results from the MC decays of Kr38m and bb0nu events simulated in a \"realistic\" fiber barrel. A mapping of the signal depending on the spatial position is perfomed in the XY plane and Z-axis and then used to determine the energy resolution at Krypton's decay energy. </p>\n",
    "\n",
    "\n"
   ]
  },
  {
   "cell_type": "markdown",
   "id": "0a6c28e7",
   "metadata": {},
   "source": [
    "<h1> ____________ </h1>\n",
    "<h2> This version </h2>\n",
    "<h1> ____________ </h1>\n",
    "\n",
    "-  <p style=\"font-size: 17px; color: black;\"> 100 Kr38m S1 events. </p>\n",
    "\n",
    "-  <p style=\"font-size: 17px; color: black;\"> Geant4 fundamental units: </p>\n",
    "\n",
    " -  <p style=\"font-size: 17px; color: black;\"> Length [L]: mm (milimeter) </p>\n",
    " -  <p style=\"font-size: 17px; color: black;\"> Time [T]: ns (nanosecond) </p>\n",
    " -  <p style=\"font-size: 17px; color: black;\"> Energy [E]: MeV (megaelectronvolt) </p>\n",
    "\n",
    "\n",
    "\n"
   ]
  },
  {
   "cell_type": "code",
   "execution_count": 1,
   "id": "19d793eb",
   "metadata": {},
   "outputs": [],
   "source": [
    "import numpy              as np\n",
    "import pandas             as pd\n",
    "\n",
    "import scipy              \n",
    "from scipy                import stats, integrate\n",
    "from scipy.signal         import convolve\n",
    "\n",
    "import matplotlib.pyplot  as plt\n",
    "\n",
    "from matplotlib.ticker    import FormatStrFormatter # to set the format of the plot's axis\n",
    "from matplotlib.patches   import Rectangle # To add blanck spaces in tabular legends\n",
    "\n",
    "import os\n",
    "import math\n",
    "import tables             as tb"
   ]
  },
  {
   "cell_type": "markdown",
   "id": "7ca48882",
   "metadata": {},
   "source": [
    "<h1> _________________________________________________________________________________________________________ </h1>\n"
   ]
  },
  {
   "cell_type": "markdown",
   "id": "85a2dfe0",
   "metadata": {},
   "source": [
    "<h1> __________________________ </h1>\n",
    "<h2> Functions </h2>\n",
    "\n",
    "-  <p style=\"font-size: 17px; color: black;\"> <b> gauss(x, a,  mu, sigma): </b> Gaussian normalized to $a$. </p>\n",
    "\n",
    "\n",
    "-  <p style=\"font-size: 17px; color: black;\"> <b> gauss_sum(x, a0,  mu0, sigma0, a1, mu1, sigma1): </b> Sum of 2 gaussians. </p>\n",
    "\n",
    "\n",
    "-  <p style=\"font-size: 17px; color: black;\"> <b> dirac(x, x0): </b> Dirac delta at $x0$. </p>\n",
    "\n",
    "\n"
   ]
  },
  {
   "cell_type": "code",
   "execution_count": 2,
   "id": "c057ab51",
   "metadata": {},
   "outputs": [],
   "source": [
    "# Fitting distributions to define\n",
    "\n",
    "# note: pdf are normilized to 1 so we have yo add an amplitude param\n",
    "def gauss(x, a,  mu, sigma):\n",
    "    \n",
    "    gaussian = stats.norm.pdf(np.sort(x), mu, sigma) \n",
    "    \n",
    "    return (a/gaussian.sum())*gaussian\n",
    "\n",
    "def gauss_sum(x, a0,  mu0, sigma0, a1, mu1, sigma1):\n",
    "    return a0*stats.norm.pdf(x, mu0, sigma0)  + a1*stats.norm.pdf(x, mu1, sigma1)\n",
    "\n",
    "def dirac(x, x0):\n",
    "    return np.where((x - x0) == 0, 1, 0)\n"
   ]
  },
  {
   "cell_type": "markdown",
   "id": "5476af0e",
   "metadata": {},
   "source": [
    "<h1> __________________________ </h1>\n",
    "<h2> Global parameters </h2>"
   ]
  },
  {
   "cell_type": "markdown",
   "id": "40924491",
   "metadata": {},
   "source": [
    "-  <p style=\"font-size: 17px; color: black;\"> <b> Pandas dataset params: </b> Allows to set the max number of columns and rows that are shown in a pandas dataset. </p>"
   ]
  },
  {
   "cell_type": "code",
   "execution_count": 3,
   "id": "5562c609",
   "metadata": {},
   "outputs": [],
   "source": [
    "pd.set_option('display.max_columns', None)\n",
    "pd.set_option('display.max_rows', 100)\n",
    "pd.set_option('display.min_rows', 20)"
   ]
  },
  {
   "cell_type": "markdown",
   "id": "11e3df95",
   "metadata": {},
   "source": [
    "-  <p style=\"font-size: 17px; color: black;\"> <b> Plots params: </b> In case you want to fix the parameters for all plots. </p>"
   ]
  },
  {
   "cell_type": "code",
   "execution_count": 4,
   "id": "e9c3a83a",
   "metadata": {},
   "outputs": [],
   "source": [
    "# plt.rcParams[\"figure.figsize\"] = 10, 8\n",
    "# plt.rcParams[\"font.size\"] = 10"
   ]
  },
  {
   "cell_type": "markdown",
   "id": "faa5a7df",
   "metadata": {},
   "source": [
    "-  <p style=\"font-size: 17px; color: black;\"> <b> Analysis parameters </b> </p>\n",
    "\n"
   ]
  },
  {
   "cell_type": "code",
   "execution_count": 5,
   "id": "a68ca9ee",
   "metadata": {},
   "outputs": [],
   "source": [
    "dark25 = 2000 # [Kcps] (1Kcps = 1e3 dark pulses per second) DCR at 25ºC\n",
    "x_talk = 7 # [%] Probability of a dark count to be 2pe instead of 1pe\n",
    "n_sensors = 90 \n",
    "t_binning = 0.1 # [ns] Conversion constant from bin enumerations to nanoseconds (binning used in the simulation)\n",
    "dT = 5.3 # [ºC] Decay factor at which the dark rate halves"
   ]
  },
  {
   "cell_type": "markdown",
   "id": "e8b38a7d",
   "metadata": {},
   "source": [
    "<h1> __________________________ </h1>\n",
    "<h2> Data </h2>"
   ]
  },
  {
   "cell_type": "markdown",
   "id": "aba914e0",
   "metadata": {},
   "source": [
    "-  <p style=\"font-size: 17px; color: black;\"> <b> Reading the file </b> </p>"
   ]
  },
  {
   "cell_type": "markdown",
   "id": "fcbac72c",
   "metadata": {},
   "source": [
    "-  <p style=\"font-size: 17px; color: black;\"> File's path </p>"
   ]
  },
  {
   "cell_type": "code",
   "execution_count": 6,
   "id": "1ee61880",
   "metadata": {},
   "outputs": [],
   "source": [
    "path = '/home/investigator/mariandbt/nexus'\n",
    "filename = os.path.join(path, \"Next100_full.next.h5\")\n",
    "\n",
    "# path = '/home/investigator/mariandbt/python/data/'\n",
    "# # path = path + '/20230921_NEXT100_full_fiber_barrel'\n",
    "# path = path + '/20231025_NEXT100_full_mapping'\n",
    "\n",
    "# filename = os.path.join(path, \"Next100_full_Kr_noEL_10Kev.next.h5\")\n",
    "\n",
    "# filename = os.path.join(path, \"Next100_full_Kr_noEL_100ev.next.h5\")\n",
    "# filename = os.path.join(path, \"Next100_full_Kr_1event.next.h5\")\n",
    "# filename = os.path.join(path, \"Next100_full_Kr_noEL_100ev.next.h5\")\n",
    "# filename = os.path.join(path, \"Next100_full_Kr_noEL_100ev_sensName.next.h5\")\n",
    "# filename = os.path.join(path, \"Next100_full_Kr_noEL_20ev.next.h5\")\n"
   ]
  },
  {
   "cell_type": "markdown",
   "id": "c86e5025",
   "metadata": {},
   "source": [
    "-  <p style=\"font-size: 17px; color: black;\"> In a .h5 file there are several objects, so we print them all to then pick the one we're interested in </p>"
   ]
  },
  {
   "cell_type": "code",
   "execution_count": 7,
   "id": "3557f9c6",
   "metadata": {},
   "outputs": [
    {
     "name": "stdout",
     "output_type": "stream",
     "text": [
      "/home/investigator/mariandbt/python/data//20231025_NEXT100_full_mapping/Next100_full_Kr_noEL_10Kev.next.h5 (File) ''\n",
      "Last modif.: '2023-10-25T04:10:45+00:00'\n",
      "Object Tree: \n",
      "/ (RootGroup) ''\n",
      "/MC (Group) ''\n",
      "/MC/configuration (Table(39,)) ''\n",
      "/MC/hits (Table(673964,)) ''\n",
      "/MC/particles (Table(51361,)) ''\n",
      "/MC/sns_positions (Table(3166,)) ''\n",
      "/MC/sns_response (Table(237316,)) ''\n",
      "\n"
     ]
    }
   ],
   "source": [
    "with tb.open_file(filename) as file:\n",
    "    print(file)"
   ]
  },
  {
   "cell_type": "markdown",
   "id": "a803c911",
   "metadata": {},
   "source": [
    "-  <p style=\"font-size: 17px; color: black;\"> Read the file and make a copy to work with, this way it's easier to re-start the copy instead of re-reading the file. </p>"
   ]
  },
  {
   "cell_type": "code",
   "execution_count": 8,
   "id": "f353a737",
   "metadata": {},
   "outputs": [],
   "source": [
    "# %%timeit # WITH THIS YOU'RE ONLY TIMING, BUT IT DOESN'T REALLY RUN THE COMMANDS YOU TIME\n",
    "particles = pd.read_hdf(filename, \"/MC/particles\")\n",
    "sensors = pd.read_hdf(filename, \"/MC/sns_positions\")\n",
    "data = pd.read_hdf(filename, \"/MC/sns_response\")\n"
   ]
  },
  {
   "cell_type": "code",
   "execution_count": 9,
   "id": "3e3460fd",
   "metadata": {},
   "outputs": [],
   "source": [
    "dst_particle = particles.copy()\n",
    "sens = sensors.copy()\n",
    "dst = data.copy()\n"
   ]
  },
  {
   "cell_type": "markdown",
   "id": "c394dca4",
   "metadata": {},
   "source": [
    "<h1> __________________________ </h1>\n",
    "<h2> Analysis </h2>"
   ]
  },
  {
   "cell_type": "code",
   "execution_count": 10,
   "id": "5470a040",
   "metadata": {},
   "outputs": [],
   "source": [
    "dst.time_bin = dst.time_bin*t_binning # change units to ns"
   ]
  },
  {
   "cell_type": "code",
   "execution_count": 11,
   "id": "1d0de6dd",
   "metadata": {},
   "outputs": [],
   "source": [
    "n_events = dst.event_id.max() + 1 # save number of events simulated"
   ]
  },
  {
   "cell_type": "markdown",
   "id": "a424431b",
   "metadata": {},
   "source": [
    "# *** OJO AQUII!!"
   ]
  },
  {
   "cell_type": "code",
   "execution_count": 12,
   "id": "98691271",
   "metadata": {},
   "outputs": [],
   "source": [
    "sens_mask = sens.loc[sens.sensor_name == 'F_SENSOR'].sensor_id\n",
    "\n",
    "dst = dst.loc[dst.sensor_id.isin(sens_mask)]"
   ]
  },
  {
   "cell_type": "markdown",
   "id": "dbf28935",
   "metadata": {},
   "source": [
    "# *** "
   ]
  },
  {
   "cell_type": "code",
   "execution_count": 13,
   "id": "b2aee636",
   "metadata": {},
   "outputs": [],
   "source": [
    "fiber_sens_mask = sens.loc[sens.sensor_name == 'F_SENSOR'].sensor_id # ID mask of the sensors at the end of the fibers\n",
    "\n",
    "dst_fibers = dst.loc[dst.sensor_id.isin(fiber_sens_mask)] # dst only for the sensor on the fibers\n"
   ]
  },
  {
   "cell_type": "code",
   "execution_count": 14,
   "id": "90889cf2",
   "metadata": {},
   "outputs": [],
   "source": [
    "event_charge = dst_fibers.groupby(\"event_id\").charge.sum() # total charge detected on each event"
   ]
  },
  {
   "cell_type": "markdown",
   "id": "846626af",
   "metadata": {},
   "source": [
    "- <p style=\"font-size: 17px; color: black;\"> <b> Save the coordinates of each event: </b> Since the initial coordinates are the same for all primary particles in the event we need to only save the 1st. </p>"
   ]
  },
  {
   "cell_type": "code",
   "execution_count": 15,
   "id": "8acf3320",
   "metadata": {},
   "outputs": [],
   "source": [
    "# dst_particle"
   ]
  },
  {
   "cell_type": "code",
   "execution_count": 16,
   "id": "9f38dfa2",
   "metadata": {},
   "outputs": [],
   "source": [
    "ev_x0 = dst_particle.loc[dst_particle.primary == 1].groupby(\"event_id\").initial_x.first()\n",
    "ev_y0 = dst_particle.loc[dst_particle.primary == 1].groupby(\"event_id\").initial_y.first()\n",
    "ev_z0 = dst_particle.loc[dst_particle.primary == 1].groupby(\"event_id\").initial_z.first()"
   ]
  },
  {
   "cell_type": "markdown",
   "id": "82d9ab07",
   "metadata": {},
   "source": [
    "- <p style=\"font-size: 17px; color: black;\"> <b> Map the charge vs positon hists: </b> Map in XY with a 2D histogram and in Z-axis with a 1D histogram. </p>"
   ]
  },
  {
   "cell_type": "code",
   "execution_count": 51,
   "id": "7a064868",
   "metadata": {},
   "outputs": [
    {
     "name": "stderr",
     "output_type": "stream",
     "text": [
      "/tmp/ipykernel_333255/3767049243.py:20: RuntimeWarning: invalid value encountered in true_divide\n",
      "  hist_norm = np.where(hist_counts > 0., np.divide(hist, hist_counts), 0.)\n"
     ]
    },
    {
     "data": {
      "image/png": "[encoded data removed]",
      "text/plain": [
       "<Figure size 500x500 with 2 Axes>"
      ]
     },
     "metadata": {},
     "output_type": "display_data"
    }
   ],
   "source": [
    "# XY-plane\n",
    "fig, ax = plt.subplots(nrows = 1, ncols = 1, figsize=(5,5), constrained_layout=True)\n",
    "\n",
    "# n_bins = int(np.sqrt(n_events))\n",
    "n_bins = 30\n",
    "font_size = 8.5\n",
    "\n",
    "# Create a 2D histogram\n",
    "hist, xedges, yedges = np.histogram2d(ev_x0, ev_y0, \n",
    "                                      bins=(n_bins, n_bins), \n",
    "                                      weights = event_charge,\n",
    "                                      density=False)\n",
    "\n",
    "hist_counts, xedges, yedges = np.histogram2d(ev_x0, ev_y0, \n",
    "                                             bins=(n_bins, n_bins), \n",
    "                                             density=False)\n",
    "\n",
    "# Calculate the mean values in each bin (normalized histogram)\n",
    "hist_norm = np.where(hist_counts > 0., hist / hist_counts, 0.)\n",
    "\n",
    "\n",
    "plt.imshow(hist_norm, cmap='inferno')\n",
    "plt.colorbar()\n",
    "plt.xlabel('X-coordinate [mm]')\n",
    "plt.ylabel('Y-coordinate [mm]')\n",
    "plt.title('Event mapping')\n",
    "ax.set_aspect(\"equal\") \n"
   ]
  },
  {
   "cell_type": "code",
   "execution_count": 18,
   "id": "31f6de17",
   "metadata": {
    "scrolled": false
   },
   "outputs": [
    {
     "data": {
      "image/png": "[encoded data removed]",
      "text/plain": [
       "<Figure size 500x500 with 1 Axes>"
      ]
     },
     "metadata": {},
     "output_type": "display_data"
    }
   ],
   "source": [
    "# Z_axis\n",
    "fig, ax = plt.subplots(nrows = 1, ncols = 1, figsize=(5,5), constrained_layout=True)\n",
    "\n",
    "n_bins = int(np.sqrt(n_events))\n",
    "font_size = 8.5\n",
    "\n",
    "events, bins, bars = ax.hist(ev_z0, n_bins, \n",
    "                             weights = event_charge/n_events,\n",
    "                             density=False,\n",
    "                             range=(ev_z0.min() - 100, ev_z0.max() + 100),\n",
    "                             label='Charge distribution \\nas a function of drift distance \\nnormalized to 1 event \\n($N^{tot}_{events}$ = %s)'%(n_events), \n",
    "                             histtype='step')\n",
    "\n",
    "ax.text(0.5, .25, r'$N_{bins}$ = %s'%(n_bins), transform = ax.transAxes,\n",
    "        fontsize = font_size, verticalalignment = 'top', fontfamily = 'serif',\n",
    "        bbox = dict(facecolor='1.', edgecolor = 'none', pad = 3.0))\n",
    "\n",
    "ax.text(0.5, .2, r'$Q_{tot}$ = %.2f e'%(events.sum()), transform = ax.transAxes,\n",
    "        fontsize = font_size, verticalalignment = 'top', fontfamily = 'serif',\n",
    "        bbox = dict(facecolor='1.', edgecolor = 'none', pad = 3.0))\n",
    "\n",
    "ax.set_ylabel('Charge [e]')\n",
    "ax.set_xlabel('Initial Z coordinate [mm]')\n",
    "ax.legend(fontsize = font_size, loc = 'center');\n"
   ]
  },
  {
   "cell_type": "markdown",
   "id": "f056b664",
   "metadata": {},
   "source": [
    "- <p style=\"font-size: 17px; color: black;\"> <b> Energy resolution: </b> . </p>"
   ]
  },
  {
   "cell_type": "code",
   "execution_count": 29,
   "id": "bef069a3",
   "metadata": {
    "scrolled": false
   },
   "outputs": [
    {
     "data": {
      "image/png": "[encoded data removed]",
      "text/plain": [
       "<Figure size 500x500 with 1 Axes>"
      ]
     },
     "metadata": {},
     "output_type": "display_data"
    }
   ],
   "source": [
    "fig, ax = plt.subplots(nrows = 1, ncols = 1, figsize=(5,5), constrained_layout=True)\n",
    "\n",
    "# n_bins = int(np.sqrt(len(event_charge)))\n",
    "n_bins = 45\n",
    "font_size = 8.5\n",
    "\n",
    "events, bins, bars = ax.hist(event_charge, n_bins, \n",
    "                             density=False,\n",
    "                             range=(event_charge.min() - 1, event_charge.max() + 1),\n",
    "                             label=f'Charge distribution for {n_events} events', \n",
    "                             histtype='step')\n",
    "\n",
    "ax.text(0.7, .65, r'$N_{bins}$ = %s'%(n_bins), transform = ax.transAxes,\n",
    "        fontsize = font_size, verticalalignment = 'top', fontfamily = 'serif',\n",
    "        bbox = dict(facecolor='1.', edgecolor = 'none', pad = 3.0))\n",
    "\n",
    "ax.text(0.7, .6, r'$Q_{tot}$ = %.2f e'%(event_charge.sum()), transform = ax.transAxes,\n",
    "        fontsize = font_size, verticalalignment = 'top', fontfamily = 'serif',\n",
    "        bbox = dict(facecolor='1.', edgecolor = 'none', pad = 3.0))\n",
    "\n",
    "ax.set_xlabel('Charge [e]')\n",
    "ax.set_ylabel('Counts')\n",
    "ax.legend(fontsize = font_size);\n"
   ]
  },
  {
   "cell_type": "code",
   "execution_count": null,
   "id": "68eed058",
   "metadata": {},
   "outputs": [],
   "source": []
  }
 ],
 "metadata": {
  "kernelspec": {
   "display_name": "Python 3 (ipykernel)",
   "language": "python",
   "name": "python3"
  },
  "language_info": {
   "codemirror_mode": {
    "name": "ipython",
    "version": 3
   },
   "file_extension": ".py",
   "mimetype": "text/x-python",
   "name": "python",
   "nbconvert_exporter": "python",
   "pygments_lexer": "ipython3",
   "version": "3.8.16"
  }
 },
 "nbformat": 4,
 "nbformat_minor": 5
}
