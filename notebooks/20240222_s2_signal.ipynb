{
 "cells": [
  {
   "cell_type": "markdown",
   "id": "f55cea8a",
   "metadata": {},
   "source": [
    "<h1> ______________________________________ </h1>\n",
    "\n",
    "<h1> Full NEXT100 with fiber panels simulation mapping analysis </h1>\n",
    "<h1> ______________________________________ </h1>\n",
    "\n",
    "<p style=\"font-size: 17px; color: black;\"> In this Notebook we take as input the maps created in the previous notebook and use it to simulate an s2 signal for bb0nu events. </p>\n",
    "\n",
    "\n"
   ]
  },
  {
   "cell_type": "code",
   "execution_count": 1,
   "id": "f1d9e7e4",
   "metadata": {},
   "outputs": [],
   "source": [
    "# S2 signal script\n",
    "import sys\n",
    "sys.path.append('/home/investigator/mariandbt/python/notebooks/modules')\n",
    "\n",
    "from import_modules import *\n",
    "\n",
    "import set_up as setup\n",
    "import s2_signal as s2sig\n"
   ]
  },
  {
   "cell_type": "code",
   "execution_count": 2,
   "id": "bc3c1903",
   "metadata": {},
   "outputs": [],
   "source": [
    "# Data reading\n",
    "# ________________________________________________________________________________________________________________\n",
    "\n",
    "path = '/home/investigator/mariandbt/python/data'\n",
    "path = path + '/20231025_NEXT100_full_mapping'\n",
    "\n",
    "\n",
    "# s2 table\n",
    "# s2_table_path = os.path.join(path, \"s2_table.h5\")\n",
    "# s2_table_path = os.path.join(path, \"20240208_s2_table.h5\")\n",
    "# s2_table_path = os.path.join(path, \"20240229_s2_table.h5\")\n",
    "s2_table_path = os.path.join(path, \"20240304_s2_table.h5\")\n",
    "# s2_table_path = os.path.join(path, \"20240304v2_s2_table.h5\")\n",
    "s2_table = setup.read_s2_table(s2_table_path)\n",
    "\n",
    "# bb events\n",
    "# bb_file_path = os.path.join(path, \"next100_fibers/20240122_Next100_bb_1.next.h5\") # 1 full bb w s2\n",
    "# bb_file_path = os.path.join(path, \"next100_fibers/20240111_Next100_bb_3.next.h5\") # 200\n",
    "bb_file_path = os.path.join(path, \"next100_fibers/20240228_Next100_bb_1.next.h5\") # 10 full bb w s2\n",
    "\n",
    "list_of_bb_file_paths = [bb_file_path]"
   ]
  },
  {
   "cell_type": "code",
   "execution_count": 3,
   "id": "9ee34b3b",
   "metadata": {},
   "outputs": [],
   "source": [
    "# _, particles, prim_e = s2sig.find_bb_ie(bb_file_path, 0, 0)"
   ]
  },
  {
   "cell_type": "code",
   "execution_count": 4,
   "id": "eaab5bcd",
   "metadata": {},
   "outputs": [],
   "source": [
    "# Global params\n",
    "# ________________________________________________________________________________________________________________\n",
    "\n",
    "n_panels = 18\n",
    "n_sensors = 90\n",
    "\n",
    "v_drift_EL = 2.5e-3 # [mm]/[ns] = 2.5 [mm]/[us]\n",
    "\n",
    "n_bb_files = 1\n",
    "n_bb_events_per_file = 10\n",
    "\n",
    "output_file_path = os.path.join(path, '20240305_bb0nu_10ev_ELon_s2_signal_20240304s2table.h5')"
   ]
  },
  {
   "cell_type": "code",
   "execution_count": 5,
   "id": "aa2af01a",
   "metadata": {},
   "outputs": [
    {
     "name": "stdout",
     "output_type": "stream",
     "text": [
      "Global parameters set successfully :)\n"
     ]
    }
   ],
   "source": [
    "s2sig.set_global_parameters(globals(),  \n",
    "                            n_bb_files = n_bb_files, \n",
    "                            n_bb_events_per_file = n_bb_events_per_file,\n",
    "                            n_panels = n_panels, \n",
    "                            n_sensors = n_sensors,\n",
    "                            v_drift_EL = v_drift_EL\n",
    "                           )"
   ]
  },
  {
   "cell_type": "code",
   "execution_count": 6,
   "id": "fbf07053",
   "metadata": {
    "scrolled": true
   },
   "outputs": [
    {
     "name": "stderr",
     "output_type": "stream",
     "text": [
      "/home/investigator/miniconda3/envs/IC-3.8-2022-04-13/lib/python3.8/site-packages/pandas/io/pytables.py:3523: IncompatibilityWarning: \n",
      "where criteria is being ignored as this version [0.0.0] is too old (or\n",
      "not-defined), read the file in and write it out to a new file to upgrade (with\n",
      "the copy_to method)\n",
      "\n",
      "  warnings.warn(ws, IncompatibilityWarning)\n"
     ]
    },
    {
     "name": "stdout",
     "output_type": "stream",
     "text": [
      "Sensor 1/90; Event 1/10; File 1/1\n",
      "Sensor 10/90; Event 1/10; File 1/1\n",
      "Sensor 20/90; Event 1/10; File 1/1\n",
      "Sensor 30/90; Event 1/10; File 1/1\n",
      "Sensor 40/90; Event 1/10; File 1/1\n",
      "Sensor 50/90; Event 1/10; File 1/1\n",
      "Sensor 60/90; Event 1/10; File 1/1\n",
      "Sensor 70/90; Event 1/10; File 1/1\n",
      "Sensor 80/90; Event 1/10; File 1/1\n",
      "Sensor 90/90; Event 1/10; File 1/1\n",
      "Sensor 1/90; Event 2/10; File 1/1\n",
      "Sensor 10/90; Event 2/10; File 1/1\n",
      "Sensor 20/90; Event 2/10; File 1/1\n",
      "Sensor 30/90; Event 2/10; File 1/1\n",
      "Sensor 40/90; Event 2/10; File 1/1\n",
      "Sensor 50/90; Event 2/10; File 1/1\n",
      "Sensor 60/90; Event 2/10; File 1/1\n",
      "Sensor 70/90; Event 2/10; File 1/1\n",
      "Sensor 80/90; Event 2/10; File 1/1\n",
      "Sensor 90/90; Event 2/10; File 1/1\n",
      "Sensor 1/90; Event 3/10; File 1/1\n",
      "Sensor 10/90; Event 3/10; File 1/1\n",
      "Sensor 20/90; Event 3/10; File 1/1\n",
      "Sensor 30/90; Event 3/10; File 1/1\n",
      "Sensor 40/90; Event 3/10; File 1/1\n",
      "Sensor 50/90; Event 3/10; File 1/1\n",
      "Sensor 60/90; Event 3/10; File 1/1\n",
      "Sensor 70/90; Event 3/10; File 1/1\n",
      "Sensor 80/90; Event 3/10; File 1/1\n",
      "Sensor 90/90; Event 3/10; File 1/1\n",
      "Sensor 1/90; Event 4/10; File 1/1\n",
      "Sensor 10/90; Event 4/10; File 1/1\n",
      "Sensor 20/90; Event 4/10; File 1/1\n",
      "Sensor 30/90; Event 4/10; File 1/1\n",
      "Sensor 40/90; Event 4/10; File 1/1\n",
      "Sensor 50/90; Event 4/10; File 1/1\n",
      "Sensor 60/90; Event 4/10; File 1/1\n",
      "Sensor 70/90; Event 4/10; File 1/1\n",
      "Sensor 80/90; Event 4/10; File 1/1\n",
      "Sensor 90/90; Event 4/10; File 1/1\n",
      "Sensor 1/90; Event 5/10; File 1/1\n",
      "Sensor 10/90; Event 5/10; File 1/1\n",
      "Sensor 20/90; Event 5/10; File 1/1\n",
      "Sensor 30/90; Event 5/10; File 1/1\n",
      "Sensor 40/90; Event 5/10; File 1/1\n",
      "Sensor 50/90; Event 5/10; File 1/1\n",
      "Sensor 60/90; Event 5/10; File 1/1\n",
      "Sensor 70/90; Event 5/10; File 1/1\n",
      "Sensor 80/90; Event 5/10; File 1/1\n",
      "Sensor 90/90; Event 5/10; File 1/1\n",
      "Sensor 1/90; Event 6/10; File 1/1\n",
      "Sensor 10/90; Event 6/10; File 1/1\n",
      "Sensor 20/90; Event 6/10; File 1/1\n",
      "Sensor 30/90; Event 6/10; File 1/1\n",
      "Sensor 40/90; Event 6/10; File 1/1\n",
      "Sensor 50/90; Event 6/10; File 1/1\n",
      "Sensor 60/90; Event 6/10; File 1/1\n",
      "Sensor 70/90; Event 6/10; File 1/1\n",
      "Sensor 80/90; Event 6/10; File 1/1\n",
      "Sensor 90/90; Event 6/10; File 1/1\n",
      "Sensor 1/90; Event 7/10; File 1/1\n",
      "Sensor 10/90; Event 7/10; File 1/1\n",
      "Sensor 20/90; Event 7/10; File 1/1\n",
      "Sensor 30/90; Event 7/10; File 1/1\n",
      "Sensor 40/90; Event 7/10; File 1/1\n",
      "Sensor 50/90; Event 7/10; File 1/1\n",
      "Sensor 60/90; Event 7/10; File 1/1\n",
      "Sensor 70/90; Event 7/10; File 1/1\n",
      "Sensor 80/90; Event 7/10; File 1/1\n",
      "Sensor 90/90; Event 7/10; File 1/1\n",
      "Sensor 1/90; Event 8/10; File 1/1\n",
      "Sensor 10/90; Event 8/10; File 1/1\n",
      "Sensor 20/90; Event 8/10; File 1/1\n",
      "Sensor 30/90; Event 8/10; File 1/1\n",
      "Sensor 40/90; Event 8/10; File 1/1\n",
      "Sensor 50/90; Event 8/10; File 1/1\n",
      "Sensor 60/90; Event 8/10; File 1/1\n",
      "Sensor 70/90; Event 8/10; File 1/1\n",
      "Sensor 80/90; Event 8/10; File 1/1\n",
      "Sensor 90/90; Event 8/10; File 1/1\n",
      "Sensor 1/90; Event 9/10; File 1/1\n",
      "Sensor 10/90; Event 9/10; File 1/1\n",
      "Sensor 20/90; Event 9/10; File 1/1\n",
      "Sensor 30/90; Event 9/10; File 1/1\n",
      "Sensor 40/90; Event 9/10; File 1/1\n",
      "Sensor 50/90; Event 9/10; File 1/1\n",
      "Sensor 60/90; Event 9/10; File 1/1\n",
      "Sensor 70/90; Event 9/10; File 1/1\n",
      "Sensor 80/90; Event 9/10; File 1/1\n",
      "Sensor 90/90; Event 9/10; File 1/1\n",
      "Sensor 1/90; Event 10/10; File 1/1\n",
      "Sensor 10/90; Event 10/10; File 1/1\n",
      "Sensor 20/90; Event 10/10; File 1/1\n",
      "Sensor 30/90; Event 10/10; File 1/1\n",
      "Sensor 40/90; Event 10/10; File 1/1\n",
      "Sensor 50/90; Event 10/10; File 1/1\n",
      "Sensor 60/90; Event 10/10; File 1/1\n",
      "Sensor 70/90; Event 10/10; File 1/1\n",
      "Sensor 80/90; Event 10/10; File 1/1\n",
      "Sensor 90/90; Event 10/10; File 1/1\n",
      "Done! s2 signal created :)\n"
     ]
    }
   ],
   "source": [
    "s2sig.create_s2_signal(s2_table, list_of_bb_file_paths, output_file_path)"
   ]
  },
  {
   "cell_type": "code",
   "execution_count": null,
   "id": "0006b970",
   "metadata": {},
   "outputs": [],
   "source": []
  }
 ],
 "metadata": {
  "kernelspec": {
   "display_name": "Python 3 (ipykernel)",
   "language": "python",
   "name": "python3"
  },
  "language_info": {
   "codemirror_mode": {
    "name": "ipython",
    "version": 3
   },
   "file_extension": ".py",
   "mimetype": "text/x-python",
   "name": "python",
   "nbconvert_exporter": "python",
   "pygments_lexer": "ipython3",
   "version": "3.8.16"
  }
 },
 "nbformat": 4,
 "nbformat_minor": 5
}
