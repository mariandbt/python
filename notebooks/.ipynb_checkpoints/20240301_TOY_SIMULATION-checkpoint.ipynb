{
 "cells": [
  {
   "cell_type": "code",
   "execution_count": 1,
   "id": "f1d9e7e4",
   "metadata": {},
   "outputs": [],
   "source": [
    "# S2 signal script\n",
    "import sys\n",
    "sys.path.append('/home/investigator/mariandbt/python/notebooks/modules')\n",
    "\n",
    "from import_modules import *\n",
    "\n",
    "import set_up as setup\n",
    "import s2_signal as s2sig\n"
   ]
  },
  {
   "cell_type": "code",
   "execution_count": 2,
   "id": "9a8e2c36",
   "metadata": {},
   "outputs": [],
   "source": [
    "n_ie = 20"
   ]
  },
  {
   "cell_type": "code",
   "execution_count": 4,
   "id": "0006b970",
   "metadata": {},
   "outputs": [],
   "source": [
    "x_pos = np.random.uniform(0, 490, n_ie)\n",
    "y_pos = np.random.uniform(-84, 84, n_ie)\n",
    "charge = np.random.poisson(2, n_ie)\n",
    "\n"
   ]
  },
  {
   "cell_type": "code",
   "execution_count": 5,
   "id": "507dcf84",
   "metadata": {},
   "outputs": [
    {
     "data": {
      "text/plain": [
       "array([ 42.37616869,  89.40531077, 349.60344893, 460.5951066 ,\n",
       "       360.28638337, 180.39404202, 256.15157134,  61.62815809,\n",
       "       340.73265448, 128.68042912,  60.9420616 , 167.89274434,\n",
       "       484.33142388, 371.3398215 , 167.11328617, 218.81477873,\n",
       "        55.0138743 , 309.38692265, 437.1363067 , 235.74611182])"
      ]
     },
     "execution_count": 5,
     "metadata": {},
     "output_type": "execute_result"
    }
   ],
   "source": [
    "x_pos"
   ]
  },
  {
   "cell_type": "code",
   "execution_count": 6,
   "id": "9f7cf884",
   "metadata": {},
   "outputs": [],
   "source": [
    "bin_width = 10 # [mm]\n",
    "\n",
    "x_nbins = int((x_pos.max() - x_pos.min())/bin_width)\n",
    "y_nbins = int((y_pos.max() - y_pos.min())/bin_width)\n",
    "# x_nbins = y_nbins = n_bins\n",
    "# bins = (x_nbins, y_nbins)\n",
    "\n",
    "xedges = np.linspace(x_pos.min(), x_pos.max(), x_nbins + 1)\n",
    "yedges = np.linspace(y_pos.min(), y_pos.max(), y_nbins + 1)"
   ]
  },
  {
   "cell_type": "code",
   "execution_count": 7,
   "id": "dba1f13f",
   "metadata": {},
   "outputs": [
    {
     "ename": "NameError",
     "evalue": "name 'ev_x0' is not defined",
     "output_type": "error",
     "traceback": [
      "\u001b[0;31m---------------------------------------------------------------------------\u001b[0m",
      "\u001b[0;31mNameError\u001b[0m                                 Traceback (most recent call last)",
      "Cell \u001b[0;32mIn[7], line 4\u001b[0m\n\u001b[1;32m      1\u001b[0m \u001b[38;5;66;03m# ****************************************************************************************\u001b[39;00m\n\u001b[1;32m      2\u001b[0m \n\u001b[1;32m      3\u001b[0m \u001b[38;5;66;03m# Create a 2D histogram\u001b[39;00m\n\u001b[0;32m----> 4\u001b[0m hist, xedges, yedges \u001b[38;5;241m=\u001b[39m np\u001b[38;5;241m.\u001b[39mhistogram2d(\u001b[43mev_x0\u001b[49m, ev_y0, \n\u001b[1;32m      5\u001b[0m                                       bins\u001b[38;5;241m=\u001b[39mbins, \n\u001b[1;32m      6\u001b[0m                                       weights \u001b[38;5;241m=\u001b[39m event_charge,\n\u001b[1;32m      7\u001b[0m                                       density\u001b[38;5;241m=\u001b[39m\u001b[38;5;28;01mFalse\u001b[39;00m);\n\u001b[1;32m      9\u001b[0m hist_counts, xedges, yedges \u001b[38;5;241m=\u001b[39m np\u001b[38;5;241m.\u001b[39mhistogram2d(ev_x0, ev_y0, \n\u001b[1;32m     10\u001b[0m                                              bins\u001b[38;5;241m=\u001b[39mbins, \n\u001b[1;32m     11\u001b[0m                                              density\u001b[38;5;241m=\u001b[39m\u001b[38;5;28;01mFalse\u001b[39;00m);\n\u001b[1;32m     13\u001b[0m \u001b[38;5;66;03m# Calculate the mean values in each bin (normalized histogram)\u001b[39;00m\n",
      "\u001b[0;31mNameError\u001b[0m: name 'ev_x0' is not defined"
     ]
    }
   ],
   "source": [
    "# ****************************************************************************************\n",
    "\n",
    "# Create a 2D histogram\n",
    "hist, xedges, yedges = np.histogram2d(x_pos, y_pos, \n",
    "                                      bins=bins, \n",
    "                                      weights = charge,\n",
    "                                      density=False);\n",
    "\n",
    "hist_counts, xedges, yedges = np.histogram2d(x_pos, y_pos, \n",
    "                                             bins=bins, \n",
    "                                             density=False);\n",
    "\n",
    "# Calculate the mean values in each bin (normalized histogram)\n",
    "hist_norm = np.where(hist_counts > 0., hist / hist_counts, 0.);\n",
    "\n",
    "# ****************************************************************************************"
   ]
  },
  {
   "cell_type": "code",
   "execution_count": null,
   "id": "b1298d02",
   "metadata": {},
   "outputs": [],
   "source": [
    "# ****************************************************************************************\n",
    "# Initialize lists to store statistics for each bin\n",
    "mean_per_bin = np.zeros((x_nbins, y_nbins))\n",
    "\n",
    "# Iterate over each bin\n",
    "for i in range(x_nbins):\n",
    "    for j in range(y_nbins):\n",
    "        # Indices of data points in the current bin\n",
    "        mask = ((x_pos >= xedges[i]) & (x_pos < xedges[i + 1]) & \n",
    "                (y_pos >= yedges[j]) & (y_pos < yedges[j + 1]))\n",
    "\n",
    "        # Extract values and weights in the current bin\n",
    "        values_in_bin = charge[mask]\n",
    "\n",
    "        # Calculate weighted mean and standard deviation\n",
    "        mean_value = np.mean(values_in_bin)\n",
    "\n",
    "        # Append to lists\n",
    "        mean_per_bin[i][j] = mean_value\n",
    "\n",
    "mean_per_bin = np.nan_to_num(mean_per_bin)\n",
    "# ****************************************************************************************"
   ]
  }
 ],
 "metadata": {
  "kernelspec": {
   "display_name": "Python 3 (ipykernel)",
   "language": "python",
   "name": "python3"
  },
  "language_info": {
   "codemirror_mode": {
    "name": "ipython",
    "version": 3
   },
   "file_extension": ".py",
   "mimetype": "text/x-python",
   "name": "python",
   "nbconvert_exporter": "python",
   "pygments_lexer": "ipython3",
   "version": "3.8.16"
  }
 },
 "nbformat": 4,
 "nbformat_minor": 5
}
