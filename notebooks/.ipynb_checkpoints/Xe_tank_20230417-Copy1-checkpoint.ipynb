{
 "cells": [
  {
   "cell_type": "code",
   "execution_count": 1,
   "id": "19d793eb",
   "metadata": {},
   "outputs": [],
   "source": [
    "import numpy              as np\n",
    "import pandas             as pd\n",
    "\n",
    "import scipy              \n",
    "from scipy import stats, integrate\n",
    "\n",
    "import matplotlib.pyplot  as plt\n",
    "\n",
    "from matplotlib.ticker import FormatStrFormatter # to set the format of the plot's axis\n",
    "from matplotlib.patches import Rectangle # To add blanck spaces in tabular legends\n",
    "\n",
    "import os\n",
    "import math\n",
    "import tables as tb"
   ]
  },
  {
   "cell_type": "markdown",
   "id": "85a2dfe0",
   "metadata": {},
   "source": [
    "# Functions"
   ]
  },
  {
   "cell_type": "code",
   "execution_count": 2,
   "id": "c057ab51",
   "metadata": {},
   "outputs": [],
   "source": [
    "# Fitting distributions to define\n",
    "\n",
    "# note: pdf are normilized to 1 so we have yo add an amplitude param\n",
    "def gauss(x, a,  mu, sigma):\n",
    "    return a*stats.norm.pdf(x, mu, sigma) \n",
    "\n",
    "def gauss_sum(x, a0,  mu0, sigma0, a1, mu1, sigma1):\n",
    "    return a0*stats.norm.pdf(x, mu0, sigma0)  + a1*stats.norm.pdf(x, mu1, sigma1)\n",
    "\n",
    "def EL_yield(E, p, d):\n",
    "    # E[kV/cm] electric field \n",
    "    # p[bar] pressure\n",
    "    # d[cm] average absorption depth\n",
    "    return (140*E/p - 116)*d*p # [photons/e⁻]\n"
   ]
  },
  {
   "cell_type": "markdown",
   "id": "f55cea8a",
   "metadata": {},
   "source": [
    "# Global parameters"
   ]
  },
  {
   "cell_type": "code",
   "execution_count": 3,
   "id": "5562c609",
   "metadata": {},
   "outputs": [],
   "source": [
    "pd.set_option('display.max_columns', None)\n",
    "pd.set_option('display.max_rows', 100)\n",
    "pd.set_option('display.min_rows', 20)"
   ]
  },
  {
   "cell_type": "code",
   "execution_count": 4,
   "id": "e9c3a83a",
   "metadata": {},
   "outputs": [],
   "source": [
    "# plt.rcParams[\"figure.figsize\"] = 10, 8\n",
    "# plt.rcParams[\"font.size\"] = 10"
   ]
  },
  {
   "cell_type": "code",
   "execution_count": 5,
   "id": "fa353cae",
   "metadata": {},
   "outputs": [
    {
     "name": "stdout",
     "output_type": "stream",
     "text": [
      "EL_gain =  [500, 1000, 1500, 2000]\n"
     ]
    }
   ],
   "source": [
    "dt = 1e3 # [ns] = 1us\n",
    "\n",
    "v_d = 967.99*1e-6 # [mm/ns] = 967.99 [um/us] Drift velocity\n",
    "Xe_ion = 12.13*1e-6 # [MeV] Xe ionization potential (https://www.nuclear-power.com/xenon-affinity-electronegativity-ionization/)\n",
    "\n",
    "\n",
    "d = 0.5 # [cm] average absorption depth (https://arxiv.org/pdf/1202.0721.pdf)\n",
    "p = 15 # [bar] pressure\n",
    "E = 3*p # [kV/cm] electric field (we ussually get E/p, so we define E in terms of p) (https://arxiv.org/pdf/1202.0721.pdf)\n",
    "V = E*d # [kV] voltage\n",
    "\n",
    "# EL_gain = 75 # [photons/e⁻] optical gain (https://iopscience.iop.org/article/10.1088/1748-0221/10/03/P03025/pdf)\n",
    "# EL_gain = 700 # [photons/e⁻] optical gain (Francesc)\n",
    "# EL_gain = 2500 # [photons/e⁻] optical gain (https://arxiv.org/pdf/1202.0721.pdf)\n",
    "# EL_gain = EL_yield(E, p, d) # [photons/e⁻] optical gain (https://arxiv.org/pdf/physics/0702142.pdf)\n",
    "# EL_gain = 140*V # [photons/e⁻] optical gain (https://arxiv.org/pdf/physics/0702142.pdf)\n",
    "EL_gain = [500, 1000, 1500, 2000] # [photons/e⁻] optical gain \n",
    "print('EL_gain = ', EL_gain)\n",
    "\n",
    "# e_lt = 16e5 # [ns] electron lifetime\n",
    "e_lt = 10e6 # [ns] = 10 [ms] electron lifetime\n",
    "# recombi = 0.026 # recombination factor (https://iopscience.iop.org/article/10.1088/1748-0221/10/03/P03025/pdf)\n",
    "recombi = 0. # recombination factor (Ander)\n",
    "\n",
    "difusion_factor = 0.3 # [mm] difusion factor (Ander)\n",
    "\n",
    "z_max = 1.5e3 # [mm] Detector length/2\n",
    "z_min = -z_max # symmetric detector"
   ]
  },
  {
   "cell_type": "markdown",
   "id": "7af0b327",
   "metadata": {},
   "source": [
    "# Data"
   ]
  },
  {
   "cell_type": "markdown",
   "id": "b0b784dd",
   "metadata": {},
   "source": [
    "## Units are fundamental units used in Geant4, ie:\n",
    "\n",
    "### Length [L]: mm (milimeter)\n",
    "### Time [T]: ns (nanosecond)\n",
    "### Energy [E]: MeV (megaelectronvolt)\n"
   ]
  },
  {
   "cell_type": "code",
   "execution_count": 6,
   "id": "1ee61880",
   "metadata": {},
   "outputs": [],
   "source": [
    "path = '/home/investigator/mariandbt/nexus/'\n",
    "\n",
    "filename = os.path.join(path, \"Xe_tank_bb0nu.next.h5\")"
   ]
  },
  {
   "cell_type": "code",
   "execution_count": 7,
   "id": "3557f9c6",
   "metadata": {},
   "outputs": [
    {
     "name": "stdout",
     "output_type": "stream",
     "text": [
      "/home/investigator/mariandbt/nexus/Xe_tank_bb0nu.next.h5 (File) ''\n",
      "Last modif.: '2023-03-27T15:22:22+00:00'\n",
      "Object Tree: \n",
      "/ (RootGroup) ''\n",
      "/MC (Group) ''\n",
      "/MC/configuration (Table(36,)) ''\n",
      "/MC/hits (Table(1499311,)) ''\n",
      "/MC/particles (Table(317632,)) ''\n",
      "/MC/sns_positions (Table(0,)) ''\n",
      "/MC/sns_response (Table(0,)) ''\n",
      "\n"
     ]
    }
   ],
   "source": [
    "# inside a .h5 file there are several objects, let's see which data-set (dst) we want\n",
    "with tb.open_file(filename) as file:\n",
    "    print(file)"
   ]
  },
  {
   "cell_type": "code",
   "execution_count": 8,
   "id": "f353a737",
   "metadata": {},
   "outputs": [],
   "source": [
    "# %%timeit # WITH THIS YOU'RE ONLY TIMING, BUT IT DOESN'T REALLY RUN THE COMMANDS YOU TIME\n",
    "data = pd.read_hdf(filename, \"/MC/hits\")\n",
    "# dst = pd.read_hdf(filename, \"/MC/hits\").groupby(\"event_id\").get_group(event_id)"
   ]
  },
  {
   "cell_type": "code",
   "execution_count": 9,
   "id": "3e3460fd",
   "metadata": {},
   "outputs": [],
   "source": [
    "dst = data.copy()"
   ]
  },
  {
   "cell_type": "markdown",
   "id": "4b32220d",
   "metadata": {},
   "source": [
    "# Electron distribution on time"
   ]
  },
  {
   "cell_type": "markdown",
   "id": "1ed51f88",
   "metadata": {},
   "source": [
    "## Number of events"
   ]
  },
  {
   "cell_type": "code",
   "execution_count": 10,
   "id": "008fbc22",
   "metadata": {},
   "outputs": [
    {
     "data": {
      "text/plain": [
       "10000"
      ]
     },
     "execution_count": 10,
     "metadata": {},
     "output_type": "execute_result"
    }
   ],
   "source": [
    "n_events = len(dst['event_id'].unique())\n",
    "n_events"
   ]
  },
  {
   "cell_type": "markdown",
   "id": "b50bf513",
   "metadata": {},
   "source": [
    "## Measurement time = hit time + drift time + difusion"
   ]
  },
  {
   "cell_type": "markdown",
   "id": "14d4d60a",
   "metadata": {},
   "source": [
    "### Drift time"
   ]
  },
  {
   "cell_type": "code",
   "execution_count": 11,
   "id": "99da5381",
   "metadata": {},
   "outputs": [],
   "source": [
    "dst['drift_time'] = (z_max - dst['z'])/(v_d) # [ns]"
   ]
  },
  {
   "cell_type": "markdown",
   "id": "0157615e",
   "metadata": {},
   "source": [
    "### Difusion effect: variation of the drift time"
   ]
  },
  {
   "cell_type": "markdown",
   "id": "5250456d",
   "metadata": {},
   "source": [
    "Instead of one t_drift for each hit we should have one for each electron given the difusion"
   ]
  },
  {
   "cell_type": "code",
   "execution_count": 12,
   "id": "baec8abb",
   "metadata": {},
   "outputs": [],
   "source": [
    "# Example with just 1 event\n",
    "ev_id = 200\n",
    "EL_index = 0"
   ]
  },
  {
   "cell_type": "code",
   "execution_count": 13,
   "id": "063a521a",
   "metadata": {},
   "outputs": [],
   "source": [
    "dst_event = dst.loc[(dst['event_id'] == ev_id), :].copy() # faster\n",
    "\n",
    "hit_time = np.array(dst_event['time']) # [ns]\n",
    "drift_time = np.array(dst_event['drift_time']) # [ns]\n",
    "hit_energy = np.array(dst_event['energy']) # [MeV]"
   ]
  },
  {
   "cell_type": "markdown",
   "id": "d8c1fb6e",
   "metadata": {},
   "source": [
    "#### Number of ionization electrons =  (energy of the hit) / (Xenon ionization energy) "
   ]
  },
  {
   "cell_type": "code",
   "execution_count": 14,
   "id": "7e7ade13",
   "metadata": {},
   "outputs": [],
   "source": [
    "n_e_ion = np.floor(hit_energy/Xe_ion) # number of ionization electrons"
   ]
  },
  {
   "cell_type": "code",
   "execution_count": 15,
   "id": "29d95153",
   "metadata": {},
   "outputs": [],
   "source": [
    "\n",
    "mu = 0.\n",
    "sigma = difusion_factor/np.sqrt(drift_time)\n",
    "size = n_e_ion\n",
    "\n",
    "t_difusion = []\n",
    "\n",
    "for ii in range(len(dst_event)):\n",
    "    t_difusion.append(np.random.normal(mu, sigma[ii], int(size[ii])))\n",
    "    "
   ]
  },
  {
   "cell_type": "code",
   "execution_count": 16,
   "id": "81a19208",
   "metadata": {},
   "outputs": [
    {
     "data": {
      "text/plain": [
       "array([ 0.00617061,  0.00091655,  0.0005649 , ..., -0.00151639,\n",
       "       -0.00016652,  0.00409946])"
      ]
     },
     "execution_count": 16,
     "metadata": {},
     "output_type": "execute_result"
    }
   ],
   "source": [
    "patata = 9\n",
    "t_difusion[patata] # this gives me the variation wrt 0 of the t_drift for each electron in hit 'patata'\n",
    "# for each t_drif(hit) we have N t_dif(electrons)"
   ]
  },
  {
   "cell_type": "code",
   "execution_count": 17,
   "id": "383737ae",
   "metadata": {},
   "outputs": [
    {
     "data": {
      "text/plain": [
       "array([19201.68923332, 19201.68925083, 19201.69171177, ...,\n",
       "       12034.4432942 , 12034.44014161, 12034.44151367])"
      ]
     },
     "execution_count": 17,
     "metadata": {},
     "output_type": "execute_result"
    }
   ],
   "source": [
    "travel_time = drift_time + np.array(t_difusion, dtype=object)\n",
    "\n",
    "measurement_time = np.concatenate( hit_time + travel_time )\n",
    "\n",
    "# travel_time = np.concatenate(travel_time) # we don't concatenate it before because then the + would be different\n",
    "\n",
    "measurement_time # we have 1 measurement_time for each event with len(measurement_time) = (n_e in that event)"
   ]
  },
  {
   "cell_type": "code",
   "execution_count": 18,
   "id": "60e42e10",
   "metadata": {},
   "outputs": [
    {
     "data": {
      "text/plain": [
       "array([19201.68923332, 19201.68925083, 19201.69171177, ...,\n",
       "       19201.68752407, 19201.69106849, 19201.68877596])"
      ]
     },
     "execution_count": 18,
     "metadata": {},
     "output_type": "execute_result"
    }
   ],
   "source": [
    "travel_time = drift_time + np.array(t_difusion, dtype=object)\n",
    "\n",
    "(hit_time + travel_time)[0]"
   ]
  },
  {
   "cell_type": "markdown",
   "id": "6c252567",
   "metadata": {},
   "source": [
    "#### N_ph/N_e_ion =  (1 - recombination factor) * (lifetime factor)* (EL gain) "
   ]
  },
  {
   "cell_type": "code",
   "execution_count": 19,
   "id": "cbb127a0",
   "metadata": {},
   "outputs": [],
   "source": [
    "n_ph = (1 - recombi)*np.exp(-np.concatenate(travel_time)/e_lt)*EL_gain[EL_index] # n_photons resulting of each e⁻"
   ]
  },
  {
   "cell_type": "code",
   "execution_count": 20,
   "id": "99136a24",
   "metadata": {},
   "outputs": [
    {
     "name": "stdout",
     "output_type": "stream",
     "text": [
      "Event time =  10.669354084174  us\n"
     ]
    },
    {
     "data": {
      "image/png": "[encoded data removed]",
      "text/plain": [
       "<Figure size 1000x500 with 1 Axes>"
      ]
     },
     "metadata": {},
     "output_type": "display_data"
    }
   ],
   "source": [
    "fig, ax = plt.subplots(nrows=1, ncols=1, figsize=(10,5), constrained_layout=True)\n",
    "\n",
    "no_dif_measurement_time = hit_time + drift_time # to compare the difusion effect\n",
    "n_ph_no_dif = n_e_ion*(1 - recombi)*np.exp(-drift_time/e_lt)*EL_gain[EL_index]\n",
    "\n",
    "if (measurement_time.max() - measurement_time.min()) > dt:\n",
    "    hist_bins = np.arange(measurement_time.min(), measurement_time.max(), dt)\n",
    "    hist_bins_no_dif = np.arange(no_dif_measurement_time.min(), no_dif_measurement_time.max(), dt)\n",
    "else:\n",
    "    hist_bins = np.array([measurement_time.min(), measurement_time.max()])\n",
    "    hist_bins_no_dif = np.array([no_dif_measurement_time.min(), no_dif_measurement_time.max()])\n",
    "\n",
    "#     hist_weights = dst_event['n_ph']\n",
    "hist_weights = n_ph\n",
    "events, bins = np.histogram(measurement_time, hist_bins, weights = hist_weights);\n",
    "\n",
    "hist_weights_no_dif = n_ph_no_dif\n",
    "events_no_dif, bins_no_dif = np.histogram(no_dif_measurement_time, hist_bins_no_dif, \n",
    "                                          weights = hist_weights_no_dif);\n",
    "\n",
    "print('Event time = ', 1e-3*(measurement_time.max() - measurement_time.min()), ' us')\n",
    "\n",
    "ax.step(bins[:-1], events,label = 'with difusion')\n",
    "ax.step(bins_no_dif[:-1], events_no_dif, '--', label = 'without difusion')\n",
    "\n",
    "ax.legend(loc = 'best')\n",
    "\n",
    "ax.set_xlabel('Time [ns]');\n",
    "ax.set_ylabel('Photons');"
   ]
  },
  {
   "cell_type": "code",
   "execution_count": 21,
   "id": "4052505c",
   "metadata": {},
   "outputs": [],
   "source": [
    "# All events"
   ]
  },
  {
   "cell_type": "code",
   "execution_count": 22,
   "id": "2234a4da",
   "metadata": {},
   "outputs": [],
   "source": [
    "# dst"
   ]
  },
  {
   "cell_type": "code",
   "execution_count": 23,
   "id": "436a0b96",
   "metadata": {},
   "outputs": [],
   "source": [
    "hit_time = np.array(dst['time']) # [ns]\n",
    "drift_time = np.array(dst['drift_time']) # [ns]\n",
    "hit_energy = np.array(dst['energy']) # [MeV]"
   ]
  },
  {
   "cell_type": "code",
   "execution_count": 24,
   "id": "4596beb5",
   "metadata": {},
   "outputs": [],
   "source": [
    "n_e_ion = np.floor(hit_energy/Xe_ion) # number of ionization electrons"
   ]
  },
  {
   "cell_type": "code",
   "execution_count": 25,
   "id": "a5a0a393",
   "metadata": {},
   "outputs": [
    {
     "name": "stdout",
     "output_type": "stream",
     "text": [
      "(3,)\n"
     ]
    },
    {
     "data": {
      "text/plain": [
       "array([array([1., 1., 1.]),\n",
       "       array([2.06321628, 2.04852009, 1.75212413, 2.0854667 ]),\n",
       "       array([1.3871791 , 1.46824759, 1.85765838, 3.22290555, 3.25588708])],\n",
       "      dtype=object)"
      ]
     },
     "execution_count": 25,
     "metadata": {},
     "output_type": "execute_result"
    }
   ],
   "source": [
    "# Define the means, standard deviations, and sizes of the distributions\n",
    "means = np.array([1, 2, 3])\n",
    "stds = np.array([0., 0.2, 2])\n",
    "sizes = np.array([3, 4, 5])\n",
    "\n",
    "# Use broadcasting to generate an array of random numbers from normal distributions\n",
    "arr = np.random.normal(loc=means[:, np.newaxis], scale=stds[:, np.newaxis], size=(len(means), sizes.max()))\n",
    "\n",
    "# Use slicing to extract the subarrays with the desired sizes\n",
    "result = np.array([a[:size] for a, size in zip(arr, sizes)], dtype=object)\n",
    "\n",
    "# Print the shape of the resulting array\n",
    "print(result.shape)\n",
    "result"
   ]
  },
  {
   "cell_type": "code",
   "execution_count": 26,
   "id": "cf686379",
   "metadata": {},
   "outputs": [
    {
     "data": {
      "text/plain": [
       "[1, 11, 121, 12391, 136301, 1499311]"
      ]
     },
     "execution_count": 26,
     "metadata": {},
     "output_type": "execute_result"
    }
   ],
   "source": [
    "nn = len(drift_time)\n",
    "\n",
    "def find_divisors(n):\n",
    "    \"\"\"Encuentra los divisores de un número entero positivo dado.\"\"\"\n",
    "    return [i for i in range(1, n+1) if n % i == 0]\n",
    "\n",
    "find_divisors(nn)"
   ]
  },
  {
   "cell_type": "code",
   "execution_count": null,
   "id": "b96b418e",
   "metadata": {},
   "outputs": [],
   "source": [
    "nn/121\n",
    "121*270"
   ]
  },
  {
   "cell_type": "code",
   "execution_count": null,
   "id": "7d9e869a",
   "metadata": {
    "scrolled": true
   },
   "outputs": [
    {
     "name": "stderr",
     "output_type": "stream",
     "text": [
      "/tmp/ipykernel_57606/3751935501.py:10: RuntimeWarning: divide by zero encountered in true_divide\n",
      "  stds = np.where(drift_time > 0., difusion_factor/np.sqrt(drift_time), 0.)[start:stop]\n"
     ]
    },
    {
     "name": "stdout",
     "output_type": "stream",
     "text": [
      "0\n",
      "1\n",
      "2\n",
      "3\n",
      "4\n",
      "5\n",
      "6\n",
      "7\n",
      "8\n",
      "9\n",
      "10\n",
      "11\n",
      "12\n",
      "13\n",
      "14\n",
      "15\n",
      "16\n",
      "17\n",
      "18\n",
      "19\n",
      "20\n",
      "21\n",
      "22\n",
      "23\n",
      "24\n",
      "25\n",
      "26\n",
      "27\n",
      "28\n",
      "29\n",
      "30\n",
      "31\n",
      "32\n",
      "33\n",
      "34\n",
      "35\n",
      "36\n",
      "37\n",
      "38\n",
      "39\n",
      "40\n",
      "41\n",
      "42\n",
      "43\n",
      "44\n",
      "45\n",
      "46\n",
      "47\n",
      "48\n",
      "49\n",
      "50\n",
      "51\n",
      "52\n",
      "53\n",
      "54\n",
      "55\n",
      "56\n",
      "57\n",
      "58\n",
      "59\n",
      "60\n",
      "61\n",
      "62\n",
      "63\n",
      "64\n",
      "65\n",
      "66\n",
      "67\n",
      "68\n",
      "69\n",
      "70\n",
      "71\n",
      "72\n",
      "73\n",
      "74\n",
      "75\n",
      "76\n",
      "77\n",
      "78\n",
      "79\n",
      "80\n",
      "81\n",
      "82\n",
      "83\n",
      "84\n",
      "85\n",
      "86\n",
      "87\n",
      "88\n",
      "89\n",
      "90\n",
      "91\n",
      "92\n",
      "93\n",
      "94\n",
      "95\n",
      "96\n",
      "97\n",
      "98\n",
      "99\n",
      "100\n",
      "101\n",
      "102\n",
      "103\n",
      "104\n",
      "105\n",
      "106\n",
      "107\n",
      "108\n",
      "109\n",
      "110\n",
      "111\n",
      "112\n",
      "113\n",
      "114\n",
      "115\n",
      "116\n",
      "117\n",
      "118\n",
      "119\n",
      "120\n",
      "121\n",
      "122\n",
      "123\n",
      "124\n",
      "125\n",
      "126\n",
      "127\n",
      "128\n",
      "129\n",
      "130\n",
      "131\n",
      "132\n",
      "133\n",
      "134\n",
      "135\n",
      "136\n",
      "137\n",
      "138\n",
      "139\n",
      "140\n",
      "141\n",
      "142\n",
      "143\n",
      "144\n",
      "145\n",
      "146\n",
      "147\n",
      "148\n",
      "149\n",
      "150\n",
      "151\n",
      "152\n",
      "153\n",
      "154\n",
      "155\n",
      "156\n",
      "157\n",
      "158\n",
      "159\n",
      "160\n",
      "161\n",
      "162\n",
      "163\n",
      "164\n",
      "165\n",
      "166\n",
      "167\n",
      "168\n",
      "169\n",
      "170\n",
      "171\n",
      "172\n",
      "173\n",
      "174\n",
      "175\n",
      "176\n",
      "177\n",
      "178\n",
      "179\n",
      "180\n",
      "181\n",
      "182\n",
      "183\n",
      "184\n",
      "185\n",
      "186\n",
      "187\n",
      "188\n",
      "189\n",
      "190\n",
      "191\n",
      "192\n",
      "193\n",
      "194\n",
      "195\n",
      "196\n",
      "197\n",
      "198\n",
      "199\n",
      "200\n",
      "201\n",
      "202\n",
      "203\n",
      "204\n",
      "205\n",
      "206\n",
      "207\n",
      "208\n",
      "209\n",
      "210\n",
      "211\n",
      "212\n",
      "213\n",
      "214\n",
      "215\n",
      "216\n",
      "217\n",
      "218\n",
      "219\n",
      "220\n",
      "221\n",
      "222\n",
      "223\n",
      "224\n",
      "225\n",
      "226\n",
      "227\n",
      "228\n",
      "229\n",
      "230\n",
      "231\n",
      "232\n",
      "233\n",
      "234\n",
      "235\n",
      "236\n",
      "237\n",
      "238\n",
      "239\n",
      "240\n",
      "241\n",
      "242\n",
      "243\n",
      "244\n",
      "245\n",
      "246\n",
      "247\n",
      "248\n",
      "249\n",
      "250\n",
      "251\n",
      "252\n",
      "253\n",
      "254\n",
      "255\n",
      "256\n",
      "257\n",
      "258\n",
      "259\n",
      "260\n",
      "261\n",
      "262\n",
      "263\n",
      "264\n",
      "265\n",
      "266\n",
      "267\n",
      "268\n",
      "269\n",
      "270\n"
     ]
    }
   ],
   "source": [
    "# Define the means, standard deviations, and sizes of the distributions\n",
    "\n",
    "result = []\n",
    "step = 121\n",
    "\n",
    "for count in range(int(len(drift_time)/step)):\n",
    "    start = step*count\n",
    "    stop = step*(count + 1)\n",
    "\n",
    "    stds = np.where(drift_time > 0., difusion_factor/np.sqrt(drift_time), 0.)[start:stop]\n",
    "    means = np.zeros(len(stds))\n",
    "    sizes = np.array(n_e_ion, dtype=int)[start:stop]\n",
    "\n",
    "    # means = np.array([1, 2, 3])\n",
    "    # stds = np.array([0., 0.2, 2])\n",
    "    # sizes = np.array([3, 4, 5])\n",
    "\n",
    "    # Use broadcasting to generate an array of random numbers from normal distributions\n",
    "    arr = np.random.normal(loc=means[:, np.newaxis], scale=stds[:, np.newaxis], size=(len(means), sizes.max()))\n",
    "\n",
    "    # Use slicing to extract the subarrays with the desired sizes\n",
    "    result.append(np.array([a[:size] for a, size in zip(arr, sizes)], dtype=object))\n",
    "    print(count)\n",
    "    \n",
    "\n",
    "# Print the shape of the resulting array\n",
    "print(result.shape)\n",
    "# result"
   ]
  },
  {
   "cell_type": "code",
   "execution_count": 102,
   "id": "24548830",
   "metadata": {},
   "outputs": [
    {
     "data": {
      "text/plain": [
       "42798"
      ]
     },
     "execution_count": 102,
     "metadata": {},
     "output_type": "execute_result"
    }
   ],
   "source": [
    "sizes[4], len(result[4])\n",
    "sizes.max()"
   ]
  },
  {
   "cell_type": "code",
   "execution_count": 50,
   "id": "d78bc5b9",
   "metadata": {},
   "outputs": [
    {
     "name": "stderr",
     "output_type": "stream",
     "text": [
      "/tmp/ipykernel_49159/2650922614.py:2: RuntimeWarning: divide by zero encountered in true_divide\n",
      "  sigma = np.where(drift_time > 0., difusion_factor/np.sqrt(drift_time), 0.)\n"
     ]
    }
   ],
   "source": [
    "\n",
    "mu = 0.\n",
    "sigma = np.where(drift_time > 0., difusion_factor/np.sqrt(drift_time), 0.)\n",
    "size = n_e_ion\n",
    "\n",
    "dt_difusion = []\n",
    "\n",
    "for ii in range(len(dst)):\n",
    "    dt_difusion.append(np.random.normal(mu, sigma[ii], int(size[ii])))\n",
    "    "
   ]
  },
  {
   "cell_type": "code",
   "execution_count": 57,
   "id": "5d2442a4",
   "metadata": {},
   "outputs": [
    {
     "data": {
      "text/plain": [
       "(59,)"
      ]
     },
     "execution_count": 57,
     "metadata": {},
     "output_type": "execute_result"
    }
   ],
   "source": [
    "np.shape(np.array(dt_difusion, dtype = object))"
   ]
  },
  {
   "cell_type": "code",
   "execution_count": null,
   "id": "efc4e6d8",
   "metadata": {},
   "outputs": [],
   "source": []
  },
  {
   "cell_type": "markdown",
   "id": "fb6227c4",
   "metadata": {},
   "source": [
    "### Max S2 signal"
   ]
  },
  {
   "cell_type": "code",
   "execution_count": null,
   "id": "5906065e",
   "metadata": {},
   "outputs": [],
   "source": []
  },
  {
   "cell_type": "code",
   "execution_count": null,
   "id": "60e70922",
   "metadata": {},
   "outputs": [],
   "source": []
  },
  {
   "cell_type": "code",
   "execution_count": 28,
   "id": "d3a246ff",
   "metadata": {},
   "outputs": [],
   "source": [
    "dst['tot_time'] = dst['time'] + dst['drift_time']"
   ]
  },
  {
   "cell_type": "code",
   "execution_count": 29,
   "id": "49e64038",
   "metadata": {},
   "outputs": [
    {
     "ename": "KeyError",
     "evalue": "'n_ph_0'",
     "output_type": "error",
     "traceback": [
      "\u001b[0;31m---------------------------------------------------------------------------\u001b[0m",
      "\u001b[0;31mKeyError\u001b[0m                                  Traceback (most recent call last)",
      "File \u001b[0;32m~/miniconda/envs/IC-3.8-2022-04-13/lib/python3.8/site-packages/pandas/core/indexes/base.py:3361\u001b[0m, in \u001b[0;36mIndex.get_loc\u001b[0;34m(self, key, method, tolerance)\u001b[0m\n\u001b[1;32m   3360\u001b[0m \u001b[38;5;28;01mtry\u001b[39;00m:\n\u001b[0;32m-> 3361\u001b[0m     \u001b[38;5;28;01mreturn\u001b[39;00m \u001b[38;5;28;43mself\u001b[39;49m\u001b[38;5;241;43m.\u001b[39;49m\u001b[43m_engine\u001b[49m\u001b[38;5;241;43m.\u001b[39;49m\u001b[43mget_loc\u001b[49m\u001b[43m(\u001b[49m\u001b[43mcasted_key\u001b[49m\u001b[43m)\u001b[49m\n\u001b[1;32m   3362\u001b[0m \u001b[38;5;28;01mexcept\u001b[39;00m \u001b[38;5;167;01mKeyError\u001b[39;00m \u001b[38;5;28;01mas\u001b[39;00m err:\n",
      "File \u001b[0;32m~/miniconda/envs/IC-3.8-2022-04-13/lib/python3.8/site-packages/pandas/_libs/index.pyx:76\u001b[0m, in \u001b[0;36mpandas._libs.index.IndexEngine.get_loc\u001b[0;34m()\u001b[0m\n",
      "File \u001b[0;32m~/miniconda/envs/IC-3.8-2022-04-13/lib/python3.8/site-packages/pandas/_libs/index.pyx:108\u001b[0m, in \u001b[0;36mpandas._libs.index.IndexEngine.get_loc\u001b[0;34m()\u001b[0m\n",
      "File \u001b[0;32mpandas/_libs/hashtable_class_helper.pxi:5198\u001b[0m, in \u001b[0;36mpandas._libs.hashtable.PyObjectHashTable.get_item\u001b[0;34m()\u001b[0m\n",
      "File \u001b[0;32mpandas/_libs/hashtable_class_helper.pxi:5206\u001b[0m, in \u001b[0;36mpandas._libs.hashtable.PyObjectHashTable.get_item\u001b[0;34m()\u001b[0m\n",
      "\u001b[0;31mKeyError\u001b[0m: 'n_ph_0'",
      "\nThe above exception was the direct cause of the following exception:\n",
      "\u001b[0;31mKeyError\u001b[0m                                  Traceback (most recent call last)",
      "Input \u001b[0;32mIn [29]\u001b[0m, in \u001b[0;36m<cell line: 5>\u001b[0;34m()\u001b[0m\n\u001b[1;32m     18\u001b[0m         hist_bins \u001b[38;5;241m=\u001b[39m np\u001b[38;5;241m.\u001b[39marray([dst_event[\u001b[38;5;124m'\u001b[39m\u001b[38;5;124mtot_time\u001b[39m\u001b[38;5;124m'\u001b[39m]\u001b[38;5;241m.\u001b[39mmin(), dst_event[\u001b[38;5;124m'\u001b[39m\u001b[38;5;124mtot_time\u001b[39m\u001b[38;5;124m'\u001b[39m]\u001b[38;5;241m.\u001b[39mmax()])\n\u001b[1;32m     20\u001b[0m \u001b[38;5;66;03m#     hist_weights = dst_event['n_ph']\u001b[39;00m\n\u001b[0;32m---> 21\u001b[0m     hist_weights \u001b[38;5;241m=\u001b[39m \u001b[43mdst_event\u001b[49m\u001b[43m[\u001b[49m\u001b[38;5;28;43mstr\u001b[39;49m\u001b[43m(\u001b[49m\u001b[38;5;124;43m'\u001b[39;49m\u001b[38;5;124;43mn_ph_\u001b[39;49m\u001b[38;5;124;43m'\u001b[39;49m\u001b[43m \u001b[49m\u001b[38;5;241;43m+\u001b[39;49m\u001b[43m \u001b[49m\u001b[38;5;28;43mstr\u001b[39;49m\u001b[43m(\u001b[49m\u001b[43mcount\u001b[49m\u001b[43m)\u001b[49m\u001b[43m)\u001b[49m\u001b[43m]\u001b[49m\n\u001b[1;32m     22\u001b[0m     events, bins \u001b[38;5;241m=\u001b[39m np\u001b[38;5;241m.\u001b[39mhistogram(dst_event[\u001b[38;5;124m'\u001b[39m\u001b[38;5;124mtot_time\u001b[39m\u001b[38;5;124m'\u001b[39m], hist_bins, weights \u001b[38;5;241m=\u001b[39m hist_weights);\n\u001b[1;32m     24\u001b[0m     s2\u001b[38;5;241m.\u001b[39mappend(events\u001b[38;5;241m.\u001b[39mmax())\n",
      "File \u001b[0;32m~/miniconda/envs/IC-3.8-2022-04-13/lib/python3.8/site-packages/pandas/core/frame.py:3458\u001b[0m, in \u001b[0;36mDataFrame.__getitem__\u001b[0;34m(self, key)\u001b[0m\n\u001b[1;32m   3456\u001b[0m \u001b[38;5;28;01mif\u001b[39;00m \u001b[38;5;28mself\u001b[39m\u001b[38;5;241m.\u001b[39mcolumns\u001b[38;5;241m.\u001b[39mnlevels \u001b[38;5;241m>\u001b[39m \u001b[38;5;241m1\u001b[39m:\n\u001b[1;32m   3457\u001b[0m     \u001b[38;5;28;01mreturn\u001b[39;00m \u001b[38;5;28mself\u001b[39m\u001b[38;5;241m.\u001b[39m_getitem_multilevel(key)\n\u001b[0;32m-> 3458\u001b[0m indexer \u001b[38;5;241m=\u001b[39m \u001b[38;5;28;43mself\u001b[39;49m\u001b[38;5;241;43m.\u001b[39;49m\u001b[43mcolumns\u001b[49m\u001b[38;5;241;43m.\u001b[39;49m\u001b[43mget_loc\u001b[49m\u001b[43m(\u001b[49m\u001b[43mkey\u001b[49m\u001b[43m)\u001b[49m\n\u001b[1;32m   3459\u001b[0m \u001b[38;5;28;01mif\u001b[39;00m is_integer(indexer):\n\u001b[1;32m   3460\u001b[0m     indexer \u001b[38;5;241m=\u001b[39m [indexer]\n",
      "File \u001b[0;32m~/miniconda/envs/IC-3.8-2022-04-13/lib/python3.8/site-packages/pandas/core/indexes/base.py:3363\u001b[0m, in \u001b[0;36mIndex.get_loc\u001b[0;34m(self, key, method, tolerance)\u001b[0m\n\u001b[1;32m   3361\u001b[0m         \u001b[38;5;28;01mreturn\u001b[39;00m \u001b[38;5;28mself\u001b[39m\u001b[38;5;241m.\u001b[39m_engine\u001b[38;5;241m.\u001b[39mget_loc(casted_key)\n\u001b[1;32m   3362\u001b[0m     \u001b[38;5;28;01mexcept\u001b[39;00m \u001b[38;5;167;01mKeyError\u001b[39;00m \u001b[38;5;28;01mas\u001b[39;00m err:\n\u001b[0;32m-> 3363\u001b[0m         \u001b[38;5;28;01mraise\u001b[39;00m \u001b[38;5;167;01mKeyError\u001b[39;00m(key) \u001b[38;5;28;01mfrom\u001b[39;00m \u001b[38;5;21;01merr\u001b[39;00m\n\u001b[1;32m   3365\u001b[0m \u001b[38;5;28;01mif\u001b[39;00m is_scalar(key) \u001b[38;5;129;01mand\u001b[39;00m isna(key) \u001b[38;5;129;01mand\u001b[39;00m \u001b[38;5;129;01mnot\u001b[39;00m \u001b[38;5;28mself\u001b[39m\u001b[38;5;241m.\u001b[39mhasnans:\n\u001b[1;32m   3366\u001b[0m     \u001b[38;5;28;01mraise\u001b[39;00m \u001b[38;5;167;01mKeyError\u001b[39;00m(key)\n",
      "\u001b[0;31mKeyError\u001b[0m: 'n_ph_0'"
     ]
    }
   ],
   "source": [
    "# %%timeit\n",
    "\n",
    "s2_hist = []\n",
    "\n",
    "for count, EL_gain_value in enumerate(EL_gain):\n",
    "    \n",
    "    s2 = []\n",
    "    \n",
    "    # for ii in range(1000):\n",
    "    for ii in range(n_events):\n",
    "\n",
    "        dst_event = dst.loc[(dst['event_id'] == ii), :] # faster\n",
    "    #     dst_event = dst.groupby(\"event_id\").get_group(ii) # slower\n",
    "\n",
    "        if (dst_event['tot_time'].max() - dst_event['tot_time'].min()) > dt:\n",
    "            hist_bins = np.arange(dst_event['tot_time'].min(), dst_event['tot_time'].max(), dt)\n",
    "        else:\n",
    "            hist_bins = np.array([dst_event['tot_time'].min(), dst_event['tot_time'].max()])\n",
    "\n",
    "    #     hist_weights = dst_event['n_ph']\n",
    "        hist_weights = dst_event[str('n_ph_' + str(count))]\n",
    "        events, bins = np.histogram(dst_event['tot_time'], hist_bins, weights = hist_weights);\n",
    "\n",
    "        s2.append(events.max())\n",
    "        \n",
    "    s2_hist.append(np.array(s2))\n",
    "    "
   ]
  },
  {
   "cell_type": "code",
   "execution_count": null,
   "id": "676f66f3",
   "metadata": {},
   "outputs": [],
   "source": [
    "# s2.mean(), s2.max()"
   ]
  },
  {
   "cell_type": "code",
   "execution_count": null,
   "id": "c37d8cf4",
   "metadata": {},
   "outputs": [],
   "source": [
    "fig, ax = plt.subplots(nrows=1, ncols=1, figsize=(10,5), constrained_layout=True)\n",
    "\n",
    "#_________plot_settings_________________________________________________\n",
    "\n",
    "\n",
    "s2_mean = []\n",
    "s2_max = []\n",
    "\n",
    "for count, EL_gain_value in enumerate(EL_gain):\n",
    "# for count, EL_gain_value in enumerate([500]):\n",
    "\n",
    "    events, bins, bars = ax.hist(s2_hist[count], 50, density=False, \n",
    "                                 label='S2 photon distribution', \n",
    "                                 histtype='step', \n",
    "                                 alpha = (0.25 + 0.25*count),\n",
    "                                 lw = 2\n",
    "                                )\n",
    "\n",
    "    s2_mean.append(s2_hist[count].mean())\n",
    "    s2_max.append(s2_hist[count].max())\n",
    "\n",
    "# ax.set_xlabel('Number of photons in S2');\n",
    "ax.set_xlabel('Maximum number of photons in each event');\n",
    "ax.set_ylabel('Counts');\n",
    "\n",
    "hand, labl = ax.get_legend_handles_labels()\n",
    "s2_mean = np.array(s2_mean)\n",
    "s2_max = np.array(s2_max)\n",
    "\n",
    "# create blank rectangle\n",
    "extra = Rectangle((0, 0), 1, 1, fc=\"w\", fill=False, edgecolor='none', linewidth=0)\n",
    "\n",
    "#Create organized list containing all handles for table. Extra represent empty space\n",
    "legend_handle = np.concatenate([[extra], hand, \n",
    "                                [extra]*(len(hand) + 1),\n",
    "                                [extra]*(len(hand) + 1),\n",
    "                                [extra]*(len(hand) + 1)\n",
    "                               ])\n",
    "\n",
    "#Define the labels\n",
    "label_empty = [\"\"]\n",
    "label_markers = [r\"Color\"]\n",
    "label_EL = [r\"EL Gain [ph/e]\", '%.0f'%(EL_gain[0]), '%.0f'%(EL_gain[1]), '%.0f'%(EL_gain[2]), '%.0f'%(EL_gain[3])]\n",
    "label_s2mean = [r\"$\\mu$ [ph]\", '%.2E'%(s2_mean[0]), '%.2E'%(s2_mean[1]), '%.2E'%(s2_mean[2]), '%.2E'%(s2_mean[3])]\n",
    "label_s2max = [r\"Max [ph]\", '%.2E'%(s2_max[0]), '%.2E'%(s2_max[1]), '%.2E'%(s2_max[2]), '%.2E'%(s2_max[3])]\n",
    "\n",
    "#organize labels for table construction\n",
    "legend_labels = np.concatenate([label_markers, label_empty*len(hand), \n",
    "                                label_EL, label_s2mean, label_s2max])\n",
    "\n",
    "#Create legend\n",
    "ax.legend(legend_handle, legend_labels, \n",
    "          loc = 'best', ncol = 4, shadow = False, handletextpad = -2)\n"
   ]
  },
  {
   "cell_type": "code",
   "execution_count": null,
   "id": "a0f7e49e",
   "metadata": {},
   "outputs": [],
   "source": []
  }
 ],
 "metadata": {
  "kernelspec": {
   "display_name": "Python 3 (ipykernel)",
   "language": "python",
   "name": "python3"
  },
  "language_info": {
   "codemirror_mode": {
    "name": "ipython",
    "version": 3
   },
   "file_extension": ".py",
   "mimetype": "text/x-python",
   "name": "python",
   "nbconvert_exporter": "python",
   "pygments_lexer": "ipython3",
   "version": "3.8.13"
  }
 },
 "nbformat": 4,
 "nbformat_minor": 5
}
