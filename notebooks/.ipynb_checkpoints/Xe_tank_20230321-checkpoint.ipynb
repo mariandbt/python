{
 "cells": [
  {
   "cell_type": "code",
   "execution_count": 1,
   "id": "19d793eb",
   "metadata": {},
   "outputs": [],
   "source": [
    "import numpy              as np\n",
    "import pandas             as pd\n",
    "import scipy              \n",
    "import matplotlib.pyplot  as plt\n",
    "\n",
    "from matplotlib.ticker import FormatStrFormatter # to set the format of the plot's axis\n",
    "\n",
    "import os\n",
    "import math\n",
    "import tables as tb"
   ]
  },
  {
   "cell_type": "markdown",
   "id": "f55cea8a",
   "metadata": {},
   "source": [
    "# Global parameters"
   ]
  },
  {
   "cell_type": "code",
   "execution_count": 2,
   "id": "5562c609",
   "metadata": {},
   "outputs": [],
   "source": [
    "pd.set_option('display.max_columns', None)\n",
    "pd.set_option('display.max_rows', 100)\n",
    "pd.set_option('display.min_rows', 20)"
   ]
  },
  {
   "cell_type": "code",
   "execution_count": 3,
   "id": "e9c3a83a",
   "metadata": {},
   "outputs": [],
   "source": [
    "# plt.rcParams[\"figure.figsize\"] = 10, 8\n",
    "# plt.rcParams[\"font.size\"] = 10"
   ]
  },
  {
   "cell_type": "code",
   "execution_count": 4,
   "id": "fa353cae",
   "metadata": {},
   "outputs": [],
   "source": [
    "event_id = 56\n",
    "\n",
    "v_d = 967.99*1e-6 # [mm/ns] = 967.99 [um/us] Drift velocity\n",
    "Xe_ion = 11.14*1e-6 # [MeV] Xe ionization potential\n",
    "EL_gain = 75 # optical gain \n",
    "\n",
    "e_lt = 16e5 # electron lifetime\n",
    "recombi = 0.026 # recombination factor\n",
    "\n",
    "z_max = 1.5e3 # [mm] Detector length/2\n",
    "z_min = -z_max # symmetric detector"
   ]
  },
  {
   "cell_type": "markdown",
   "id": "a983560e",
   "metadata": {},
   "source": [
    "# Data"
   ]
  },
  {
   "cell_type": "markdown",
   "id": "b0b784dd",
   "metadata": {},
   "source": [
    "## Units are fundamental units used in Geant4, ie:\n",
    "\n",
    "### Length [L]: mm (milimeter)\n",
    "### Time [T]: ns (nanosecond)\n",
    "### Energy [E]: MeV (megaelectronvolt)\n"
   ]
  },
  {
   "cell_type": "code",
   "execution_count": 5,
   "id": "1ee61880",
   "metadata": {},
   "outputs": [],
   "source": [
    "path = '/home/investigator/mariandbt/nexus/'\n",
    "\n",
    "filename = os.path.join(path, \"Xe_tank_bb0nu.next.h5\")"
   ]
  },
  {
   "cell_type": "code",
   "execution_count": 6,
   "id": "3557f9c6",
   "metadata": {},
   "outputs": [
    {
     "name": "stdout",
     "output_type": "stream",
     "text": [
      "/home/investigator/mariandbt/nexus/Xe_tank_bb0nu.next.h5 (File) ''\n",
      "Last modif.: '2023-03-27T15:22:22+00:00'\n",
      "Object Tree: \n",
      "/ (RootGroup) ''\n",
      "/MC (Group) ''\n",
      "/MC/configuration (Table(36,)) ''\n",
      "/MC/hits (Table(1499311,)) ''\n",
      "/MC/particles (Table(317632,)) ''\n",
      "/MC/sns_positions (Table(0,)) ''\n",
      "/MC/sns_response (Table(0,)) ''\n",
      "\n"
     ]
    }
   ],
   "source": [
    "# inside a .h5 file there are several objects, let's see which data-set (dst) we want\n",
    "with tb.open_file(filename) as file:\n",
    "    print(file)"
   ]
  },
  {
   "cell_type": "code",
   "execution_count": 7,
   "id": "a3533ab4",
   "metadata": {},
   "outputs": [],
   "source": [
    "# %%timeit # WITH THIS YOU'RE ONLY TIMING, BUT IT DOESN'T REALLY RUN THE COMMANDS YOU TIME\n",
    "dst = pd.read_hdf(filename, \"/MC/hits\")\n",
    "# dst = pd.read_hdf(filename, \"/MC/hits\").groupby(\"event_id\").get_group(event_id)"
   ]
  },
  {
   "cell_type": "code",
   "execution_count": 8,
   "id": "330409f5",
   "metadata": {},
   "outputs": [
    {
     "data": {
      "text/plain": [
       "3.2897918345042854e-07"
      ]
     },
     "execution_count": 8,
     "metadata": {},
     "output_type": "execute_result"
    }
   ],
   "source": [
    "dst['time'].min()"
   ]
  },
  {
   "cell_type": "markdown",
   "id": "722cab8a",
   "metadata": {},
   "source": [
    "# Electron distribution on time"
   ]
  },
  {
   "cell_type": "markdown",
   "id": "544a02b0",
   "metadata": {},
   "source": [
    "### Number of events"
   ]
  },
  {
   "cell_type": "code",
   "execution_count": 9,
   "id": "b730922c",
   "metadata": {},
   "outputs": [],
   "source": [
    "# n_events = dst['event_id'].max() + 1\n",
    "n_events = len(dst['event_id'].unique())"
   ]
  },
  {
   "cell_type": "markdown",
   "id": "2f97ef77",
   "metadata": {},
   "source": [
    "### Total time = initial time + drift time"
   ]
  },
  {
   "cell_type": "code",
   "execution_count": 10,
   "id": "6dcdb3f9",
   "metadata": {},
   "outputs": [],
   "source": [
    "drift_time = (z_max - dst['z'])/(v_d) # [ns]\n",
    "dst['drift_time'] = drift_time\n",
    "dst['tot_time'] = dst['time'] + drift_time\n",
    "# dst = dst.sort_values(by = ['tot_time'])"
   ]
  },
  {
   "cell_type": "markdown",
   "id": "b5a86008",
   "metadata": {},
   "source": [
    "### Number of electrons = (energy deposition) * (EL gain) * (1 - recombination factor) * (lifetime factor)/ (ionization energy Xe)"
   ]
  },
  {
   "cell_type": "code",
   "execution_count": 11,
   "id": "51b6fd93",
   "metadata": {},
   "outputs": [],
   "source": [
    "n_e = np.floor(dst['energy']*EL_gain*(1 - recombi)*np.exp(-dst['drift_time']/e_lt)/Xe_ion)\n",
    "dst['n_e'] = n_e"
   ]
  },
  {
   "cell_type": "code",
   "execution_count": 12,
   "id": "f2cd7738",
   "metadata": {},
   "outputs": [],
   "source": [
    "# fig, ax = plt.subplots(nrows=1, ncols=1, figsize=(10,5), constrained_layout=True)\n",
    "\n",
    "# ax.plot(dst['tot_time'][:1000], dst['n_e'][:1000], '-', label='N_e vs time')\n",
    "# ax.set_ylabel('Number of electrons');\n",
    "# ax.set_xlabel('Time [ns]');"
   ]
  },
  {
   "cell_type": "code",
   "execution_count": 13,
   "id": "593fd363",
   "metadata": {},
   "outputs": [
    {
     "data": {
      "text/plain": [
       "(9999, 10000, 1499311, 923244281949.0)"
      ]
     },
     "execution_count": 13,
     "metadata": {},
     "output_type": "execute_result"
    }
   ],
   "source": [
    "dst['event_id'].max(), len(dst['event_id'].unique()), len(dst['n_e']), dst['n_e'].sum()"
   ]
  },
  {
   "cell_type": "code",
   "execution_count": 14,
   "id": "ce8c6631",
   "metadata": {},
   "outputs": [
    {
     "data": {
      "text/plain": [
       "<matplotlib.legend.Legend at 0x7f61d2f89040>"
      ]
     },
     "execution_count": 14,
     "metadata": {},
     "output_type": "execute_result"
    },
    {
     "data": {
      "image/png": "[encoded data removed]",
      "text/plain": [
       "<Figure size 1000x500 with 1 Axes>"
      ]
     },
     "metadata": {},
     "output_type": "display_data"
    }
   ],
   "source": [
    "fig, ax = plt.subplots(nrows=1, ncols=1, figsize=(10,5), constrained_layout=True)\n",
    "\n",
    "#_________plot_settings_________________________________________________\n",
    "\n",
    "events, bins, bars = ax.hist(dst['tot_time'], 200, weights=dst['n_e']/n_events, density=False, \n",
    "                             label='Electron distribution', histtype='step')\n",
    "    \n",
    "x_ax = np.linspace(bins.min(), bins.max(), len(bins)-1)\n",
    "\n",
    "# gaussian fit\n",
    "# popt, pcov = scipy.optimize.curve_fit(gauss, x_ax, events, bounds=([0, 0, 1], [np.inf, 3e3, 1e2])) \n",
    "# popt, pcov = scipy.optimize.curve_fit(gauss, x_ax, events, p0=[1, bins.mean(), 1e2]) \n",
    "\n",
    "# a, mu, sigma = popt\n",
    "# best_fit_line = gauss(x_ax, a, mu, sigma)\n",
    "\n",
    "# ax.plot(x_ax, gauss(x_ax, a, mu, sigma), '-', label='$\\mu$ = %.2f, $\\sigma$ = %.2f'%(mu, sigma))\n",
    "\n",
    "# ax.text(0.05, .9, 'patata', transform=ax.transAxes, fontsize=15, verticalalignment='top', \n",
    "#         fontfamily='serif', bbox=dict(facecolor='1.', edgecolor='none', pad=3.0))\n",
    "\n",
    "ax.set_ylabel('Number of electrons');\n",
    "ax.set_xlabel('Time [ns]');\n",
    "ax.legend(fontsize=10, loc='best')\n"
   ]
  },
  {
   "cell_type": "code",
   "execution_count": 18,
   "id": "f1ae143b",
   "metadata": {},
   "outputs": [
    {
     "data": {
      "text/plain": [
       "0.0"
      ]
     },
     "execution_count": 18,
     "metadata": {},
     "output_type": "execute_result"
    }
   ],
   "source": [
    "dst['n_e'].sum()/n_events-events.sum()"
   ]
  },
  {
   "cell_type": "code",
   "execution_count": 16,
   "id": "601a69ba",
   "metadata": {},
   "outputs": [
    {
     "data": {
      "text/plain": [
       "(92324428.1949, 1208218.0786000004)"
      ]
     },
     "execution_count": 16,
     "metadata": {},
     "output_type": "execute_result"
    }
   ],
   "source": [
    "events.sum(), events.max()"
   ]
  },
  {
   "cell_type": "code",
   "execution_count": 17,
   "id": "ca6a4097",
   "metadata": {},
   "outputs": [
    {
     "data": {
      "text/plain": [
       "15496.04381073826"
      ]
     },
     "execution_count": 17,
     "metadata": {},
     "output_type": "execute_result"
    }
   ],
   "source": [
    "bins[2]-bins[1]"
   ]
  },
  {
   "cell_type": "code",
   "execution_count": null,
   "id": "f5a534d0",
   "metadata": {},
   "outputs": [],
   "source": []
  }
 ],
 "metadata": {
  "kernelspec": {
   "display_name": "Python 3 (ipykernel)",
   "language": "python",
   "name": "python3"
  },
  "language_info": {
   "codemirror_mode": {
    "name": "ipython",
    "version": 3
   },
   "file_extension": ".py",
   "mimetype": "text/x-python",
   "name": "python",
   "nbconvert_exporter": "python",
   "pygments_lexer": "ipython3",
   "version": "3.8.13"
  }
 },
 "nbformat": 4,
 "nbformat_minor": 5
}
