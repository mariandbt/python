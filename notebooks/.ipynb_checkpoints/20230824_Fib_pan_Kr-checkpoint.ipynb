{
 "cells": [
  {
   "cell_type": "markdown",
   "id": "f55cea8a",
   "metadata": {},
   "source": [
    "<h1> ______________________________________ </h1>\n",
    "\n",
    "<h1> Fiber panels with Kr38m decays simulation analysis </h1>\n",
    "<h1> ______________________________________ </h1>\n",
    "\n",
    "<p style=\"font-size: 17px; color: black;\"> In this Notebook we analyse the results from the 10000 MC Kr38m decay events simulated in a \"realistic\" fiber barrel to check if we're able to see the krypton signal with enough resolution. </p>\n",
    "\n",
    "\n"
   ]
  },
  {
   "cell_type": "markdown",
   "id": "0a6c28e7",
   "metadata": {},
   "source": [
    "<h1> ____________ </h1>\n",
    "<h2> This version </h2>\n",
    "<h1> ____________ </h1>\n",
    "\n",
    "-  <p style=\"font-size: 17px; color: black;\"> 10K events. </p>\n",
    "\n",
    "-  <p style=\"font-size: 17px; color: black;\"> Geant4 fundamental units: </p>\n",
    "\n",
    " -  <p style=\"font-size: 17px; color: black;\"> Length [L]: mm (milimeter) </p>\n",
    " -  <p style=\"font-size: 17px; color: black;\"> Time [T]: ns (nanosecond) </p>\n",
    " -  <p style=\"font-size: 17px; color: black;\"> Energy [E]: MeV (megaelectronvolt) </p>\n",
    "\n",
    "\n",
    "\n"
   ]
  },
  {
   "cell_type": "code",
   "execution_count": 180,
   "id": "19d793eb",
   "metadata": {},
   "outputs": [],
   "source": [
    "import numpy              as np\n",
    "import pandas             as pd\n",
    "\n",
    "import scipy              \n",
    "from scipy                import stats, integrate\n",
    "from scipy.signal         import convolve\n",
    "\n",
    "import matplotlib.pyplot  as plt\n",
    "\n",
    "from matplotlib.ticker    import FormatStrFormatter # to set the format of the plot's axis\n",
    "from matplotlib.patches   import Rectangle # To add blanck spaces in tabular legends\n",
    "\n",
    "import os\n",
    "import math\n",
    "import tables             as tb"
   ]
  },
  {
   "cell_type": "markdown",
   "id": "7ca48882",
   "metadata": {},
   "source": [
    "<h1> _________________________________________________________________________________________________________ </h1>\n"
   ]
  },
  {
   "cell_type": "markdown",
   "id": "85a2dfe0",
   "metadata": {},
   "source": [
    "<h1> __________________________ </h1>\n",
    "<h2> Functions </h2>\n",
    "\n",
    "-  <p style=\"font-size: 17px; color: black;\"> <b> gauss(x, a,  mu, sigma): </b> Gaussian normalized to $a$. </p>\n",
    "\n",
    "\n",
    "-  <p style=\"font-size: 17px; color: black;\"> <b> gauss_sum(x, a0,  mu0, sigma0, a1, mu1, sigma1): </b> Sum of 2 gaussians. </p>\n",
    "\n",
    "\n",
    "-  <p style=\"font-size: 17px; color: black;\"> <b> dirac(x, x0): </b> Dirac delta at $x0$. </p>\n",
    "\n",
    "\n",
    "-  <p style=\"font-size: 17px; color: black;\"> <b> EL_yield(E, p, d): </b> It gives you the EL gain in $[photons/e^-]$ as a function of the electric field $E[kV/cm]$, pressure $p[bar]$ and the average absoption length $d[cm]$. We end up not using this formula cause we use directly a fixed value of EL gain. </p>\n",
    "\n",
    "\n"
   ]
  },
  {
   "cell_type": "code",
   "execution_count": 181,
   "id": "c057ab51",
   "metadata": {},
   "outputs": [],
   "source": [
    "# Fitting distributions to define\n",
    "\n",
    "# note: pdf are normilized to 1 so we have yo add an amplitude param\n",
    "def gauss(x, a,  mu, sigma):\n",
    "    \n",
    "    gaussian = stats.norm.pdf(np.sort(x), mu, sigma) \n",
    "    \n",
    "    return (a/gaussian.sum())*gaussian\n",
    "\n",
    "def gauss_sum(x, a0,  mu0, sigma0, a1, mu1, sigma1):\n",
    "    return a0*stats.norm.pdf(x, mu0, sigma0)  + a1*stats.norm.pdf(x, mu1, sigma1)\n",
    "\n",
    "def dirac(x, x0):\n",
    "    return np.where((x - x0) == 0, 1, 0)\n",
    "\n",
    "def EL_yield(E, p, d):\n",
    "    # E[kV/cm] electric field \n",
    "    # p[bar] pressure\n",
    "    # d[cm] average absorption depth\n",
    "    return (140*E/p - 116)*d*p # [photons/e⁻]\n"
   ]
  },
  {
   "cell_type": "markdown",
   "id": "5476af0e",
   "metadata": {},
   "source": [
    "<h1> __________________________ </h1>\n",
    "<h2> Global parameters </h2>"
   ]
  },
  {
   "cell_type": "markdown",
   "id": "40924491",
   "metadata": {},
   "source": [
    "-  <p style=\"font-size: 17px; color: black;\"> <b> Pandas dataset params: </b> Allows to set the max number of columns and rows that are shown in a pandas dataset. </p>"
   ]
  },
  {
   "cell_type": "code",
   "execution_count": 182,
   "id": "5562c609",
   "metadata": {},
   "outputs": [],
   "source": [
    "pd.set_option('display.max_columns', None)\n",
    "pd.set_option('display.max_rows', 100)\n",
    "pd.set_option('display.min_rows', 20)"
   ]
  },
  {
   "cell_type": "markdown",
   "id": "11e3df95",
   "metadata": {},
   "source": [
    "-  <p style=\"font-size: 17px; color: black;\"> <b> Plots params: </b> In case you want to fix the parameters for all plots. </p>"
   ]
  },
  {
   "cell_type": "code",
   "execution_count": 183,
   "id": "e9c3a83a",
   "metadata": {},
   "outputs": [],
   "source": [
    "# plt.rcParams[\"figure.figsize\"] = 10, 8\n",
    "# plt.rcParams[\"font.size\"] = 10"
   ]
  },
  {
   "cell_type": "markdown",
   "id": "faa5a7df",
   "metadata": {},
   "source": [
    "-  <p style=\"font-size: 17px; color: black;\"> <b> Analysis parameters </b> </p>\n",
    "\n",
    " -  <p style=\"font-size: 17px; color: black;\"> <b> patata: </b> patata. </p>\n",
    " "
   ]
  },
  {
   "cell_type": "markdown",
   "id": "e8b38a7d",
   "metadata": {},
   "source": [
    "<h1> __________________________ </h1>\n",
    "<h2> Data </h2>"
   ]
  },
  {
   "cell_type": "markdown",
   "id": "aba914e0",
   "metadata": {},
   "source": [
    "-  <p style=\"font-size: 17px; color: black;\"> <b> Reading the file </b> </p>"
   ]
  },
  {
   "cell_type": "markdown",
   "id": "fcbac72c",
   "metadata": {},
   "source": [
    "-  <p style=\"font-size: 17px; color: black;\"> File's path </p>"
   ]
  },
  {
   "cell_type": "code",
   "execution_count": 184,
   "id": "1ee61880",
   "metadata": {},
   "outputs": [],
   "source": [
    "# path = '/home/investigator/mariandbt/python/data/'\n",
    "# path = path + '/20230824_fib_pan_kr'\n",
    "\n",
    "path = '/home/investigator/mariandbt/nexus'\n",
    "\n",
    "filename = os.path.join(path, \"Fib_pan_meth.next.h5\")"
   ]
  },
  {
   "cell_type": "markdown",
   "id": "c86e5025",
   "metadata": {},
   "source": [
    "-  <p style=\"font-size: 17px; color: black;\"> In a .h5 file there are several objects, so we print them all to then pick the one we're interested in </p>"
   ]
  },
  {
   "cell_type": "code",
   "execution_count": 185,
   "id": "3557f9c6",
   "metadata": {},
   "outputs": [
    {
     "name": "stdout",
     "output_type": "stream",
     "text": [
      "/home/investigator/mariandbt/nexus/Fib_pan_meth.next.h5 (File) ''\n",
      "Last modif.: '2023-08-28T08:22:04+00:00'\n",
      "Object Tree: \n",
      "/ (RootGroup) ''\n",
      "/MC (Group) ''\n",
      "/MC/configuration (Table(43,)) ''\n",
      "/MC/hits (Table(0,)) ''\n",
      "/MC/particles (Table(23638,)) ''\n",
      "/MC/sns_positions (Table(85,)) ''\n",
      "/MC/sns_response (Table(235,)) ''\n",
      "\n"
     ]
    }
   ],
   "source": [
    "with tb.open_file(filename) as file:\n",
    "    print(file)"
   ]
  },
  {
   "cell_type": "markdown",
   "id": "a803c911",
   "metadata": {},
   "source": [
    "-  <p style=\"font-size: 17px; color: black;\"> Read the file and make a copy to work with, this way it's easier to re-start the copy instead of re-reading the file. </p>"
   ]
  },
  {
   "cell_type": "code",
   "execution_count": 186,
   "id": "f353a737",
   "metadata": {},
   "outputs": [],
   "source": [
    "# %%timeit # WITH THIS YOU'RE ONLY TIMING, BUT IT DOESN'T REALLY RUN THE COMMANDS YOU TIME\n",
    "# data = pd.read_hdf(filename, \"/MC/particles\")\n",
    "# data = pd.read_hdf(filename, \"/MC/sns_positions\")\n",
    "data = pd.read_hdf(filename, \"/MC/sns_response\")\n",
    "# data = pd.read_hdf(filename, \"/MC/hits\")\n",
    "# dst = pd.read_hdf(filename, \"/MC/hits\").groupby(\"event_id\").get_group(event_id)"
   ]
  },
  {
   "cell_type": "code",
   "execution_count": 187,
   "id": "3e3460fd",
   "metadata": {},
   "outputs": [],
   "source": [
    "dst = data.copy()"
   ]
  },
  {
   "cell_type": "code",
   "execution_count": 188,
   "id": "1cbf0f4c",
   "metadata": {},
   "outputs": [
    {
     "data": {
      "text/plain": [
       "(array([3163, 3152, 3135, 3166, 3150, 3082, 3122, 3085, 3126, 3146, 3154,\n",
       "        3139, 3089, 3140, 3138, 3100, 3096, 3132, 3092, 3113, 3087, 3147,\n",
       "        3094, 3086, 3164, 3078, 3144, 3095, 3084, 3148, 3097, 3157, 3110,\n",
       "        3111, 3105, 3104, 3134, 3109, 3136, 3112, 3167, 3131, 3115, 3156,\n",
       "        3117, 3149, 3120, 3119, 3127, 3103, 3161, 3121, 3159, 3090, 3106,\n",
       "        3165, 3133, 3153, 3160, 3128, 3162, 3130, 3137, 3142, 3158, 3123,\n",
       "        3093, 3102, 3155, 3081, 3099, 3107, 3083, 3108, 3098, 3079, 3114,\n",
       "        3118, 3101, 3141, 3151, 3080, 3116, 3124, 3145], dtype=uint32),\n",
       " 85)"
      ]
     },
     "execution_count": 188,
     "metadata": {},
     "output_type": "execute_result"
    }
   ],
   "source": [
    "# dst.final_volume.unique() \n",
    "# dst.initial_volume.unique()\n",
    "# dst.particle_name.unique()\n",
    "dst.sensor_id.unique(), len(dst.sensor_id.unique())"
   ]
  },
  {
   "cell_type": "code",
   "execution_count": 200,
   "id": "366d4992",
   "metadata": {},
   "outputs": [
    {
     "data": {
      "text/plain": [
       "array([1, 0, 3, 2, 4, 7, 5], dtype=uint64)"
      ]
     },
     "execution_count": 200,
     "metadata": {},
     "output_type": "execute_result"
    }
   ],
   "source": [
    "dst.time_bin.unique()"
   ]
  },
  {
   "cell_type": "code",
   "execution_count": 189,
   "id": "066161fa",
   "metadata": {},
   "outputs": [
    {
     "data": {
      "text/html": [
       "<div>\n",
       "<style scoped>\n",
       "    .dataframe tbody tr th:only-of-type {\n",
       "        vertical-align: middle;\n",
       "    }\n",
       "\n",
       "    .dataframe tbody tr th {\n",
       "        vertical-align: top;\n",
       "    }\n",
       "\n",
       "    .dataframe thead th {\n",
       "        text-align: right;\n",
       "    }\n",
       "</style>\n",
       "<table border=\"1\" class=\"dataframe\">\n",
       "  <thead>\n",
       "    <tr style=\"text-align: right;\">\n",
       "      <th></th>\n",
       "      <th>event_id</th>\n",
       "      <th>sensor_id</th>\n",
       "      <th>time_bin</th>\n",
       "      <th>charge</th>\n",
       "    </tr>\n",
       "  </thead>\n",
       "  <tbody>\n",
       "    <tr>\n",
       "      <th>0</th>\n",
       "      <td>0</td>\n",
       "      <td>3163</td>\n",
       "      <td>1</td>\n",
       "      <td>1</td>\n",
       "    </tr>\n",
       "    <tr>\n",
       "      <th>1</th>\n",
       "      <td>0</td>\n",
       "      <td>3152</td>\n",
       "      <td>1</td>\n",
       "      <td>1</td>\n",
       "    </tr>\n",
       "    <tr>\n",
       "      <th>2</th>\n",
       "      <td>0</td>\n",
       "      <td>3135</td>\n",
       "      <td>0</td>\n",
       "      <td>1</td>\n",
       "    </tr>\n",
       "    <tr>\n",
       "      <th>3</th>\n",
       "      <td>0</td>\n",
       "      <td>3166</td>\n",
       "      <td>0</td>\n",
       "      <td>1</td>\n",
       "    </tr>\n",
       "    <tr>\n",
       "      <th>4</th>\n",
       "      <td>0</td>\n",
       "      <td>3150</td>\n",
       "      <td>0</td>\n",
       "      <td>1</td>\n",
       "    </tr>\n",
       "    <tr>\n",
       "      <th>5</th>\n",
       "      <td>0</td>\n",
       "      <td>3082</td>\n",
       "      <td>0</td>\n",
       "      <td>1</td>\n",
       "    </tr>\n",
       "    <tr>\n",
       "      <th>6</th>\n",
       "      <td>0</td>\n",
       "      <td>3082</td>\n",
       "      <td>1</td>\n",
       "      <td>1</td>\n",
       "    </tr>\n",
       "    <tr>\n",
       "      <th>7</th>\n",
       "      <td>0</td>\n",
       "      <td>3122</td>\n",
       "      <td>0</td>\n",
       "      <td>2</td>\n",
       "    </tr>\n",
       "    <tr>\n",
       "      <th>8</th>\n",
       "      <td>0</td>\n",
       "      <td>3085</td>\n",
       "      <td>0</td>\n",
       "      <td>2</td>\n",
       "    </tr>\n",
       "    <tr>\n",
       "      <th>9</th>\n",
       "      <td>0</td>\n",
       "      <td>3085</td>\n",
       "      <td>1</td>\n",
       "      <td>1</td>\n",
       "    </tr>\n",
       "    <tr>\n",
       "      <th>...</th>\n",
       "      <td>...</td>\n",
       "      <td>...</td>\n",
       "      <td>...</td>\n",
       "      <td>...</td>\n",
       "    </tr>\n",
       "    <tr>\n",
       "      <th>225</th>\n",
       "      <td>9</td>\n",
       "      <td>3160</td>\n",
       "      <td>0</td>\n",
       "      <td>1</td>\n",
       "    </tr>\n",
       "    <tr>\n",
       "      <th>226</th>\n",
       "      <td>9</td>\n",
       "      <td>3084</td>\n",
       "      <td>0</td>\n",
       "      <td>1</td>\n",
       "    </tr>\n",
       "    <tr>\n",
       "      <th>227</th>\n",
       "      <td>9</td>\n",
       "      <td>3079</td>\n",
       "      <td>0</td>\n",
       "      <td>1</td>\n",
       "    </tr>\n",
       "    <tr>\n",
       "      <th>228</th>\n",
       "      <td>9</td>\n",
       "      <td>3096</td>\n",
       "      <td>2</td>\n",
       "      <td>1</td>\n",
       "    </tr>\n",
       "    <tr>\n",
       "      <th>229</th>\n",
       "      <td>9</td>\n",
       "      <td>3141</td>\n",
       "      <td>0</td>\n",
       "      <td>1</td>\n",
       "    </tr>\n",
       "    <tr>\n",
       "      <th>230</th>\n",
       "      <td>9</td>\n",
       "      <td>3090</td>\n",
       "      <td>1</td>\n",
       "      <td>1</td>\n",
       "    </tr>\n",
       "    <tr>\n",
       "      <th>231</th>\n",
       "      <td>9</td>\n",
       "      <td>3145</td>\n",
       "      <td>3</td>\n",
       "      <td>1</td>\n",
       "    </tr>\n",
       "    <tr>\n",
       "      <th>232</th>\n",
       "      <td>9</td>\n",
       "      <td>3132</td>\n",
       "      <td>0</td>\n",
       "      <td>1</td>\n",
       "    </tr>\n",
       "    <tr>\n",
       "      <th>233</th>\n",
       "      <td>9</td>\n",
       "      <td>3092</td>\n",
       "      <td>0</td>\n",
       "      <td>1</td>\n",
       "    </tr>\n",
       "    <tr>\n",
       "      <th>234</th>\n",
       "      <td>9</td>\n",
       "      <td>3101</td>\n",
       "      <td>0</td>\n",
       "      <td>1</td>\n",
       "    </tr>\n",
       "  </tbody>\n",
       "</table>\n",
       "<p>235 rows × 4 columns</p>\n",
       "</div>"
      ],
      "text/plain": [
       "     event_id  sensor_id  time_bin  charge\n",
       "0           0       3163         1       1\n",
       "1           0       3152         1       1\n",
       "2           0       3135         0       1\n",
       "3           0       3166         0       1\n",
       "4           0       3150         0       1\n",
       "5           0       3082         0       1\n",
       "6           0       3082         1       1\n",
       "7           0       3122         0       2\n",
       "8           0       3085         0       2\n",
       "9           0       3085         1       1\n",
       "..        ...        ...       ...     ...\n",
       "225         9       3160         0       1\n",
       "226         9       3084         0       1\n",
       "227         9       3079         0       1\n",
       "228         9       3096         2       1\n",
       "229         9       3141         0       1\n",
       "230         9       3090         1       1\n",
       "231         9       3145         3       1\n",
       "232         9       3132         0       1\n",
       "233         9       3092         0       1\n",
       "234         9       3101         0       1\n",
       "\n",
       "[235 rows x 4 columns]"
      ]
     },
     "execution_count": 189,
     "metadata": {},
     "output_type": "execute_result"
    }
   ],
   "source": [
    "# dst.loc[dst.final_volume.str.contains('SENS')]\n",
    "# dst.loc[(dst.initial_volume != 'WORLD') & (dst.primary == 0)]\n",
    "dst"
   ]
  },
  {
   "cell_type": "markdown",
   "id": "0afa1e25",
   "metadata": {},
   "source": [
    "-  <p style=\"font-size: 17px; color: black;\"> <b> Tests on the data: </b> We perform some tests on the dataset to check the simulation is valid. </p>"
   ]
  },
  {
   "cell_type": "markdown",
   "id": "d1639c8b",
   "metadata": {},
   "source": [
    "-  <p style=\"font-size: 17px; color: black;\"> Group the data by sensors. </p>"
   ]
  },
  {
   "cell_type": "code",
   "execution_count": 194,
   "id": "15e4f36d",
   "metadata": {},
   "outputs": [],
   "source": [
    "# g = dst.groupby(dst.sensor_id)\n",
    "g = dst.groupby(dst.event_id)\n"
   ]
  },
  {
   "cell_type": "code",
   "execution_count": 195,
   "id": "02982d95",
   "metadata": {},
   "outputs": [
    {
     "data": {
      "text/plain": [
       "event_id\n",
       "0    23\n",
       "1    19\n",
       "2    34\n",
       "3    23\n",
       "4    31\n",
       "5    37\n",
       "6    18\n",
       "7    20\n",
       "8    26\n",
       "9    26\n",
       "Name: charge, dtype: uint32"
      ]
     },
     "execution_count": 195,
     "metadata": {},
     "output_type": "execute_result"
    }
   ],
   "source": [
    "g.charge.sum()"
   ]
  },
  {
   "cell_type": "markdown",
   "id": "c394dca4",
   "metadata": {},
   "source": [
    "<h1> __________________________ </h1>\n",
    "<h2> Analysis </h2>"
   ]
  },
  {
   "cell_type": "markdown",
   "id": "1770c3d4",
   "metadata": {},
   "source": [
    "<h2> Charge distribution in an event. </h2>"
   ]
  },
  {
   "cell_type": "markdown",
   "id": "7c461520",
   "metadata": {},
   "source": [
    "-  <p style=\"font-size: 17px; color: black;\"> One event </p>"
   ]
  },
  {
   "cell_type": "code",
   "execution_count": 197,
   "id": "4cc40aac",
   "metadata": {},
   "outputs": [],
   "source": [
    "ev = 0"
   ]
  },
  {
   "cell_type": "code",
   "execution_count": 198,
   "id": "66b351eb",
   "metadata": {},
   "outputs": [],
   "source": [
    "wvf = dst.groupby(dst.event_id).get_group(ev)"
   ]
  },
  {
   "cell_type": "code",
   "execution_count": 199,
   "id": "e498ed2f",
   "metadata": {},
   "outputs": [
    {
     "data": {
      "text/html": [
       "<div>\n",
       "<style scoped>\n",
       "    .dataframe tbody tr th:only-of-type {\n",
       "        vertical-align: middle;\n",
       "    }\n",
       "\n",
       "    .dataframe tbody tr th {\n",
       "        vertical-align: top;\n",
       "    }\n",
       "\n",
       "    .dataframe thead th {\n",
       "        text-align: right;\n",
       "    }\n",
       "</style>\n",
       "<table border=\"1\" class=\"dataframe\">\n",
       "  <thead>\n",
       "    <tr style=\"text-align: right;\">\n",
       "      <th></th>\n",
       "      <th>event_id</th>\n",
       "      <th>sensor_id</th>\n",
       "      <th>time_bin</th>\n",
       "      <th>charge</th>\n",
       "    </tr>\n",
       "  </thead>\n",
       "  <tbody>\n",
       "    <tr>\n",
       "      <th>0</th>\n",
       "      <td>0</td>\n",
       "      <td>3163</td>\n",
       "      <td>1</td>\n",
       "      <td>1</td>\n",
       "    </tr>\n",
       "    <tr>\n",
       "      <th>1</th>\n",
       "      <td>0</td>\n",
       "      <td>3152</td>\n",
       "      <td>1</td>\n",
       "      <td>1</td>\n",
       "    </tr>\n",
       "    <tr>\n",
       "      <th>2</th>\n",
       "      <td>0</td>\n",
       "      <td>3135</td>\n",
       "      <td>0</td>\n",
       "      <td>1</td>\n",
       "    </tr>\n",
       "    <tr>\n",
       "      <th>3</th>\n",
       "      <td>0</td>\n",
       "      <td>3166</td>\n",
       "      <td>0</td>\n",
       "      <td>1</td>\n",
       "    </tr>\n",
       "    <tr>\n",
       "      <th>4</th>\n",
       "      <td>0</td>\n",
       "      <td>3150</td>\n",
       "      <td>0</td>\n",
       "      <td>1</td>\n",
       "    </tr>\n",
       "    <tr>\n",
       "      <th>5</th>\n",
       "      <td>0</td>\n",
       "      <td>3082</td>\n",
       "      <td>0</td>\n",
       "      <td>1</td>\n",
       "    </tr>\n",
       "    <tr>\n",
       "      <th>6</th>\n",
       "      <td>0</td>\n",
       "      <td>3082</td>\n",
       "      <td>1</td>\n",
       "      <td>1</td>\n",
       "    </tr>\n",
       "    <tr>\n",
       "      <th>7</th>\n",
       "      <td>0</td>\n",
       "      <td>3122</td>\n",
       "      <td>0</td>\n",
       "      <td>2</td>\n",
       "    </tr>\n",
       "    <tr>\n",
       "      <th>8</th>\n",
       "      <td>0</td>\n",
       "      <td>3085</td>\n",
       "      <td>0</td>\n",
       "      <td>2</td>\n",
       "    </tr>\n",
       "    <tr>\n",
       "      <th>9</th>\n",
       "      <td>0</td>\n",
       "      <td>3085</td>\n",
       "      <td>1</td>\n",
       "      <td>1</td>\n",
       "    </tr>\n",
       "    <tr>\n",
       "      <th>10</th>\n",
       "      <td>0</td>\n",
       "      <td>3085</td>\n",
       "      <td>3</td>\n",
       "      <td>1</td>\n",
       "    </tr>\n",
       "    <tr>\n",
       "      <th>11</th>\n",
       "      <td>0</td>\n",
       "      <td>3126</td>\n",
       "      <td>2</td>\n",
       "      <td>1</td>\n",
       "    </tr>\n",
       "    <tr>\n",
       "      <th>12</th>\n",
       "      <td>0</td>\n",
       "      <td>3146</td>\n",
       "      <td>0</td>\n",
       "      <td>1</td>\n",
       "    </tr>\n",
       "    <tr>\n",
       "      <th>13</th>\n",
       "      <td>0</td>\n",
       "      <td>3154</td>\n",
       "      <td>0</td>\n",
       "      <td>1</td>\n",
       "    </tr>\n",
       "    <tr>\n",
       "      <th>14</th>\n",
       "      <td>0</td>\n",
       "      <td>3139</td>\n",
       "      <td>0</td>\n",
       "      <td>1</td>\n",
       "    </tr>\n",
       "    <tr>\n",
       "      <th>15</th>\n",
       "      <td>0</td>\n",
       "      <td>3089</td>\n",
       "      <td>2</td>\n",
       "      <td>1</td>\n",
       "    </tr>\n",
       "    <tr>\n",
       "      <th>16</th>\n",
       "      <td>0</td>\n",
       "      <td>3140</td>\n",
       "      <td>0</td>\n",
       "      <td>1</td>\n",
       "    </tr>\n",
       "    <tr>\n",
       "      <th>17</th>\n",
       "      <td>0</td>\n",
       "      <td>3138</td>\n",
       "      <td>0</td>\n",
       "      <td>1</td>\n",
       "    </tr>\n",
       "    <tr>\n",
       "      <th>18</th>\n",
       "      <td>0</td>\n",
       "      <td>3100</td>\n",
       "      <td>2</td>\n",
       "      <td>1</td>\n",
       "    </tr>\n",
       "    <tr>\n",
       "      <th>19</th>\n",
       "      <td>0</td>\n",
       "      <td>3096</td>\n",
       "      <td>2</td>\n",
       "      <td>1</td>\n",
       "    </tr>\n",
       "    <tr>\n",
       "      <th>20</th>\n",
       "      <td>0</td>\n",
       "      <td>3132</td>\n",
       "      <td>0</td>\n",
       "      <td>1</td>\n",
       "    </tr>\n",
       "  </tbody>\n",
       "</table>\n",
       "</div>"
      ],
      "text/plain": [
       "    event_id  sensor_id  time_bin  charge\n",
       "0          0       3163         1       1\n",
       "1          0       3152         1       1\n",
       "2          0       3135         0       1\n",
       "3          0       3166         0       1\n",
       "4          0       3150         0       1\n",
       "5          0       3082         0       1\n",
       "6          0       3082         1       1\n",
       "7          0       3122         0       2\n",
       "8          0       3085         0       2\n",
       "9          0       3085         1       1\n",
       "10         0       3085         3       1\n",
       "11         0       3126         2       1\n",
       "12         0       3146         0       1\n",
       "13         0       3154         0       1\n",
       "14         0       3139         0       1\n",
       "15         0       3089         2       1\n",
       "16         0       3140         0       1\n",
       "17         0       3138         0       1\n",
       "18         0       3100         2       1\n",
       "19         0       3096         2       1\n",
       "20         0       3132         0       1"
      ]
     },
     "execution_count": 199,
     "metadata": {},
     "output_type": "execute_result"
    }
   ],
   "source": [
    "wvf"
   ]
  },
  {
   "cell_type": "code",
   "execution_count": null,
   "id": "e3739b9b",
   "metadata": {},
   "outputs": [],
   "source": []
  }
 ],
 "metadata": {
  "kernelspec": {
   "display_name": "Python 3 (ipykernel)",
   "language": "python",
   "name": "python3"
  },
  "language_info": {
   "codemirror_mode": {
    "name": "ipython",
    "version": 3
   },
   "file_extension": ".py",
   "mimetype": "text/x-python",
   "name": "python",
   "nbconvert_exporter": "python",
   "pygments_lexer": "ipython3",
   "version": "3.8.16"
  }
 },
 "nbformat": 4,
 "nbformat_minor": 5
}
