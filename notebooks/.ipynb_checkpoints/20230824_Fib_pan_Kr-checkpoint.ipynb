{
 "cells": [
  {
   "cell_type": "markdown",
   "id": "f55cea8a",
   "metadata": {},
   "source": [
    "<h1> ______________________________________ </h1>\n",
    "\n",
    "<h1> Fiber panels with Kr38m decays simulation analysis </h1>\n",
    "<h1> ______________________________________ </h1>\n",
    "\n",
    "<p style=\"font-size: 17px; color: black;\"> In this Notebook we analyse the results from the 10000 MC Kr38m decay events simulated in a \"realistic\" fiber barrel to check if we're able to see the krypton signal with enough resolution. </p>\n",
    "\n",
    "\n"
   ]
  },
  {
   "cell_type": "markdown",
   "id": "0a6c28e7",
   "metadata": {},
   "source": [
    "<h1> ____________ </h1>\n",
    "<h2> This version </h2>\n",
    "<h1> ____________ </h1>\n",
    "\n",
    "-  <p style=\"font-size: 17px; color: black;\"> 10K events. </p>\n",
    "\n",
    "-  <p style=\"font-size: 17px; color: black;\"> Geant4 fundamental units: </p>\n",
    "\n",
    " -  <p style=\"font-size: 17px; color: black;\"> Length [L]: mm (milimeter) </p>\n",
    " -  <p style=\"font-size: 17px; color: black;\"> Time [T]: ns (nanosecond) </p>\n",
    " -  <p style=\"font-size: 17px; color: black;\"> Energy [E]: MeV (megaelectronvolt) </p>\n",
    "\n",
    "\n",
    "\n"
   ]
  },
  {
   "cell_type": "code",
   "execution_count": 1,
   "id": "19d793eb",
   "metadata": {},
   "outputs": [],
   "source": [
    "import numpy              as np\n",
    "import pandas             as pd\n",
    "\n",
    "import scipy              \n",
    "from scipy                import stats, integrate\n",
    "from scipy.signal         import convolve\n",
    "\n",
    "import matplotlib.pyplot  as plt\n",
    "\n",
    "from matplotlib.ticker    import FormatStrFormatter # to set the format of the plot's axis\n",
    "from matplotlib.patches   import Rectangle # To add blanck spaces in tabular legends\n",
    "\n",
    "import os\n",
    "import math\n",
    "import tables             as tb"
   ]
  },
  {
   "cell_type": "markdown",
   "id": "7ca48882",
   "metadata": {},
   "source": [
    "<h1> _________________________________________________________________________________________________________ </h1>\n"
   ]
  },
  {
   "cell_type": "markdown",
   "id": "85a2dfe0",
   "metadata": {},
   "source": [
    "<h1> __________________________ </h1>\n",
    "<h2> Functions </h2>\n",
    "\n",
    "-  <p style=\"font-size: 17px; color: black;\"> <b> gauss(x, a,  mu, sigma): </b> Gaussian normalized to $a$. </p>\n",
    "\n",
    "\n",
    "-  <p style=\"font-size: 17px; color: black;\"> <b> gauss_sum(x, a0,  mu0, sigma0, a1, mu1, sigma1): </b> Sum of 2 gaussians. </p>\n",
    "\n",
    "\n",
    "-  <p style=\"font-size: 17px; color: black;\"> <b> dirac(x, x0): </b> Dirac delta at $x0$. </p>\n",
    "\n",
    "\n",
    "-  <p style=\"font-size: 17px; color: black;\"> <b> EL_yield(E, p, d): </b> It gives you the EL gain in $[photons/e^-]$ as a function of the electric field $E[kV/cm]$, pressure $p[bar]$ and the average absoption length $d[cm]$. We end up not using this formula cause we use directly a fixed value of EL gain. </p>\n",
    "\n",
    "\n"
   ]
  },
  {
   "cell_type": "code",
   "execution_count": 2,
   "id": "c057ab51",
   "metadata": {},
   "outputs": [],
   "source": [
    "# Fitting distributions to define\n",
    "\n",
    "# note: pdf are normilized to 1 so we have yo add an amplitude param\n",
    "def gauss(x, a,  mu, sigma):\n",
    "    \n",
    "    gaussian = stats.norm.pdf(np.sort(x), mu, sigma) \n",
    "    \n",
    "    return (a/gaussian.sum())*gaussian\n",
    "\n",
    "def gauss_sum(x, a0,  mu0, sigma0, a1, mu1, sigma1):\n",
    "    return a0*stats.norm.pdf(x, mu0, sigma0)  + a1*stats.norm.pdf(x, mu1, sigma1)\n",
    "\n",
    "def dirac(x, x0):\n",
    "    return np.where((x - x0) == 0, 1, 0)\n",
    "\n",
    "def EL_yield(E, p, d):\n",
    "    # E[kV/cm] electric field \n",
    "    # p[bar] pressure\n",
    "    # d[cm] average absorption depth\n",
    "    return (140*E/p - 116)*d*p # [photons/e⁻]\n"
   ]
  },
  {
   "cell_type": "code",
   "execution_count": 3,
   "id": "0796d814",
   "metadata": {},
   "outputs": [],
   "source": [
    "def noise(dark_rate, x_talk, t0, tf, dt, n_sensors):\n",
    "    \n",
    "#     dark_rate[Kcps] Number of dark pulses per second\n",
    "#     x_talk[%] Cross talk probability (so the dark pulse is 2pe instead of 1pe)\n",
    "#     t0[s] Measurements STARTING time\n",
    "#     tf[s] Measurements ENDIND time\n",
    "#     dt[s] Width of the time bin\n",
    "\n",
    "    \"\"\"\n",
    "    Here we do it explained with all the steps, it can be done easier tho\n",
    "\n",
    "    n_bin = (tf - t0)/dt\n",
    "\n",
    "    pulse_rate = dark_rate*1e3*dt # probability of having a dark pulse in a bin\n",
    "    \n",
    "    pe1 = (1 - x_talk/100) # probability of that pulse being 1pe signal\n",
    "    pe2 = x_talk/100 # probability of that pulse being 2pe signal\n",
    "\n",
    "    n_1pe = int(pulse_rate*pe1*n_bin) # number of 1pe dark counts throughout measurement time in 1 sensor\n",
    "    n_2pe = int(pulse_rate*pe2*n_bin) # number of 2pe dark counts throughout measurement time in 1 sensor\n",
    "    \n",
    "    \"\"\";\n",
    "    \n",
    "    pe1 = (1 - x_talk/100) # probability of that pulse being 1pe signal\n",
    "    pe2 = x_talk/100 # probability of that pulse being 2pe signal\n",
    "        \n",
    "    n_1pe = dark_rate*1e3*(tf - t0)*pe1 # number of 1pe dark counts throughout measurement time in 1 sensor for 1 event\n",
    "    n_2pe = dark_rate*1e3*(tf - t0)*pe2 # number of 2pe dark counts throughout measurement time in 1 sensor for 1 event\n",
    "    \n",
    "    n_1pe = n_1pe*n_sensors # TOTAL number of 1pe dark counts throughout measurement time for all sensors for 1 event\n",
    "    n_2pe = n_2pe*n_sensors # TOTAL number of 2pe dark counts throughout measurement time for all sensors for 1 event\n",
    "\n",
    "    n_1pe = int(n_1pe)\n",
    "    n_2pe = int(n_2pe)\n",
    "    \n",
    "    return n_1pe, n_2pe"
   ]
  },
  {
   "cell_type": "markdown",
   "id": "5476af0e",
   "metadata": {},
   "source": [
    "<h1> __________________________ </h1>\n",
    "<h2> Global parameters </h2>"
   ]
  },
  {
   "cell_type": "markdown",
   "id": "40924491",
   "metadata": {},
   "source": [
    "-  <p style=\"font-size: 17px; color: black;\"> <b> Pandas dataset params: </b> Allows to set the max number of columns and rows that are shown in a pandas dataset. </p>"
   ]
  },
  {
   "cell_type": "code",
   "execution_count": 4,
   "id": "5562c609",
   "metadata": {},
   "outputs": [],
   "source": [
    "pd.set_option('display.max_columns', None)\n",
    "pd.set_option('display.max_rows', 100)\n",
    "pd.set_option('display.min_rows', 20)"
   ]
  },
  {
   "cell_type": "markdown",
   "id": "11e3df95",
   "metadata": {},
   "source": [
    "-  <p style=\"font-size: 17px; color: black;\"> <b> Plots params: </b> In case you want to fix the parameters for all plots. </p>"
   ]
  },
  {
   "cell_type": "code",
   "execution_count": 5,
   "id": "e9c3a83a",
   "metadata": {},
   "outputs": [],
   "source": [
    "# plt.rcParams[\"figure.figsize\"] = 10, 8\n",
    "# plt.rcParams[\"font.size\"] = 10"
   ]
  },
  {
   "cell_type": "markdown",
   "id": "faa5a7df",
   "metadata": {},
   "source": [
    "-  <p style=\"font-size: 17px; color: black;\"> <b> Analysis parameters </b> </p>\n",
    "\n",
    " -  <p style=\"font-size: 17px; color: black;\"> <b> dark_rate: </b> Dark pulses rate. </p>\n",
    " -  <p style=\"font-size: 17px; color: black;\"> <b> x_talk: </b> Cross talk probability. </p>\n",
    " -  <p style=\"font-size: 17px; color: black;\"> <b> n_sensors: </b> Total number of sensors used. </p>\n",
    " "
   ]
  },
  {
   "cell_type": "code",
   "execution_count": 6,
   "id": "a68ca9ee",
   "metadata": {},
   "outputs": [],
   "source": [
    "dark_rate = 2000 # [Kcps] (1Kcps = 1e3 dark pulses per second)\n",
    "x_talk = 7 # [%] Probability of a dark count to be 2pe instead of 1pe\n",
    "n_sensors = 90 "
   ]
  },
  {
   "cell_type": "markdown",
   "id": "e8b38a7d",
   "metadata": {},
   "source": [
    "<h1> __________________________ </h1>\n",
    "<h2> Data </h2>"
   ]
  },
  {
   "cell_type": "markdown",
   "id": "aba914e0",
   "metadata": {},
   "source": [
    "-  <p style=\"font-size: 17px; color: black;\"> <b> Reading the file </b> </p>"
   ]
  },
  {
   "cell_type": "markdown",
   "id": "fcbac72c",
   "metadata": {},
   "source": [
    "-  <p style=\"font-size: 17px; color: black;\"> File's path </p>"
   ]
  },
  {
   "cell_type": "code",
   "execution_count": 7,
   "id": "1ee61880",
   "metadata": {},
   "outputs": [],
   "source": [
    "path = '/home/investigator/mariandbt/python/data/'\n",
    "path = path + '/20230824_fib_pan_kr'\n",
    "\n",
    "# path = '/home/investigator/mariandbt/nexus'\n",
    "\n",
    "filename = os.path.join(path, \"Fib_pan_meth.next.h5\")"
   ]
  },
  {
   "cell_type": "markdown",
   "id": "c86e5025",
   "metadata": {},
   "source": [
    "-  <p style=\"font-size: 17px; color: black;\"> In a .h5 file there are several objects, so we print them all to then pick the one we're interested in </p>"
   ]
  },
  {
   "cell_type": "code",
   "execution_count": 8,
   "id": "3557f9c6",
   "metadata": {},
   "outputs": [
    {
     "name": "stdout",
     "output_type": "stream",
     "text": [
      "/home/investigator/mariandbt/python/data//20230824_fib_pan_kr/Fib_pan_meth.next.h5 (File) ''\n",
      "Last modif.: '2023-08-31T10:05:55+00:00'\n",
      "Object Tree: \n",
      "/ (RootGroup) ''\n",
      "/MC (Group) ''\n",
      "/MC/configuration (Table(43,)) ''\n",
      "/MC/hits (Table(0,)) ''\n",
      "/MC/particles (Table(240859,)) ''\n",
      "/MC/sns_positions (Table(90,)) ''\n",
      "/MC/sns_response (Table(2926,)) ''\n",
      "\n"
     ]
    }
   ],
   "source": [
    "with tb.open_file(filename) as file:\n",
    "    print(file)"
   ]
  },
  {
   "cell_type": "markdown",
   "id": "a803c911",
   "metadata": {},
   "source": [
    "-  <p style=\"font-size: 17px; color: black;\"> Read the file and make a copy to work with, this way it's easier to re-start the copy instead of re-reading the file. </p>"
   ]
  },
  {
   "cell_type": "code",
   "execution_count": 9,
   "id": "f353a737",
   "metadata": {},
   "outputs": [],
   "source": [
    "# %%timeit # WITH THIS YOU'RE ONLY TIMING, BUT IT DOESN'T REALLY RUN THE COMMANDS YOU TIME\n",
    "# data = pd.read_hdf(filename, \"/MC/particles\")\n",
    "# data = pd.read_hdf(filename, \"/MC/sns_positions\")\n",
    "data = pd.read_hdf(filename, \"/MC/sns_response\")\n",
    "# data = pd.read_hdf(filename, \"/MC/hits\")\n",
    "# dst = pd.read_hdf(filename, \"/MC/hits\").groupby(\"event_id\").get_group(event_id)"
   ]
  },
  {
   "cell_type": "code",
   "execution_count": 10,
   "id": "3e3460fd",
   "metadata": {},
   "outputs": [],
   "source": [
    "dst = data.copy()"
   ]
  },
  {
   "cell_type": "code",
   "execution_count": 11,
   "id": "e8dd84b8",
   "metadata": {},
   "outputs": [
    {
     "data": {
      "text/plain": [
       "(array([3093, 3141, 3083, 3119, 3148, 3154, 3130, 3143, 3167, 3106, 3139,\n",
       "        3128, 3147, 3160, 3164, 3131, 3138, 3134, 3081, 3155, 3136, 3122,\n",
       "        3108, 3153, 3111, 3115, 3135, 3152, 3116, 3117, 3112, 3162, 3132,\n",
       "        3157, 3129, 3118, 3114, 3100, 3140, 3146, 3094, 3161, 3158, 3085,\n",
       "        3091, 3133, 3137, 3113, 3165, 3159, 3088, 3123, 3156, 3096, 3101,\n",
       "        3078, 3082, 3080, 3087, 3099, 3127, 3109, 3145, 3095, 3079, 3097,\n",
       "        3150, 3142, 3110, 3107, 3102, 3098, 3092, 3104, 3120, 3126, 3124,\n",
       "        3151, 3090, 3144, 3149, 3105, 3103, 3125, 3163, 3121, 3084, 3166,\n",
       "        3086, 3089], dtype=uint32),\n",
       " 90)"
      ]
     },
     "execution_count": 11,
     "metadata": {},
     "output_type": "execute_result"
    }
   ],
   "source": [
    "# dst.final_volume.unique() \n",
    "# dst.initial_volume.unique()\n",
    "# dst.particle_name.unique()\n",
    "dst.sensor_id.unique(), len(dst.sensor_id.unique())"
   ]
  },
  {
   "cell_type": "code",
   "execution_count": 12,
   "id": "92dbd590",
   "metadata": {},
   "outputs": [
    {
     "data": {
      "text/plain": [
       "(array([1, 2], dtype=uint32), 2)"
      ]
     },
     "execution_count": 12,
     "metadata": {},
     "output_type": "execute_result"
    }
   ],
   "source": [
    "dst.time_bin.unique(), len(dst.time_bin.unique())\n",
    "dst.charge.unique(), len(dst.charge.unique())\n"
   ]
  },
  {
   "cell_type": "code",
   "execution_count": 13,
   "id": "a78e176e",
   "metadata": {},
   "outputs": [
    {
     "data": {
      "text/html": [
       "<div>\n",
       "<style scoped>\n",
       "    .dataframe tbody tr th:only-of-type {\n",
       "        vertical-align: middle;\n",
       "    }\n",
       "\n",
       "    .dataframe tbody tr th {\n",
       "        vertical-align: top;\n",
       "    }\n",
       "\n",
       "    .dataframe thead th {\n",
       "        text-align: right;\n",
       "    }\n",
       "</style>\n",
       "<table border=\"1\" class=\"dataframe\">\n",
       "  <thead>\n",
       "    <tr style=\"text-align: right;\">\n",
       "      <th></th>\n",
       "      <th>event_id</th>\n",
       "      <th>sensor_id</th>\n",
       "      <th>time_bin</th>\n",
       "      <th>charge</th>\n",
       "    </tr>\n",
       "  </thead>\n",
       "  <tbody>\n",
       "    <tr>\n",
       "      <th>0</th>\n",
       "      <td>0</td>\n",
       "      <td>3093</td>\n",
       "      <td>1569</td>\n",
       "      <td>1</td>\n",
       "    </tr>\n",
       "    <tr>\n",
       "      <th>1</th>\n",
       "      <td>0</td>\n",
       "      <td>3093</td>\n",
       "      <td>1658</td>\n",
       "      <td>1</td>\n",
       "    </tr>\n",
       "    <tr>\n",
       "      <th>2</th>\n",
       "      <td>0</td>\n",
       "      <td>3141</td>\n",
       "      <td>3264</td>\n",
       "      <td>1</td>\n",
       "    </tr>\n",
       "    <tr>\n",
       "      <th>3</th>\n",
       "      <td>0</td>\n",
       "      <td>3083</td>\n",
       "      <td>805</td>\n",
       "      <td>1</td>\n",
       "    </tr>\n",
       "    <tr>\n",
       "      <th>4</th>\n",
       "      <td>0</td>\n",
       "      <td>3083</td>\n",
       "      <td>2597</td>\n",
       "      <td>1</td>\n",
       "    </tr>\n",
       "    <tr>\n",
       "      <th>5</th>\n",
       "      <td>0</td>\n",
       "      <td>3083</td>\n",
       "      <td>4320</td>\n",
       "      <td>1</td>\n",
       "    </tr>\n",
       "    <tr>\n",
       "      <th>6</th>\n",
       "      <td>0</td>\n",
       "      <td>3119</td>\n",
       "      <td>1414</td>\n",
       "      <td>1</td>\n",
       "    </tr>\n",
       "    <tr>\n",
       "      <th>7</th>\n",
       "      <td>0</td>\n",
       "      <td>3148</td>\n",
       "      <td>699</td>\n",
       "      <td>1</td>\n",
       "    </tr>\n",
       "    <tr>\n",
       "      <th>8</th>\n",
       "      <td>0</td>\n",
       "      <td>3154</td>\n",
       "      <td>371</td>\n",
       "      <td>1</td>\n",
       "    </tr>\n",
       "    <tr>\n",
       "      <th>9</th>\n",
       "      <td>0</td>\n",
       "      <td>3154</td>\n",
       "      <td>799</td>\n",
       "      <td>1</td>\n",
       "    </tr>\n",
       "    <tr>\n",
       "      <th>...</th>\n",
       "      <td>...</td>\n",
       "      <td>...</td>\n",
       "      <td>...</td>\n",
       "      <td>...</td>\n",
       "    </tr>\n",
       "    <tr>\n",
       "      <th>2916</th>\n",
       "      <td>99</td>\n",
       "      <td>3162</td>\n",
       "      <td>1415</td>\n",
       "      <td>1</td>\n",
       "    </tr>\n",
       "    <tr>\n",
       "      <th>2917</th>\n",
       "      <td>99</td>\n",
       "      <td>3084</td>\n",
       "      <td>2864</td>\n",
       "      <td>1</td>\n",
       "    </tr>\n",
       "    <tr>\n",
       "      <th>2918</th>\n",
       "      <td>99</td>\n",
       "      <td>3095</td>\n",
       "      <td>474</td>\n",
       "      <td>1</td>\n",
       "    </tr>\n",
       "    <tr>\n",
       "      <th>2919</th>\n",
       "      <td>99</td>\n",
       "      <td>3134</td>\n",
       "      <td>1391</td>\n",
       "      <td>1</td>\n",
       "    </tr>\n",
       "    <tr>\n",
       "      <th>2920</th>\n",
       "      <td>99</td>\n",
       "      <td>3167</td>\n",
       "      <td>600</td>\n",
       "      <td>1</td>\n",
       "    </tr>\n",
       "    <tr>\n",
       "      <th>2921</th>\n",
       "      <td>99</td>\n",
       "      <td>3092</td>\n",
       "      <td>295</td>\n",
       "      <td>1</td>\n",
       "    </tr>\n",
       "    <tr>\n",
       "      <th>2922</th>\n",
       "      <td>99</td>\n",
       "      <td>3097</td>\n",
       "      <td>318</td>\n",
       "      <td>1</td>\n",
       "    </tr>\n",
       "    <tr>\n",
       "      <th>2923</th>\n",
       "      <td>99</td>\n",
       "      <td>3104</td>\n",
       "      <td>272</td>\n",
       "      <td>1</td>\n",
       "    </tr>\n",
       "    <tr>\n",
       "      <th>2924</th>\n",
       "      <td>99</td>\n",
       "      <td>3103</td>\n",
       "      <td>779</td>\n",
       "      <td>1</td>\n",
       "    </tr>\n",
       "    <tr>\n",
       "      <th>2925</th>\n",
       "      <td>99</td>\n",
       "      <td>3083</td>\n",
       "      <td>2758</td>\n",
       "      <td>1</td>\n",
       "    </tr>\n",
       "  </tbody>\n",
       "</table>\n",
       "<p>2926 rows × 4 columns</p>\n",
       "</div>"
      ],
      "text/plain": [
       "      event_id  sensor_id  time_bin  charge\n",
       "0            0       3093      1569       1\n",
       "1            0       3093      1658       1\n",
       "2            0       3141      3264       1\n",
       "3            0       3083       805       1\n",
       "4            0       3083      2597       1\n",
       "5            0       3083      4320       1\n",
       "6            0       3119      1414       1\n",
       "7            0       3148       699       1\n",
       "8            0       3154       371       1\n",
       "9            0       3154       799       1\n",
       "...        ...        ...       ...     ...\n",
       "2916        99       3162      1415       1\n",
       "2917        99       3084      2864       1\n",
       "2918        99       3095       474       1\n",
       "2919        99       3134      1391       1\n",
       "2920        99       3167       600       1\n",
       "2921        99       3092       295       1\n",
       "2922        99       3097       318       1\n",
       "2923        99       3104       272       1\n",
       "2924        99       3103       779       1\n",
       "2925        99       3083      2758       1\n",
       "\n",
       "[2926 rows x 4 columns]"
      ]
     },
     "execution_count": 13,
     "metadata": {},
     "output_type": "execute_result"
    }
   ],
   "source": [
    "# dst.loc[dst.final_volume.str.contains('SENS')]\n",
    "# dst.loc[(dst.initial_volume != 'WORLD') & (dst.primary == 0)]\n",
    "dst"
   ]
  },
  {
   "cell_type": "markdown",
   "id": "0afa1e25",
   "metadata": {},
   "source": [
    "-  <p style=\"font-size: 17px; color: black;\"> <b> Tests on the data: </b> We perform some tests on the dataset to check the simulation is valid. </p>"
   ]
  },
  {
   "cell_type": "markdown",
   "id": "d1639c8b",
   "metadata": {},
   "source": [
    "-  <p style=\"font-size: 17px; color: black;\"> Group the data by sensors. </p>"
   ]
  },
  {
   "cell_type": "code",
   "execution_count": 14,
   "id": "60cce18f",
   "metadata": {},
   "outputs": [
    {
     "data": {
      "text/plain": [
       "(2931, 2926)"
      ]
     },
     "execution_count": 14,
     "metadata": {},
     "output_type": "execute_result"
    }
   ],
   "source": [
    "dst.charge.sum(), len(dst.charge)"
   ]
  },
  {
   "cell_type": "code",
   "execution_count": 15,
   "id": "15e4f36d",
   "metadata": {},
   "outputs": [],
   "source": [
    "# g = dst.groupby(dst.sensor_id)\n",
    "g = dst.groupby(dst.event_id)\n"
   ]
  },
  {
   "cell_type": "code",
   "execution_count": 16,
   "id": "e95bd8e5",
   "metadata": {},
   "outputs": [],
   "source": [
    "# g.charge.sum()"
   ]
  },
  {
   "cell_type": "markdown",
   "id": "c394dca4",
   "metadata": {},
   "source": [
    "<h1> __________________________ </h1>\n",
    "<h2> Analysis </h2>"
   ]
  },
  {
   "cell_type": "markdown",
   "id": "1770c3d4",
   "metadata": {},
   "source": [
    "<h2> Charge distribution in an event. </h2>"
   ]
  },
  {
   "cell_type": "markdown",
   "id": "7c461520",
   "metadata": {},
   "source": [
    "-  <p style=\"font-size: 17px; color: black;\"> All events </p>"
   ]
  },
  {
   "cell_type": "code",
   "execution_count": 17,
   "id": "4cc40aac",
   "metadata": {},
   "outputs": [],
   "source": [
    "ev = 5"
   ]
  },
  {
   "cell_type": "code",
   "execution_count": 18,
   "id": "66b351eb",
   "metadata": {},
   "outputs": [],
   "source": [
    "wvf = dst.groupby(dst.event_id).get_group(ev)"
   ]
  },
  {
   "cell_type": "code",
   "execution_count": 19,
   "id": "f7742dc3",
   "metadata": {},
   "outputs": [
    {
     "data": {
      "text/html": [
       "<div>\n",
       "<style scoped>\n",
       "    .dataframe tbody tr th:only-of-type {\n",
       "        vertical-align: middle;\n",
       "    }\n",
       "\n",
       "    .dataframe tbody tr th {\n",
       "        vertical-align: top;\n",
       "    }\n",
       "\n",
       "    .dataframe thead th {\n",
       "        text-align: right;\n",
       "    }\n",
       "</style>\n",
       "<table border=\"1\" class=\"dataframe\">\n",
       "  <thead>\n",
       "    <tr style=\"text-align: right;\">\n",
       "      <th></th>\n",
       "      <th>event_id</th>\n",
       "      <th>sensor_id</th>\n",
       "      <th>time_bin</th>\n",
       "      <th>charge</th>\n",
       "    </tr>\n",
       "  </thead>\n",
       "  <tbody>\n",
       "    <tr>\n",
       "      <th>138</th>\n",
       "      <td>5</td>\n",
       "      <td>3110</td>\n",
       "      <td>989</td>\n",
       "      <td>1</td>\n",
       "    </tr>\n",
       "    <tr>\n",
       "      <th>139</th>\n",
       "      <td>5</td>\n",
       "      <td>3117</td>\n",
       "      <td>507</td>\n",
       "      <td>1</td>\n",
       "    </tr>\n",
       "    <tr>\n",
       "      <th>140</th>\n",
       "      <td>5</td>\n",
       "      <td>3117</td>\n",
       "      <td>2816</td>\n",
       "      <td>1</td>\n",
       "    </tr>\n",
       "    <tr>\n",
       "      <th>141</th>\n",
       "      <td>5</td>\n",
       "      <td>3147</td>\n",
       "      <td>1939</td>\n",
       "      <td>1</td>\n",
       "    </tr>\n",
       "    <tr>\n",
       "      <th>142</th>\n",
       "      <td>5</td>\n",
       "      <td>3097</td>\n",
       "      <td>2508</td>\n",
       "      <td>1</td>\n",
       "    </tr>\n",
       "    <tr>\n",
       "      <th>143</th>\n",
       "      <td>5</td>\n",
       "      <td>3142</td>\n",
       "      <td>1533</td>\n",
       "      <td>1</td>\n",
       "    </tr>\n",
       "    <tr>\n",
       "      <th>144</th>\n",
       "      <td>5</td>\n",
       "      <td>3107</td>\n",
       "      <td>604</td>\n",
       "      <td>1</td>\n",
       "    </tr>\n",
       "    <tr>\n",
       "      <th>145</th>\n",
       "      <td>5</td>\n",
       "      <td>3107</td>\n",
       "      <td>2488</td>\n",
       "      <td>1</td>\n",
       "    </tr>\n",
       "    <tr>\n",
       "      <th>146</th>\n",
       "      <td>5</td>\n",
       "      <td>3102</td>\n",
       "      <td>1518</td>\n",
       "      <td>1</td>\n",
       "    </tr>\n",
       "    <tr>\n",
       "      <th>147</th>\n",
       "      <td>5</td>\n",
       "      <td>3094</td>\n",
       "      <td>979</td>\n",
       "      <td>1</td>\n",
       "    </tr>\n",
       "    <tr>\n",
       "      <th>148</th>\n",
       "      <td>5</td>\n",
       "      <td>3081</td>\n",
       "      <td>1590</td>\n",
       "      <td>1</td>\n",
       "    </tr>\n",
       "    <tr>\n",
       "      <th>149</th>\n",
       "      <td>5</td>\n",
       "      <td>3114</td>\n",
       "      <td>1000</td>\n",
       "      <td>1</td>\n",
       "    </tr>\n",
       "    <tr>\n",
       "      <th>150</th>\n",
       "      <td>5</td>\n",
       "      <td>3162</td>\n",
       "      <td>158</td>\n",
       "      <td>1</td>\n",
       "    </tr>\n",
       "    <tr>\n",
       "      <th>151</th>\n",
       "      <td>5</td>\n",
       "      <td>3162</td>\n",
       "      <td>270</td>\n",
       "      <td>1</td>\n",
       "    </tr>\n",
       "    <tr>\n",
       "      <th>152</th>\n",
       "      <td>5</td>\n",
       "      <td>3112</td>\n",
       "      <td>629</td>\n",
       "      <td>1</td>\n",
       "    </tr>\n",
       "    <tr>\n",
       "      <th>153</th>\n",
       "      <td>5</td>\n",
       "      <td>3098</td>\n",
       "      <td>1410</td>\n",
       "      <td>1</td>\n",
       "    </tr>\n",
       "    <tr>\n",
       "      <th>154</th>\n",
       "      <td>5</td>\n",
       "      <td>3138</td>\n",
       "      <td>285</td>\n",
       "      <td>1</td>\n",
       "    </tr>\n",
       "    <tr>\n",
       "      <th>155</th>\n",
       "      <td>5</td>\n",
       "      <td>3138</td>\n",
       "      <td>844</td>\n",
       "      <td>1</td>\n",
       "    </tr>\n",
       "    <tr>\n",
       "      <th>156</th>\n",
       "      <td>5</td>\n",
       "      <td>3109</td>\n",
       "      <td>1308</td>\n",
       "      <td>1</td>\n",
       "    </tr>\n",
       "  </tbody>\n",
       "</table>\n",
       "</div>"
      ],
      "text/plain": [
       "     event_id  sensor_id  time_bin  charge\n",
       "138         5       3110       989       1\n",
       "139         5       3117       507       1\n",
       "140         5       3117      2816       1\n",
       "141         5       3147      1939       1\n",
       "142         5       3097      2508       1\n",
       "143         5       3142      1533       1\n",
       "144         5       3107       604       1\n",
       "145         5       3107      2488       1\n",
       "146         5       3102      1518       1\n",
       "147         5       3094       979       1\n",
       "148         5       3081      1590       1\n",
       "149         5       3114      1000       1\n",
       "150         5       3162       158       1\n",
       "151         5       3162       270       1\n",
       "152         5       3112       629       1\n",
       "153         5       3098      1410       1\n",
       "154         5       3138       285       1\n",
       "155         5       3138       844       1\n",
       "156         5       3109      1308       1"
      ]
     },
     "execution_count": 19,
     "metadata": {},
     "output_type": "execute_result"
    }
   ],
   "source": [
    "# wvf.groupby(wvf.sensor_id).get_group(3163)\n",
    "wvf"
   ]
  },
  {
   "cell_type": "code",
   "execution_count": 20,
   "id": "0a8fb786",
   "metadata": {},
   "outputs": [],
   "source": [
    "n_events = dst.event_id.max() + 1"
   ]
  },
  {
   "cell_type": "code",
   "execution_count": 21,
   "id": "a2daf764",
   "metadata": {},
   "outputs": [],
   "source": [
    "# for ev, ev_group in dst.groupby(dst.event_id):\n",
    "#     for sens, sens_group in ev_group.groupby(ev_group.sensor_id):\n",
    "        \n",
    "#         Introduce here a np.hist() for each sensor in each event and obtain the corresponding info\n",
    "        \n",
    "        "
   ]
  },
  {
   "cell_type": "code",
   "execution_count": 22,
   "id": "b45515de",
   "metadata": {},
   "outputs": [],
   "source": [
    "# len(time_bin), len(np.unique(time_bin))"
   ]
  },
  {
   "cell_type": "code",
   "execution_count": 23,
   "id": "74a82ffd",
   "metadata": {},
   "outputs": [],
   "source": [
    "# time_bin"
   ]
  },
  {
   "cell_type": "code",
   "execution_count": 24,
   "id": "176832a1",
   "metadata": {},
   "outputs": [
    {
     "data": {
      "image/png": "[encoded data removed]",
      "text/plain": [
       "<Figure size 500x500 with 1 Axes>"
      ]
     },
     "metadata": {},
     "output_type": "display_data"
    }
   ],
   "source": [
    "fig, ax = plt.subplots(nrows = 1, ncols = 1, figsize=(5,5), constrained_layout=True)\n",
    "\n",
    "n_bins = 100\n",
    "font_size = 8.5\n",
    "\n",
    "events, bins, bars = ax.hist(dst.time_bin, n_bins, \n",
    "                             weights = dst.charge/n_events,\n",
    "                             density=False,\n",
    "                             range=(-1*(dst.time_bin.max()), dst.time_bin.max()),\n",
    "                             label='Charge distribution \\nnormalized to 1 event \\n($N_{events}$ = %s)'%(n_events), \n",
    "                             histtype='step')\n",
    "\n",
    "ax.text(0.75, .85, r'$N_{bins}$ = ' + str(n_bins), transform = ax.transAxes,\n",
    "        fontsize = font_size, verticalalignment = 'top', fontfamily = 'serif',\n",
    "        bbox = dict(facecolor='1.', edgecolor = 'none', pad = 3.0))\n",
    "\n",
    "ax.set_ylabel('Charge [e]')\n",
    "ax.set_xlabel('Time bin [ns]')\n",
    "ax.legend(fontsize = font_size);\n"
   ]
  },
  {
   "cell_type": "markdown",
   "id": "e77d2202",
   "metadata": {},
   "source": [
    "<h2> Add dark counts. </h2>"
   ]
  },
  {
   "cell_type": "markdown",
   "id": "d1d1e26a",
   "metadata": {},
   "source": [
    "-  <p style=\"font-size: 17px; color: black;\"> Create the noise </p>"
   ]
  },
  {
   "cell_type": "code",
   "execution_count": 25,
   "id": "70cfb950",
   "metadata": {},
   "outputs": [],
   "source": [
    "dt = 1e-6 # [s] = 1us"
   ]
  },
  {
   "cell_type": "code",
   "execution_count": 26,
   "id": "4f32a759",
   "metadata": {},
   "outputs": [],
   "source": [
    "tf = dst.time_bin.max()*1e-9 # [s]\n",
    "t0 = -1*tf # [s]\n",
    "n_bins = (tf - t0)/dt"
   ]
  },
  {
   "cell_type": "code",
   "execution_count": 27,
   "id": "14bef172",
   "metadata": {},
   "outputs": [
    {
     "name": "stdout",
     "output_type": "stream",
     "text": [
      "We have 2700 1pe dark pulses and 180 2pe dark pulses\n"
     ]
    }
   ],
   "source": [
    "n_1pe, n_2pe = noise(dark_rate, x_talk, t0, tf, dt, n_sensors)\n",
    "\n",
    "print('We have %s 1pe dark pulses and %s 2pe dark pulses'%(n_1pe, n_2pe))"
   ]
  },
  {
   "cell_type": "code",
   "execution_count": 28,
   "id": "90492adc",
   "metadata": {},
   "outputs": [],
   "source": [
    "noise_1pe = np.random.randint(t0*1e9, tf*1e9, n_1pe) # [ns]\n",
    "noise_2pe = np.random.randint(t0*1e9, tf*1e9, n_2pe) # [ns]\n",
    "\n",
    "t_noise = np.concatenate((noise_1pe, noise_2pe))\n",
    "c_noise = np.concatenate((1*np.ones(n_1pe), 2*np.ones(n_2pe)))"
   ]
  },
  {
   "cell_type": "code",
   "execution_count": 29,
   "id": "fdd6b21b",
   "metadata": {},
   "outputs": [],
   "source": [
    "t_signal = np.asarray(dst.time_bin)\n",
    "c_signal = np.asarray(dst.charge)"
   ]
  },
  {
   "cell_type": "code",
   "execution_count": 30,
   "id": "3ca15387",
   "metadata": {},
   "outputs": [],
   "source": [
    "tt = np.concatenate((t_signal, t_noise))\n",
    "cc = np.concatenate((c_signal, c_noise))"
   ]
  },
  {
   "cell_type": "code",
   "execution_count": 33,
   "id": "03ec9ab4",
   "metadata": {},
   "outputs": [
    {
     "data": {
      "image/png": "[encoded data removed]",
      "text/plain": [
       "<Figure size 500x500 with 1 Axes>"
      ]
     },
     "metadata": {},
     "output_type": "display_data"
    }
   ],
   "source": [
    "fig, ax = plt.subplots(nrows = 1, ncols = 1, figsize=(5,5), constrained_layout=True)\n",
    "\n",
    "font_size = 8.5\n",
    "\n",
    "t_low = -1*(tt.max())\n",
    "t_up = tt.max()\n",
    "\n",
    "n_bins = int((t_up - t_low)*1e-9/dt) + 1\n",
    "\n",
    "# \"Data\"\n",
    "events, bins, bars = ax.hist(tt, n_bins, \n",
    "                             weights = cc/n_events,\n",
    "                             density=False,\n",
    "                             range=(t_low, t_up),\n",
    "                             label='Charge distribution \\nnormalized to 1 event \\n($N_{events}$ = %s)'%(n_events), \n",
    "                             histtype='step')\n",
    "\n",
    "\n",
    "# Signal\n",
    "s_events, s_bins, s_bars = ax.hist(t_signal, n_bins, \n",
    "                                   weights = c_signal/n_events,\n",
    "                                   density=False,\n",
    "                                   range=(t_low, t_up),\n",
    "                                   label='Signal ($N_{pulses}$ = %s)'%(len(t_signal)), \n",
    "                                   alpha = 0.5,\n",
    "                                   histtype='stepfilled')\n",
    "\n",
    "\n",
    "# Noise\n",
    "bkg_events, bkg_bins, bkg_bars = ax.hist(t_noise, n_bins, \n",
    "                                         weights = c_noise, # noise is already normalized\n",
    "                                         density=False,\n",
    "                                         range=(t_low, t_up),\n",
    "                                         label='Noise ($N_{dark}$ = %s)'%(len(t_noise)), \n",
    "                                         alpha = 0.5,\n",
    "                                         histtype='stepfilled')\n",
    "\n",
    "\n",
    "ax.text(0.1, .7, '$N_{bins}$ = %s \\ndt = %.1E [s]'%(n_bins, dt), transform = ax.transAxes,\n",
    "        fontsize = font_size, verticalalignment = 'top', #fontfamily = 'serif',\n",
    "        bbox = dict(facecolor='1.', edgecolor = 'none', pad = 1.))\n",
    "\n",
    "ax.set_ylabel('Charge [e]')\n",
    "ax.set_xlabel('Time bin [ns]')\n",
    "ax.legend(fontsize = font_size, loc = 'upper left');\n"
   ]
  },
  {
   "cell_type": "code",
   "execution_count": 36,
   "id": "42da7b1b",
   "metadata": {
    "scrolled": false
   },
   "outputs": [
    {
     "data": {
      "image/png": "[encoded data removed]",
      "text/plain": [
       "<Figure size 500x500 with 1 Axes>"
      ]
     },
     "metadata": {},
     "output_type": "display_data"
    },
    {
     "data": {
      "image/png": "[encoded data removed]",
      "text/plain": [
       "<Figure size 500x500 with 1 Axes>"
      ]
     },
     "metadata": {},
     "output_type": "display_data"
    },
    {
     "data": {
      "image/png": "[encoded data removed]",
      "text/plain": [
       "<Figure size 500x500 with 1 Axes>"
      ]
     },
     "metadata": {},
     "output_type": "display_data"
    }
   ],
   "source": [
    "font_size = 8.5\n",
    "\n",
    "# for n_bins in [200, 150, 100, 70, 50, 20, 10, 5]:\n",
    "for dt in [1e-6, 0.5e-6, 0.25e-6]:\n",
    "    \n",
    "    fig, ax = plt.subplots(nrows = 1, ncols = 1, figsize=(5,5), constrained_layout=True)\n",
    "\n",
    "    t_low = -1*(tt.max())\n",
    "    t_up = tt.max()\n",
    "\n",
    "#     dt = (t_up - t_low)*1e-9/n_bins # [s]\n",
    "    n_bins = int((t_up - t_low)*1e-9/dt) + 1\n",
    "\n",
    "    # \"Data\"\n",
    "    events, bins, bars = ax.hist(tt, n_bins, \n",
    "                                 weights = cc/n_events,\n",
    "                                 density=False,\n",
    "                                 range=(t_low, t_up),\n",
    "                                 label='Charge distribution \\nnormalized to 1 event \\n($N_{events}$ = %s)'%(n_events), \n",
    "                                 histtype='step')\n",
    "\n",
    "\n",
    "    # Signal\n",
    "    s_events, s_bins, s_bars = ax.hist(t_signal, n_bins, \n",
    "                                       weights = c_signal/n_events,\n",
    "                                       density=False,\n",
    "                                       range=(t_low, t_up),\n",
    "                                       label='Signal ($N_{pulses}$ = %s)'%(len(t_signal)), \n",
    "                                       alpha = 0.5,\n",
    "                                       histtype='stepfilled')\n",
    "\n",
    "\n",
    "    # Noise\n",
    "    bkg_events, bkg_bins, bkg_bars = ax.hist(t_noise, n_bins, \n",
    "                                             weights = c_noise, # noise is already normalized\n",
    "                                             density=False,\n",
    "                                             range=(t_low, t_up),\n",
    "                                             label='Noise ($N_{dark}$ = %s)'%(len(t_noise)), \n",
    "                                             alpha = 0.5,\n",
    "                                             histtype='stepfilled')\n",
    "\n",
    "\n",
    "    ax.text(0.1, .7, '$N_{bins}$ = %s \\ndt = %.1E [s]'%(n_bins, dt), transform = ax.transAxes,\n",
    "            fontsize = font_size, verticalalignment = 'top', #fontfamily = 'serif',\n",
    "            bbox = dict(facecolor='1.', edgecolor = 'none', pad = 1.))\n",
    "\n",
    "    ax.set_ylabel('Charge [e]')\n",
    "    ax.set_xlabel('Time bin [ns]')\n",
    "    ax.legend(fontsize = font_size, loc = 'upper left');\n",
    "    \n"
   ]
  },
  {
   "cell_type": "code",
   "execution_count": null,
   "id": "7d57b5ce",
   "metadata": {},
   "outputs": [],
   "source": []
  }
 ],
 "metadata": {
  "kernelspec": {
   "display_name": "Python 3 (ipykernel)",
   "language": "python",
   "name": "python3"
  },
  "language_info": {
   "codemirror_mode": {
    "name": "ipython",
    "version": 3
   },
   "file_extension": ".py",
   "mimetype": "text/x-python",
   "name": "python",
   "nbconvert_exporter": "python",
   "pygments_lexer": "ipython3",
   "version": "3.8.16"
  }
 },
 "nbformat": 4,
 "nbformat_minor": 5
}
