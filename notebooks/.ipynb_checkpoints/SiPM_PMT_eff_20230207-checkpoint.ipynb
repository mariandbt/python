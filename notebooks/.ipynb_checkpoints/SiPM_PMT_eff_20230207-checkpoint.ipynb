{
 "cells": [
  {
   "cell_type": "code",
   "execution_count": 1,
   "id": "89145d5e-f992-4295-bfdb-0bf6750f872a",
   "metadata": {},
   "outputs": [],
   "source": [
    "import matplotlib.pyplot as plt\n",
    "import numpy as np\n",
    "import scipy\n",
    "from scipy import stats, integrate\n",
    "import os"
   ]
  },
  {
   "cell_type": "code",
   "execution_count": 2,
   "id": "ffe9c534",
   "metadata": {},
   "outputs": [],
   "source": [
    "import time\n",
    "t0 = time.perf_counter()"
   ]
  },
  {
   "cell_type": "markdown",
   "id": "f55cea8a",
   "metadata": {},
   "source": [
    "# Global parameters"
   ]
  },
  {
   "cell_type": "code",
   "execution_count": 3,
   "id": "250c4ce8",
   "metadata": {},
   "outputs": [],
   "source": [
    "signal = np.zeros(2)\n",
    "\n",
    "\"\"\"\n",
    "ch = 1: DAQ\n",
    "ch = 2: SiPM/PMT signal\n",
    "ch = 3: control PMT\n",
    "\n",
    "fib = 0: NO\n",
    "fib = 1: YES\n",
    "\"\"\"\n",
    "detect = ['index', 'DAQ', '', 'control PMT'] # SiPM\n",
    "# detect[2] = 'SiPM' # SiPM\n",
    "detect[2] = 'PMT' # PMT\n",
    "\n",
    "ch = 2\n",
    "control_ch = 3\n",
    "\n",
    "fibers = [' without fibers', ' with fibers']\n",
    "\n",
    "# baseline_corrected = True\n",
    "baseline_corrected = False\n",
    "\n",
    "# integr_method = 'integrate around the peak'\n",
    "# integr_method = 'integrate in a fixed window t1-t2'  \n",
    "integr_method = 'integrate ALL waveform'"
   ]
  },
  {
   "cell_type": "code",
   "execution_count": 4,
   "id": "91198838",
   "metadata": {},
   "outputs": [
    {
     "data": {
      "text/plain": [
       "['index', 'DAQ', 'PMT', 'control PMT']"
      ]
     },
     "execution_count": 4,
     "metadata": {},
     "output_type": "execute_result"
    }
   ],
   "source": [
    "detect\n",
    "# detect[2] == 'PMT'"
   ]
  },
  {
   "cell_type": "markdown",
   "id": "b0b784dd",
   "metadata": {},
   "source": [
    "# Data"
   ]
  },
  {
   "cell_type": "code",
   "execution_count": 5,
   "id": "9cee91fc",
   "metadata": {},
   "outputs": [],
   "source": [
    "filename = ['', '']\n",
    "\n",
    "path = '/home/investigator/mariandbt/python/data/'\n",
    "path = path + '20230207/'\n",
    "\n",
    "if detect[2] == 'PMT':\n",
    "    filename[0] = os.path.join(path, 'calibration_dig2-192.168.0.254-10.txt') # W/O fibers\n",
    "#     filename[1] = os.path.join(path, 'fibers_dig2-192.168.0.254-07.txt') # WITH fibers\n",
    "    filename[1] = os.path.join(path, 'fibers_dig2-192.168.0.254-08.txt') # WITH fibers\n",
    "#     filename[0] = os.path.join(path, 'pmts_no_fibers_dig2-192.168.0.254-04.txt') # W/O fibers\n",
    "#     filename[1] = os.path.join(path, 'pmts_fibers_dig2-192.168.0.254-12.txt') # WITH fibers\n",
    "\n",
    "if detect[2] == 'SiPM':\n",
    "    filename[0] = os.path.join(path, 'sipm_no_fibers_dig2-192.168.0.254-20.txt') # W/O fibers\n",
    "    filename[1] = os.path.join(path, 'sipm_fibers_dig2-192.168.0.254-17.txt') # WITH fibers\n"
   ]
  },
  {
   "cell_type": "markdown",
   "id": "85a2dfe0",
   "metadata": {},
   "source": [
    "# Functions"
   ]
  },
  {
   "cell_type": "code",
   "execution_count": 6,
   "id": "c057ab51",
   "metadata": {},
   "outputs": [],
   "source": [
    "# Fitting distributions to define\n",
    "\n",
    "# note: pdf are normilized to 1 so we have yo add an amplitude param\n",
    "def gauss(x, a,  mu, sigma):\n",
    "    return a*stats.norm.pdf(x, mu, sigma) \n",
    "\n",
    "def gauss_sum(x, a0,  mu0, sigma0, a1, mu1, sigma1):\n",
    "    return a0*stats.norm.pdf(x, mu0, sigma0)  + a1*stats.norm.pdf(x, mu1, sigma1)\n",
    "\n",
    "n_pe = 2"
   ]
  },
  {
   "cell_type": "markdown",
   "id": "d6e65e91",
   "metadata": {},
   "source": [
    "# Without fibers"
   ]
  },
  {
   "cell_type": "code",
   "execution_count": 7,
   "id": "3d6e4b17",
   "metadata": {},
   "outputs": [],
   "source": [
    "fib = 0"
   ]
  },
  {
   "cell_type": "code",
   "execution_count": null,
   "id": "ad41ddfb",
   "metadata": {},
   "outputs": [],
   "source": [
    "data = []\n",
    "with open(filename[fib],'r', encoding='ascii') as fp:\n",
    "    for i, line in enumerate(fp):\n",
    "        if any(c.isalpha() for c in line) == False:\n",
    "            data.append(np.asarray(line.split('\\t')[:-1], dtype=float))\n",
    "fp.close()\n",
    "\n",
    "waveform = np.array(data)"
   ]
  },
  {
   "cell_type": "code",
   "execution_count": null,
   "id": "c2d48bfa",
   "metadata": {},
   "outputs": [],
   "source": [
    "n_points = int(waveform[:, 0].max() + 1)\n",
    "n_frames = int(len(waveform)/n_points) \n",
    "print('n_frames = ', n_frames)\n",
    "print('n_points = ', n_points)"
   ]
  },
  {
   "cell_type": "markdown",
   "id": "df9937c2",
   "metadata": {},
   "source": [
    "NOTE: the way the data is stored when using only ONE FILE is the following:\n",
    "- column 0 is just an index (x-axis if you  will), while columns 1, 2, 3 correspond to data from different channels\n",
    "- each column stores data from MULTIPLE FRAMES\n",
    "- each frame has n_points points, so in column 0 you can see how after n_points - 1 it resets to 0 when the frame changes"
   ]
  },
  {
   "cell_type": "markdown",
   "id": "dcc776b1",
   "metadata": {},
   "source": [
    "### Waveform"
   ]
  },
  {
   "cell_type": "code",
   "execution_count": null,
   "id": "bcd426b5",
   "metadata": {},
   "outputs": [],
   "source": [
    "fig, ax = plt.subplots(1, 1, figsize = (15, 5), constrained_layout=True)\n",
    "\n",
    "frame = int(n_frames/2); print('frame = ', frame)\n",
    "\n",
    "wave = waveform[frame*n_points: (frame + 1)*n_points].copy()\n",
    "x_ax = wave[:, 0]\n",
    "\n",
    "ax.plot(x_ax, wave[:, ch], label = detect[ch])"
   ]
  },
  {
   "cell_type": "code",
   "execution_count": null,
   "id": "013daa5b",
   "metadata": {},
   "outputs": [],
   "source": [
    "fig, ax = plt.subplots(1, 1, figsize = (15, 5), constrained_layout=True)\n",
    "\n",
    "t1 = 70\n",
    "t2 = 90\n",
    "# t1 = 150\n",
    "# t2 = 200\n",
    "# t1 = 0\n",
    "# t2 = 1000\n",
    "\n",
    "dt_izq = 10\n",
    "dt_dch = 10\n",
    "\n",
    "#_____________________________________________________________________________________________________________\n",
    "\n",
    "t0 = t1 + int(np.where(wave[:, ch][t1 : t2] == wave[:, ch][t1 : t2].min())[0][0])\n",
    "\n",
    "pre_base = wave[:, ch][:t0 - dt_izq]\n",
    "x_ax_pre = x_ax[:t0 - dt_izq]\n",
    "\n",
    "peak = wave[:, ch][t0 - dt_izq : t0 + dt_dch].copy()\n",
    "x_ax_peak = x_ax[t0 - dt_izq : t0 + dt_dch].copy()\n",
    "\n",
    "post_base = wave[:, ch][t0 + dt_dch:]\n",
    "x_ax_post = x_ax[t0 + dt_dch:]\n",
    "\n",
    "\n",
    "ax.plot(x_ax, wave[:, ch], label = detect[ch])\n",
    "ax.plot(x_ax_peak, peak, label='signal')\n",
    "ax.plot(x_ax_pre, pre_base, label = 'noise')\n",
    "ax.plot(x_ax_post, post_base, label = 'noise')\n",
    "ax.legend(loc = 'best')"
   ]
  },
  {
   "cell_type": "markdown",
   "id": "c8a39aa5",
   "metadata": {},
   "source": [
    "### Peaks integral with baseline substracted"
   ]
  },
  {
   "cell_type": "markdown",
   "id": "b9027875",
   "metadata": {},
   "source": [
    "NOTE: dt_dch is not always the same when taking the signal as when substracting the baseline, since there can be part of the waveform that is not signal neither baseline (like the rebound after the signal in the SiPM). That's why we re-define it after the baseline"
   ]
  },
  {
   "cell_type": "code",
   "execution_count": null,
   "id": "b92e7fd2",
   "metadata": {},
   "outputs": [],
   "source": [
    "# fig, ax = plt.subplots(1, 1, figsize = (15, 5), constrained_layout=True)\n",
    "\n",
    "peak_integr = []\n",
    "peak_integr_pos = []\n",
    "\n",
    "#______inicio de bucle on frames HERE_______\n",
    "\n",
    "for frame in range(n_frames):\n",
    "#     ________________________________________________BASELINE_______________________________________________________\n",
    "\n",
    "    wave = waveform[frame*n_points: (frame + 1)*n_points].copy()\n",
    "    x_ax = wave[:, 0]\n",
    "\n",
    "\n",
    "    t0 = t1 + int(np.where(wave[:, ch][t1 : t2] == wave[:, ch][t1 : t2].min())[0][0])\n",
    "\n",
    "    pre_base = wave[:, ch][:t0 - dt_izq].copy()\n",
    "    x_ax_pre = x_ax[:t0 - dt_izq].copy()\n",
    "\n",
    "    post_base = wave[:, ch][t0 + dt_dch:].copy()\n",
    "    x_ax_post = x_ax[t0 + dt_dch:].copy()\n",
    "\n",
    "    base = []\n",
    "    base.append(pre_base.mean())\n",
    "    base.append(post_base.mean())\n",
    "\n",
    "    baseline = np.array(base).mean()\n",
    "#     print(base, baseline)\n",
    "\n",
    "    if baseline_corrected:\n",
    "        wave[:, ch] = wave[:, ch] - baseline # NOW THE WAVEFORM IS CORRECTED\n",
    "\n",
    "\n",
    "\n",
    "#     ________________________________________________INTEGRAL_______________________________________________________\n",
    "\n",
    "    \n",
    "    if integr_method == 'integrate around the peak':\n",
    "        peak = wave[:, ch][t0 - dt_izq : t0 + dt_dch].copy()\n",
    "        x_ax_peak = x_ax[t0 - dt_izq : t0 + dt_dch].copy()\n",
    "    \n",
    "        control_peak = wave[:, control_ch][t0 - dt_izq : t0 + dt_dch].copy()\n",
    "\n",
    "        \n",
    "    if integr_method == 'integrate in a fixed window t1-t2':  \n",
    "        peak = wave[:, ch][t1 : t2].copy()\n",
    "        x_ax_peak = x_ax[t1 : t2].copy()\n",
    "        \n",
    "        control_peak = wave[:, control_ch][t1 : t2].copy()\n",
    "\n",
    "            \n",
    "    if integr_method == 'integrate ALL waveform':\n",
    "        peak = wave[:, ch].copy()\n",
    "        x_ax_peak = x_ax.copy()\n",
    "\n",
    "        control_peak = wave[:, control_ch].copy()\n",
    "\n",
    "\n",
    "    integr = np.trapz(peak, x=x_ax_peak)\n",
    "    control_integr = np.trapz(control_peak, x=x_ax_peak)\n",
    "\n",
    "    peak_integr.append(integr/control_integr)  # normalized to the control PMT\n",
    "    peak_integr_pos.append([integr, frame])\n",
    "    \n",
    "#     print(frame)\n",
    "\n",
    "peak_integr = np.array(peak_integr)\n",
    "peak_integr_pos = np.array(peak_integr_pos)\n",
    "\n",
    "# peak_integr.mean()\n",
    "# peak_integr\n",
    "# peak_integr_pos\n",
    "\n",
    "#_____________________________________plot settings______________________________________________________________\n",
    "\n",
    "# ax.plot(x_ax, waveform[frame], label = 'calib PMT')\n",
    "# ax.plot(x_ax_pre, pre_base, label = 'PMT noise')\n",
    "# ax.plot(x_ax_post, post_base, label = 'PMT noise')\n",
    "# ax.plot(x_ax, wave, label = 'Leire\\'s PMT corrected by baseline')\n",
    "# ax.plot(x_ax_peak, peak, label='signal')\n",
    "\n",
    "# ax.set_ylabel('mV')\n",
    "# ax.set_xlabel('Index')\n",
    "# ax.set_title('LED pulse at 1.47V, 2us, 5%df')\n",
    "# ax.text(0.05, .1, 'LED at 992mV, frame %s'%(frame), \n",
    "#         transform=ax.transAxes, # to use (x,y) pos with relative values to the axis and not absolute data points\n",
    "#         fontsize=15, verticalalignment='top', fontfamily='serif',\n",
    "#         bbox=dict(facecolor='1.', edgecolor='none', pad=3.0))\n",
    "# ax.legend(loc = 'best')"
   ]
  },
  {
   "cell_type": "code",
   "execution_count": null,
   "id": "b3fa84c2",
   "metadata": {},
   "outputs": [],
   "source": [
    "baseline"
   ]
  },
  {
   "cell_type": "code",
   "execution_count": null,
   "id": "edb4e9cf",
   "metadata": {},
   "outputs": [],
   "source": [
    "len(peak_integr)\n",
    "baseline"
   ]
  },
  {
   "cell_type": "markdown",
   "id": "91cbe0be",
   "metadata": {},
   "source": [
    "### Integrals distribution"
   ]
  },
  {
   "cell_type": "code",
   "execution_count": null,
   "id": "b034b448",
   "metadata": {},
   "outputs": [],
   "source": [
    "fig, ax = plt.subplots(1, 1, figsize = (15, 5), constrained_layout=True)\n",
    "\n",
    "# events, bins, bars = plt.hist(peak_integr, 50, density=False, range=(-750, -550), label='Integral distribution')\n",
    "events, bins, bars = plt.hist(peak_integr, 50, density=True, label='Negative Integral distribution', \n",
    "                              histtype='step')\n",
    "x_ax = np.linspace(bins.min(), bins.max(), len(bins)-1)\n",
    "\n",
    "# # sum of gaussians fit\n",
    "# popt, pcov = scipy.optimize.curve_fit(gauss_sum, x_ax, events, bounds=([0, -1, 1, 0, -1, 1], \n",
    "#                                                                        [np.inf, 1e2, 1e2, np.inf, 1e2, 1e2])) \n",
    "# a = np.zeros(n_pe); mu = np.zeros(n_pe); sigma = np.zeros(n_pe)\n",
    "\n",
    "# a[0], mu[0], sigma[0], a[1], mu[1], sigma[1] = popt\n",
    "# best_fit_line = gauss_sum(x_ax, a[0], mu[0], sigma[0], a[1], mu[1], sigma[1])\n",
    "\n",
    "# gaussian fit\n",
    "# popt, pcov = scipy.optimize.curve_fit(gauss, x_ax, events, bounds=([0, 0, 1], [np.inf, 3e3, 1e2])) \n",
    "popt, pcov = scipy.optimize.curve_fit(gauss, x_ax, events, p0=[1, bins.mean(), 1e2]) \n",
    "    \n",
    "a, mu, sigma = popt\n",
    "best_fit_line = gauss(x_ax, a, mu, sigma)\n",
    "\n",
    "# ax.plot(x_ax, best_fit_line, label='Sum of gaussian fit')\n",
    "# ax.plot(x_ax, gauss(x_ax, a[0], mu[0], sigma[0]), '-', label='$\\mu$ = %.2f, $\\sigma$ = %.2f'%(mu[0], sigma[0]))\n",
    "# ax.plot(x_ax, gauss(x_ax, a[1], mu[1], sigma[1]), '-y', label='$\\mu$ = %.2f, $\\sigma$ = %.2f'%(mu[1], sigma[1]))\n",
    "ax.plot(x_ax, gauss(x_ax, a, mu, sigma), '-', label='$\\mu$ = %.2f, $\\sigma$ = %.2f'%(mu, sigma))\n",
    "\n",
    "ax.set_ylabel('Counts')\n",
    "ax.set_xlabel('Peak integral')\n",
    "\n",
    "ax.text(0.05, .9, detect[ch] + fibers[fib], transform=ax.transAxes,\n",
    "            fontsize=15, verticalalignment='top', fontfamily='serif',\n",
    "            bbox=dict(facecolor='1.', edgecolor='none', pad=3.0))\n",
    "\n",
    "ax.legend(fontsize=10, loc='best')"
   ]
  },
  {
   "cell_type": "code",
   "execution_count": null,
   "id": "7322f8ae",
   "metadata": {},
   "outputs": [],
   "source": [
    "print(detect[ch] + fibers[fib])\n",
    "print('Amplification = ', '%.2f'%(a))\n",
    "print('Mean value = ', '%.2f'%mu)\n",
    "print('Std = ', '%.2f'%(sigma))\n",
    "\n",
    "signal[fib] = mu"
   ]
  },
  {
   "cell_type": "markdown",
   "id": "9e883e59",
   "metadata": {},
   "source": [
    "# With fibers"
   ]
  },
  {
   "cell_type": "code",
   "execution_count": null,
   "id": "229ced55",
   "metadata": {},
   "outputs": [],
   "source": [
    "fib = 1"
   ]
  },
  {
   "cell_type": "code",
   "execution_count": null,
   "id": "a625e5e9",
   "metadata": {},
   "outputs": [],
   "source": [
    "data = []\n",
    "with open(filename[fib],'r', encoding='ascii') as fp:\n",
    "    for i, line in enumerate(fp):\n",
    "        if any(c.isalpha() for c in line) == False:\n",
    "            data.append(np.asarray(line.split('\\t')[:-1], dtype=float))\n",
    "fp.close()\n",
    "\n",
    "waveform = np.array(data)"
   ]
  },
  {
   "cell_type": "code",
   "execution_count": null,
   "id": "6abd17d9",
   "metadata": {},
   "outputs": [],
   "source": [
    "n_points = int(waveform[:, 0].max() + 1)\n",
    "n_frames = int(len(waveform)/n_points) \n",
    "print('n_frames = ', n_frames)\n",
    "print('n_points = ', n_points)"
   ]
  },
  {
   "cell_type": "markdown",
   "id": "372c1fd2",
   "metadata": {},
   "source": [
    "NOTE: the way the data is stored when using only ONE FILE is the following:\n",
    "- column 0 is just an index (x-axis if you  will), while columns 1, 2, 3 correspond to data from different channels\n",
    "- each column stores data from MULTIPLE FRAMES\n",
    "- each frame has n_points points, so in column 0 you can see how after n_points - 1 it resets to 0 when the frame changes"
   ]
  },
  {
   "cell_type": "markdown",
   "id": "f6a5895e",
   "metadata": {},
   "source": [
    "### Waveform"
   ]
  },
  {
   "cell_type": "code",
   "execution_count": null,
   "id": "d6bb8f58",
   "metadata": {},
   "outputs": [],
   "source": [
    "fig, ax = plt.subplots(1, 1, figsize = (15, 5), constrained_layout=True)\n",
    "\n",
    "frame = int(n_frames/2); print('frame = ', frame)\n",
    "\n",
    "wave = waveform[frame*n_points: (frame + 1)*n_points].copy()\n",
    "x_ax = wave[:, 0]\n",
    "\n",
    "ax.plot(x_ax, wave[:, ch], label = detect[ch])"
   ]
  },
  {
   "cell_type": "code",
   "execution_count": null,
   "id": "7f6cab09",
   "metadata": {},
   "outputs": [],
   "source": [
    "fig, ax = plt.subplots(1, 1, figsize = (15, 5), constrained_layout=True)\n",
    "\n",
    "# t1 = 150\n",
    "# t2 = 200\n",
    "# t1 = 0\n",
    "# t2 = 1000\n",
    "\n",
    "dt_izq = 10\n",
    "dt_dch = 10\n",
    "\n",
    "#_____________________________________________________________________________________________________________\n",
    "\n",
    "t0 = t1 + int(np.where(wave[:, ch][t1 : t2] == wave[:, ch][t1 : t2].min())[0][0])\n",
    "\n",
    "pre_base = wave[:, ch][:t0 - dt_izq]\n",
    "x_ax_pre = x_ax[:t0 - dt_izq]\n",
    "\n",
    "peak = wave[:, ch][t0 - dt_izq : t0 + dt_dch].copy()\n",
    "x_ax_peak = x_ax[t0 - dt_izq : t0 + dt_dch].copy()\n",
    "\n",
    "post_base = wave[:, ch][t0 + dt_dch:]\n",
    "x_ax_post = x_ax[t0 + dt_dch:]\n",
    "\n",
    "\n",
    "ax.plot(x_ax, wave[:, ch], label = detect[ch])\n",
    "ax.plot(x_ax_peak, peak, label='signal')\n",
    "ax.plot(x_ax_pre, pre_base, label = 'noise')\n",
    "ax.plot(x_ax_post, post_base, label = 'noise')\n",
    "ax.legend(loc = 'best')"
   ]
  },
  {
   "cell_type": "markdown",
   "id": "eaa852e8",
   "metadata": {},
   "source": [
    "### Peaks integral with baseline substracted"
   ]
  },
  {
   "cell_type": "markdown",
   "id": "afd503e4",
   "metadata": {},
   "source": [
    "NOTE: dt_dch is not always the same when taking the signal as when substracting the baseline, since there can be part of the waveform that is not signal neither baseline (like the rebound after the signal in the SiPM). That's why we re-define it after the baseline"
   ]
  },
  {
   "cell_type": "code",
   "execution_count": null,
   "id": "b112262b",
   "metadata": {},
   "outputs": [],
   "source": [
    "# fig, ax = plt.subplots(1, 1, figsize = (15, 5), constrained_layout=True)\n",
    "\n",
    "peak_integr = []\n",
    "peak_integr_pos = []\n",
    "\n",
    "#______inicio de bucle on frames HERE_______\n",
    "\n",
    "for frame in range(n_frames):\n",
    "#     ________________________________________________BASELINE_______________________________________________________\n",
    "\n",
    "    wave = waveform[frame*n_points: (frame + 1)*n_points].copy()\n",
    "    x_ax = wave[:, 0]\n",
    "\n",
    "\n",
    "    t0 = t1 + int(np.where(wave[:, ch][t1 : t2] == wave[:, ch][t1 : t2].min())[0][0])\n",
    "\n",
    "    pre_base = wave[:, ch][:t0 - dt_izq].copy()\n",
    "    x_ax_pre = x_ax[:t0 - dt_izq].copy()\n",
    "\n",
    "    post_base = wave[:, ch][t0 + dt_dch:].copy()\n",
    "    x_ax_post = x_ax[t0 + dt_dch:].copy()\n",
    "\n",
    "    base = []\n",
    "    base.append(pre_base.mean())\n",
    "    base.append(post_base.mean())\n",
    "\n",
    "    baseline = np.array(base).mean()\n",
    "#     print(base, baseline)\n",
    "    \n",
    "    if baseline_corrected:\n",
    "        wave[:, ch] = wave[:, ch] - baseline # NOW THE WAVEFORM IS CORRECTED\n",
    "\n",
    "\n",
    "\n",
    "#     ________________________________________________INTEGRAL_______________________________________________________\n",
    "\n",
    "    if integr_method == 'integrate around the peak':\n",
    "        peak = wave[:, ch][t0 - dt_izq : t0 + dt_dch].copy()\n",
    "        x_ax_peak = x_ax[t0 - dt_izq : t0 + dt_dch].copy()\n",
    "        \n",
    "        control_peak = wave[:, control_ch][t0 - dt_izq : t0 + dt_dch].copy()\n",
    "    \n",
    "    \n",
    "    if integr_method == 'integrate in a fixed window t1-t2':  \n",
    "        peak = wave[:, ch][t1 : t2].copy()\n",
    "        x_ax_peak = x_ax[t1 : t2].copy()\n",
    "        \n",
    "        control_peak = wave[:, control_ch][t1 : t2].copy()\n",
    "\n",
    "\n",
    "    if integr_method == 'integrate ALL waveform':\n",
    "        peak = wave[:, ch].copy()\n",
    "        x_ax_peak = x_ax.copy()\n",
    "\n",
    "        control_peak = wave[:, control_ch].copy()\n",
    "    \n",
    "\n",
    "    integr = np.trapz(peak, x=x_ax_peak)\n",
    "    control_integr = np.trapz(control_peak, x=x_ax_peak)\n",
    "\n",
    "    peak_integr.append(integr/control_integr) # normalized to control PMT\n",
    "    peak_integr_pos.append([integr, frame])\n",
    "    \n",
    "#     print(frame)\n",
    "\n",
    "peak_integr = np.array(peak_integr)\n",
    "peak_integr_pos = np.array(peak_integr_pos)\n",
    "\n",
    "# peak_integr.mean()\n",
    "# peak_integr\n",
    "# peak_integr_pos\n",
    "\n",
    "#_____________________________________plot settings______________________________________________________________\n",
    "\n",
    "# ax.plot(x_ax, waveform[frame], label = 'calib PMT')\n",
    "# ax.plot(x_ax_pre, pre_base, label = 'PMT noise')\n",
    "# ax.plot(x_ax_post, post_base, label = 'PMT noise')\n",
    "# ax.plot(x_ax, wave, label = 'Leire\\'s PMT corrected by baseline')\n",
    "# ax.plot(x_ax_peak, peak, label='signal')\n",
    "\n",
    "# ax.set_ylabel('mV')\n",
    "# ax.set_xlabel('Index')\n",
    "# ax.set_title('LED pulse at 1.47V, 2us, 5%df')\n",
    "# ax.text(0.05, .1, 'LED at 992mV, frame %s'%(frame), \n",
    "#         transform=ax.transAxes, # to use (x,y) pos with relative values to the axis and not absolute data points\n",
    "#         fontsize=15, verticalalignment='top', fontfamily='serif',\n",
    "#         bbox=dict(facecolor='1.', edgecolor='none', pad=3.0))\n",
    "# ax.legend(loc = 'best')"
   ]
  },
  {
   "cell_type": "code",
   "execution_count": null,
   "id": "df2550b6",
   "metadata": {},
   "outputs": [],
   "source": [
    "len(peak_integr)\n",
    "baseline"
   ]
  },
  {
   "cell_type": "markdown",
   "id": "4ab7ffa4",
   "metadata": {},
   "source": [
    "### Integrals distribution"
   ]
  },
  {
   "cell_type": "code",
   "execution_count": null,
   "id": "9d6e8aaa",
   "metadata": {},
   "outputs": [],
   "source": [
    "fig, ax = plt.subplots(1, 1, figsize = (15, 5), constrained_layout=True)\n",
    "\n",
    "# events, bins, bars = plt.hist(peak_integr, 50, density=False, range=(-750, -550), label='Integral distribution')\n",
    "events, bins, bars = plt.hist(-peak_integr, 50, density=True, label='Negative Integral distribution', \n",
    "                              histtype='step')\n",
    "x_ax = np.linspace(bins.min(), bins.max(), len(bins)-1)\n",
    "\n",
    "\n",
    "# # sum of gaussians fit\n",
    "# popt, pcov = scipy.optimize.curve_fit(gauss_sum, x_ax, events, bounds=([0, -1, 1, 0, -1, 1], \n",
    "#                                                                        [np.inf, 1e2, 1e2, np.inf, 1e2, 1e2])) \n",
    "# a = np.zeros(n_pe); mu = np.zeros(n_pe); sigma = np.zeros(n_pe)\n",
    "\n",
    "# a[0], mu[0], sigma[0], a[1], mu[1], sigma[1] = popt\n",
    "# best_fit_line = gauss_sum(x_ax, a[0], mu[0], sigma[0], a[1], mu[1], sigma[1])\n",
    "\n",
    "\n",
    "# gaussian fit\n",
    "# popt, pcov = scipy.optimize.curve_fit(gauss, x_ax, events, bounds=([0, 0, 1], [np.inf, 3e3, 1e2])) \n",
    "if detect[2] == 'PMT':\n",
    "    popt, pcov = scipy.optimize.curve_fit(gauss, x_ax, events, p0=[1, 650, 1e2]) \n",
    "if detect[2] == 'SiPM':\n",
    "    popt, pcov = scipy.optimize.curve_fit(gauss, x_ax, events, p0=[1, 800, 1e2]) \n",
    "if ch == 3:\n",
    "    popt, pcov = scipy.optimize.curve_fit(gauss, x_ax, events, p0=[1, 1300, 1e2]) \n",
    "    \n",
    "a, mu, sigma = popt\n",
    "best_fit_line = gauss(x_ax, a, mu, sigma)\n",
    "\n",
    "# ax.plot(x_ax, best_fit_line, label='Sum of gaussian fit')\n",
    "# ax.plot(x_ax, gauss(x_ax, a[0], mu[0], sigma[0]), '-', label='$\\mu$ = %.2f, $\\sigma$ = %.2f'%(mu[0], sigma[0]))\n",
    "# ax.plot(x_ax, gauss(x_ax, a[1], mu[1], sigma[1]), '-y', label='$\\mu$ = %.2f, $\\sigma$ = %.2f'%(mu[1], sigma[1]))\n",
    "ax.plot(x_ax, gauss(x_ax, a, mu, sigma), '-', label='$\\mu$ = %.2f, $\\sigma$ = %.2f'%(mu, sigma))\n",
    "\n",
    "ax.set_ylabel('Counts')\n",
    "ax.set_xlabel('Peak integral')\n",
    "\n",
    "ax.text(0.05, .9, detect[ch] + fibers[fib], transform=ax.transAxes,\n",
    "            fontsize=15, verticalalignment='top', fontfamily='serif',\n",
    "            bbox=dict(facecolor='1.', edgecolor='none', pad=3.0))\n",
    "\n",
    "ax.legend(fontsize=10, loc='best')"
   ]
  },
  {
   "cell_type": "code",
   "execution_count": null,
   "id": "e8d57aad",
   "metadata": {},
   "outputs": [],
   "source": [
    "print(detect[ch] + fibers[fib])\n",
    "print('Amplification = ', '%.2f'%(a))\n",
    "print('Mean value = ', '%.2f'%mu)\n",
    "print('Std = ', '%.2f'%(sigma))\n",
    "\n",
    "signal[fib] = mu"
   ]
  },
  {
   "cell_type": "markdown",
   "id": "b0bdc8f9",
   "metadata": {},
   "source": [
    "# Efficiency"
   ]
  },
  {
   "cell_type": "code",
   "execution_count": null,
   "id": "b3564384",
   "metadata": {},
   "outputs": [],
   "source": [
    "QE = {'LED':0.13, 'Y11':0.18} # Quantum efficiency without and with fibers\n",
    "fib_area = 33*36\n",
    "pmt_area = 18*18\n",
    "\n",
    "n_photon_led = signal[0]/(QE['LED']*pmt_area)\n",
    "n_photon_fib = signal[1]/(QE['Y11']*fib_area)\n",
    "\n",
    "\n",
    "eff = QE['Y11']*n_photon_fib/n_photon_led"
   ]
  },
  {
   "cell_type": "code",
   "execution_count": null,
   "id": "deb08f3e",
   "metadata": {},
   "outputs": [],
   "source": [
    "print(detect[ch] + ' with fibers efficiency = %.2f %%'%(eff*100))\n",
    "print('Baseline corrected:', baseline_corrected)\n",
    "print('Integration method:', integr_method)"
   ]
  },
  {
   "cell_type": "markdown",
   "id": "e4b0d52f",
   "metadata": {},
   "source": [
    "# Timer"
   ]
  },
  {
   "cell_type": "code",
   "execution_count": null,
   "id": "a0e24220",
   "metadata": {},
   "outputs": [],
   "source": [
    "tf = time.perf_counter()\n",
    "print('Code timer: %.2f'%(tf-t0))"
   ]
  }
 ],
 "metadata": {
  "kernelspec": {
   "display_name": "Python 3 (ipykernel)",
   "language": "python",
   "name": "python3"
  },
  "language_info": {
   "codemirror_mode": {
    "name": "ipython",
    "version": 3
   },
   "file_extension": ".py",
   "mimetype": "text/x-python",
   "name": "python",
   "nbconvert_exporter": "python",
   "pygments_lexer": "ipython3",
   "version": "3.8.13"
  }
 },
 "nbformat": 4,
 "nbformat_minor": 5
}
