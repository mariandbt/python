{
 "cells": [
  {
   "cell_type": "code",
   "execution_count": null,
   "id": "19d793eb",
   "metadata": {},
   "outputs": [],
   "source": [
    "import numpy              as np\n",
    "import pandas             as pd\n",
    "\n",
    "import scipy              \n",
    "from scipy                import stats, integrate\n",
    "from scipy.signal         import convolve\n",
    "\n",
    "import matplotlib.pyplot  as plt\n",
    "\n",
    "from matplotlib.ticker    import FormatStrFormatter # to set the format of the plot's axis\n",
    "from matplotlib.patches   import Rectangle # To add blanck spaces in tabular legends\n",
    "\n",
    "import os\n",
    "import math\n",
    "import tables             as tb"
   ]
  },
  {
   "cell_type": "markdown",
   "id": "85a2dfe0",
   "metadata": {},
   "source": [
    "<h1> __________________________ </h1>\n",
    "<h2> Functions </h2>\n",
    "\n"
   ]
  },
  {
   "cell_type": "code",
   "execution_count": null,
   "id": "17eeddd4",
   "metadata": {},
   "outputs": [],
   "source": [
    "def sens_map(selected_id):\n",
    "    \n",
    "    # we select the response of the sensors at the end of the fibers\n",
    "    pp = '/home/investigator/mariandbt/python/data'\n",
    "    pp = pp + '/20231025_NEXT100_full_mapping'\n",
    "\n",
    "    flnm = os.path.join(pp, \"Next100_full_mapp_s2_inicioEL_100Kev.next.h5\")\n",
    "    sens = pd.read_hdf(flnm, \"/MC/sns_positions\")\n",
    "    dst_particle = pd.read_hdf(flnm, \"/MC/particles\")\n",
    "\n",
    "    fig, ax = plt.subplots(nrows = 1, ncols = 1, figsize=(11,11), constrained_layout=True)\n",
    "    \n",
    "    ax.plot(dst_particle.initial_x, dst_particle.initial_y, 'o')\n",
    "\n",
    "\n",
    "    fiber_sens_mask = sens.loc[sens.sensor_name == 'F_SENSOR'].sensor_id # ID mask of the sensors at the end of the fibers\n",
    "\n",
    "    sens_fibers = sens.loc[sens.sensor_id.isin(fiber_sens_mask)] # get the positions of said sensors\n",
    "\n",
    "    font_size = 11\n",
    "    ax.plot(sens_fibers.x, sens_fibers.y, 'o', markersize = 2*font_size)\n",
    "    \n",
    "    labels_fontsize = 2*font_size\n",
    "    \n",
    "    ax.set_xlabel('X-coordinate [mm]', fontsize = labels_fontsize)\n",
    "    ax.set_ylabel('Y-coordinate [mm]', fontsize = labels_fontsize)\n",
    "    ax.tick_params(axis='both', labelsize = labels_fontsize*2/3)\n",
    "\n",
    "    for sens_id in sens_fibers.sensor_id:\n",
    "        xx = float(sens_fibers.loc[sens_fibers.sensor_id == sens_id].x)\n",
    "        yy = float(sens_fibers.loc[sens_fibers.sensor_id == sens_id].y)\n",
    "\n",
    "        ax.annotate(f'{sens_id:.0f}', (xx, yy),\n",
    "                    color='black', ha='center', va='center', fontsize = font_size)\n",
    "\n",
    "    if selected_id in sens_fibers.sensor_id.values:\n",
    "#         ax.plot(sens_fibers.loc[sens_fibers.sensor_id == selected_id].x, \n",
    "#                 sens_fibers.loc[sens_fibers.sensor_id == selected_id].y, 'om', \n",
    "#                 markersize = 2*font_size, label = 'Selected sensor')\n",
    "\n",
    "        ax.legend(fontsize = labels_fontsize, loc = (.4, .6))\n",
    "\n",
    "    else:\n",
    "        ax.annotate('Not (valid) sensor ID selected', (0, 100),\n",
    "                    color='black', ha='center', va='center', fontsize = font_size)\n",
    "        "
   ]
  },
  {
   "cell_type": "markdown",
   "id": "5476af0e",
   "metadata": {},
   "source": [
    "<h1> __________________________ </h1>\n",
    "<h2> Global parameters </h2>"
   ]
  },
  {
   "cell_type": "code",
   "execution_count": null,
   "id": "a68ca9ee",
   "metadata": {},
   "outputs": [],
   "source": [
    "dark25 = 2000 # [Kcps] (1Kcps = 1e3 dark pulses per second) DCR at 25ºC\n",
    "x_talk = 7 # [%] Probability of a dark count to be 2pe instead of 1pe\n",
    "\n",
    "n_sensors = 90 \n",
    "\n",
    "<h1> __________________________ </h1>\n",
    "<h2> Analysis </h2>\n",
    "\n",
    "dst.time_bin = dst.time_bin*t_binning # change units to ns = 0.1 # [ns] Conversion constant from bin enumerations to nanoseconds (binning used in the simulation)\n",
    "dT = 5.3 # [ºC] Decay factor at which the dark rate halves"
   ]
  },
  {
   "cell_type": "markdown",
   "id": "c455482f",
   "metadata": {},
   "source": [
    "<h1> __________________________ </h1>\n",
    "<h2> Files </h2>"
   ]
  },
  {
   "cell_type": "code",
   "execution_count": null,
   "id": "1ee61880",
   "metadata": {},
   "outputs": [],
   "source": [
    "path = '/home/investigator/mariandbt/python/data/'\n",
    "path = path + '/20231025_NEXT100_full_mapping/next100_fibers'\n",
    "\n",
    "filename = os.path.join(path, \"20240122_Next100_bb_1.next.h5\") # 1 full bb w s2"
   ]
  },
  {
   "cell_type": "code",
   "execution_count": null,
   "id": "3557f9c6",
   "metadata": {
    "scrolled": true
   },
   "outputs": [],
   "source": [
    "with tb.open_file(filename) as file:\n",
    "    print(file)"
   ]
  },
  {
   "cell_type": "code",
   "execution_count": null,
   "id": "f353a737",
   "metadata": {},
   "outputs": [],
   "source": [
    "# %%timeit # WITH THIS YOU'RE ONLY TIMING, BUT IT DOESN'T REALLY RUN THE COMMANDS YOU TIME\n",
    "data = pd.read_hdf(filename, \"/MC/sns_response\")\n",
    "particles = pd.read_hdf(filename, \"/MC/particles\")\n"
   ]
  },
  {
   "cell_type": "code",
   "execution_count": null,
   "id": "3e3460fd",
   "metadata": {},
   "outputs": [],
   "source": [
    "dst = data.copy()\n",
    "dst_particle = particles.copy()\n"
   ]
  },
  {
   "cell_type": "code",
   "execution_count": null,
   "id": "19294d15",
   "metadata": {},
   "outputs": [],
   "source": [
    "sens_mask = pd.read_hdf(filename, \"/MC/sns_positions\", where='sensor_name == F_SENSOR')['sensor_id']\n"
   ]
  },
  {
   "cell_type": "code",
   "execution_count": null,
   "id": "8e2b630f",
   "metadata": {},
   "outputs": [],
   "source": [
    "dst_fibers = dst.loc[dst.sensor_id.isin(sens_mask)] # dst only for the sensor on the fibers\n"
   ]
  },
  {
   "cell_type": "markdown",
   "id": "c394dca4",
   "metadata": {},
   "source": [
    "<h1> __________________________ </h1>\n",
    "<h2> Analysis </h2>"
   ]
  },
  {
   "cell_type": "code",
   "execution_count": null,
   "id": "5470a040",
   "metadata": {},
   "outputs": [],
   "source": [
    "dst_fibers.time_bin = dst_fibers.time_bin*t_binning # change units to ns"
   ]
  },
  {
   "cell_type": "code",
   "execution_count": null,
   "id": "998a0c61",
   "metadata": {},
   "outputs": [],
   "source": [
    "fig, ax = plt.subplots(nrows = 1, ncols = 1, figsize=(7, 7), constrained_layout=True)\n",
    "\n",
    "font_size = 15\n",
    "\n",
    "signal = dst_fibers\n",
    "\n",
    "tt = signal.time_bin*1e-3 # [us]\n",
    "s2 = signal.charge # [e]\n",
    "\n",
    "t_window_min = 4000 # [us]\n",
    "t_window_max = 8000 # [us]\n",
    "\n",
    "t_window = (t_window_min < tt) & (tt < t_window_max)\n",
    "\n",
    "t = tt[t_window]\n",
    "s2 = s2[t_window]\n",
    "\n",
    "\n",
    "bin_width = 1 # time units ([us])\n",
    "\n",
    "binin = np.arange(t.min() - bin_width, t.max() + 2*bin_width, bin_width)\n",
    "\n",
    "events, bins, bars = ax.hist(t, binin, \n",
    "                             weights = s2,\n",
    "                             density=False,\n",
    "                             histtype='step')\n",
    "\n",
    "ax.set_title(f's2 waveform', fontsize = font_size);\n",
    "ax.set_xlabel('Time [us]', fontsize = font_size);\n",
    "ax.set_ylabel('Signal [e]', fontsize = font_size);\n",
    "\n",
    "ax.tick_params(axis='both', labelsize = font_size*2/3)"
   ]
  },
  {
   "cell_type": "code",
   "execution_count": null,
   "id": "f016156a",
   "metadata": {},
   "outputs": [],
   "source": [
    "t"
   ]
  },
  {
   "cell_type": "code",
   "execution_count": null,
   "id": "1dbd3e41",
   "metadata": {},
   "outputs": [],
   "source": [
    "len(mask), len(t), len(s2)"
   ]
  },
  {
   "cell_type": "code",
   "execution_count": null,
   "id": "29047b19",
   "metadata": {},
   "outputs": [],
   "source": []
  }
 ],
 "metadata": {
  "kernelspec": {
   "display_name": "Python 3 (ipykernel)",
   "language": "python",
   "name": "python3"
  },
  "language_info": {
   "codemirror_mode": {
    "name": "ipython",
    "version": 3
   },
   "file_extension": ".py",
   "mimetype": "text/x-python",
   "name": "python",
   "nbconvert_exporter": "python",
   "pygments_lexer": "ipython3",
   "version": "3.8.16"
  }
 },
 "nbformat": 4,
 "nbformat_minor": 5
}
