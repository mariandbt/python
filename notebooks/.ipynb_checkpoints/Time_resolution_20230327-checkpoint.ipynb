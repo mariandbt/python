{
 "cells": [
  {
   "cell_type": "code",
   "execution_count": null,
   "id": "89145d5e-f992-4295-bfdb-0bf6750f872a",
   "metadata": {},
   "outputs": [],
   "source": [
    "import matplotlib.pyplot as plt\n",
    "import numpy as np\n",
    "import scipy\n",
    "from scipy import stats, integrate\n",
    "import os"
   ]
  },
  {
   "cell_type": "markdown",
   "id": "f55cea8a",
   "metadata": {},
   "source": [
    "# Global parameters"
   ]
  },
  {
   "cell_type": "code",
   "execution_count": null,
   "id": "250c4ce8",
   "metadata": {},
   "outputs": [],
   "source": [
    "data_file = 0\n",
    "\n",
    "signal_1pe = 60e-3 # [V]\n",
    "signal_2pe = 120e-3 # [V]\n",
    "signal_3pe = 600e-3 # [V]\n"
   ]
  },
  {
   "cell_type": "markdown",
   "id": "b0b784dd",
   "metadata": {},
   "source": [
    "# Data"
   ]
  },
  {
   "cell_type": "code",
   "execution_count": null,
   "id": "9cee91fc",
   "metadata": {},
   "outputs": [],
   "source": [
    "filename = []\n",
    "\n",
    "path = '/home/investigator/mariandbt/python/data/'\n",
    "path = path + '20230327/'\n",
    "\n",
    "filename.append(os.path.join(path, 'C1--Time-resolution--COMBINED.txt')) "
   ]
  },
  {
   "cell_type": "code",
   "execution_count": null,
   "id": "e5f1d964",
   "metadata": {},
   "outputs": [],
   "source": [
    "filename[data_file]"
   ]
  },
  {
   "cell_type": "code",
   "execution_count": null,
   "id": "9170a329",
   "metadata": {},
   "outputs": [],
   "source": [
    "data = []\n",
    "with open(filename[data_file],'r', encoding='ascii') as fp:\n",
    "    for i, line in enumerate(fp):\n",
    "        if any(c.isalpha() for c in line[:7]) == False:\n",
    "            data.append(np.asarray(line[:-1].split(','), dtype=float))\n",
    "fp.close()"
   ]
  },
  {
   "cell_type": "code",
   "execution_count": null,
   "id": "e7e45672",
   "metadata": {},
   "outputs": [],
   "source": [
    "waveform = np.array(data)\n",
    "\n",
    "n_points = int(np.where(waveform[:, 0] == waveform[:, 0].max())[0][0] + 1)\n",
    "n_frames = int(len(waveform)/n_points) \n",
    "waveform_saturation = waveform[:, 1].max()\n",
    "\n",
    "print('n_points = ', n_points)\n",
    "print('n_frames = ', n_frames)"
   ]
  },
  {
   "cell_type": "markdown",
   "id": "85a2dfe0",
   "metadata": {},
   "source": [
    "# Functions"
   ]
  },
  {
   "cell_type": "code",
   "execution_count": null,
   "id": "c057ab51",
   "metadata": {},
   "outputs": [],
   "source": [
    "# Fitting distributions to define\n",
    "\n",
    "# note: pdf are normilized to 1 so we have yo add an amplitude param\n",
    "def gauss(x, a,  mu, sigma):\n",
    "    return a*stats.norm.pdf(x, mu, sigma) "
   ]
  },
  {
   "cell_type": "markdown",
   "id": "dcc776b1",
   "metadata": {},
   "source": [
    "# Analysis"
   ]
  },
  {
   "cell_type": "markdown",
   "id": "a430ba52",
   "metadata": {},
   "source": [
    "### Waveform"
   ]
  },
  {
   "cell_type": "code",
   "execution_count": null,
   "id": "9862b802",
   "metadata": {},
   "outputs": [],
   "source": [
    "frame = int(n_frames/2)\n",
    "frame = 1\n",
    "frame = 100\n",
    "frame = int(n_frames) - 1\n",
    "frame = 500"
   ]
  },
  {
   "cell_type": "code",
   "execution_count": null,
   "id": "bcd426b5",
   "metadata": {},
   "outputs": [],
   "source": [
    "fig, ax = plt.subplots(1, 1, figsize = (15, 5), constrained_layout=True)\n",
    "\n",
    "print('frame = ', frame)\n",
    "\n",
    "wave = waveform[frame*n_points: (frame + 1)*n_points].copy()\n",
    "\n",
    "signal = wave[:, 1]*1e3\n",
    "t = wave[:, 0]\n",
    "dt = t[1] - t[0]\n",
    "\n",
    "mask = np.fabs(signal - signal.max()/2.) < 1.55\n",
    "\n",
    "t_half_peak = t[mask][0]\n",
    "s_half_peak = signal[mask][0]\n",
    "print('t_half_peak = ', t_half_peak)\n",
    "\n",
    "ax.plot(t, signal, label = 'SiPM Hamamatsu')\n",
    "ax.plot(np.linspace(t.min(), t_half_peak, len(t)), s_half_peak*np.ones(len(t)))\n",
    "\n",
    "ax.set_ylabel('Voltage [mV]');\n",
    "ax.set_xlabel('Time [$s$]');\n",
    "ax.legend(loc = 'best')"
   ]
  },
  {
   "cell_type": "code",
   "execution_count": null,
   "id": "9761ef65",
   "metadata": {},
   "outputs": [],
   "source": [
    "fig, ax = plt.subplots(2, 1, figsize = (15, 10), constrained_layout=True)\n",
    "\n",
    "t_half_peak = []\n",
    "s_half_peak = []\n",
    "s_peak = []\n",
    "\n",
    "for frame in range(n_frames):\n",
    "    wave = waveform[frame*n_points: (frame + 1)*n_points].copy()\n",
    "\n",
    "    if wave[:, 1].max() == waveform_saturation: \n",
    "        continue\n",
    "    \n",
    "    signal = wave[:, 1]*1e3\n",
    "    t = wave[:, 0]\n",
    "    dt = t[1] - t[0]\n",
    "\n",
    "    mask = np.fabs(signal - signal.max()/2.) < 1.55\n",
    "\n",
    "    t_half_peak.append(t[mask][0])\n",
    "    s_half_peak.append(signal[mask][0])\n",
    "\n",
    "    s_peak.append(signal.max())\n",
    "    \n",
    "t_half_peak = np.array(t_half_peak)\n",
    "s_half_peak = np.array(s_half_peak)\n",
    "s_peak = np.array(s_peak)\n",
    "    \n",
    "#______________________plot settings________________________________________________________\n",
    "\n",
    "ax[0].plot(t, signal, label = 'SiPM Hamamatsu')\n",
    "ax[0].plot(np.linspace(t.min(), t_half_peak[-1], len(t)), s_half_peak[-1]*np.ones(len(t)))\n",
    "\n",
    "ax[0].set_ylabel('Voltage [mV]');\n",
    "ax[0].set_xlabel('Time [$s$]');\n",
    "ax[0].legend(loc = 'best')\n",
    "\n",
    "ax[1].plot(t_half_peak, s_peak, 'o')\n",
    "# ax[1].set_xlim([7e-7, 8e-7])\n",
    "# ax[1].set_ylim([s_peak.min(), 150])\n"
   ]
  },
  {
   "cell_type": "code",
   "execution_count": null,
   "id": "b4bcb0a3",
   "metadata": {},
   "outputs": [],
   "source": [
    "waveform.max()\n",
    "# waveform[:, 1].max()\n",
    "# np.where(waveform[:, 1] == waveform.max())"
   ]
  },
  {
   "cell_type": "markdown",
   "id": "ed619bb7",
   "metadata": {},
   "source": [
    "### Time resolution calculation"
   ]
  },
  {
   "cell_type": "code",
   "execution_count": null,
   "id": "9f459dee",
   "metadata": {},
   "outputs": [],
   "source": []
  },
  {
   "cell_type": "code",
   "execution_count": null,
   "id": "aeae519b",
   "metadata": {},
   "outputs": [],
   "source": []
  },
  {
   "cell_type": "code",
   "execution_count": null,
   "id": "203a0509",
   "metadata": {},
   "outputs": [],
   "source": []
  },
  {
   "cell_type": "code",
   "execution_count": null,
   "id": "8700868b",
   "metadata": {},
   "outputs": [],
   "source": []
  },
  {
   "cell_type": "code",
   "execution_count": null,
   "id": "1c41b1d5",
   "metadata": {},
   "outputs": [],
   "source": []
  },
  {
   "cell_type": "code",
   "execution_count": null,
   "id": "fd69ed4e",
   "metadata": {},
   "outputs": [],
   "source": []
  },
  {
   "cell_type": "code",
   "execution_count": null,
   "id": "8d802061",
   "metadata": {},
   "outputs": [],
   "source": []
  },
  {
   "cell_type": "code",
   "execution_count": null,
   "id": "d0ffee94",
   "metadata": {},
   "outputs": [],
   "source": []
  }
 ],
 "metadata": {
  "kernelspec": {
   "display_name": "Python 3 (ipykernel)",
   "language": "python",
   "name": "python3"
  },
  "language_info": {
   "codemirror_mode": {
    "name": "ipython",
    "version": 3
   },
   "file_extension": ".py",
   "mimetype": "text/x-python",
   "name": "python",
   "nbconvert_exporter": "python",
   "pygments_lexer": "ipython3",
   "version": "3.8.13"
  }
 },
 "nbformat": 4,
 "nbformat_minor": 5
}
