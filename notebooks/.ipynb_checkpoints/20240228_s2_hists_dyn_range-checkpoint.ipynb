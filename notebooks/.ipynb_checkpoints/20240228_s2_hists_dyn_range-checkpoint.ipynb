{
 "cells": [
  {
   "cell_type": "markdown",
   "id": "f55cea8a",
   "metadata": {},
   "source": [
    "<h1> ______________________________________ </h1>\n",
    "\n",
    "<h1> Full NEXT100 with fiber panels simulation signal analysis </h1>\n",
    "<h1> ______________________________________ </h1>\n",
    "\n",
    "<p style=\"font-size: 17px; color: black;\"> In this Notebook we take as input the signal created in the previous notebook and use it to analize the waveforms. </p>\n",
    "\n",
    "\n"
   ]
  },
  {
   "cell_type": "code",
   "execution_count": 1,
   "id": "4d7a01b4",
   "metadata": {},
   "outputs": [],
   "source": [
    "# S2 signal script\n",
    "import sys\n",
    "sys.path.append('/home/investigator/mariandbt/python/notebooks/modules')\n",
    "\n",
    "from import_modules import *\n",
    "\n",
    "import set_up as setup\n",
    "import s2_hists as s2hist\n"
   ]
  },
  {
   "cell_type": "code",
   "execution_count": 2,
   "id": "6f02366b",
   "metadata": {},
   "outputs": [
    {
     "name": "stdout",
     "output_type": "stream",
     "text": [
      "\n",
      "        NOTE: if you want to compare online and offline waveforms \n",
      "        it should be done with the offline file and the original online file from which this was created\n",
      "      \n"
     ]
    }
   ],
   "source": [
    "# Data reading\n",
    "# ________________________________________________________________________________________________________________\n",
    "\n",
    "path = '/home/investigator/mariandbt/python/data'\n",
    "# path = path + '/20231025_NEXT100_full_mapping'\n",
    "path = path + '/20240313_s2simulation'\n",
    "\n",
    "\n",
    "# off_s2_file_path = os.path.join(path, \"20240219_bb0nu_200ev_s2_signal.h5\") # has fluctuations\n",
    "# off_s2_file_path = os.path.join(path, \"20240222_bb0nu_200ev_s2_signal.h5\") # has fluctuations\n",
    "# off_s2_file_path = os.path.join(path, \"20240226_bb0nu_200ev_s2_signal.h5\") # has fluctuations\n",
    "# off_s2_file_path = os.path.join(path, \"20240228_bb0nu_10ev_ELon_s2_signal.h5\") # EL ON + fluctuations\n",
    "\n",
    "# online_s2_filename = os.path.join(path, \"next100_fibers/20240122_Next100_bb_1.next.h5\") # 1 full bb w s2\n",
    "# online_s2_filename = os.path.join(path, \"next100_fibers/20240226_Next100_bb_1.next.h5\") # 10 full bb w s2\n",
    "\n",
    "# off_s2_file_path = os.path.join(path, \"s2signals/20240314_bb0nu_10ev_ELon_s2_signal_20240304s2table.h5\") # EL ON + fluctuations\n",
    "# online_s2_filename = os.path.join(path, \"bb/20240228_Next100_10ev_ELon_bb_1.next.h5\") # 10 full bb w s2\n",
    "\n",
    "# off_s2_file_path = os.path.join(path, \"s2signals/20240315_bb0nu_2000ev_ELoff_s2_signal_20240304s2table.h5\") # fluctuations\n",
    "# off_s2_file_path = os.path.join(path, \"s2signals/20240318_bb0nu_200ev_ELoff_s2_signal_20240304s2table.h5\") # fluctuations\n",
    "off_s2_file_path = os.path.join(path, \"s2signals/20240318_bb0nu_2000ev_ELoff_s2_signal_20240304s2table.h5\") # fluctuations\n",
    "\n",
    "\n",
    "# sns_positions, sns_response = setup.read_fiber_sens(online_s2_filename)\n",
    "\n",
    "print(\"\"\"\n",
    "        NOTE: if you want to compare online and offline waveforms \n",
    "        it should be done with the offline file and the original online file from which this was created\n",
    "      \"\"\")"
   ]
  },
  {
   "cell_type": "code",
   "execution_count": 3,
   "id": "57faa834",
   "metadata": {},
   "outputs": [],
   "source": [
    "# Global params\n",
    "# ________________________________________________________________________________________________________________\n",
    "\n",
    "t_binnin = 0.1 # [ns] Conversion constant from bin enumerations to nanoseconds (binning used in the simulation)\n",
    "fiducial_radio = 490 # [mm]\n",
    "# fiducial_radio = 400 # [mm]\n",
    "bin_width_in_us = 25e-3 # [us] = 25 [ns]\n",
    "# bin_width_in_us = 1 # [us] "
   ]
  },
  {
   "cell_type": "code",
   "execution_count": 4,
   "id": "96003d33",
   "metadata": {},
   "outputs": [
    {
     "name": "stdout",
     "output_type": "stream",
     "text": [
      "t_binnin already exists! Updating variable.\n",
      "t_binnin already exists! Updating variable.\n",
      "fiducial_radio already exists! Updating variable.\n",
      "Global parameters set successfully :)\n"
     ]
    }
   ],
   "source": [
    "s2hist.set_global_parameters(globals(), t_binnin, fiducial_radio)"
   ]
  },
  {
   "cell_type": "code",
   "execution_count": 5,
   "id": "89dd1b41",
   "metadata": {
    "scrolled": true
   },
   "outputs": [],
   "source": [
    "# s2_max_dict, prim_e_r_dict = s2hist.build_offline_s2_max_dict(off_s2_file_path, bin_width_in_us)"
   ]
  },
  {
   "cell_type": "code",
   "execution_count": null,
   "id": "993bc377",
   "metadata": {
    "scrolled": true
   },
   "outputs": [
    {
     "name": "stdout",
     "output_type": "stream",
     "text": [
      "Event 0 processed\n",
      "Event 1 processed\n",
      "Event 10 processed\n",
      "Event 100 processed\n",
      "Event 1000 processed\n",
      "Event 1001 processed\n",
      "Event 1002 processed\n",
      "Event 1003 processed\n",
      "Event 1004 processed\n",
      "Event 1005 processed\n",
      "Event 1006 processed\n",
      "Event 1007 processed\n",
      "Event 1008 processed\n",
      "Event 1009 processed\n",
      "Event 101 processed\n",
      "Event 1010 processed\n",
      "Event 1011 processed\n",
      "Event 1012 processed\n",
      "Event 1013 processed\n",
      "Event 1014 processed\n",
      "Event 1015 processed\n",
      "Event 1016 processed\n",
      "Event 1017 processed\n",
      "Event 1018 processed\n",
      "Event 1019 processed\n",
      "Event 102 processed\n",
      "Event 1020 processed\n",
      "Event 1021 processed\n",
      "Event 1022 processed\n",
      "Event 1023 processed\n",
      "Event 1024 processed\n",
      "Event 1025 processed\n",
      "Event 1026 processed\n"
     ]
    }
   ],
   "source": [
    "# off_s2_file_path_1 = os.path.join(path, \"s2signals/20240315_bb0nu_2000ev_ELoff_s2_signal_20240304s2table.h5\") # fluctuations\n",
    "# off_s2_file_path_2 = os.path.join(path, \"s2signals/20240318_bb0nu_200ev_ELoff_s2_signal_20240304s2table.h5\") # fluctuations\n",
    "\n",
    "# off_s2_file_path_list = [off_s2_file_path_1, off_s2_file_path_2]\n",
    "off_s2_file_path_list = [off_s2_file_path]\n",
    "\n",
    "s2_max_dict = {}\n",
    "prim_e_r_dict = {}\n",
    "\n",
    "for off_s2_file_path in off_s2_file_path_list:\n",
    "    s2_max_dict_this_file, prim_e_r_dict_this_file = s2hist.build_offline_s2_max_dict(off_s2_file_path, \n",
    "                                                                                      bin_width_in_us)\n",
    "    s2_max_dict = {**s2_max_dict, **s2_max_dict_this_file}\n",
    "    prim_e_r_dict = {**prim_e_r_dict, **prim_e_r_dict_this_file}\n",
    "\n",
    "# print(s2_max_dict)\n"
   ]
  },
  {
   "cell_type": "code",
   "execution_count": null,
   "id": "36f201e2",
   "metadata": {},
   "outputs": [],
   "source": [
    "len(prim_e_r_dict.values())"
   ]
  },
  {
   "cell_type": "code",
   "execution_count": null,
   "id": "9ed90198",
   "metadata": {},
   "outputs": [],
   "source": [
    "events, bin_edges, ax = s2hist.print_dyn_range_hist(s2_max_dict, bin_width_in_pes = 10)\n",
    "\n",
    "# font_size = 20\n",
    "\n",
    "ax.text(0.6, .6, 'Time resolution (bins) = %.0f [ns]'%(bin_width_in_us*1000),\n",
    "transform=ax.transAxes, fontsize=10, bbox=dict(facecolor='1.', edgecolor='none', pad=3.0))"
   ]
  },
  {
   "cell_type": "code",
   "execution_count": null,
   "id": "19c6b76c",
   "metadata": {},
   "outputs": [],
   "source": [
    "events, bin_edges, ax = s2hist.print_dyn_range_hist(s2_max_dict, bin_width_in_pes = 10)\n",
    "\n",
    "# font_size = 20\n",
    "\n",
    "ax.text(0.6, .6, 'Time resolution (bins) = %.0f [ns]'%(bin_width_in_us*1000),\n",
    "transform=ax.transAxes, fontsize=10, bbox=dict(facecolor='1.', edgecolor='none', pad=3.0))\n",
    "ax.set_yscale('linear')\n"
   ]
  },
  {
   "cell_type": "code",
   "execution_count": null,
   "id": "13af08f5",
   "metadata": {},
   "outputs": [],
   "source": []
  },
  {
   "cell_type": "code",
   "execution_count": null,
   "id": "8f07eec9",
   "metadata": {},
   "outputs": [],
   "source": []
  },
  {
   "cell_type": "code",
   "execution_count": null,
   "id": "5f983a79",
   "metadata": {},
   "outputs": [],
   "source": []
  },
  {
   "cell_type": "code",
   "execution_count": null,
   "id": "c2d3d1a9",
   "metadata": {},
   "outputs": [],
   "source": []
  },
  {
   "cell_type": "code",
   "execution_count": null,
   "id": "71592563",
   "metadata": {},
   "outputs": [],
   "source": [
    "s2"
   ]
  },
  {
   "cell_type": "code",
   "execution_count": null,
   "id": "20fa09bb",
   "metadata": {},
   "outputs": [],
   "source": [
    "fig, ax = plt.subplots(nrows = 1, ncols = 1, figsize=(15,10), constrained_layout=True)\n",
    "\n",
    "s2 = np.array(list(s2_max_dict.values()))\n",
    "\n",
    "# Create a histogram\n",
    "events, bin_ref = np.histogram(s2, bins=bin_edges)\n",
    "\n",
    "# Plot the histogram\n",
    "ax.hist((bin_ref[1:] + bin_ref[:-1])/2, bins=bin_ref,\n",
    "         weights = events, \n",
    "         alpha=1)\n",
    "\n",
    "\n",
    "s2 = s2[s2 < 200]\n",
    "events, bins = np.histogram(s2, bins=bin_ref)\n",
    "ax.hist((bins[1:] + bins[:-1])/2, bins=bin_ref,\n",
    "         weights = events, \n",
    "         alpha=0.7)\n",
    "\n",
    "ax.set_title('Histogram')\n",
    "ax.set_xlabel('Value')\n",
    "ax.set_ylabel('Frequency')"
   ]
  },
  {
   "cell_type": "code",
   "execution_count": null,
   "id": "efabf9d9",
   "metadata": {},
   "outputs": [],
   "source": [
    "def signal_cut_eff(s2_max_dict, bin_width_in_pes, cuts):\n",
    "    \n",
    "    fig, ax = plt.subplots(nrows = 1, ncols = 1, figsize=(7, 7), constrained_layout=True)\n",
    "\n",
    "    # Create a histogram\n",
    "    s2 = np.array(list(s2_max_dict.values()))\n",
    "    bin_edges = np.arange(s2.min() - bin_width_in_pes, s2.max() + 2*bin_width_in_pes, bin_width_in_pes)\n",
    "\n",
    "    events_ref, bin_ref = np.histogram(s2, bins=bin_edges)\n",
    "\n",
    "    eff_dict = {}\n",
    "\n",
    "    for ii, cut in enumerate(cuts):\n",
    "\n",
    "        s2 = s2[s2 < cut]\n",
    "        events, bins = np.histogram(s2, bins=bin_ref)\n",
    "\n",
    "        eff = events.sum()*100/events_ref.sum()\n",
    "\n",
    "        eff_dict[cut] = eff\n",
    "\n",
    "    font_size = 22\n",
    "\n",
    "    ax.plot(eff_dict.keys(), eff_dict.values(), 'o')\n",
    "    ax.set_title('Cut in the signal', fontsize = font_size)\n",
    "    ax.set_ylabel('Efficieny [%]', fontsize = font_size)\n",
    "    ax.set_xlabel('Cut [pes]', fontsize = font_size)\n",
    "\n",
    "    ax.tick_params(axis='both', labelsize = font_size*2/3)\n",
    "    \n",
    "    return eff_dict, ax"
   ]
  },
  {
   "cell_type": "code",
   "execution_count": null,
   "id": "e6c18750",
   "metadata": {},
   "outputs": [],
   "source": [
    "cut_step_in_pes = 10\n",
    "bin_width_in_pes = 10\n",
    "s2 = np.array(list(s2_max_dict.values()))\n",
    "cuts = np.arange(s2.max(), s2.min(), -cut_step_in_pes)\n",
    "\n",
    "\n",
    "_, _ = signal_cut_eff(s2_max_dict, bin_width_in_pes, cuts)"
   ]
  },
  {
   "cell_type": "code",
   "execution_count": null,
   "id": "b1bc58c5",
   "metadata": {
    "scrolled": true
   },
   "outputs": [],
   "source": [
    "fiducial_cut = 490 # [mm]\n",
    "cut_step_in_pes = 10\n",
    "bin_width_in_pes = 10\n",
    "\n",
    "s2 = np.array(list(s2_max_dict.values()))\n",
    "cuts = np.arange(s2.max(), s2.min(), -cut_step_in_pes)\n",
    "\n",
    "s2hist_globals = s2hist.get_globals()\n",
    "\n",
    "for cut in range(45):\n",
    "    \n",
    "    cut_s2_max_dict = {key: s2_max_dict[key] for key in s2_max_dict if (prim_e_r_dict[key] < fiducial_cut)}\n",
    "    \n",
    "    \n",
    "    _, ax = signal_cut_eff(cut_s2_max_dict, bin_width_in_pes, cuts)\n",
    "    \n",
    "    cut_max = max(cut_s2_max_dict.values())\n",
    "    cut_min = min(cut_s2_max_dict.values())\n",
    "    \n",
    "    ax.fill_between([cut_min, cut_max], 100, \n",
    "                    color = 'magenta', alpha = 0.3, label = 'Data region') \n",
    "\n",
    "    \n",
    "    \n",
    "    ax.text(0.5, .6, 'Fiducial radio cut = %.0f [mm]'%(fiducial_cut),\n",
    "            transform=ax.transAxes, fontsize=12, \n",
    "            bbox=dict(facecolor='none', edgecolor='none', pad=3.0))\n",
    "    \n",
    "    ax.text(0.5, .5, 'Max signal = %.0f [pes]'%(cut_max),\n",
    "            transform=ax.transAxes, fontsize=12, \n",
    "#             bbox=dict(facecolor='1.', edgecolor='none', pad=3.0))\n",
    "            bbox=dict(facecolor='none', edgecolor='none', pad=3.0))\n",
    "    \n",
    "    ax.legend(loc = (0.5, 0.4), fontsize=12)\n",
    "    \n",
    "    plt.savefig(f'signal_cut_eff_{cut}.png')\n",
    "    fiducial_cut = fiducial_cut - 10 # [mm]\n",
    "    "
   ]
  },
  {
   "cell_type": "code",
   "execution_count": null,
   "id": "e3c61777",
   "metadata": {},
   "outputs": [],
   "source": [
    "# Create GIF from the saved images\n",
    "setup.create_gif([f'signal_cut_eff_{cut}' for cut in range(45)], \"animated_figures\")"
   ]
  },
  {
   "cell_type": "code",
   "execution_count": null,
   "id": "f25752e0",
   "metadata": {},
   "outputs": [],
   "source": []
  },
  {
   "cell_type": "code",
   "execution_count": null,
   "id": "253f74bc",
   "metadata": {},
   "outputs": [],
   "source": []
  },
  {
   "cell_type": "code",
   "execution_count": null,
   "id": "55867eda",
   "metadata": {},
   "outputs": [],
   "source": []
  },
  {
   "cell_type": "code",
   "execution_count": null,
   "id": "4bda577b",
   "metadata": {},
   "outputs": [],
   "source": []
  },
  {
   "cell_type": "code",
   "execution_count": null,
   "id": "f9ce989d",
   "metadata": {},
   "outputs": [],
   "source": [
    "fiducial_cut = 490 # [mm]\n",
    "cut_eff_dict = {}\n",
    "cut_max_dict = {}\n",
    "last_max_mean_dict = {}\n",
    "\n",
    "s2hist_globals = s2hist.get_globals()\n",
    "\n",
    "for cut in range(45):\n",
    "    \n",
    "    cut_s2_max_dict = {key: s2_max_dict[key] for key in s2_max_dict if (prim_e_r_dict[key] < fiducial_cut)}\n",
    "    \n",
    "    if cut == 0:\n",
    "        n_entries = len(cut_s2_max_dict)\n",
    "    \n",
    "    cut_max = max(cut_s2_max_dict.values())\n",
    "    cut_entries = len(cut_s2_max_dict)\n",
    "    \n",
    "    n_maxs = min(5, len(cut_s2_max_dict))\n",
    "    last_max_values = sorted(np.array(list(cut_s2_max_dict.values())))[-n_maxs:]\n",
    "    \n",
    "    cut_eff_dict[fiducial_cut] = cut_entries*100/n_entries\n",
    "    cut_max_dict[fiducial_cut] = cut_max\n",
    "    last_max_mean_dict[fiducial_cut] = np.mean(last_max_values)\n",
    "    \n",
    "    fiducial_cut = fiducial_cut - 10 # [mm]\n"
   ]
  },
  {
   "cell_type": "code",
   "execution_count": null,
   "id": "c68b8ea6",
   "metadata": {},
   "outputs": [],
   "source": [
    "cut"
   ]
  },
  {
   "cell_type": "code",
   "execution_count": null,
   "id": "6fc16e99",
   "metadata": {},
   "outputs": [],
   "source": [
    "fig, ax1 = plt.subplots(nrows = 1, ncols = 1, figsize=(7, 5), constrained_layout=True) # Create a new figure\n",
    "\n",
    "marker_size = 6\n",
    "\n",
    "ax1.plot(cut_max_dict.keys(), cut_max_dict.values(), 'og', \n",
    "         markersize = marker_size, label = 's2 max value')\n",
    "\n",
    "ax1.tick_params('y')\n",
    "ax1.set_xlabel('Fiducial radio [mm]')\n",
    "ax1.set_ylabel('s2 [pes]')\n",
    "# ax1.set_yscale('log')\n",
    "\n",
    "\n",
    "ax2 = ax1.twinx()\n",
    "\n",
    "ax2.plot(cut_eff_dict.keys(), cut_eff_dict.values(), '*', color='orange', \n",
    "         markersize = marker_size, label = 'Cut efficiency')\n",
    "\n",
    "ax2.set_ylabel('Cut efficiency [%]', color='orange')\n",
    "ax2.tick_params('y', colors='orange')\n",
    "\n",
    "\n",
    "ax1.plot(last_max_mean_dict.keys(), last_max_mean_dict.values(), 'X', color='r', \n",
    "         markersize = marker_size, label = ' s2 top 5 mean')\n",
    "\n",
    "# ax3.set_ylabel('Cut efficiency [%]', color='orange')\n",
    "# ax3.tick_params('y', colors='orange')\n",
    "\n",
    "ax1.legend()\n",
    "ax2.legend(loc = 'lower right')"
   ]
  },
  {
   "cell_type": "code",
   "execution_count": null,
   "id": "7d17975c",
   "metadata": {},
   "outputs": [],
   "source": []
  }
 ],
 "metadata": {
  "kernelspec": {
   "display_name": "Python 3 (ipykernel)",
   "language": "python",
   "name": "python3"
  },
  "language_info": {
   "codemirror_mode": {
    "name": "ipython",
    "version": 3
   },
   "file_extension": ".py",
   "mimetype": "text/x-python",
   "name": "python",
   "nbconvert_exporter": "python",
   "pygments_lexer": "ipython3",
   "version": "3.8.16"
  }
 },
 "nbformat": 4,
 "nbformat_minor": 5
}
