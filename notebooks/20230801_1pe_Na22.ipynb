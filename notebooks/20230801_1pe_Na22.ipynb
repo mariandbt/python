{
 "cells": [
  {
   "cell_type": "markdown",
   "id": "f55cea8a",
   "metadata": {},
   "source": [
    "<h1> ______________________________________ </h1>\n",
    "\n",
    "<h1> Single photoelectron for the setup with Na22 source </h1>\n",
    "<h1> ______________________________________ </h1>\n",
    "\n",
    "<p style=\"font-size: 17px; color: black;\"> In this Notebook we calculate the charge corresponding to the 511keV Na22 peak.</p>\n"
   ]
  },
  {
   "cell_type": "markdown",
   "id": "0a6c28e7",
   "metadata": {},
   "source": [
    "<h1> ____________ </h1>\n",
    "<h2> This version </h2>\n",
    "<h1> ____________ </h1>\n",
    "\n",
    "-  <p style=\"font-size: 17px; color: black;\"> In this notebook we don't save all the waveforms, but rather work with them re-reading the files. This might take more time but less memory, preventing the laptop to collapse. </p>\n",
    "\n",
    "-  <p style=\"font-size: 17px; color: black;\"> 10K events per SiPM. </p>\n",
    "\n"
   ]
  },
  {
   "cell_type": "code",
   "execution_count": 1,
   "id": "dbd2ff21",
   "metadata": {},
   "outputs": [],
   "source": [
    "import matplotlib.pyplot as plt\n",
    "import pandas as pd\n",
    "import numpy as np"
   ]
  },
  {
   "cell_type": "code",
   "execution_count": 2,
   "id": "ae45a290",
   "metadata": {},
   "outputs": [],
   "source": [
    "import math"
   ]
  },
  {
   "cell_type": "code",
   "execution_count": 3,
   "id": "151ece17",
   "metadata": {},
   "outputs": [],
   "source": [
    "import scipy\n",
    "from scipy import stats, integrate\n",
    "from scipy.signal import find_peaks\n",
    "from scipy.interpolate import interp1d\n",
    "from scipy.optimize import root, root_scalar"
   ]
  },
  {
   "cell_type": "code",
   "execution_count": 4,
   "id": "89145d5e-f992-4295-bfdb-0bf6750f872a",
   "metadata": {},
   "outputs": [],
   "source": [
    "import os"
   ]
  },
  {
   "cell_type": "markdown",
   "id": "7ca48882",
   "metadata": {},
   "source": [
    "<h1> _________________________________________________________________________________________________________ </h1>\n"
   ]
  },
  {
   "cell_type": "markdown",
   "id": "85a2dfe0",
   "metadata": {},
   "source": [
    "<h1> __________________________ </h1>\n",
    "<h2> Functions </h2>\n",
    "\n",
    "-  <p style=\"font-size: 17px; color: black;\"> <b> gauss(x, a,  mu, sigma): </b> Gaussian normalized to $a$. </p>\n",
    "\n",
    "\n",
    "-  <p style=\"font-size: 17px; color: black;\"> <b> f_cut(x, f, val): </b> To find the cut of a $f(x)$ function with a certain value $val$ we first use <b> f_cut </b> to move $f(x) \\rightarrow f(x) - val$ and then find it's roots, ie, $f(x) - val = 0$. </p>\n",
    "\n",
    "\n",
    "-  <p style=\"font-size: 17px; color: black;\"> <b> resolution_eq(E, a, b, c): </b> Resolution equation to which our results should fit. </p>\n",
    "\n"
   ]
  },
  {
   "cell_type": "code",
   "execution_count": 93,
   "id": "c057ab51",
   "metadata": {},
   "outputs": [],
   "source": [
    "# Gaussian\n",
    "# note: pdf are normilized to 1 so we have yo add an amplitude param\n",
    "def gauss(x, a,  mu, sigma):\n",
    "# def gauss(x,  mu, sigma):\n",
    "    \n",
    "    gaussian = stats.norm.pdf(np.sort(x), mu, sigma) \n",
    "    \n",
    "    return (a/gaussian.sum())*gaussian \n",
    "#     return (x.sum()/gaussian.sum())*gaussian \n",
    "\n",
    "\n",
    "def gauss_sum2(x, a0,  mu0, sigma0, a1, mu1, sigma1):\n",
    "    return gauss(x, a0,  mu0, sigma0)  + gauss(x, a1,  mu1, sigma1)\n"
   ]
  },
  {
   "cell_type": "markdown",
   "id": "abaf2579",
   "metadata": {},
   "source": [
    "\n",
    "-  <p style=\"font-size: 17px; color: black;\"> <b> wave_prep(file): </b> Take a waveform and prepare it to work with it by separating the different variables, correcting offset and possible signal saturation. </p>\n",
    "\n"
   ]
  },
  {
   "cell_type": "code",
   "execution_count": 83,
   "id": "da5a2f24",
   "metadata": {},
   "outputs": [],
   "source": [
    "def wave_prep(file_name, sipm, waveform_saturation = np.inf):\n",
    "    \n",
    "    input_file = os.path.join(path[sipm], file_name)\n",
    "    \n",
    "    header = {}\n",
    "    header['izq'] = 12\n",
    "    header['dcha'] = 14\n",
    "    \n",
    "    # Read the CSV file using pandas\n",
    "    df = pd.read_csv(input_file, header=header[sipm])\n",
    "    \n",
    "    time = np.array(df['TIME']*1e6) # [us]\n",
    "    signal = np.array(df['CH3']*1e3) # [mV]\n",
    "\n",
    "    # Offsets\n",
    "    offset_signal = signal[signal < 0].mean(); signal = signal - min(0., offset_signal)\n",
    "    \n",
    "    \n",
    "    # Saturation\n",
    "    signal = np.where(signal < waveform_saturation, \n",
    "                      signal,\n",
    "                      signal[signal < waveform_saturation].max())\n",
    "    \n",
    "    return time, signal"
   ]
  },
  {
   "cell_type": "markdown",
   "id": "e8b38a7d",
   "metadata": {},
   "source": [
    "<h1> __________________________ </h1>\n",
    "<h2> Data </h2>"
   ]
  },
  {
   "cell_type": "markdown",
   "id": "aba914e0",
   "metadata": {},
   "source": [
    "-  <p style=\"font-size: 17px; color: black;\"> <b> Reading the file </b> </p>"
   ]
  },
  {
   "cell_type": "markdown",
   "id": "fcbac72c",
   "metadata": {},
   "source": [
    "-  <p style=\"font-size: 17px; color: black;\"> File's path </p>"
   ]
  },
  {
   "cell_type": "code",
   "execution_count": 10,
   "id": "9cee91fc",
   "metadata": {},
   "outputs": [],
   "source": [
    "# filename = []\n",
    "path = {}\n",
    "\n",
    "init_path = '/home/investigator/mariandbt/python/data/20230801'\n",
    "\n",
    "path['izq'] = init_path + '_1pe(izq)_temp/'\n",
    "path['dcha'] = init_path + '_1pe(dcha)_temp'"
   ]
  },
  {
   "cell_type": "markdown",
   "id": "a803c911",
   "metadata": {},
   "source": [
    "-  <p style=\"font-size: 17px; color: black;\"> Parameters to read the file. </p>"
   ]
  },
  {
   "cell_type": "code",
   "execution_count": 11,
   "id": "fe8b0bf3",
   "metadata": {},
   "outputs": [],
   "source": [
    "files = {}"
   ]
  },
  {
   "cell_type": "code",
   "execution_count": 12,
   "id": "efb1d052",
   "metadata": {},
   "outputs": [],
   "source": [
    "# Get all files in the folder\n",
    "files['izq'] = os.listdir(path['izq'])\n",
    "files['dcha'] = os.listdir(path['dcha'])"
   ]
  },
  {
   "cell_type": "markdown",
   "id": "053c1a01",
   "metadata": {},
   "source": [
    "-  <p style=\"font-size: 17px; color: black;\"> Parameters of the read file. </p>"
   ]
  },
  {
   "cell_type": "code",
   "execution_count": 13,
   "id": "e7e45672",
   "metadata": {},
   "outputs": [
    {
     "name": "stdout",
     "output_type": "stream",
     "text": [
      "n_points =  6250\n",
      "n_frames =  10000\n"
     ]
    }
   ],
   "source": [
    "n_frames = int(len(files['izq']))\n",
    "n_points = int(6250)\n",
    "\n",
    "print('n_points = ', n_points)\n",
    "print('n_frames = ', n_frames)"
   ]
  },
  {
   "cell_type": "markdown",
   "id": "5476af0e",
   "metadata": {},
   "source": [
    "<h1> __________________________ </h1>\n",
    "<h2> Global parameters </h2>"
   ]
  },
  {
   "cell_type": "markdown",
   "id": "faa5a7df",
   "metadata": {},
   "source": [
    "-  <p style=\"font-size: 17px; color: black;\"> <b> Analysis parameters </b> </p>\n",
    "\n",
    " -  <p style=\"font-size: 17px; color: black;\"> <b> patata: </b> patata. </p>\n",
    " \n",
    " \n"
   ]
  },
  {
   "cell_type": "markdown",
   "id": "c394dca4",
   "metadata": {},
   "source": [
    "<h1> __________________________ </h1>\n",
    "<h2> Analysis </h2>"
   ]
  },
  {
   "cell_type": "markdown",
   "id": "1770c3d4",
   "metadata": {},
   "source": [
    "<h2> Determination of the $N_{pe}$ peaks </h2>"
   ]
  },
  {
   "cell_type": "markdown",
   "id": "7c461520",
   "metadata": {},
   "source": [
    "-  <p style=\"font-size: 17px; color: black;\"> We integrate each waveform and save said integral to calculate the charge corresponding to each photoelectron peak. </p>"
   ]
  },
  {
   "cell_type": "code",
   "execution_count": 55,
   "id": "7c9303ad",
   "metadata": {},
   "outputs": [],
   "source": [
    "pe_charge = {}\n",
    "pe_charge['izq'] = []\n",
    "pe_charge['dcha'] = []"
   ]
  },
  {
   "cell_type": "code",
   "execution_count": 71,
   "id": "f4b017db",
   "metadata": {},
   "outputs": [
    {
     "data": {
      "text/plain": [
       "(1250, 1250)"
      ]
     },
     "execution_count": 71,
     "metadata": {},
     "output_type": "execute_result"
    }
   ],
   "source": [
    "file_name, sipm\n",
    "len(ss), len(ss[ss < waveform_saturation])\n",
    "# ss[ss < waveform_saturation].max()"
   ]
  },
  {
   "cell_type": "code",
   "execution_count": 84,
   "id": "2dc6e943",
   "metadata": {
    "scrolled": true
   },
   "outputs": [
    {
     "name": "stderr",
     "output_type": "stream",
     "text": [
      "/tmp/ipykernel_524559/2207191711.py:16: RuntimeWarning: Mean of empty slice.\n",
      "  offset_signal = signal[signal < 0].mean(); signal = signal - min(0., offset_signal)\n"
     ]
    },
    {
     "name": "stdout",
     "output_type": "stream",
     "text": [
      "Done with the SiPM from the izq!\n",
      "Done with the SiPM from the dcha!\n"
     ]
    }
   ],
   "source": [
    "for sipm in ['izq', 'dcha']:\n",
    "    for ii, file_name in enumerate(files[sipm]):\n",
    "        \n",
    "        tt, ss = wave_prep(file_name, sipm, waveform_saturation = np.inf)\n",
    "        \n",
    "        integr = np.trapz(ss, x=tt)\n",
    "        pe_charge[sipm].append(integr)\n",
    "\n",
    "        \n",
    "    pe_charge[sipm] = np.array(pe_charge[sipm])\n",
    "    print(f'Done with the SiPM from the {sipm}!')\n",
    "    "
   ]
  },
  {
   "cell_type": "markdown",
   "id": "3378c94e",
   "metadata": {},
   "source": [
    "- <p style=\"font-size: 17px; color: black;\"> Waveform's integral distribution and gaussian fits."
   ]
  },
  {
   "cell_type": "code",
   "execution_count": 98,
   "id": "6291bfd2",
   "metadata": {},
   "outputs": [
    {
     "data": {
      "image/png": "[encoded data removed]",
      "text/plain": [
       "<Figure size 1000x700 with 2 Axes>"
      ]
     },
     "metadata": {},
     "output_type": "display_data"
    }
   ],
   "source": [
    "fig, ax = plt.subplots(nrows=2, ncols=1, figsize=(10,7), constrained_layout=True)\n",
    "\n",
    "x_ax = {}\n",
    "peaks = {}\n",
    "\n",
    "for i, key in enumerate(['izq', 'dcha']):\n",
    "\n",
    "    events, bins, bars = ax[i].hist(pe_charge[key], 100, \n",
    "                                 density=False, \n",
    "                                 label='1-photo-electron spectrum', \n",
    "                                 histtype='step')\n",
    "    x_ax = bins[:-1]\n",
    "    ev_th = 10\n",
    "    \n",
    "    popt, pcov = scipy.optimize.curve_fit(gauss, x_ax, events, p0=[1, (bins[:-1])[events > ev_th].mean(), 1e2]) \n",
    "\n",
    "    a, mu, sigma = popt\n",
    "    best_fit_line = gauss(x_ax, a, mu, sigma)\n",
    "\n",
    "\n",
    "#_________plot_settings_________________________________________________\n",
    "\n",
    "    ax[i].plot(x_ax, gauss(x_ax, a, mu, sigma), '-', label='$\\mu$ = %.2f, $\\sigma$ = %.2f'%(mu, sigma))\n",
    "    ax[i].set_xlabel(r'Pe signal charge [$\\mu$s $\\cdot$ mV]')\n",
    "    ax[i].set_ylabel('Counts')\n",
    "    ax[i].set_title(key)\n",
    "\n",
    "    hand, labl = ax[i].get_legend_handles_labels()\n",
    "    hand, labl = np.array(hand), np.array(labl)\n",
    "    not_duplicated = ~pd.DataFrame(labl).duplicated()\n",
    "\n",
    "    ax[i].legend(hand[not_duplicated], labl[not_duplicated], loc = 'best')\n",
    "    # ax[i].legend(loc='best')"
   ]
  },
  {
   "cell_type": "code",
   "execution_count": null,
   "id": "3acbc167",
   "metadata": {},
   "outputs": [],
   "source": []
  }
 ],
 "metadata": {
  "kernelspec": {
   "display_name": "Python 3 (ipykernel)",
   "language": "python",
   "name": "python3"
  },
  "language_info": {
   "codemirror_mode": {
    "name": "ipython",
    "version": 3
   },
   "file_extension": ".py",
   "mimetype": "text/x-python",
   "name": "python",
   "nbconvert_exporter": "python",
   "pygments_lexer": "ipython3",
   "version": "3.8.16"
  }
 },
 "nbformat": 4,
 "nbformat_minor": 5
}
