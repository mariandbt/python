{
 "cells": [
  {
   "cell_type": "markdown",
   "id": "f55cea8a",
   "metadata": {},
   "source": [
    "<h1> ______________________________________ </h1>\n",
    "\n",
    "<h1> Fiber panels with Kr38m decays simulation analysis </h1>\n",
    "<h1> ______________________________________ </h1>\n",
    "\n",
    "<p style=\"font-size: 17px; color: black;\"> In this Notebook we analyse the results from the 10000 MC Kr38m decay events simulated in a \"realistic\" fiber barrel to check if we're able to see the krypton signal with enough resolution. </p>\n",
    "\n",
    "\n"
   ]
  },
  {
   "cell_type": "markdown",
   "id": "0a6c28e7",
   "metadata": {},
   "source": [
    "<h1> ____________ </h1>\n",
    "<h2> This version </h2>\n",
    "<h1> ____________ </h1>\n",
    "\n",
    "-  <p style=\"font-size: 17px; color: black;\"> 10K events. </p>\n",
    "\n",
    "-  <p style=\"font-size: 17px; color: black;\"> Geant4 fundamental units: </p>\n",
    "\n",
    " -  <p style=\"font-size: 17px; color: black;\"> Length [L]: mm (milimeter) </p>\n",
    " -  <p style=\"font-size: 17px; color: black;\"> Time [T]: ns (nanosecond) </p>\n",
    " -  <p style=\"font-size: 17px; color: black;\"> Energy [E]: MeV (megaelectronvolt) </p>\n",
    "\n",
    "\n",
    "\n"
   ]
  },
  {
   "cell_type": "code",
   "execution_count": 223,
   "id": "19d793eb",
   "metadata": {},
   "outputs": [],
   "source": [
    "import numpy              as np\n",
    "import pandas             as pd\n",
    "\n",
    "import scipy              \n",
    "from scipy                import stats, integrate\n",
    "from scipy.signal         import convolve\n",
    "\n",
    "import matplotlib.pyplot  as plt\n",
    "\n",
    "from matplotlib.ticker    import FormatStrFormatter # to set the format of the plot's axis\n",
    "from matplotlib.patches   import Rectangle # To add blanck spaces in tabular legends\n",
    "\n",
    "import os\n",
    "import math\n",
    "import tables             as tb"
   ]
  },
  {
   "cell_type": "markdown",
   "id": "7ca48882",
   "metadata": {},
   "source": [
    "<h1> _________________________________________________________________________________________________________ </h1>\n"
   ]
  },
  {
   "cell_type": "markdown",
   "id": "85a2dfe0",
   "metadata": {},
   "source": [
    "<h1> __________________________ </h1>\n",
    "<h2> Functions </h2>\n",
    "\n",
    "-  <p style=\"font-size: 17px; color: black;\"> <b> gauss(x, a,  mu, sigma): </b> Gaussian normalized to $a$. </p>\n",
    "\n",
    "\n",
    "-  <p style=\"font-size: 17px; color: black;\"> <b> gauss_sum(x, a0,  mu0, sigma0, a1, mu1, sigma1): </b> Sum of 2 gaussians. </p>\n",
    "\n",
    "\n",
    "-  <p style=\"font-size: 17px; color: black;\"> <b> dirac(x, x0): </b> Dirac delta at $x0$. </p>\n",
    "\n",
    "\n",
    "-  <p style=\"font-size: 17px; color: black;\"> <b> EL_yield(E, p, d): </b> It gives you the EL gain in $[photons/e^-]$ as a function of the electric field $E[kV/cm]$, pressure $p[bar]$ and the average absoption length $d[cm]$. We end up not using this formula cause we use directly a fixed value of EL gain. </p>\n",
    "\n",
    "\n"
   ]
  },
  {
   "cell_type": "code",
   "execution_count": 224,
   "id": "c057ab51",
   "metadata": {},
   "outputs": [],
   "source": [
    "# Fitting distributions to define\n",
    "\n",
    "# note: pdf are normilized to 1 so we have yo add an amplitude param\n",
    "def gauss(x, a,  mu, sigma):\n",
    "    \n",
    "    gaussian = stats.norm.pdf(np.sort(x), mu, sigma) \n",
    "    \n",
    "    return (a/gaussian.sum())*gaussian\n",
    "\n",
    "def gauss_sum(x, a0,  mu0, sigma0, a1, mu1, sigma1):\n",
    "    return a0*stats.norm.pdf(x, mu0, sigma0)  + a1*stats.norm.pdf(x, mu1, sigma1)\n",
    "\n",
    "def dirac(x, x0):\n",
    "    return np.where((x - x0) == 0, 1, 0)\n",
    "\n",
    "def EL_yield(E, p, d):\n",
    "    # E[kV/cm] electric field \n",
    "    # p[bar] pressure\n",
    "    # d[cm] average absorption depth\n",
    "    return (140*E/p - 116)*d*p # [photons/e⁻]\n"
   ]
  },
  {
   "cell_type": "markdown",
   "id": "5476af0e",
   "metadata": {},
   "source": [
    "<h1> __________________________ </h1>\n",
    "<h2> Global parameters </h2>"
   ]
  },
  {
   "cell_type": "markdown",
   "id": "40924491",
   "metadata": {},
   "source": [
    "-  <p style=\"font-size: 17px; color: black;\"> <b> Pandas dataset params: </b> Allows to set the max number of columns and rows that are shown in a pandas dataset. </p>"
   ]
  },
  {
   "cell_type": "code",
   "execution_count": 225,
   "id": "5562c609",
   "metadata": {},
   "outputs": [],
   "source": [
    "pd.set_option('display.max_columns', None)\n",
    "pd.set_option('display.max_rows', 100)\n",
    "pd.set_option('display.min_rows', 20)"
   ]
  },
  {
   "cell_type": "markdown",
   "id": "11e3df95",
   "metadata": {},
   "source": [
    "-  <p style=\"font-size: 17px; color: black;\"> <b> Plots params: </b> In case you want to fix the parameters for all plots. </p>"
   ]
  },
  {
   "cell_type": "code",
   "execution_count": 226,
   "id": "e9c3a83a",
   "metadata": {},
   "outputs": [],
   "source": [
    "# plt.rcParams[\"figure.figsize\"] = 10, 8\n",
    "# plt.rcParams[\"font.size\"] = 10"
   ]
  },
  {
   "cell_type": "markdown",
   "id": "faa5a7df",
   "metadata": {},
   "source": [
    "-  <p style=\"font-size: 17px; color: black;\"> <b> Analysis parameters </b> </p>\n",
    "\n",
    " -  <p style=\"font-size: 17px; color: black;\"> <b> patata: </b> patata. </p>\n",
    " "
   ]
  },
  {
   "cell_type": "markdown",
   "id": "e8b38a7d",
   "metadata": {},
   "source": [
    "<h1> __________________________ </h1>\n",
    "<h2> Data </h2>"
   ]
  },
  {
   "cell_type": "markdown",
   "id": "aba914e0",
   "metadata": {},
   "source": [
    "-  <p style=\"font-size: 17px; color: black;\"> <b> Reading the file </b> </p>"
   ]
  },
  {
   "cell_type": "markdown",
   "id": "fcbac72c",
   "metadata": {},
   "source": [
    "-  <p style=\"font-size: 17px; color: black;\"> File's path </p>"
   ]
  },
  {
   "cell_type": "code",
   "execution_count": 227,
   "id": "1ee61880",
   "metadata": {},
   "outputs": [],
   "source": [
    "# path = '/home/investigator/mariandbt/python/data/'\n",
    "# path = path + '/20230824_fib_pan_kr'\n",
    "\n",
    "path = '/home/investigator/mariandbt/nexus'\n",
    "\n",
    "filename = os.path.join(path, \"Fib_pan_meth.next.h5\")"
   ]
  },
  {
   "cell_type": "markdown",
   "id": "c86e5025",
   "metadata": {},
   "source": [
    "-  <p style=\"font-size: 17px; color: black;\"> In a .h5 file there are several objects, so we print them all to then pick the one we're interested in </p>"
   ]
  },
  {
   "cell_type": "code",
   "execution_count": 228,
   "id": "3557f9c6",
   "metadata": {},
   "outputs": [
    {
     "name": "stdout",
     "output_type": "stream",
     "text": [
      "/home/investigator/mariandbt/nexus/Fib_pan_meth.next.h5 (File) ''\n",
      "Last modif.: '2023-08-28T10:24:44+00:00'\n",
      "Object Tree: \n",
      "/ (RootGroup) ''\n",
      "/MC (Group) ''\n",
      "/MC/configuration (Table(43,)) ''\n",
      "/MC/hits (Table(0,)) ''\n",
      "/MC/particles (Table(24099,)) ''\n",
      "/MC/sns_positions (Table(89,)) ''\n",
      "/MC/sns_response (Table(297,)) ''\n",
      "\n"
     ]
    }
   ],
   "source": [
    "with tb.open_file(filename) as file:\n",
    "    print(file)"
   ]
  },
  {
   "cell_type": "markdown",
   "id": "a803c911",
   "metadata": {},
   "source": [
    "-  <p style=\"font-size: 17px; color: black;\"> Read the file and make a copy to work with, this way it's easier to re-start the copy instead of re-reading the file. </p>"
   ]
  },
  {
   "cell_type": "code",
   "execution_count": 229,
   "id": "f353a737",
   "metadata": {},
   "outputs": [],
   "source": [
    "# %%timeit # WITH THIS YOU'RE ONLY TIMING, BUT IT DOESN'T REALLY RUN THE COMMANDS YOU TIME\n",
    "# data = pd.read_hdf(filename, \"/MC/particles\")\n",
    "# data = pd.read_hdf(filename, \"/MC/sns_positions\")\n",
    "data = pd.read_hdf(filename, \"/MC/sns_response\")\n",
    "# data = pd.read_hdf(filename, \"/MC/hits\")\n",
    "# dst = pd.read_hdf(filename, \"/MC/hits\").groupby(\"event_id\").get_group(event_id)"
   ]
  },
  {
   "cell_type": "code",
   "execution_count": 230,
   "id": "3e3460fd",
   "metadata": {},
   "outputs": [],
   "source": [
    "dst = data.copy()"
   ]
  },
  {
   "cell_type": "code",
   "execution_count": 231,
   "id": "e8dd84b8",
   "metadata": {},
   "outputs": [
    {
     "data": {
      "text/plain": [
       "(array([3085, 3092, 3087, 3127, 3081, 3115, 3090, 3080, 3156, 3091, 3099,\n",
       "        3104, 3100, 3135, 3164, 3088, 3130, 3079, 3120, 3154, 3096, 3143,\n",
       "        3132, 3107, 3121, 3125, 3117, 3095, 3124, 3084, 3136, 3166, 3142,\n",
       "        3110, 3106, 3129, 3122, 3113, 3119, 3131, 3155, 3108, 3158, 3114,\n",
       "        3128, 3094, 3151, 3109, 3134, 3078, 3102, 3137, 3101, 3093, 3082,\n",
       "        3157, 3123, 3148, 3118, 3162, 3098, 3105, 3147, 3145, 3140, 3160,\n",
       "        3165, 3163, 3086, 3112, 3146, 3133, 3097, 3126, 3167, 3144, 3153,\n",
       "        3089, 3116, 3139, 3103, 3083, 3152, 3141, 3138, 3149, 3150, 3161,\n",
       "        3111], dtype=uint32),\n",
       " 89)"
      ]
     },
     "execution_count": 231,
     "metadata": {},
     "output_type": "execute_result"
    }
   ],
   "source": [
    "# dst.final_volume.unique() \n",
    "# dst.initial_volume.unique()\n",
    "# dst.particle_name.unique()\n",
    "dst.sensor_id.unique(), len(dst.sensor_id.unique())"
   ]
  },
  {
   "cell_type": "code",
   "execution_count": 240,
   "id": "92dbd590",
   "metadata": {},
   "outputs": [
    {
     "data": {
      "text/plain": [
       "(array([ 2, 10,  6,  8,  7, 32, 37, 13, 33, 17, 12,  3, 24, 28, 44,  4, 11,\n",
       "        30, 21, 15,  5, 22,  9,  1, 27, 18, 20, 16, 25, 42, 76, 34, 23, 47,\n",
       "        48, 31, 50, 14, 29, 26, 19, 60, 35, 39, 43], dtype=uint64),\n",
       " 45)"
      ]
     },
     "execution_count": 240,
     "metadata": {},
     "output_type": "execute_result"
    }
   ],
   "source": [
    "dst.time_bin.unique(), len(dst.time_bin.unique())"
   ]
  },
  {
   "cell_type": "code",
   "execution_count": 234,
   "id": "a78e176e",
   "metadata": {},
   "outputs": [
    {
     "data": {
      "text/html": [
       "<div>\n",
       "<style scoped>\n",
       "    .dataframe tbody tr th:only-of-type {\n",
       "        vertical-align: middle;\n",
       "    }\n",
       "\n",
       "    .dataframe tbody tr th {\n",
       "        vertical-align: top;\n",
       "    }\n",
       "\n",
       "    .dataframe thead th {\n",
       "        text-align: right;\n",
       "    }\n",
       "</style>\n",
       "<table border=\"1\" class=\"dataframe\">\n",
       "  <thead>\n",
       "    <tr style=\"text-align: right;\">\n",
       "      <th></th>\n",
       "      <th>event_id</th>\n",
       "      <th>sensor_id</th>\n",
       "      <th>time_bin</th>\n",
       "      <th>charge</th>\n",
       "    </tr>\n",
       "  </thead>\n",
       "  <tbody>\n",
       "    <tr>\n",
       "      <th>0</th>\n",
       "      <td>0</td>\n",
       "      <td>3085</td>\n",
       "      <td>2</td>\n",
       "      <td>1</td>\n",
       "    </tr>\n",
       "    <tr>\n",
       "      <th>1</th>\n",
       "      <td>0</td>\n",
       "      <td>3085</td>\n",
       "      <td>10</td>\n",
       "      <td>1</td>\n",
       "    </tr>\n",
       "    <tr>\n",
       "      <th>2</th>\n",
       "      <td>0</td>\n",
       "      <td>3092</td>\n",
       "      <td>6</td>\n",
       "      <td>1</td>\n",
       "    </tr>\n",
       "    <tr>\n",
       "      <th>3</th>\n",
       "      <td>0</td>\n",
       "      <td>3092</td>\n",
       "      <td>8</td>\n",
       "      <td>1</td>\n",
       "    </tr>\n",
       "    <tr>\n",
       "      <th>4</th>\n",
       "      <td>0</td>\n",
       "      <td>3087</td>\n",
       "      <td>7</td>\n",
       "      <td>1</td>\n",
       "    </tr>\n",
       "    <tr>\n",
       "      <th>5</th>\n",
       "      <td>0</td>\n",
       "      <td>3127</td>\n",
       "      <td>32</td>\n",
       "      <td>1</td>\n",
       "    </tr>\n",
       "    <tr>\n",
       "      <th>6</th>\n",
       "      <td>0</td>\n",
       "      <td>3081</td>\n",
       "      <td>37</td>\n",
       "      <td>1</td>\n",
       "    </tr>\n",
       "    <tr>\n",
       "      <th>7</th>\n",
       "      <td>0</td>\n",
       "      <td>3115</td>\n",
       "      <td>2</td>\n",
       "      <td>1</td>\n",
       "    </tr>\n",
       "    <tr>\n",
       "      <th>8</th>\n",
       "      <td>0</td>\n",
       "      <td>3115</td>\n",
       "      <td>13</td>\n",
       "      <td>1</td>\n",
       "    </tr>\n",
       "    <tr>\n",
       "      <th>9</th>\n",
       "      <td>0</td>\n",
       "      <td>3115</td>\n",
       "      <td>33</td>\n",
       "      <td>1</td>\n",
       "    </tr>\n",
       "    <tr>\n",
       "      <th>...</th>\n",
       "      <td>...</td>\n",
       "      <td>...</td>\n",
       "      <td>...</td>\n",
       "      <td>...</td>\n",
       "    </tr>\n",
       "    <tr>\n",
       "      <th>287</th>\n",
       "      <td>9</td>\n",
       "      <td>3163</td>\n",
       "      <td>14</td>\n",
       "      <td>1</td>\n",
       "    </tr>\n",
       "    <tr>\n",
       "      <th>288</th>\n",
       "      <td>9</td>\n",
       "      <td>3094</td>\n",
       "      <td>18</td>\n",
       "      <td>1</td>\n",
       "    </tr>\n",
       "    <tr>\n",
       "      <th>289</th>\n",
       "      <td>9</td>\n",
       "      <td>3165</td>\n",
       "      <td>8</td>\n",
       "      <td>1</td>\n",
       "    </tr>\n",
       "    <tr>\n",
       "      <th>290</th>\n",
       "      <td>9</td>\n",
       "      <td>3129</td>\n",
       "      <td>2</td>\n",
       "      <td>1</td>\n",
       "    </tr>\n",
       "    <tr>\n",
       "      <th>291</th>\n",
       "      <td>9</td>\n",
       "      <td>3160</td>\n",
       "      <td>4</td>\n",
       "      <td>1</td>\n",
       "    </tr>\n",
       "    <tr>\n",
       "      <th>292</th>\n",
       "      <td>9</td>\n",
       "      <td>3124</td>\n",
       "      <td>11</td>\n",
       "      <td>1</td>\n",
       "    </tr>\n",
       "    <tr>\n",
       "      <th>293</th>\n",
       "      <td>9</td>\n",
       "      <td>3146</td>\n",
       "      <td>10</td>\n",
       "      <td>1</td>\n",
       "    </tr>\n",
       "    <tr>\n",
       "      <th>294</th>\n",
       "      <td>9</td>\n",
       "      <td>3133</td>\n",
       "      <td>27</td>\n",
       "      <td>1</td>\n",
       "    </tr>\n",
       "    <tr>\n",
       "      <th>295</th>\n",
       "      <td>9</td>\n",
       "      <td>3111</td>\n",
       "      <td>9</td>\n",
       "      <td>1</td>\n",
       "    </tr>\n",
       "    <tr>\n",
       "      <th>296</th>\n",
       "      <td>9</td>\n",
       "      <td>3100</td>\n",
       "      <td>2</td>\n",
       "      <td>1</td>\n",
       "    </tr>\n",
       "  </tbody>\n",
       "</table>\n",
       "<p>297 rows × 4 columns</p>\n",
       "</div>"
      ],
      "text/plain": [
       "     event_id  sensor_id  time_bin  charge\n",
       "0           0       3085         2       1\n",
       "1           0       3085        10       1\n",
       "2           0       3092         6       1\n",
       "3           0       3092         8       1\n",
       "4           0       3087         7       1\n",
       "5           0       3127        32       1\n",
       "6           0       3081        37       1\n",
       "7           0       3115         2       1\n",
       "8           0       3115        13       1\n",
       "9           0       3115        33       1\n",
       "..        ...        ...       ...     ...\n",
       "287         9       3163        14       1\n",
       "288         9       3094        18       1\n",
       "289         9       3165         8       1\n",
       "290         9       3129         2       1\n",
       "291         9       3160         4       1\n",
       "292         9       3124        11       1\n",
       "293         9       3146        10       1\n",
       "294         9       3133        27       1\n",
       "295         9       3111         9       1\n",
       "296         9       3100         2       1\n",
       "\n",
       "[297 rows x 4 columns]"
      ]
     },
     "execution_count": 234,
     "metadata": {},
     "output_type": "execute_result"
    }
   ],
   "source": [
    "# dst.loc[dst.final_volume.str.contains('SENS')]\n",
    "# dst.loc[(dst.initial_volume != 'WORLD') & (dst.primary == 0)]\n",
    "dst"
   ]
  },
  {
   "cell_type": "markdown",
   "id": "0afa1e25",
   "metadata": {},
   "source": [
    "-  <p style=\"font-size: 17px; color: black;\"> <b> Tests on the data: </b> We perform some tests on the dataset to check the simulation is valid. </p>"
   ]
  },
  {
   "cell_type": "markdown",
   "id": "d1639c8b",
   "metadata": {},
   "source": [
    "-  <p style=\"font-size: 17px; color: black;\"> Group the data by sensors. </p>"
   ]
  },
  {
   "cell_type": "code",
   "execution_count": 235,
   "id": "15e4f36d",
   "metadata": {},
   "outputs": [],
   "source": [
    "# g = dst.groupby(dst.sensor_id)\n",
    "g = dst.groupby(dst.event_id)\n"
   ]
  },
  {
   "cell_type": "code",
   "execution_count": 236,
   "id": "e95bd8e5",
   "metadata": {},
   "outputs": [
    {
     "data": {
      "text/plain": [
       "event_id\n",
       "0    28\n",
       "1    40\n",
       "2    36\n",
       "3    29\n",
       "4    28\n",
       "5    24\n",
       "6    35\n",
       "7    30\n",
       "8    28\n",
       "9    26\n",
       "Name: charge, dtype: uint32"
      ]
     },
     "execution_count": 236,
     "metadata": {},
     "output_type": "execute_result"
    }
   ],
   "source": [
    "g.charge.sum()"
   ]
  },
  {
   "cell_type": "markdown",
   "id": "c394dca4",
   "metadata": {},
   "source": [
    "<h1> __________________________ </h1>\n",
    "<h2> Analysis </h2>"
   ]
  },
  {
   "cell_type": "markdown",
   "id": "1770c3d4",
   "metadata": {},
   "source": [
    "<h2> Charge distribution in an event. </h2>"
   ]
  },
  {
   "cell_type": "markdown",
   "id": "7c461520",
   "metadata": {},
   "source": [
    "-  <p style=\"font-size: 17px; color: black;\"> One event </p>"
   ]
  },
  {
   "cell_type": "code",
   "execution_count": 237,
   "id": "4cc40aac",
   "metadata": {},
   "outputs": [],
   "source": [
    "ev = 5"
   ]
  },
  {
   "cell_type": "code",
   "execution_count": 238,
   "id": "66b351eb",
   "metadata": {},
   "outputs": [],
   "source": [
    "wvf = dst.groupby(dst.event_id).get_group(ev)"
   ]
  },
  {
   "cell_type": "code",
   "execution_count": 239,
   "id": "f7742dc3",
   "metadata": {},
   "outputs": [
    {
     "data": {
      "text/html": [
       "<div>\n",
       "<style scoped>\n",
       "    .dataframe tbody tr th:only-of-type {\n",
       "        vertical-align: middle;\n",
       "    }\n",
       "\n",
       "    .dataframe tbody tr th {\n",
       "        vertical-align: top;\n",
       "    }\n",
       "\n",
       "    .dataframe thead th {\n",
       "        text-align: right;\n",
       "    }\n",
       "</style>\n",
       "<table border=\"1\" class=\"dataframe\">\n",
       "  <thead>\n",
       "    <tr style=\"text-align: right;\">\n",
       "      <th></th>\n",
       "      <th>event_id</th>\n",
       "      <th>sensor_id</th>\n",
       "      <th>time_bin</th>\n",
       "      <th>charge</th>\n",
       "    </tr>\n",
       "  </thead>\n",
       "  <tbody>\n",
       "    <tr>\n",
       "      <th>156</th>\n",
       "      <td>5</td>\n",
       "      <td>3167</td>\n",
       "      <td>50</td>\n",
       "      <td>1</td>\n",
       "    </tr>\n",
       "    <tr>\n",
       "      <th>157</th>\n",
       "      <td>5</td>\n",
       "      <td>3146</td>\n",
       "      <td>2</td>\n",
       "      <td>1</td>\n",
       "    </tr>\n",
       "    <tr>\n",
       "      <th>158</th>\n",
       "      <td>5</td>\n",
       "      <td>3127</td>\n",
       "      <td>24</td>\n",
       "      <td>2</td>\n",
       "    </tr>\n",
       "    <tr>\n",
       "      <th>159</th>\n",
       "      <td>5</td>\n",
       "      <td>3117</td>\n",
       "      <td>7</td>\n",
       "      <td>1</td>\n",
       "    </tr>\n",
       "    <tr>\n",
       "      <th>160</th>\n",
       "      <td>5</td>\n",
       "      <td>3084</td>\n",
       "      <td>4</td>\n",
       "      <td>1</td>\n",
       "    </tr>\n",
       "    <tr>\n",
       "      <th>161</th>\n",
       "      <td>5</td>\n",
       "      <td>3160</td>\n",
       "      <td>4</td>\n",
       "      <td>1</td>\n",
       "    </tr>\n",
       "    <tr>\n",
       "      <th>162</th>\n",
       "      <td>5</td>\n",
       "      <td>3160</td>\n",
       "      <td>11</td>\n",
       "      <td>1</td>\n",
       "    </tr>\n",
       "    <tr>\n",
       "      <th>163</th>\n",
       "      <td>5</td>\n",
       "      <td>3134</td>\n",
       "      <td>12</td>\n",
       "      <td>1</td>\n",
       "    </tr>\n",
       "    <tr>\n",
       "      <th>164</th>\n",
       "      <td>5</td>\n",
       "      <td>3109</td>\n",
       "      <td>2</td>\n",
       "      <td>1</td>\n",
       "    </tr>\n",
       "    <tr>\n",
       "      <th>165</th>\n",
       "      <td>5</td>\n",
       "      <td>3102</td>\n",
       "      <td>14</td>\n",
       "      <td>1</td>\n",
       "    </tr>\n",
       "    <tr>\n",
       "      <th>166</th>\n",
       "      <td>5</td>\n",
       "      <td>3126</td>\n",
       "      <td>2</td>\n",
       "      <td>1</td>\n",
       "    </tr>\n",
       "    <tr>\n",
       "      <th>167</th>\n",
       "      <td>5</td>\n",
       "      <td>3126</td>\n",
       "      <td>7</td>\n",
       "      <td>1</td>\n",
       "    </tr>\n",
       "    <tr>\n",
       "      <th>168</th>\n",
       "      <td>5</td>\n",
       "      <td>3086</td>\n",
       "      <td>19</td>\n",
       "      <td>1</td>\n",
       "    </tr>\n",
       "    <tr>\n",
       "      <th>169</th>\n",
       "      <td>5</td>\n",
       "      <td>3114</td>\n",
       "      <td>11</td>\n",
       "      <td>1</td>\n",
       "    </tr>\n",
       "    <tr>\n",
       "      <th>170</th>\n",
       "      <td>5</td>\n",
       "      <td>3131</td>\n",
       "      <td>3</td>\n",
       "      <td>1</td>\n",
       "    </tr>\n",
       "    <tr>\n",
       "      <th>171</th>\n",
       "      <td>5</td>\n",
       "      <td>3082</td>\n",
       "      <td>6</td>\n",
       "      <td>1</td>\n",
       "    </tr>\n",
       "    <tr>\n",
       "      <th>172</th>\n",
       "      <td>5</td>\n",
       "      <td>3144</td>\n",
       "      <td>2</td>\n",
       "      <td>1</td>\n",
       "    </tr>\n",
       "    <tr>\n",
       "      <th>173</th>\n",
       "      <td>5</td>\n",
       "      <td>3093</td>\n",
       "      <td>7</td>\n",
       "      <td>1</td>\n",
       "    </tr>\n",
       "    <tr>\n",
       "      <th>174</th>\n",
       "      <td>5</td>\n",
       "      <td>3125</td>\n",
       "      <td>10</td>\n",
       "      <td>1</td>\n",
       "    </tr>\n",
       "    <tr>\n",
       "      <th>175</th>\n",
       "      <td>5</td>\n",
       "      <td>3153</td>\n",
       "      <td>3</td>\n",
       "      <td>1</td>\n",
       "    </tr>\n",
       "    <tr>\n",
       "      <th>176</th>\n",
       "      <td>5</td>\n",
       "      <td>3153</td>\n",
       "      <td>15</td>\n",
       "      <td>1</td>\n",
       "    </tr>\n",
       "    <tr>\n",
       "      <th>177</th>\n",
       "      <td>5</td>\n",
       "      <td>3089</td>\n",
       "      <td>2</td>\n",
       "      <td>1</td>\n",
       "    </tr>\n",
       "    <tr>\n",
       "      <th>178</th>\n",
       "      <td>5</td>\n",
       "      <td>3116</td>\n",
       "      <td>15</td>\n",
       "      <td>1</td>\n",
       "    </tr>\n",
       "  </tbody>\n",
       "</table>\n",
       "</div>"
      ],
      "text/plain": [
       "     event_id  sensor_id  time_bin  charge\n",
       "156         5       3167        50       1\n",
       "157         5       3146         2       1\n",
       "158         5       3127        24       2\n",
       "159         5       3117         7       1\n",
       "160         5       3084         4       1\n",
       "161         5       3160         4       1\n",
       "162         5       3160        11       1\n",
       "163         5       3134        12       1\n",
       "164         5       3109         2       1\n",
       "165         5       3102        14       1\n",
       "166         5       3126         2       1\n",
       "167         5       3126         7       1\n",
       "168         5       3086        19       1\n",
       "169         5       3114        11       1\n",
       "170         5       3131         3       1\n",
       "171         5       3082         6       1\n",
       "172         5       3144         2       1\n",
       "173         5       3093         7       1\n",
       "174         5       3125        10       1\n",
       "175         5       3153         3       1\n",
       "176         5       3153        15       1\n",
       "177         5       3089         2       1\n",
       "178         5       3116        15       1"
      ]
     },
     "execution_count": 239,
     "metadata": {},
     "output_type": "execute_result"
    }
   ],
   "source": [
    "# wvf.groupby(wvf.sensor_id).get_group(3163)\n",
    "wvf"
   ]
  },
  {
   "cell_type": "code",
   "execution_count": null,
   "id": "a2daf764",
   "metadata": {},
   "outputs": [],
   "source": [
    "plt.hist(wvf.groupby(wvf.))"
   ]
  }
 ],
 "metadata": {
  "kernelspec": {
   "display_name": "Python 3 (ipykernel)",
   "language": "python",
   "name": "python3"
  },
  "language_info": {
   "codemirror_mode": {
    "name": "ipython",
    "version": 3
   },
   "file_extension": ".py",
   "mimetype": "text/x-python",
   "name": "python",
   "nbconvert_exporter": "python",
   "pygments_lexer": "ipython3",
   "version": "3.8.16"
  }
 },
 "nbformat": 4,
 "nbformat_minor": 5
}
