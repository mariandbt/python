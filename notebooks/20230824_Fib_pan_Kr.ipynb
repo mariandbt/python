{
 "cells": [
  {
   "cell_type": "markdown",
   "id": "f55cea8a",
   "metadata": {},
   "source": [
    "<h1> ______________________________________ </h1>\n",
    "\n",
    "<h1> Fiber panels with Kr38m decays simulation analysis </h1>\n",
    "<h1> ______________________________________ </h1>\n",
    "\n",
    "<p style=\"font-size: 17px; color: black;\"> In this Notebook we analyse the results from the 10000 MC Kr38m decay events simulated in a \"realistic\" fiber barrel to check if we're able to see the krypton signal with enough resolution. </p>\n",
    "\n",
    "\n"
   ]
  },
  {
   "cell_type": "markdown",
   "id": "0a6c28e7",
   "metadata": {},
   "source": [
    "<h1> ____________ </h1>\n",
    "<h2> This version </h2>\n",
    "<h1> ____________ </h1>\n",
    "\n",
    "-  <p style=\"font-size: 17px; color: black;\"> 10K events. </p>\n",
    "\n",
    "-  <p style=\"font-size: 17px; color: black;\"> Geant4 fundamental units: </p>\n",
    "\n",
    " -  <p style=\"font-size: 17px; color: black;\"> Length [L]: mm (milimeter) </p>\n",
    " -  <p style=\"font-size: 17px; color: black;\"> Time [T]: ns (nanosecond) </p>\n",
    " -  <p style=\"font-size: 17px; color: black;\"> Energy [E]: MeV (megaelectronvolt) </p>\n",
    "\n",
    "\n",
    "\n"
   ]
  },
  {
   "cell_type": "code",
   "execution_count": 1,
   "id": "19d793eb",
   "metadata": {},
   "outputs": [],
   "source": [
    "import numpy              as np\n",
    "import pandas             as pd\n",
    "\n",
    "import scipy              \n",
    "from scipy                import stats, integrate\n",
    "from scipy.signal         import convolve\n",
    "\n",
    "import matplotlib.pyplot  as plt\n",
    "\n",
    "from matplotlib.ticker    import FormatStrFormatter # to set the format of the plot's axis\n",
    "from matplotlib.patches   import Rectangle # To add blanck spaces in tabular legends\n",
    "\n",
    "import os\n",
    "import math\n",
    "import tables             as tb"
   ]
  },
  {
   "cell_type": "markdown",
   "id": "7ca48882",
   "metadata": {},
   "source": [
    "<h1> _________________________________________________________________________________________________________ </h1>\n"
   ]
  },
  {
   "cell_type": "markdown",
   "id": "85a2dfe0",
   "metadata": {},
   "source": [
    "<h1> __________________________ </h1>\n",
    "<h2> Functions </h2>\n",
    "\n",
    "-  <p style=\"font-size: 17px; color: black;\"> <b> gauss(x, a,  mu, sigma): </b> Gaussian normalized to $a$. </p>\n",
    "\n",
    "\n",
    "-  <p style=\"font-size: 17px; color: black;\"> <b> gauss_sum(x, a0,  mu0, sigma0, a1, mu1, sigma1): </b> Sum of 2 gaussians. </p>\n",
    "\n",
    "\n",
    "-  <p style=\"font-size: 17px; color: black;\"> <b> dirac(x, x0): </b> Dirac delta at $x0$. </p>\n",
    "\n",
    "\n",
    "-  <p style=\"font-size: 17px; color: black;\"> <b> EL_yield(E, p, d): </b> It gives you the EL gain in $[photons/e^-]$ as a function of the electric field $E[kV/cm]$, pressure $p[bar]$ and the average absoption length $d[cm]$. We end up not using this formula cause we use directly a fixed value of EL gain. </p>\n",
    "\n",
    "\n"
   ]
  },
  {
   "cell_type": "code",
   "execution_count": 2,
   "id": "c057ab51",
   "metadata": {},
   "outputs": [],
   "source": [
    "# Fitting distributions to define\n",
    "\n",
    "# note: pdf are normilized to 1 so we have yo add an amplitude param\n",
    "def gauss(x, a,  mu, sigma):\n",
    "    \n",
    "    gaussian = stats.norm.pdf(np.sort(x), mu, sigma) \n",
    "    \n",
    "    return (a/gaussian.sum())*gaussian\n",
    "\n",
    "def gauss_sum(x, a0,  mu0, sigma0, a1, mu1, sigma1):\n",
    "    return a0*stats.norm.pdf(x, mu0, sigma0)  + a1*stats.norm.pdf(x, mu1, sigma1)\n",
    "\n",
    "def dirac(x, x0):\n",
    "    return np.where((x - x0) == 0, 1, 0)\n",
    "\n",
    "def EL_yield(E, p, d):\n",
    "    # E[kV/cm] electric field \n",
    "    # p[bar] pressure\n",
    "    # d[cm] average absorption depth\n",
    "    return (140*E/p - 116)*d*p # [photons/e⁻]\n"
   ]
  },
  {
   "cell_type": "markdown",
   "id": "5476af0e",
   "metadata": {},
   "source": [
    "<h1> __________________________ </h1>\n",
    "<h2> Global parameters </h2>"
   ]
  },
  {
   "cell_type": "markdown",
   "id": "40924491",
   "metadata": {},
   "source": [
    "-  <p style=\"font-size: 17px; color: black;\"> <b> Pandas dataset params: </b> Allows to set the max number of columns and rows that are shown in a pandas dataset. </p>"
   ]
  },
  {
   "cell_type": "code",
   "execution_count": 3,
   "id": "5562c609",
   "metadata": {},
   "outputs": [],
   "source": [
    "pd.set_option('display.max_columns', None)\n",
    "pd.set_option('display.max_rows', 100)\n",
    "pd.set_option('display.min_rows', 20)"
   ]
  },
  {
   "cell_type": "markdown",
   "id": "11e3df95",
   "metadata": {},
   "source": [
    "-  <p style=\"font-size: 17px; color: black;\"> <b> Plots params: </b> In case you want to fix the parameters for all plots. </p>"
   ]
  },
  {
   "cell_type": "code",
   "execution_count": 4,
   "id": "e9c3a83a",
   "metadata": {},
   "outputs": [],
   "source": [
    "# plt.rcParams[\"figure.figsize\"] = 10, 8\n",
    "# plt.rcParams[\"font.size\"] = 10"
   ]
  },
  {
   "cell_type": "markdown",
   "id": "faa5a7df",
   "metadata": {},
   "source": [
    "-  <p style=\"font-size: 17px; color: black;\"> <b> Analysis parameters </b> </p>\n",
    "\n",
    " -  <p style=\"font-size: 17px; color: black;\"> <b> dark_count: </b> Dark pulses rate. </p>\n",
    " "
   ]
  },
  {
   "cell_type": "code",
   "execution_count": 47,
   "id": "a68ca9ee",
   "metadata": {},
   "outputs": [],
   "source": [
    "dark_count = 70e3 # [cps] cyles per second = 70 Kcps"
   ]
  },
  {
   "cell_type": "markdown",
   "id": "e8b38a7d",
   "metadata": {},
   "source": [
    "<h1> __________________________ </h1>\n",
    "<h2> Data </h2>"
   ]
  },
  {
   "cell_type": "markdown",
   "id": "aba914e0",
   "metadata": {},
   "source": [
    "-  <p style=\"font-size: 17px; color: black;\"> <b> Reading the file </b> </p>"
   ]
  },
  {
   "cell_type": "markdown",
   "id": "fcbac72c",
   "metadata": {},
   "source": [
    "-  <p style=\"font-size: 17px; color: black;\"> File's path </p>"
   ]
  },
  {
   "cell_type": "code",
   "execution_count": 5,
   "id": "1ee61880",
   "metadata": {},
   "outputs": [],
   "source": [
    "# path = '/home/investigator/mariandbt/python/data/'\n",
    "# path = path + '/20230824_fib_pan_kr'\n",
    "\n",
    "path = '/home/investigator/mariandbt/nexus'\n",
    "\n",
    "filename = os.path.join(path, \"Fib_pan_meth.next.h5\")"
   ]
  },
  {
   "cell_type": "markdown",
   "id": "c86e5025",
   "metadata": {},
   "source": [
    "-  <p style=\"font-size: 17px; color: black;\"> In a .h5 file there are several objects, so we print them all to then pick the one we're interested in </p>"
   ]
  },
  {
   "cell_type": "code",
   "execution_count": 6,
   "id": "3557f9c6",
   "metadata": {},
   "outputs": [
    {
     "name": "stdout",
     "output_type": "stream",
     "text": [
      "/home/investigator/mariandbt/nexus/Fib_pan_meth.next.h5 (File) ''\n",
      "Last modif.: '2023-08-28T16:09:04+00:00'\n",
      "Object Tree: \n",
      "/ (RootGroup) ''\n",
      "/MC (Group) ''\n",
      "/MC/configuration (Table(43,)) ''\n",
      "/MC/hits (Table(0,)) ''\n",
      "/MC/particles (Table(241871,)) ''\n",
      "/MC/sns_positions (Table(90,)) ''\n",
      "/MC/sns_response (Table(2908,)) ''\n",
      "\n"
     ]
    }
   ],
   "source": [
    "with tb.open_file(filename) as file:\n",
    "    print(file)"
   ]
  },
  {
   "cell_type": "markdown",
   "id": "a803c911",
   "metadata": {},
   "source": [
    "-  <p style=\"font-size: 17px; color: black;\"> Read the file and make a copy to work with, this way it's easier to re-start the copy instead of re-reading the file. </p>"
   ]
  },
  {
   "cell_type": "code",
   "execution_count": 7,
   "id": "f353a737",
   "metadata": {},
   "outputs": [],
   "source": [
    "# %%timeit # WITH THIS YOU'RE ONLY TIMING, BUT IT DOESN'T REALLY RUN THE COMMANDS YOU TIME\n",
    "# data = pd.read_hdf(filename, \"/MC/particles\")\n",
    "# data = pd.read_hdf(filename, \"/MC/sns_positions\")\n",
    "data = pd.read_hdf(filename, \"/MC/sns_response\")\n",
    "# data = pd.read_hdf(filename, \"/MC/hits\")\n",
    "# dst = pd.read_hdf(filename, \"/MC/hits\").groupby(\"event_id\").get_group(event_id)"
   ]
  },
  {
   "cell_type": "code",
   "execution_count": 8,
   "id": "3e3460fd",
   "metadata": {},
   "outputs": [],
   "source": [
    "dst = data.copy()"
   ]
  },
  {
   "cell_type": "code",
   "execution_count": 9,
   "id": "e8dd84b8",
   "metadata": {},
   "outputs": [
    {
     "data": {
      "text/plain": [
       "(array([3117, 3158, 3137, 3083, 3151, 3112, 3122, 3092, 3152, 3126, 3135,\n",
       "        3167, 3095, 3156, 3146, 3138, 3079, 3087, 3091, 3101, 3103, 3093,\n",
       "        3078, 3154, 3166, 3114, 3124, 3088, 3159, 3089, 3099, 3123, 3142,\n",
       "        3133, 3150, 3102, 3120, 3149, 3132, 3148, 3098, 3118, 3164, 3131,\n",
       "        3163, 3143, 3113, 3161, 3086, 3130, 3134, 3160, 3104, 3119, 3162,\n",
       "        3082, 3155, 3140, 3128, 3136, 3153, 3109, 3139, 3105, 3096, 3111,\n",
       "        3147, 3106, 3108, 3129, 3127, 3121, 3165, 3097, 3084, 3110, 3085,\n",
       "        3094, 3107, 3141, 3090, 3100, 3080, 3081, 3144, 3157, 3115, 3125,\n",
       "        3116, 3145], dtype=uint32),\n",
       " 90)"
      ]
     },
     "execution_count": 9,
     "metadata": {},
     "output_type": "execute_result"
    }
   ],
   "source": [
    "# dst.final_volume.unique() \n",
    "# dst.initial_volume.unique()\n",
    "# dst.particle_name.unique()\n",
    "dst.sensor_id.unique(), len(dst.sensor_id.unique())"
   ]
  },
  {
   "cell_type": "code",
   "execution_count": 10,
   "id": "92dbd590",
   "metadata": {},
   "outputs": [
    {
     "data": {
      "text/plain": [
       "(array([  40,  171,   81,   50,  209,   29,   54,  127,   26,  201,   95,\n",
       "          31,  136,   33,   87,   72,  182,   90,   67,  123,   78,  208,\n",
       "          30,   85,   91,  173,   38,  184,  342,   52,  165,   63,   48,\n",
       "         115,  144,   93,  239,  118,   23,   56,   11,   22,  110,   55,\n",
       "         256,   53,  311,  185,  180,  333,  315,  100,  124,  192,  134,\n",
       "         168,  509,  121,  179,  195,   16,  272,   73,   86,   19,   24,\n",
       "         101,  108,  212,   25,  116,   79,   60,   44,   71,   39,   47,\n",
       "          57,   75,   88,  295,   36,  338,   51,   21,  924,   32,   83,\n",
       "         236,   68,  250,   58,   80,   59,  106,   46,  158,  129,   17,\n",
       "          12,  117,   49,  214,  242,  197,  377,   99,  151,  155,  322,\n",
       "          69,  296,  227,  159,  135,   94,  409,   92,  258,  125,  126,\n",
       "          37,  145,  104,  133,  147,  207,  442,   62,   28,   43,   61,\n",
       "          15,  137,   82,   84,  224,  253,  122,  150,  183,  264,  177,\n",
       "         103,  454,  107,  174,  169,  247,  114,  196,  200,  540,  164,\n",
       "         170,  149,  130,  138,  143,  156,   65,  181,  460,  105,  405,\n",
       "         350,  142,  141,   27,  631,  113,   89,  218,   96,   20,   77,\n",
       "         330,  246,  400,  140,  167,  305,   45,   35,  443,  111,  219,\n",
       "         616,  396,  119,   74,  274,  289,   34,  152,   14,  102,  162,\n",
       "          10,    6,  501,  404,    4,  465,  369,  379,  340,  280, 1035,\n",
       "         157,  188,   66,  234,  240,  243,  228,  190,  324,  283,  269,\n",
       "         216,  569,   64,  431,  392,  633,  374,  223,  257,  166,  562,\n",
       "         536,  252,   41,  285,   98,  211,   76,  176,  153,  233,  203,\n",
       "         210,  109,  215,  187,  472,  452,   18,  128,  139,  273,  132,\n",
       "         178,  225,  321,  237,  249,  516,  112,  888,  316,  300,  154,\n",
       "         161,  575,  461,  148,  226,   42,  191,  270,  505,  232,  222,\n",
       "         230,  594,  291,  206,  202,  189,  248,  537,  514,  213,  497,\n",
       "         488,  259,   13,  186,  146,  205,  262,  423,  199,   70,  310,\n",
       "         312,  268,  517,  449,  401,  244,  407,  362,  334,  359,  241,\n",
       "         351,  271,  353,  172,  198,  229,  163,  194,  267,  343,  415,\n",
       "         131,  383,  175,  492,  341,  299,  284,  221,  261,  410,  319,\n",
       "         429,  485,  352,  279,  358,  323,  313,  317,  120,  335,  231,\n",
       "         332,  245,  307,  397,  260,  204,  345,  308,  373,  355,  412,\n",
       "         381,  255,  287,  391,  328,  238,  220,  511,  368,  530,  292,\n",
       "         534, 1021,  286,  519,  160,  363,  430,  290,   97,  565,  419,\n",
       "         473,  524,  314,  301,  339,  427,  357,  425,  800,  487,  388,\n",
       "         217,  371,  254,  193,  302,  468,  634,  326,  395,  584,  714,\n",
       "         586,  563,  466,  288,  303,  327,  422,  471,  887,  325,  382,\n",
       "         651,  265,  282,  304,  387,  424,  275,  263,  277, 1106,  480,\n",
       "         235,  344,  402,  658,  378,  416,  276,  579,  336,  251,  457,\n",
       "         298,  306,  372,  297,  611,  309], dtype=uint64),\n",
       " 435)"
      ]
     },
     "execution_count": 10,
     "metadata": {},
     "output_type": "execute_result"
    }
   ],
   "source": [
    "dst.time_bin.unique(), len(dst.time_bin.unique())"
   ]
  },
  {
   "cell_type": "code",
   "execution_count": 11,
   "id": "a78e176e",
   "metadata": {},
   "outputs": [
    {
     "data": {
      "text/html": [
       "<div>\n",
       "<style scoped>\n",
       "    .dataframe tbody tr th:only-of-type {\n",
       "        vertical-align: middle;\n",
       "    }\n",
       "\n",
       "    .dataframe tbody tr th {\n",
       "        vertical-align: top;\n",
       "    }\n",
       "\n",
       "    .dataframe thead th {\n",
       "        text-align: right;\n",
       "    }\n",
       "</style>\n",
       "<table border=\"1\" class=\"dataframe\">\n",
       "  <thead>\n",
       "    <tr style=\"text-align: right;\">\n",
       "      <th></th>\n",
       "      <th>event_id</th>\n",
       "      <th>sensor_id</th>\n",
       "      <th>time_bin</th>\n",
       "      <th>charge</th>\n",
       "    </tr>\n",
       "  </thead>\n",
       "  <tbody>\n",
       "    <tr>\n",
       "      <th>0</th>\n",
       "      <td>0</td>\n",
       "      <td>3117</td>\n",
       "      <td>40</td>\n",
       "      <td>1</td>\n",
       "    </tr>\n",
       "    <tr>\n",
       "      <th>1</th>\n",
       "      <td>0</td>\n",
       "      <td>3158</td>\n",
       "      <td>171</td>\n",
       "      <td>1</td>\n",
       "    </tr>\n",
       "    <tr>\n",
       "      <th>2</th>\n",
       "      <td>0</td>\n",
       "      <td>3137</td>\n",
       "      <td>81</td>\n",
       "      <td>1</td>\n",
       "    </tr>\n",
       "    <tr>\n",
       "      <th>3</th>\n",
       "      <td>0</td>\n",
       "      <td>3083</td>\n",
       "      <td>50</td>\n",
       "      <td>1</td>\n",
       "    </tr>\n",
       "    <tr>\n",
       "      <th>4</th>\n",
       "      <td>0</td>\n",
       "      <td>3151</td>\n",
       "      <td>209</td>\n",
       "      <td>1</td>\n",
       "    </tr>\n",
       "    <tr>\n",
       "      <th>5</th>\n",
       "      <td>0</td>\n",
       "      <td>3112</td>\n",
       "      <td>29</td>\n",
       "      <td>1</td>\n",
       "    </tr>\n",
       "    <tr>\n",
       "      <th>6</th>\n",
       "      <td>0</td>\n",
       "      <td>3122</td>\n",
       "      <td>54</td>\n",
       "      <td>1</td>\n",
       "    </tr>\n",
       "    <tr>\n",
       "      <th>7</th>\n",
       "      <td>0</td>\n",
       "      <td>3092</td>\n",
       "      <td>127</td>\n",
       "      <td>1</td>\n",
       "    </tr>\n",
       "    <tr>\n",
       "      <th>8</th>\n",
       "      <td>0</td>\n",
       "      <td>3152</td>\n",
       "      <td>26</td>\n",
       "      <td>1</td>\n",
       "    </tr>\n",
       "    <tr>\n",
       "      <th>9</th>\n",
       "      <td>0</td>\n",
       "      <td>3152</td>\n",
       "      <td>201</td>\n",
       "      <td>1</td>\n",
       "    </tr>\n",
       "    <tr>\n",
       "      <th>...</th>\n",
       "      <td>...</td>\n",
       "      <td>...</td>\n",
       "      <td>...</td>\n",
       "      <td>...</td>\n",
       "    </tr>\n",
       "    <tr>\n",
       "      <th>2898</th>\n",
       "      <td>99</td>\n",
       "      <td>3096</td>\n",
       "      <td>69</td>\n",
       "      <td>1</td>\n",
       "    </tr>\n",
       "    <tr>\n",
       "      <th>2899</th>\n",
       "      <td>99</td>\n",
       "      <td>3080</td>\n",
       "      <td>231</td>\n",
       "      <td>1</td>\n",
       "    </tr>\n",
       "    <tr>\n",
       "      <th>2900</th>\n",
       "      <td>99</td>\n",
       "      <td>3115</td>\n",
       "      <td>100</td>\n",
       "      <td>1</td>\n",
       "    </tr>\n",
       "    <tr>\n",
       "      <th>2901</th>\n",
       "      <td>99</td>\n",
       "      <td>3165</td>\n",
       "      <td>429</td>\n",
       "      <td>1</td>\n",
       "    </tr>\n",
       "    <tr>\n",
       "      <th>2902</th>\n",
       "      <td>99</td>\n",
       "      <td>3136</td>\n",
       "      <td>466</td>\n",
       "      <td>1</td>\n",
       "    </tr>\n",
       "    <tr>\n",
       "      <th>2903</th>\n",
       "      <td>99</td>\n",
       "      <td>3141</td>\n",
       "      <td>21</td>\n",
       "      <td>1</td>\n",
       "    </tr>\n",
       "    <tr>\n",
       "      <th>2904</th>\n",
       "      <td>99</td>\n",
       "      <td>3105</td>\n",
       "      <td>44</td>\n",
       "      <td>1</td>\n",
       "    </tr>\n",
       "    <tr>\n",
       "      <th>2905</th>\n",
       "      <td>99</td>\n",
       "      <td>3123</td>\n",
       "      <td>100</td>\n",
       "      <td>1</td>\n",
       "    </tr>\n",
       "    <tr>\n",
       "      <th>2906</th>\n",
       "      <td>99</td>\n",
       "      <td>3129</td>\n",
       "      <td>75</td>\n",
       "      <td>1</td>\n",
       "    </tr>\n",
       "    <tr>\n",
       "      <th>2907</th>\n",
       "      <td>99</td>\n",
       "      <td>3157</td>\n",
       "      <td>67</td>\n",
       "      <td>1</td>\n",
       "    </tr>\n",
       "  </tbody>\n",
       "</table>\n",
       "<p>2908 rows × 4 columns</p>\n",
       "</div>"
      ],
      "text/plain": [
       "      event_id  sensor_id  time_bin  charge\n",
       "0            0       3117        40       1\n",
       "1            0       3158       171       1\n",
       "2            0       3137        81       1\n",
       "3            0       3083        50       1\n",
       "4            0       3151       209       1\n",
       "5            0       3112        29       1\n",
       "6            0       3122        54       1\n",
       "7            0       3092       127       1\n",
       "8            0       3152        26       1\n",
       "9            0       3152       201       1\n",
       "...        ...        ...       ...     ...\n",
       "2898        99       3096        69       1\n",
       "2899        99       3080       231       1\n",
       "2900        99       3115       100       1\n",
       "2901        99       3165       429       1\n",
       "2902        99       3136       466       1\n",
       "2903        99       3141        21       1\n",
       "2904        99       3105        44       1\n",
       "2905        99       3123       100       1\n",
       "2906        99       3129        75       1\n",
       "2907        99       3157        67       1\n",
       "\n",
       "[2908 rows x 4 columns]"
      ]
     },
     "execution_count": 11,
     "metadata": {},
     "output_type": "execute_result"
    }
   ],
   "source": [
    "# dst.loc[dst.final_volume.str.contains('SENS')]\n",
    "# dst.loc[(dst.initial_volume != 'WORLD') & (dst.primary == 0)]\n",
    "dst"
   ]
  },
  {
   "cell_type": "markdown",
   "id": "0afa1e25",
   "metadata": {},
   "source": [
    "-  <p style=\"font-size: 17px; color: black;\"> <b> Tests on the data: </b> We perform some tests on the dataset to check the simulation is valid. </p>"
   ]
  },
  {
   "cell_type": "markdown",
   "id": "d1639c8b",
   "metadata": {},
   "source": [
    "-  <p style=\"font-size: 17px; color: black;\"> Group the data by sensors. </p>"
   ]
  },
  {
   "cell_type": "code",
   "execution_count": 12,
   "id": "15e4f36d",
   "metadata": {},
   "outputs": [],
   "source": [
    "# g = dst.groupby(dst.sensor_id)\n",
    "g = dst.groupby(dst.event_id)\n"
   ]
  },
  {
   "cell_type": "code",
   "execution_count": 13,
   "id": "e95bd8e5",
   "metadata": {},
   "outputs": [
    {
     "data": {
      "text/plain": [
       "event_id\n",
       "0     27\n",
       "1     19\n",
       "2     24\n",
       "3     27\n",
       "4     25\n",
       "5     27\n",
       "6     29\n",
       "7     25\n",
       "8     22\n",
       "9     45\n",
       "10    32\n",
       "11    23\n",
       "12    40\n",
       "13    34\n",
       "14    38\n",
       "15    38\n",
       "16    26\n",
       "17    32\n",
       "18    36\n",
       "19    31\n",
       "20    20\n",
       "21    20\n",
       "22    20\n",
       "23    22\n",
       "24    32\n",
       "25    30\n",
       "26    26\n",
       "27    41\n",
       "28    29\n",
       "29    28\n",
       "30    32\n",
       "31    29\n",
       "32    29\n",
       "33    22\n",
       "34    32\n",
       "35    19\n",
       "36    30\n",
       "37    21\n",
       "38    37\n",
       "39    21\n",
       "40    32\n",
       "41    36\n",
       "42    20\n",
       "43    34\n",
       "44    32\n",
       "45    34\n",
       "46    24\n",
       "47    29\n",
       "48    28\n",
       "49    27\n",
       "50    33\n",
       "51    41\n",
       "52    34\n",
       "53    24\n",
       "54    26\n",
       "55    26\n",
       "56    25\n",
       "57    26\n",
       "58    26\n",
       "59    30\n",
       "60    32\n",
       "61    27\n",
       "62    32\n",
       "63    27\n",
       "64    18\n",
       "65    33\n",
       "66    22\n",
       "67    29\n",
       "68    38\n",
       "69    26\n",
       "70    25\n",
       "71    21\n",
       "72    25\n",
       "73    30\n",
       "74    37\n",
       "75    37\n",
       "76    23\n",
       "77    31\n",
       "78    31\n",
       "79    19\n",
       "80    34\n",
       "81    27\n",
       "82    27\n",
       "83    32\n",
       "84    39\n",
       "85    28\n",
       "86    39\n",
       "87    34\n",
       "88    35\n",
       "89    34\n",
       "90    31\n",
       "91    39\n",
       "92    33\n",
       "93    34\n",
       "94    18\n",
       "95    38\n",
       "96    35\n",
       "97    29\n",
       "98    25\n",
       "99    24\n",
       "Name: charge, dtype: uint32"
      ]
     },
     "execution_count": 13,
     "metadata": {},
     "output_type": "execute_result"
    }
   ],
   "source": [
    "g.charge.sum()"
   ]
  },
  {
   "cell_type": "markdown",
   "id": "c394dca4",
   "metadata": {},
   "source": [
    "<h1> __________________________ </h1>\n",
    "<h2> Analysis </h2>"
   ]
  },
  {
   "cell_type": "markdown",
   "id": "1770c3d4",
   "metadata": {},
   "source": [
    "<h2> Charge distribution in an event. </h2>"
   ]
  },
  {
   "cell_type": "markdown",
   "id": "7c461520",
   "metadata": {},
   "source": [
    "-  <p style=\"font-size: 17px; color: black;\"> One event </p>"
   ]
  },
  {
   "cell_type": "code",
   "execution_count": 14,
   "id": "4cc40aac",
   "metadata": {},
   "outputs": [],
   "source": [
    "ev = 5"
   ]
  },
  {
   "cell_type": "code",
   "execution_count": 15,
   "id": "66b351eb",
   "metadata": {},
   "outputs": [],
   "source": [
    "wvf = dst.groupby(dst.event_id).get_group(ev)"
   ]
  },
  {
   "cell_type": "code",
   "execution_count": 16,
   "id": "f7742dc3",
   "metadata": {},
   "outputs": [
    {
     "data": {
      "text/html": [
       "<div>\n",
       "<style scoped>\n",
       "    .dataframe tbody tr th:only-of-type {\n",
       "        vertical-align: middle;\n",
       "    }\n",
       "\n",
       "    .dataframe tbody tr th {\n",
       "        vertical-align: top;\n",
       "    }\n",
       "\n",
       "    .dataframe thead th {\n",
       "        text-align: right;\n",
       "    }\n",
       "</style>\n",
       "<table border=\"1\" class=\"dataframe\">\n",
       "  <thead>\n",
       "    <tr style=\"text-align: right;\">\n",
       "      <th></th>\n",
       "      <th>event_id</th>\n",
       "      <th>sensor_id</th>\n",
       "      <th>time_bin</th>\n",
       "      <th>charge</th>\n",
       "    </tr>\n",
       "  </thead>\n",
       "  <tbody>\n",
       "    <tr>\n",
       "      <th>122</th>\n",
       "      <td>5</td>\n",
       "      <td>3149</td>\n",
       "      <td>58</td>\n",
       "      <td>1</td>\n",
       "    </tr>\n",
       "    <tr>\n",
       "      <th>123</th>\n",
       "      <td>5</td>\n",
       "      <td>3136</td>\n",
       "      <td>80</td>\n",
       "      <td>1</td>\n",
       "    </tr>\n",
       "    <tr>\n",
       "      <th>124</th>\n",
       "      <td>5</td>\n",
       "      <td>3153</td>\n",
       "      <td>59</td>\n",
       "      <td>1</td>\n",
       "    </tr>\n",
       "    <tr>\n",
       "      <th>125</th>\n",
       "      <td>5</td>\n",
       "      <td>3153</td>\n",
       "      <td>106</td>\n",
       "      <td>1</td>\n",
       "    </tr>\n",
       "    <tr>\n",
       "      <th>126</th>\n",
       "      <td>5</td>\n",
       "      <td>3079</td>\n",
       "      <td>46</td>\n",
       "      <td>1</td>\n",
       "    </tr>\n",
       "    <tr>\n",
       "      <th>127</th>\n",
       "      <td>5</td>\n",
       "      <td>3143</td>\n",
       "      <td>158</td>\n",
       "      <td>1</td>\n",
       "    </tr>\n",
       "    <tr>\n",
       "      <th>128</th>\n",
       "      <td>5</td>\n",
       "      <td>3109</td>\n",
       "      <td>129</td>\n",
       "      <td>1</td>\n",
       "    </tr>\n",
       "    <tr>\n",
       "      <th>129</th>\n",
       "      <td>5</td>\n",
       "      <td>3135</td>\n",
       "      <td>17</td>\n",
       "      <td>1</td>\n",
       "    </tr>\n",
       "    <tr>\n",
       "      <th>130</th>\n",
       "      <td>5</td>\n",
       "      <td>3133</td>\n",
       "      <td>12</td>\n",
       "      <td>1</td>\n",
       "    </tr>\n",
       "    <tr>\n",
       "      <th>131</th>\n",
       "      <td>5</td>\n",
       "      <td>3133</td>\n",
       "      <td>117</td>\n",
       "      <td>1</td>\n",
       "    </tr>\n",
       "    <tr>\n",
       "      <th>132</th>\n",
       "      <td>5</td>\n",
       "      <td>3113</td>\n",
       "      <td>49</td>\n",
       "      <td>1</td>\n",
       "    </tr>\n",
       "    <tr>\n",
       "      <th>133</th>\n",
       "      <td>5</td>\n",
       "      <td>3119</td>\n",
       "      <td>214</td>\n",
       "      <td>1</td>\n",
       "    </tr>\n",
       "    <tr>\n",
       "      <th>134</th>\n",
       "      <td>5</td>\n",
       "      <td>3124</td>\n",
       "      <td>242</td>\n",
       "      <td>1</td>\n",
       "    </tr>\n",
       "    <tr>\n",
       "      <th>135</th>\n",
       "      <td>5</td>\n",
       "      <td>3158</td>\n",
       "      <td>197</td>\n",
       "      <td>1</td>\n",
       "    </tr>\n",
       "    <tr>\n",
       "      <th>136</th>\n",
       "      <td>5</td>\n",
       "      <td>3163</td>\n",
       "      <td>377</td>\n",
       "      <td>1</td>\n",
       "    </tr>\n",
       "    <tr>\n",
       "      <th>137</th>\n",
       "      <td>5</td>\n",
       "      <td>3139</td>\n",
       "      <td>88</td>\n",
       "      <td>1</td>\n",
       "    </tr>\n",
       "    <tr>\n",
       "      <th>138</th>\n",
       "      <td>5</td>\n",
       "      <td>3105</td>\n",
       "      <td>56</td>\n",
       "      <td>1</td>\n",
       "    </tr>\n",
       "    <tr>\n",
       "      <th>139</th>\n",
       "      <td>5</td>\n",
       "      <td>3137</td>\n",
       "      <td>99</td>\n",
       "      <td>1</td>\n",
       "    </tr>\n",
       "    <tr>\n",
       "      <th>140</th>\n",
       "      <td>5</td>\n",
       "      <td>3096</td>\n",
       "      <td>151</td>\n",
       "      <td>1</td>\n",
       "    </tr>\n",
       "    <tr>\n",
       "      <th>141</th>\n",
       "      <td>5</td>\n",
       "      <td>3138</td>\n",
       "      <td>155</td>\n",
       "      <td>1</td>\n",
       "    </tr>\n",
       "    <tr>\n",
       "      <th>142</th>\n",
       "      <td>5</td>\n",
       "      <td>3140</td>\n",
       "      <td>322</td>\n",
       "      <td>1</td>\n",
       "    </tr>\n",
       "    <tr>\n",
       "      <th>143</th>\n",
       "      <td>5</td>\n",
       "      <td>3111</td>\n",
       "      <td>69</td>\n",
       "      <td>1</td>\n",
       "    </tr>\n",
       "    <tr>\n",
       "      <th>144</th>\n",
       "      <td>5</td>\n",
       "      <td>3091</td>\n",
       "      <td>296</td>\n",
       "      <td>1</td>\n",
       "    </tr>\n",
       "    <tr>\n",
       "      <th>145</th>\n",
       "      <td>5</td>\n",
       "      <td>3148</td>\n",
       "      <td>227</td>\n",
       "      <td>1</td>\n",
       "    </tr>\n",
       "    <tr>\n",
       "      <th>146</th>\n",
       "      <td>5</td>\n",
       "      <td>3154</td>\n",
       "      <td>159</td>\n",
       "      <td>1</td>\n",
       "    </tr>\n",
       "    <tr>\n",
       "      <th>147</th>\n",
       "      <td>5</td>\n",
       "      <td>3087</td>\n",
       "      <td>135</td>\n",
       "      <td>1</td>\n",
       "    </tr>\n",
       "    <tr>\n",
       "      <th>148</th>\n",
       "      <td>5</td>\n",
       "      <td>3162</td>\n",
       "      <td>72</td>\n",
       "      <td>1</td>\n",
       "    </tr>\n",
       "  </tbody>\n",
       "</table>\n",
       "</div>"
      ],
      "text/plain": [
       "     event_id  sensor_id  time_bin  charge\n",
       "122         5       3149        58       1\n",
       "123         5       3136        80       1\n",
       "124         5       3153        59       1\n",
       "125         5       3153       106       1\n",
       "126         5       3079        46       1\n",
       "127         5       3143       158       1\n",
       "128         5       3109       129       1\n",
       "129         5       3135        17       1\n",
       "130         5       3133        12       1\n",
       "131         5       3133       117       1\n",
       "132         5       3113        49       1\n",
       "133         5       3119       214       1\n",
       "134         5       3124       242       1\n",
       "135         5       3158       197       1\n",
       "136         5       3163       377       1\n",
       "137         5       3139        88       1\n",
       "138         5       3105        56       1\n",
       "139         5       3137        99       1\n",
       "140         5       3096       151       1\n",
       "141         5       3138       155       1\n",
       "142         5       3140       322       1\n",
       "143         5       3111        69       1\n",
       "144         5       3091       296       1\n",
       "145         5       3148       227       1\n",
       "146         5       3154       159       1\n",
       "147         5       3087       135       1\n",
       "148         5       3162        72       1"
      ]
     },
     "execution_count": 16,
     "metadata": {},
     "output_type": "execute_result"
    }
   ],
   "source": [
    "# wvf.groupby(wvf.sensor_id).get_group(3163)\n",
    "wvf"
   ]
  },
  {
   "cell_type": "code",
   "execution_count": 17,
   "id": "a2daf764",
   "metadata": {},
   "outputs": [],
   "source": [
    "n_events = dst.event_id.max() + 1\n",
    "\n",
    "for ev, ev_group in dst.groupby(dst.event_id):\n",
    "    for sens, sens_group in ev_group.groupby(ev_group.sensor_id):\n",
    "        \n",
    "#         Introduce here a np.hist() for each sensor in each event and obtain the corresponding info\n",
    "        \n",
    "        \n"
   ]
  },
  {
   "cell_type": "code",
   "execution_count": 18,
   "id": "b45515de",
   "metadata": {},
   "outputs": [
    {
     "data": {
      "text/plain": [
       "(2908, 435)"
      ]
     },
     "execution_count": 18,
     "metadata": {},
     "output_type": "execute_result"
    }
   ],
   "source": [
    "len(time_bin), len(np.unique(time_bin))"
   ]
  },
  {
   "cell_type": "code",
   "execution_count": 19,
   "id": "74a82ffd",
   "metadata": {},
   "outputs": [
    {
     "data": {
      "text/plain": [
       "array([ 78, 182,  50, ...,  67,  71, 429])"
      ]
     },
     "execution_count": 19,
     "metadata": {},
     "output_type": "execute_result"
    }
   ],
   "source": [
    "time_bin"
   ]
  },
  {
   "cell_type": "code",
   "execution_count": 45,
   "id": "176832a1",
   "metadata": {},
   "outputs": [
    {
     "data": {
      "image/png": "[encoded data removed]",
      "text/plain": [
       "<Figure size 500x500 with 1 Axes>"
      ]
     },
     "metadata": {},
     "output_type": "display_data"
    }
   ],
   "source": [
    "fig, ax = plt.subplots(nrows = 1, ncols = 1, figsize=(5,5), constrained_layout=True)\n",
    "\n",
    "n_bins = 20\n",
    "\n",
    "events, bins, bars = ax.hist(dst.time_bin, n_bins, \n",
    "                             weights = dst.charge/n_events,\n",
    "                             density=False,\n",
    "#                              range=(0, 60),\n",
    "                             label=r'Charge distribution normalized to $N_{events}$ = %s'%(n_events), \n",
    "                             histtype='step')\n",
    "\n",
    "ax.text(0.75, .9, r'$N_{bins}$ = ' + str(n_bins), transform=ax.transAxes,\n",
    "        fontsize=10, verticalalignment='top', fontfamily='serif',\n",
    "        bbox=dict(facecolor='1.', edgecolor='none', pad=3.0))\n",
    "\n",
    "ax.set_ylabel('Charge [e]')\n",
    "ax.set_xlabel('Time bin [ns]')\n",
    "ax.legend();\n"
   ]
  },
  {
   "cell_type": "code",
   "execution_count": null,
   "id": "5369bf3a",
   "metadata": {},
   "outputs": [],
   "source": []
  },
  {
   "cell_type": "code",
   "execution_count": null,
   "id": "14bef172",
   "metadata": {},
   "outputs": [],
   "source": []
  },
  {
   "cell_type": "code",
   "execution_count": null,
   "id": "90492adc",
   "metadata": {},
   "outputs": [],
   "source": []
  }
 ],
 "metadata": {
  "kernelspec": {
   "display_name": "Python 3 (ipykernel)",
   "language": "python",
   "name": "python3"
  },
  "language_info": {
   "codemirror_mode": {
    "name": "ipython",
    "version": 3
   },
   "file_extension": ".py",
   "mimetype": "text/x-python",
   "name": "python",
   "nbconvert_exporter": "python",
   "pygments_lexer": "ipython3",
   "version": "3.8.13"
  }
 },
 "nbformat": 4,
 "nbformat_minor": 5
}
