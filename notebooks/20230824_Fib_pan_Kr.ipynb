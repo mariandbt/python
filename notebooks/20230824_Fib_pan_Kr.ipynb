{
 "cells": [
  {
   "cell_type": "markdown",
   "id": "f55cea8a",
   "metadata": {},
   "source": [
    "<h1> ______________________________________ </h1>\n",
    "\n",
    "<h1> Fiber panels with Kr38m decays simulation analysis </h1>\n",
    "<h1> ______________________________________ </h1>\n",
    "\n",
    "<p style=\"font-size: 17px; color: black;\"> In this Notebook we analyse the results from the 10000 MC Kr38m decay events simulated in a \"realistic\" fiber barrel to check if we're able to see the krypton signal with enough resolution. </p>\n",
    "\n",
    "\n"
   ]
  },
  {
   "cell_type": "markdown",
   "id": "0a6c28e7",
   "metadata": {},
   "source": [
    "<h1> ____________ </h1>\n",
    "<h2> This version </h2>\n",
    "<h1> ____________ </h1>\n",
    "\n",
    "-  <p style=\"font-size: 17px; color: black;\"> 10K events. </p>\n",
    "\n",
    "-  <p style=\"font-size: 17px; color: black;\"> Geant4 fundamental units: </p>\n",
    "\n",
    " -  <p style=\"font-size: 17px; color: black;\"> Length [L]: mm (milimeter) </p>\n",
    " -  <p style=\"font-size: 17px; color: black;\"> Time [T]: ns (nanosecond) </p>\n",
    " -  <p style=\"font-size: 17px; color: black;\"> Energy [E]: MeV (megaelectronvolt) </p>\n",
    "\n",
    "\n",
    "\n"
   ]
  },
  {
   "cell_type": "code",
   "execution_count": 1,
   "id": "19d793eb",
   "metadata": {},
   "outputs": [],
   "source": [
    "import numpy              as np\n",
    "import pandas             as pd\n",
    "\n",
    "import scipy              \n",
    "from scipy                import stats, integrate\n",
    "from scipy.signal         import convolve\n",
    "\n",
    "import matplotlib.pyplot  as plt\n",
    "\n",
    "from matplotlib.ticker    import FormatStrFormatter # to set the format of the plot's axis\n",
    "from matplotlib.patches   import Rectangle # To add blanck spaces in tabular legends\n",
    "\n",
    "import os\n",
    "import math\n",
    "import tables             as tb"
   ]
  },
  {
   "cell_type": "markdown",
   "id": "7ca48882",
   "metadata": {},
   "source": [
    "<h1> _________________________________________________________________________________________________________ </h1>\n"
   ]
  },
  {
   "cell_type": "markdown",
   "id": "85a2dfe0",
   "metadata": {},
   "source": [
    "<h1> __________________________ </h1>\n",
    "<h2> Functions </h2>\n",
    "\n",
    "-  <p style=\"font-size: 17px; color: black;\"> <b> gauss(x, a,  mu, sigma): </b> Gaussian normalized to $a$. </p>\n",
    "\n",
    "\n",
    "-  <p style=\"font-size: 17px; color: black;\"> <b> gauss_sum(x, a0,  mu0, sigma0, a1, mu1, sigma1): </b> Sum of 2 gaussians. </p>\n",
    "\n",
    "\n",
    "-  <p style=\"font-size: 17px; color: black;\"> <b> dirac(x, x0): </b> Dirac delta at $x0$. </p>\n",
    "\n",
    "\n",
    "-  <p style=\"font-size: 17px; color: black;\"> <b> EL_yield(E, p, d): </b> It gives you the EL gain in $[photons/e^-]$ as a function of the electric field $E[kV/cm]$, pressure $p[bar]$ and the average absoption length $d[cm]$. We end up not using this formula cause we use directly a fixed value of EL gain. </p>\n",
    "\n",
    "\n"
   ]
  },
  {
   "cell_type": "code",
   "execution_count": 2,
   "id": "c057ab51",
   "metadata": {},
   "outputs": [],
   "source": [
    "# Fitting distributions to define\n",
    "\n",
    "# note: pdf are normilized to 1 so we have yo add an amplitude param\n",
    "def gauss(x, a,  mu, sigma):\n",
    "    \n",
    "    gaussian = stats.norm.pdf(np.sort(x), mu, sigma) \n",
    "    \n",
    "    return (a/gaussian.sum())*gaussian\n",
    "\n",
    "def gauss_sum(x, a0,  mu0, sigma0, a1, mu1, sigma1):\n",
    "    return a0*stats.norm.pdf(x, mu0, sigma0)  + a1*stats.norm.pdf(x, mu1, sigma1)\n",
    "\n",
    "def dirac(x, x0):\n",
    "    return np.where((x - x0) == 0, 1, 0)\n",
    "\n",
    "def EL_yield(E, p, d):\n",
    "    # E[kV/cm] electric field \n",
    "    # p[bar] pressure\n",
    "    # d[cm] average absorption depth\n",
    "    return (140*E/p - 116)*d*p # [photons/e⁻]\n"
   ]
  },
  {
   "cell_type": "code",
   "execution_count": 3,
   "id": "0796d814",
   "metadata": {},
   "outputs": [],
   "source": [
    "def noise(dark_rate, x_talk, t0, tf, dt, n_sensors):\n",
    "    \n",
    "#     dark_rate[Kcps] Number of dark pulses per second\n",
    "#     x_talk[%] Cross talk probability (so the dark pulse is 2pe instead of 1pe)\n",
    "#     t0[s] Measurements STARTING time\n",
    "#     tf[s] Measurements ENDIND time\n",
    "#     dt[s] Width of the time bin\n",
    "\n",
    "    \"\"\"\n",
    "    Here we do it explained with all the steps, it can be done easier tho\n",
    "\n",
    "    n_bin = (tf - t0)/dt\n",
    "\n",
    "    pulse_rate = dark_rate*1e3*dt # probability of having a dark pulse in a bin\n",
    "    \n",
    "    pe1 = (1 - x_talk/100) # probability of that pulse being 1pe signal\n",
    "    pe2 = x_talk/100 # probability of that pulse being 2pe signal\n",
    "\n",
    "    n_1pe = int(pulse_rate*pe1*n_bin) # number of 1pe dark counts throughout measurement time in 1 sensor\n",
    "    n_2pe = int(pulse_rate*pe2*n_bin) # number of 2pe dark counts throughout measurement time in 1 sensor\n",
    "    \n",
    "    \"\"\";\n",
    "    \n",
    "    pe1 = (1 - x_talk/100) # probability of that pulse being 1pe signal\n",
    "    pe2 = x_talk/100 # probability of that pulse being 2pe signal\n",
    "        \n",
    "    n_1pe = dark_rate*1e3*(tf - t0)*pe1 # number of 1pe dark counts throughout measurement time in 1 sensor for 1 event\n",
    "    n_2pe = dark_rate*1e3*(tf - t0)*pe2 # number of 2pe dark counts throughout measurement time in 1 sensor for 1 event\n",
    "    \n",
    "    n_1pe = n_1pe*n_sensors # TOTAL number of 1pe dark counts throughout measurement time for all sensors for 1 event\n",
    "    n_2pe = n_2pe*n_sensors # TOTAL number of 2pe dark counts throughout measurement time for all sensors for 1 event\n",
    "\n",
    "    n_1pe = int(n_1pe)\n",
    "    n_2pe = int(n_2pe)\n",
    "    \n",
    "    return n_1pe, n_2pe"
   ]
  },
  {
   "cell_type": "markdown",
   "id": "5476af0e",
   "metadata": {},
   "source": [
    "<h1> __________________________ </h1>\n",
    "<h2> Global parameters </h2>"
   ]
  },
  {
   "cell_type": "markdown",
   "id": "40924491",
   "metadata": {},
   "source": [
    "-  <p style=\"font-size: 17px; color: black;\"> <b> Pandas dataset params: </b> Allows to set the max number of columns and rows that are shown in a pandas dataset. </p>"
   ]
  },
  {
   "cell_type": "code",
   "execution_count": 4,
   "id": "5562c609",
   "metadata": {},
   "outputs": [],
   "source": [
    "pd.set_option('display.max_columns', None)\n",
    "pd.set_option('display.max_rows', 100)\n",
    "pd.set_option('display.min_rows', 20)"
   ]
  },
  {
   "cell_type": "markdown",
   "id": "11e3df95",
   "metadata": {},
   "source": [
    "-  <p style=\"font-size: 17px; color: black;\"> <b> Plots params: </b> In case you want to fix the parameters for all plots. </p>"
   ]
  },
  {
   "cell_type": "code",
   "execution_count": 5,
   "id": "e9c3a83a",
   "metadata": {},
   "outputs": [],
   "source": [
    "# plt.rcParams[\"figure.figsize\"] = 10, 8\n",
    "# plt.rcParams[\"font.size\"] = 10"
   ]
  },
  {
   "cell_type": "markdown",
   "id": "faa5a7df",
   "metadata": {},
   "source": [
    "-  <p style=\"font-size: 17px; color: black;\"> <b> Analysis parameters </b> </p>\n",
    "\n",
    " -  <p style=\"font-size: 17px; color: black;\"> <b> dark_rate: </b> Dark pulses rate. </p>\n",
    " -  <p style=\"font-size: 17px; color: black;\"> <b> x_talk: </b> Cross talk probability. </p>\n",
    " -  <p style=\"font-size: 17px; color: black;\"> <b> n_sensors: </b> Total number of sensors used. </p>\n",
    " "
   ]
  },
  {
   "cell_type": "code",
   "execution_count": 6,
   "id": "a68ca9ee",
   "metadata": {},
   "outputs": [],
   "source": [
    "dark_rate = 2000 # [Kcps] (1Kcps = 1e3 dark pulses per second)\n",
    "x_talk = 7 # [%] Probability of a dark count to be 2pe instead of 1pe\n",
    "n_sensors = 90 "
   ]
  },
  {
   "cell_type": "markdown",
   "id": "e8b38a7d",
   "metadata": {},
   "source": [
    "<h1> __________________________ </h1>\n",
    "<h2> Data </h2>"
   ]
  },
  {
   "cell_type": "markdown",
   "id": "aba914e0",
   "metadata": {},
   "source": [
    "-  <p style=\"font-size: 17px; color: black;\"> <b> Reading the file </b> </p>"
   ]
  },
  {
   "cell_type": "markdown",
   "id": "fcbac72c",
   "metadata": {},
   "source": [
    "-  <p style=\"font-size: 17px; color: black;\"> File's path </p>"
   ]
  },
  {
   "cell_type": "code",
   "execution_count": 7,
   "id": "1ee61880",
   "metadata": {},
   "outputs": [],
   "source": [
    "path = '/home/investigator/mariandbt/python/data/'\n",
    "path = path + '/20230824_fib_pan_kr'\n",
    "\n",
    "# path = '/home/investigator/mariandbt/nexus'\n",
    "\n",
    "filename = os.path.join(path, \"Fib_pan_meth.next.h5\")"
   ]
  },
  {
   "cell_type": "markdown",
   "id": "c86e5025",
   "metadata": {},
   "source": [
    "-  <p style=\"font-size: 17px; color: black;\"> In a .h5 file there are several objects, so we print them all to then pick the one we're interested in </p>"
   ]
  },
  {
   "cell_type": "code",
   "execution_count": 8,
   "id": "3557f9c6",
   "metadata": {},
   "outputs": [
    {
     "name": "stdout",
     "output_type": "stream",
     "text": [
      "/home/investigator/mariandbt/python/data//20230824_fib_pan_kr/Fib_pan_meth.next.h5 (File) ''\n",
      "Last modif.: '2023-08-30T08:26:44+00:00'\n",
      "Object Tree: \n",
      "/ (RootGroup) ''\n",
      "/MC (Group) ''\n",
      "/MC/configuration (Table(43,)) ''\n",
      "/MC/hits (Table(0,)) ''\n",
      "/MC/particles (Table(240222,)) ''\n",
      "/MC/sns_positions (Table(90,)) ''\n",
      "/MC/sns_response (Table(2809,)) ''\n",
      "\n"
     ]
    }
   ],
   "source": [
    "with tb.open_file(filename) as file:\n",
    "    print(file)"
   ]
  },
  {
   "cell_type": "markdown",
   "id": "a803c911",
   "metadata": {},
   "source": [
    "-  <p style=\"font-size: 17px; color: black;\"> Read the file and make a copy to work with, this way it's easier to re-start the copy instead of re-reading the file. </p>"
   ]
  },
  {
   "cell_type": "code",
   "execution_count": 9,
   "id": "f353a737",
   "metadata": {},
   "outputs": [],
   "source": [
    "# %%timeit # WITH THIS YOU'RE ONLY TIMING, BUT IT DOESN'T REALLY RUN THE COMMANDS YOU TIME\n",
    "# data = pd.read_hdf(filename, \"/MC/particles\")\n",
    "# data = pd.read_hdf(filename, \"/MC/sns_positions\")\n",
    "data = pd.read_hdf(filename, \"/MC/sns_response\")\n",
    "# data = pd.read_hdf(filename, \"/MC/hits\")\n",
    "# dst = pd.read_hdf(filename, \"/MC/hits\").groupby(\"event_id\").get_group(event_id)"
   ]
  },
  {
   "cell_type": "code",
   "execution_count": 10,
   "id": "3e3460fd",
   "metadata": {},
   "outputs": [],
   "source": [
    "dst = data.copy()"
   ]
  },
  {
   "cell_type": "code",
   "execution_count": 11,
   "id": "e8dd84b8",
   "metadata": {},
   "outputs": [
    {
     "data": {
      "text/plain": [
       "(array([3104, 3126, 3111, 3153, 3152, 3078, 3081, 3125, 3140, 3123, 3165,\n",
       "        3132, 3163, 3131, 3084, 3151, 3150, 3086, 3089, 3139, 3161, 3103,\n",
       "        3133, 3115, 3137, 3093, 3146, 3148, 3141, 3100, 3079, 3085, 3121,\n",
       "        3091, 3135, 3097, 3124, 3102, 3101, 3157, 3109, 3149, 3159, 3118,\n",
       "        3166, 3110, 3142, 3158, 3117, 3112, 3154, 3098, 3122, 3107, 3155,\n",
       "        3145, 3130, 3143, 3092, 3147, 3094, 3082, 3106, 3087, 3116, 3096,\n",
       "        3129, 3127, 3088, 3114, 3160, 3095, 3134, 3136, 3120, 3167, 3105,\n",
       "        3080, 3083, 3119, 3162, 3113, 3144, 3099, 3108, 3128, 3138, 3090,\n",
       "        3164, 3156], dtype=uint32),\n",
       " 90)"
      ]
     },
     "execution_count": 11,
     "metadata": {},
     "output_type": "execute_result"
    }
   ],
   "source": [
    "# dst.final_volume.unique() \n",
    "# dst.initial_volume.unique()\n",
    "# dst.particle_name.unique()\n",
    "dst.sensor_id.unique(), len(dst.sensor_id.unique())"
   ]
  },
  {
   "cell_type": "code",
   "execution_count": 12,
   "id": "92dbd590",
   "metadata": {},
   "outputs": [
    {
     "data": {
      "text/plain": [
       "(array([1, 2], dtype=uint32), 2)"
      ]
     },
     "execution_count": 12,
     "metadata": {},
     "output_type": "execute_result"
    }
   ],
   "source": [
    "dst.time_bin.unique(), len(dst.time_bin.unique())\n",
    "dst.charge.unique(), len(dst.charge.unique())\n"
   ]
  },
  {
   "cell_type": "code",
   "execution_count": 13,
   "id": "a78e176e",
   "metadata": {},
   "outputs": [
    {
     "data": {
      "text/html": [
       "<div>\n",
       "<style scoped>\n",
       "    .dataframe tbody tr th:only-of-type {\n",
       "        vertical-align: middle;\n",
       "    }\n",
       "\n",
       "    .dataframe tbody tr th {\n",
       "        vertical-align: top;\n",
       "    }\n",
       "\n",
       "    .dataframe thead th {\n",
       "        text-align: right;\n",
       "    }\n",
       "</style>\n",
       "<table border=\"1\" class=\"dataframe\">\n",
       "  <thead>\n",
       "    <tr style=\"text-align: right;\">\n",
       "      <th></th>\n",
       "      <th>event_id</th>\n",
       "      <th>sensor_id</th>\n",
       "      <th>time_bin</th>\n",
       "      <th>charge</th>\n",
       "    </tr>\n",
       "  </thead>\n",
       "  <tbody>\n",
       "    <tr>\n",
       "      <th>0</th>\n",
       "      <td>0</td>\n",
       "      <td>3104</td>\n",
       "      <td>417</td>\n",
       "      <td>1</td>\n",
       "    </tr>\n",
       "    <tr>\n",
       "      <th>1</th>\n",
       "      <td>0</td>\n",
       "      <td>3126</td>\n",
       "      <td>739</td>\n",
       "      <td>1</td>\n",
       "    </tr>\n",
       "    <tr>\n",
       "      <th>2</th>\n",
       "      <td>0</td>\n",
       "      <td>3126</td>\n",
       "      <td>2655</td>\n",
       "      <td>1</td>\n",
       "    </tr>\n",
       "    <tr>\n",
       "      <th>3</th>\n",
       "      <td>0</td>\n",
       "      <td>3111</td>\n",
       "      <td>578</td>\n",
       "      <td>1</td>\n",
       "    </tr>\n",
       "    <tr>\n",
       "      <th>4</th>\n",
       "      <td>0</td>\n",
       "      <td>3111</td>\n",
       "      <td>1143</td>\n",
       "      <td>1</td>\n",
       "    </tr>\n",
       "    <tr>\n",
       "      <th>5</th>\n",
       "      <td>0</td>\n",
       "      <td>3111</td>\n",
       "      <td>1223</td>\n",
       "      <td>1</td>\n",
       "    </tr>\n",
       "    <tr>\n",
       "      <th>6</th>\n",
       "      <td>0</td>\n",
       "      <td>3111</td>\n",
       "      <td>1450</td>\n",
       "      <td>1</td>\n",
       "    </tr>\n",
       "    <tr>\n",
       "      <th>7</th>\n",
       "      <td>0</td>\n",
       "      <td>3153</td>\n",
       "      <td>566</td>\n",
       "      <td>1</td>\n",
       "    </tr>\n",
       "    <tr>\n",
       "      <th>8</th>\n",
       "      <td>0</td>\n",
       "      <td>3152</td>\n",
       "      <td>280</td>\n",
       "      <td>1</td>\n",
       "    </tr>\n",
       "    <tr>\n",
       "      <th>9</th>\n",
       "      <td>0</td>\n",
       "      <td>3152</td>\n",
       "      <td>1394</td>\n",
       "      <td>1</td>\n",
       "    </tr>\n",
       "    <tr>\n",
       "      <th>...</th>\n",
       "      <td>...</td>\n",
       "      <td>...</td>\n",
       "      <td>...</td>\n",
       "      <td>...</td>\n",
       "    </tr>\n",
       "    <tr>\n",
       "      <th>2799</th>\n",
       "      <td>99</td>\n",
       "      <td>3128</td>\n",
       "      <td>434</td>\n",
       "      <td>1</td>\n",
       "    </tr>\n",
       "    <tr>\n",
       "      <th>2800</th>\n",
       "      <td>99</td>\n",
       "      <td>3128</td>\n",
       "      <td>4238</td>\n",
       "      <td>1</td>\n",
       "    </tr>\n",
       "    <tr>\n",
       "      <th>2801</th>\n",
       "      <td>99</td>\n",
       "      <td>3164</td>\n",
       "      <td>392</td>\n",
       "      <td>1</td>\n",
       "    </tr>\n",
       "    <tr>\n",
       "      <th>2802</th>\n",
       "      <td>99</td>\n",
       "      <td>3115</td>\n",
       "      <td>381</td>\n",
       "      <td>1</td>\n",
       "    </tr>\n",
       "    <tr>\n",
       "      <th>2803</th>\n",
       "      <td>99</td>\n",
       "      <td>3160</td>\n",
       "      <td>2819</td>\n",
       "      <td>1</td>\n",
       "    </tr>\n",
       "    <tr>\n",
       "      <th>2804</th>\n",
       "      <td>99</td>\n",
       "      <td>3122</td>\n",
       "      <td>2338</td>\n",
       "      <td>1</td>\n",
       "    </tr>\n",
       "    <tr>\n",
       "      <th>2805</th>\n",
       "      <td>99</td>\n",
       "      <td>3111</td>\n",
       "      <td>477</td>\n",
       "      <td>1</td>\n",
       "    </tr>\n",
       "    <tr>\n",
       "      <th>2806</th>\n",
       "      <td>99</td>\n",
       "      <td>3087</td>\n",
       "      <td>2989</td>\n",
       "      <td>1</td>\n",
       "    </tr>\n",
       "    <tr>\n",
       "      <th>2807</th>\n",
       "      <td>99</td>\n",
       "      <td>3105</td>\n",
       "      <td>1566</td>\n",
       "      <td>1</td>\n",
       "    </tr>\n",
       "    <tr>\n",
       "      <th>2808</th>\n",
       "      <td>99</td>\n",
       "      <td>3163</td>\n",
       "      <td>349</td>\n",
       "      <td>1</td>\n",
       "    </tr>\n",
       "  </tbody>\n",
       "</table>\n",
       "<p>2809 rows × 4 columns</p>\n",
       "</div>"
      ],
      "text/plain": [
       "      event_id  sensor_id  time_bin  charge\n",
       "0            0       3104       417       1\n",
       "1            0       3126       739       1\n",
       "2            0       3126      2655       1\n",
       "3            0       3111       578       1\n",
       "4            0       3111      1143       1\n",
       "5            0       3111      1223       1\n",
       "6            0       3111      1450       1\n",
       "7            0       3153       566       1\n",
       "8            0       3152       280       1\n",
       "9            0       3152      1394       1\n",
       "...        ...        ...       ...     ...\n",
       "2799        99       3128       434       1\n",
       "2800        99       3128      4238       1\n",
       "2801        99       3164       392       1\n",
       "2802        99       3115       381       1\n",
       "2803        99       3160      2819       1\n",
       "2804        99       3122      2338       1\n",
       "2805        99       3111       477       1\n",
       "2806        99       3087      2989       1\n",
       "2807        99       3105      1566       1\n",
       "2808        99       3163       349       1\n",
       "\n",
       "[2809 rows x 4 columns]"
      ]
     },
     "execution_count": 13,
     "metadata": {},
     "output_type": "execute_result"
    }
   ],
   "source": [
    "# dst.loc[dst.final_volume.str.contains('SENS')]\n",
    "# dst.loc[(dst.initial_volume != 'WORLD') & (dst.primary == 0)]\n",
    "dst"
   ]
  },
  {
   "cell_type": "markdown",
   "id": "0afa1e25",
   "metadata": {},
   "source": [
    "-  <p style=\"font-size: 17px; color: black;\"> <b> Tests on the data: </b> We perform some tests on the dataset to check the simulation is valid. </p>"
   ]
  },
  {
   "cell_type": "markdown",
   "id": "d1639c8b",
   "metadata": {},
   "source": [
    "-  <p style=\"font-size: 17px; color: black;\"> Group the data by sensors. </p>"
   ]
  },
  {
   "cell_type": "code",
   "execution_count": 14,
   "id": "60cce18f",
   "metadata": {},
   "outputs": [
    {
     "data": {
      "text/plain": [
       "(2811, 2809)"
      ]
     },
     "execution_count": 14,
     "metadata": {},
     "output_type": "execute_result"
    }
   ],
   "source": [
    "dst.charge.sum(), len(dst.charge)"
   ]
  },
  {
   "cell_type": "code",
   "execution_count": 15,
   "id": "15e4f36d",
   "metadata": {},
   "outputs": [],
   "source": [
    "# g = dst.groupby(dst.sensor_id)\n",
    "g = dst.groupby(dst.event_id)\n"
   ]
  },
  {
   "cell_type": "code",
   "execution_count": 16,
   "id": "e95bd8e5",
   "metadata": {},
   "outputs": [],
   "source": [
    "# g.charge.sum()"
   ]
  },
  {
   "cell_type": "markdown",
   "id": "c394dca4",
   "metadata": {},
   "source": [
    "<h1> __________________________ </h1>\n",
    "<h2> Analysis </h2>"
   ]
  },
  {
   "cell_type": "markdown",
   "id": "1770c3d4",
   "metadata": {},
   "source": [
    "<h2> Charge distribution in an event. </h2>"
   ]
  },
  {
   "cell_type": "markdown",
   "id": "7c461520",
   "metadata": {},
   "source": [
    "-  <p style=\"font-size: 17px; color: black;\"> All events </p>"
   ]
  },
  {
   "cell_type": "code",
   "execution_count": 17,
   "id": "4cc40aac",
   "metadata": {},
   "outputs": [],
   "source": [
    "ev = 5"
   ]
  },
  {
   "cell_type": "code",
   "execution_count": 18,
   "id": "66b351eb",
   "metadata": {},
   "outputs": [],
   "source": [
    "wvf = dst.groupby(dst.event_id).get_group(ev)"
   ]
  },
  {
   "cell_type": "code",
   "execution_count": 19,
   "id": "f7742dc3",
   "metadata": {},
   "outputs": [
    {
     "data": {
      "text/html": [
       "<div>\n",
       "<style scoped>\n",
       "    .dataframe tbody tr th:only-of-type {\n",
       "        vertical-align: middle;\n",
       "    }\n",
       "\n",
       "    .dataframe tbody tr th {\n",
       "        vertical-align: top;\n",
       "    }\n",
       "\n",
       "    .dataframe thead th {\n",
       "        text-align: right;\n",
       "    }\n",
       "</style>\n",
       "<table border=\"1\" class=\"dataframe\">\n",
       "  <thead>\n",
       "    <tr style=\"text-align: right;\">\n",
       "      <th></th>\n",
       "      <th>event_id</th>\n",
       "      <th>sensor_id</th>\n",
       "      <th>time_bin</th>\n",
       "      <th>charge</th>\n",
       "    </tr>\n",
       "  </thead>\n",
       "  <tbody>\n",
       "    <tr>\n",
       "      <th>149</th>\n",
       "      <td>5</td>\n",
       "      <td>3101</td>\n",
       "      <td>669</td>\n",
       "      <td>1</td>\n",
       "    </tr>\n",
       "    <tr>\n",
       "      <th>150</th>\n",
       "      <td>5</td>\n",
       "      <td>3155</td>\n",
       "      <td>1487</td>\n",
       "      <td>1</td>\n",
       "    </tr>\n",
       "    <tr>\n",
       "      <th>151</th>\n",
       "      <td>5</td>\n",
       "      <td>3124</td>\n",
       "      <td>989</td>\n",
       "      <td>1</td>\n",
       "    </tr>\n",
       "    <tr>\n",
       "      <th>152</th>\n",
       "      <td>5</td>\n",
       "      <td>3124</td>\n",
       "      <td>994</td>\n",
       "      <td>1</td>\n",
       "    </tr>\n",
       "    <tr>\n",
       "      <th>153</th>\n",
       "      <td>5</td>\n",
       "      <td>3116</td>\n",
       "      <td>1191</td>\n",
       "      <td>1</td>\n",
       "    </tr>\n",
       "    <tr>\n",
       "      <th>154</th>\n",
       "      <td>5</td>\n",
       "      <td>3116</td>\n",
       "      <td>2182</td>\n",
       "      <td>1</td>\n",
       "    </tr>\n",
       "    <tr>\n",
       "      <th>155</th>\n",
       "      <td>5</td>\n",
       "      <td>3127</td>\n",
       "      <td>1169</td>\n",
       "      <td>1</td>\n",
       "    </tr>\n",
       "    <tr>\n",
       "      <th>156</th>\n",
       "      <td>5</td>\n",
       "      <td>3094</td>\n",
       "      <td>1460</td>\n",
       "      <td>1</td>\n",
       "    </tr>\n",
       "    <tr>\n",
       "      <th>157</th>\n",
       "      <td>5</td>\n",
       "      <td>3088</td>\n",
       "      <td>316</td>\n",
       "      <td>1</td>\n",
       "    </tr>\n",
       "    <tr>\n",
       "      <th>158</th>\n",
       "      <td>5</td>\n",
       "      <td>3114</td>\n",
       "      <td>1103</td>\n",
       "      <td>1</td>\n",
       "    </tr>\n",
       "    <tr>\n",
       "      <th>159</th>\n",
       "      <td>5</td>\n",
       "      <td>3092</td>\n",
       "      <td>256</td>\n",
       "      <td>1</td>\n",
       "    </tr>\n",
       "    <tr>\n",
       "      <th>160</th>\n",
       "      <td>5</td>\n",
       "      <td>3092</td>\n",
       "      <td>2232</td>\n",
       "      <td>1</td>\n",
       "    </tr>\n",
       "    <tr>\n",
       "      <th>161</th>\n",
       "      <td>5</td>\n",
       "      <td>3133</td>\n",
       "      <td>582</td>\n",
       "      <td>1</td>\n",
       "    </tr>\n",
       "    <tr>\n",
       "      <th>162</th>\n",
       "      <td>5</td>\n",
       "      <td>3160</td>\n",
       "      <td>3232</td>\n",
       "      <td>1</td>\n",
       "    </tr>\n",
       "    <tr>\n",
       "      <th>163</th>\n",
       "      <td>5</td>\n",
       "      <td>3110</td>\n",
       "      <td>1175</td>\n",
       "      <td>1</td>\n",
       "    </tr>\n",
       "    <tr>\n",
       "      <th>164</th>\n",
       "      <td>5</td>\n",
       "      <td>3110</td>\n",
       "      <td>1194</td>\n",
       "      <td>1</td>\n",
       "    </tr>\n",
       "    <tr>\n",
       "      <th>165</th>\n",
       "      <td>5</td>\n",
       "      <td>3110</td>\n",
       "      <td>2002</td>\n",
       "      <td>1</td>\n",
       "    </tr>\n",
       "    <tr>\n",
       "      <th>166</th>\n",
       "      <td>5</td>\n",
       "      <td>3095</td>\n",
       "      <td>506</td>\n",
       "      <td>1</td>\n",
       "    </tr>\n",
       "    <tr>\n",
       "      <th>167</th>\n",
       "      <td>5</td>\n",
       "      <td>3134</td>\n",
       "      <td>788</td>\n",
       "      <td>1</td>\n",
       "    </tr>\n",
       "    <tr>\n",
       "      <th>168</th>\n",
       "      <td>5</td>\n",
       "      <td>3100</td>\n",
       "      <td>779</td>\n",
       "      <td>1</td>\n",
       "    </tr>\n",
       "    <tr>\n",
       "      <th>169</th>\n",
       "      <td>5</td>\n",
       "      <td>3100</td>\n",
       "      <td>860</td>\n",
       "      <td>1</td>\n",
       "    </tr>\n",
       "    <tr>\n",
       "      <th>170</th>\n",
       "      <td>5</td>\n",
       "      <td>3123</td>\n",
       "      <td>612</td>\n",
       "      <td>1</td>\n",
       "    </tr>\n",
       "    <tr>\n",
       "      <th>171</th>\n",
       "      <td>5</td>\n",
       "      <td>3158</td>\n",
       "      <td>858</td>\n",
       "      <td>1</td>\n",
       "    </tr>\n",
       "    <tr>\n",
       "      <th>172</th>\n",
       "      <td>5</td>\n",
       "      <td>3136</td>\n",
       "      <td>570</td>\n",
       "      <td>1</td>\n",
       "    </tr>\n",
       "    <tr>\n",
       "      <th>173</th>\n",
       "      <td>5</td>\n",
       "      <td>3093</td>\n",
       "      <td>729</td>\n",
       "      <td>1</td>\n",
       "    </tr>\n",
       "    <tr>\n",
       "      <th>174</th>\n",
       "      <td>5</td>\n",
       "      <td>3098</td>\n",
       "      <td>1029</td>\n",
       "      <td>1</td>\n",
       "    </tr>\n",
       "    <tr>\n",
       "      <th>175</th>\n",
       "      <td>5</td>\n",
       "      <td>3098</td>\n",
       "      <td>1333</td>\n",
       "      <td>1</td>\n",
       "    </tr>\n",
       "    <tr>\n",
       "      <th>176</th>\n",
       "      <td>5</td>\n",
       "      <td>3098</td>\n",
       "      <td>1345</td>\n",
       "      <td>1</td>\n",
       "    </tr>\n",
       "    <tr>\n",
       "      <th>177</th>\n",
       "      <td>5</td>\n",
       "      <td>3079</td>\n",
       "      <td>714</td>\n",
       "      <td>1</td>\n",
       "    </tr>\n",
       "    <tr>\n",
       "      <th>178</th>\n",
       "      <td>5</td>\n",
       "      <td>3120</td>\n",
       "      <td>823</td>\n",
       "      <td>1</td>\n",
       "    </tr>\n",
       "    <tr>\n",
       "      <th>179</th>\n",
       "      <td>5</td>\n",
       "      <td>3167</td>\n",
       "      <td>1645</td>\n",
       "      <td>1</td>\n",
       "    </tr>\n",
       "    <tr>\n",
       "      <th>180</th>\n",
       "      <td>5</td>\n",
       "      <td>3085</td>\n",
       "      <td>728</td>\n",
       "      <td>1</td>\n",
       "    </tr>\n",
       "    <tr>\n",
       "      <th>181</th>\n",
       "      <td>5</td>\n",
       "      <td>3152</td>\n",
       "      <td>573</td>\n",
       "      <td>1</td>\n",
       "    </tr>\n",
       "  </tbody>\n",
       "</table>\n",
       "</div>"
      ],
      "text/plain": [
       "     event_id  sensor_id  time_bin  charge\n",
       "149         5       3101       669       1\n",
       "150         5       3155      1487       1\n",
       "151         5       3124       989       1\n",
       "152         5       3124       994       1\n",
       "153         5       3116      1191       1\n",
       "154         5       3116      2182       1\n",
       "155         5       3127      1169       1\n",
       "156         5       3094      1460       1\n",
       "157         5       3088       316       1\n",
       "158         5       3114      1103       1\n",
       "159         5       3092       256       1\n",
       "160         5       3092      2232       1\n",
       "161         5       3133       582       1\n",
       "162         5       3160      3232       1\n",
       "163         5       3110      1175       1\n",
       "164         5       3110      1194       1\n",
       "165         5       3110      2002       1\n",
       "166         5       3095       506       1\n",
       "167         5       3134       788       1\n",
       "168         5       3100       779       1\n",
       "169         5       3100       860       1\n",
       "170         5       3123       612       1\n",
       "171         5       3158       858       1\n",
       "172         5       3136       570       1\n",
       "173         5       3093       729       1\n",
       "174         5       3098      1029       1\n",
       "175         5       3098      1333       1\n",
       "176         5       3098      1345       1\n",
       "177         5       3079       714       1\n",
       "178         5       3120       823       1\n",
       "179         5       3167      1645       1\n",
       "180         5       3085       728       1\n",
       "181         5       3152       573       1"
      ]
     },
     "execution_count": 19,
     "metadata": {},
     "output_type": "execute_result"
    }
   ],
   "source": [
    "# wvf.groupby(wvf.sensor_id).get_group(3163)\n",
    "wvf"
   ]
  },
  {
   "cell_type": "code",
   "execution_count": 20,
   "id": "0a8fb786",
   "metadata": {},
   "outputs": [],
   "source": [
    "n_events = dst.event_id.max() + 1"
   ]
  },
  {
   "cell_type": "code",
   "execution_count": 21,
   "id": "a2daf764",
   "metadata": {},
   "outputs": [],
   "source": [
    "# for ev, ev_group in dst.groupby(dst.event_id):\n",
    "#     for sens, sens_group in ev_group.groupby(ev_group.sensor_id):\n",
    "        \n",
    "#         Introduce here a np.hist() for each sensor in each event and obtain the corresponding info\n",
    "        \n",
    "        "
   ]
  },
  {
   "cell_type": "code",
   "execution_count": 22,
   "id": "b45515de",
   "metadata": {},
   "outputs": [],
   "source": [
    "# len(time_bin), len(np.unique(time_bin))"
   ]
  },
  {
   "cell_type": "code",
   "execution_count": 23,
   "id": "74a82ffd",
   "metadata": {},
   "outputs": [],
   "source": [
    "# time_bin"
   ]
  },
  {
   "cell_type": "code",
   "execution_count": 24,
   "id": "176832a1",
   "metadata": {},
   "outputs": [
    {
     "data": {
      "image/png": "[encoded data removed]",
      "text/plain": [
       "<Figure size 500x500 with 1 Axes>"
      ]
     },
     "metadata": {},
     "output_type": "display_data"
    }
   ],
   "source": [
    "fig, ax = plt.subplots(nrows = 1, ncols = 1, figsize=(5,5), constrained_layout=True)\n",
    "\n",
    "n_bins = 100\n",
    "font_size = 8.5\n",
    "\n",
    "events, bins, bars = ax.hist(dst.time_bin, n_bins, \n",
    "                             weights = dst.charge/n_events,\n",
    "                             density=False,\n",
    "                             range=(-1*(dst.time_bin.max()), dst.time_bin.max()),\n",
    "                             label='Charge distribution \\nnormalized to 1 event \\n($N_{events}$ = %s)'%(n_events), \n",
    "                             histtype='step')\n",
    "\n",
    "ax.text(0.75, .85, r'$N_{bins}$ = ' + str(n_bins), transform = ax.transAxes,\n",
    "        fontsize = font_size, verticalalignment = 'top', fontfamily = 'serif',\n",
    "        bbox = dict(facecolor='1.', edgecolor = 'none', pad = 3.0))\n",
    "\n",
    "ax.set_ylabel('Charge [e]')\n",
    "ax.set_xlabel('Time bin [ns]')\n",
    "ax.legend(fontsize = font_size);\n"
   ]
  },
  {
   "cell_type": "markdown",
   "id": "e77d2202",
   "metadata": {},
   "source": [
    "<h2> Add dark counts. </h2>"
   ]
  },
  {
   "cell_type": "markdown",
   "id": "d1d1e26a",
   "metadata": {},
   "source": [
    "-  <p style=\"font-size: 17px; color: black;\"> Create the noise </p>"
   ]
  },
  {
   "cell_type": "code",
   "execution_count": 36,
   "id": "70cfb950",
   "metadata": {},
   "outputs": [],
   "source": [
    "dt = 1e-6 # [s] = 1us"
   ]
  },
  {
   "cell_type": "code",
   "execution_count": 26,
   "id": "4f32a759",
   "metadata": {},
   "outputs": [],
   "source": [
    "tf = dst.time_bin.max()*1e-9 # [s]\n",
    "t0 = -1*tf # [s]\n",
    "n_bins = (tf - t0)/dt"
   ]
  },
  {
   "cell_type": "code",
   "execution_count": 27,
   "id": "14bef172",
   "metadata": {},
   "outputs": [
    {
     "name": "stdout",
     "output_type": "stream",
     "text": [
      "We have 2701 1pe dark pulses and 203 2pe dark pulses\n"
     ]
    }
   ],
   "source": [
    "n_1pe, n_2pe = noise(dark_rate, x_talk, t0, tf, dt, n_sensors)\n",
    "\n",
    "print('We have %s 1pe dark pulses and %s 2pe dark pulses'%(n_1pe, n_2pe))"
   ]
  },
  {
   "cell_type": "code",
   "execution_count": 28,
   "id": "90492adc",
   "metadata": {},
   "outputs": [],
   "source": [
    "noise_1pe = np.random.randint(t0*1e9, tf*1e9, n_1pe) # [ns]\n",
    "noise_2pe = np.random.randint(t0*1e9, tf*1e9, n_2pe) # [ns]\n",
    "\n",
    "t_noise = np.concatenate((noise_1pe, noise_2pe))\n",
    "c_noise = np.concatenate((1*np.ones(n_1pe), 2*np.ones(n_2pe)))"
   ]
  },
  {
   "cell_type": "code",
   "execution_count": 29,
   "id": "fdd6b21b",
   "metadata": {},
   "outputs": [],
   "source": [
    "t_signal = np.asarray(dst.time_bin)\n",
    "c_signal = np.asarray(dst.charge)"
   ]
  },
  {
   "cell_type": "code",
   "execution_count": 30,
   "id": "3ca15387",
   "metadata": {},
   "outputs": [],
   "source": [
    "tt = np.concatenate((t_signal, t_noise))\n",
    "cc = np.concatenate((c_signal/n_events, c_noise))"
   ]
  },
  {
   "cell_type": "code",
   "execution_count": 41,
   "id": "03ec9ab4",
   "metadata": {},
   "outputs": [
    {
     "name": "stdout",
     "output_type": "stream",
     "text": [
      "Total events = 3135 = 28 (signal) + 3107 (bkg) = 3135\n"
     ]
    },
    {
     "data": {
      "image/png": "[encoded data removed]",
      "text/plain": [
       "<Figure size 500x500 with 1 Axes>"
      ]
     },
     "metadata": {},
     "output_type": "display_data"
    }
   ],
   "source": [
    "fig, ax = plt.subplots(nrows = 1, ncols = 1, figsize=(5,5), constrained_layout=True)\n",
    "\n",
    "font_size = 8.5\n",
    "\n",
    "t_low = -1*(tt.max())\n",
    "t_up = tt.max()\n",
    "\n",
    "n_bins = int((t_up - t_low)*1e-9/dt) + 1\n",
    "\n",
    "# \"Data\"\n",
    "events, bins, bars = ax.hist(tt, n_bins, \n",
    "                             weights = cc, # only part of it has to be normalized (signal part)\n",
    "                             density=False,\n",
    "                             range=(t_low, t_up),\n",
    "                             label='Charge distribution \\nnormalized to 1 event \\n($N_{events}$ = %s)'%(n_events), \n",
    "                             histtype='step')\n",
    "\n",
    "\n",
    "# Signal\n",
    "s_events, s_bins, s_bars = ax.hist(t_signal, n_bins, \n",
    "                                   weights = c_signal/n_events,\n",
    "                                   density=False,\n",
    "                                   range=(t_low, t_up),\n",
    "                                   label='Signal ($N_{pulses}$ = %s)'%(len(t_signal)), \n",
    "                                   alpha = 1,\n",
    "                                   histtype='stepfilled')\n",
    "\n",
    "\n",
    "# Noise\n",
    "bkg_events, bkg_bins, bkg_bars = ax.hist(t_noise, n_bins, \n",
    "                                         weights = c_noise, # noise is already normalized\n",
    "                                         density=False,\n",
    "                                         range=(t_low, t_up),\n",
    "                                         label='Noise ($N_{dark}$ = %s)'%(len(t_noise)), \n",
    "                                         alpha = 0.5,\n",
    "                                         histtype='stepfilled')\n",
    "\n",
    "\n",
    "ax.text(0.1, .7, '$N_{bins}$ = %s \\ndt = %.1E [s]'%(n_bins, dt), transform = ax.transAxes,\n",
    "        fontsize = font_size, verticalalignment = 'top', #fontfamily = 'serif',\n",
    "        bbox = dict(facecolor='1.', edgecolor = 'none', pad = 1.))\n",
    "\n",
    "ax.set_ylabel('Charge [e]')\n",
    "ax.set_xlabel('Time bin [ns]')\n",
    "ax.legend(fontsize = font_size, loc = 'upper left');\n",
    "\n",
    "print('Total events = %i = %i (signal) + %i (bkg) = %i'%(s_events.sum() + bkg_events.sum(), \n",
    "                                          s_events.sum(), bkg_events.sum(), \n",
    "                                          events.sum()))\n"
   ]
  },
  {
   "cell_type": "code",
   "execution_count": 39,
   "id": "bd380db2",
   "metadata": {},
   "outputs": [
    {
     "data": {
      "text/plain": [
       "184.41823529411764"
      ]
     },
     "execution_count": 39,
     "metadata": {},
     "output_type": "execute_result"
    }
   ],
   "source": [
    "events.mean()"
   ]
  },
  {
   "cell_type": "code",
   "execution_count": 43,
   "id": "42da7b1b",
   "metadata": {
    "scrolled": false
   },
   "outputs": [
    {
     "name": "stdout",
     "output_type": "stream",
     "text": [
      "Total events = 3135 = 28 (signal) + 3107 (bkg) = 3135\n",
      "Total events = 3135 = 28 (signal) + 3107 (bkg) = 3135\n",
      "Total events = 3135 = 28 (signal) + 3107 (bkg) = 3135\n"
     ]
    },
    {
     "data": {
      "image/png": "[encoded data removed]",
      "text/plain": [
       "<Figure size 500x500 with 1 Axes>"
      ]
     },
     "metadata": {},
     "output_type": "display_data"
    },
    {
     "data": {
      "image/png": "[encoded data removed]",
      "text/plain": [
       "<Figure size 500x500 with 1 Axes>"
      ]
     },
     "metadata": {},
     "output_type": "display_data"
    },
    {
     "data": {
      "image/png": "[encoded data removed]",
      "text/plain": [
       "<Figure size 500x500 with 1 Axes>"
      ]
     },
     "metadata": {},
     "output_type": "display_data"
    }
   ],
   "source": [
    "font_size = 8.5\n",
    "\n",
    "# for n_bins in [200, 150, 100, 70, 50, 20, 10, 5]:\n",
    "for dt in [1e-6, 0.5e-6, 0.25e-6]:\n",
    "    \n",
    "    fig, ax = plt.subplots(nrows = 1, ncols = 1, figsize=(5,5), constrained_layout=True)\n",
    "\n",
    "    t_low = -1*(tt.max())\n",
    "    t_up = tt.max()\n",
    "\n",
    "#     dt = (t_up - t_low)*1e-9/n_bins # [s]\n",
    "    n_bins = int((t_up - t_low)*1e-9/dt) + 1\n",
    "\n",
    "    # \"Data\"\n",
    "    events, bins, bars = ax.hist(tt, n_bins, \n",
    "                                 weights = cc,  # only part of it has to be normalized (signal part)\n",
    "                                 density=False,\n",
    "                                 range=(t_low, t_up),\n",
    "                                 label='Charge distribution \\nnormalized to 1 event \\n($N_{events}$ = %s)'%(n_events), \n",
    "                                 histtype='step')\n",
    "\n",
    "\n",
    "    # Signal\n",
    "    s_events, s_bins, s_bars = ax.hist(t_signal, n_bins, \n",
    "                                       weights = c_signal/n_events,\n",
    "                                       density=False,\n",
    "                                       range=(t_low, t_up),\n",
    "                                       label='Signal ($N_{pulses}$ = %s)'%(len(t_signal)), \n",
    "                                       alpha = 1,\n",
    "                                       histtype='stepfilled')\n",
    "\n",
    "\n",
    "    # Noise\n",
    "    bkg_events, bkg_bins, bkg_bars = ax.hist(t_noise, n_bins, \n",
    "                                             weights = c_noise, # noise is already normalized\n",
    "                                             density=False,\n",
    "                                             range=(t_low, t_up),\n",
    "                                             label='Noise ($N_{dark}$ = %s)'%(len(t_noise)), \n",
    "                                             alpha = 0.5,\n",
    "                                             histtype='stepfilled')\n",
    "\n",
    "\n",
    "    ax.text(0.1, .7, '$N_{bins}$ = %s \\ndt = %.1E [s]'%(n_bins, dt), transform = ax.transAxes,\n",
    "            fontsize = font_size, verticalalignment = 'top', #fontfamily = 'serif',\n",
    "            bbox = dict(facecolor='1.', edgecolor = 'none', pad = 1.))\n",
    "\n",
    "    ax.set_ylabel('Charge [e]')\n",
    "    ax.set_xlabel('Time bin [ns]')\n",
    "    ax.legend(fontsize = font_size, loc = 'upper left');\n",
    "\n",
    "    print('Total events = %i = %i (signal) + %i (bkg) = %i'%(s_events.sum() + bkg_events.sum(), \n",
    "                                                             s_events.sum(), bkg_events.sum(), \n",
    "                                                             events.sum()))\n",
    "    \n"
   ]
  },
  {
   "cell_type": "code",
   "execution_count": null,
   "id": "7d57b5ce",
   "metadata": {},
   "outputs": [],
   "source": []
  }
 ],
 "metadata": {
  "kernelspec": {
   "display_name": "Python 3 (ipykernel)",
   "language": "python",
   "name": "python3"
  },
  "language_info": {
   "codemirror_mode": {
    "name": "ipython",
    "version": 3
   },
   "file_extension": ".py",
   "mimetype": "text/x-python",
   "name": "python",
   "nbconvert_exporter": "python",
   "pygments_lexer": "ipython3",
   "version": "3.8.13"
  }
 },
 "nbformat": 4,
 "nbformat_minor": 5
}
