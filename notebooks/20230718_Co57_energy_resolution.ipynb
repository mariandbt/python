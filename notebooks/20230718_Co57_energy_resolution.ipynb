{
 "cells": [
  {
   "cell_type": "markdown",
   "id": "f55cea8a",
   "metadata": {},
   "source": [
    "<h1> ______________________________________ </h1>\n",
    "\n",
    "<h1> Time and Energy resolution calculation </h1>\n",
    "<h1> ______________________________________ </h1>\n",
    "\n",
    "<p style=\"font-size: 17px; color: black;\"> In this Notebook we calculate the energy and time resolution of our photosensor (SiPM Hamamatsu in this case) the following way:</p>\n",
    "\n",
    "\n",
    "- <p style=\"font-size: 17px; color: black; font-weight: bold;\"> Energy resolution: </p> \n",
    "<p style=\"font-size: 17px; color: black;\"> We save for each waveform the integral, then we do the distribution of that value and fit the peak by a gaussian. The sigma over mean value of that integral distribution will be our energy resolution.We won't be separating waveforms corresponding to 1pe, 2pe, 3pe, etc. this time.  </p> \n"
   ]
  },
  {
   "cell_type": "markdown",
   "id": "0a6c28e7",
   "metadata": {},
   "source": [
    "<h1> ____________ </h1>\n",
    "<h2> This version </h2>\n",
    "<h1> ____________ </h1>\n",
    "\n",
    "-  <p style=\"font-size: 17px; color: black;\"> In this notebook we don't save all the waveforms, but rather work with them re-reading the files. This might take more time but less memory, preventing the laptop to collapse. </p>\n",
    "-  <p style=\"font-size: 17px; color: black;\"> 10K events. </p>\n",
    "-  <p style=\"font-size: 17px; color: black;\"> Let's try and work with ALL events. </p>\n",
    "-  <p style=\"font-size: 17px; color: black;\"> Waveforms include just 1 peak. </p>\n",
    "\n",
    "\n",
    "\n",
    "-  <p style=\"font-size: 17px; color: black;\"> Calculate chi2. </p>\n",
    "\n"
   ]
  },
  {
   "cell_type": "code",
   "execution_count": 1,
   "id": "dbd2ff21",
   "metadata": {},
   "outputs": [],
   "source": [
    "import matplotlib.pyplot as plt\n",
    "import pandas as pd\n",
    "import numpy as np"
   ]
  },
  {
   "cell_type": "code",
   "execution_count": 2,
   "id": "ae45a290",
   "metadata": {},
   "outputs": [],
   "source": [
    "import math"
   ]
  },
  {
   "cell_type": "code",
   "execution_count": 3,
   "id": "151ece17",
   "metadata": {},
   "outputs": [],
   "source": [
    "import scipy\n",
    "from scipy import stats, integrate\n",
    "from scipy.signal import find_peaks\n",
    "from scipy.interpolate import interp1d\n",
    "from scipy.optimize import root, root_scalar"
   ]
  },
  {
   "cell_type": "code",
   "execution_count": 4,
   "id": "89145d5e-f992-4295-bfdb-0bf6750f872a",
   "metadata": {},
   "outputs": [],
   "source": [
    "import os"
   ]
  },
  {
   "cell_type": "markdown",
   "id": "7ca48882",
   "metadata": {},
   "source": [
    "<h1> _________________________________________________________________________________________________________ </h1>\n"
   ]
  },
  {
   "cell_type": "markdown",
   "id": "85a2dfe0",
   "metadata": {},
   "source": [
    "<h1> __________________________ </h1>\n",
    "<h2> Functions </h2>\n",
    "\n",
    "-  <p style=\"font-size: 17px; color: black;\"> <b> gauss(x, a,  mu, sigma): </b> Gaussian normalized to $a$. </p>\n",
    "\n",
    "\n",
    "-  <p style=\"font-size: 17px; color: black;\"> <b> f_cut(x, f, val): </b> To find the cut of a $f(x)$ function with a certain value $val$ we first use <b> f_cut </b> to move $f(x) \\rightarrow f(x) - val$ and then find it's roots, ie, $f(x) - val = 0$. </p>\n",
    "\n",
    "\n",
    "-  <p style=\"font-size: 17px; color: black;\"> <b> resolution_eq(E, a, b, c): </b> Resolution equation to which our results should fit. </p>\n",
    "\n"
   ]
  },
  {
   "cell_type": "code",
   "execution_count": 5,
   "id": "c057ab51",
   "metadata": {},
   "outputs": [],
   "source": [
    "# Gaussian\n",
    "# note: pdf are normilized to 1 so we have yo add an amplitude param\n",
    "def gauss(x, a,  mu, sigma):\n",
    "# def gauss(x,  mu, sigma):\n",
    "    \n",
    "    gaussian = stats.norm.pdf(np.sort(x), mu, sigma) \n",
    "    \n",
    "    return (a/gaussian.sum())*gaussian \n",
    "#     return (x.sum()/gaussian.sum())*gaussian \n",
    "\n",
    "# Function offsetting\n",
    "# To find the cut of a function with a certain value first we offset the function then find the roots\n",
    "def f_cut(x, f, val):\n",
    "    return f(x) - val\n",
    "\n",
    "# Resolution equation\n",
    "def resolution_eq(E, a, b, c):\n",
    "    \n",
    "    res = np.sqrt( (a/np.sqrt(E))**2 + (b/E)**2 + c**2)\n",
    "    \n",
    "    return res"
   ]
  },
  {
   "cell_type": "markdown",
   "id": "abaf2579",
   "metadata": {},
   "source": [
    "\n",
    "-  <p style=\"font-size: 17px; color: black;\"> <b> wave_prep(file): </b> Take a waveform and prepare it to work with it by separating the different variables, correcting offset and possible signal saturation. </p>\n",
    "\n"
   ]
  },
  {
   "cell_type": "code",
   "execution_count": 82,
   "id": "da5a2f24",
   "metadata": {},
   "outputs": [],
   "source": [
    "def wave_prep(file_name, path, waveform_saturation = np.inf):\n",
    "    \n",
    "    input_file = os.path.join(path, file_name)\n",
    "    \n",
    "    # Read the CSV file using pandas\n",
    "    df = pd.read_csv(input_file, header=14)\n",
    "    \n",
    "    time = np.array(df['TIME']*1e6) # [us]\n",
    "    signal = np.array(df['CH1']*1e3) # [mV]\n",
    "\n",
    "    # Offsets\n",
    "    if signal.min() < 0.:\n",
    "        offset_signal = signal[signal < 0].mean(); signal = signal - offset_signal\n",
    "    \n",
    "    \n",
    "    # Saturation\n",
    "    signal = np.where(signal < waveform_saturation,               # where this condition applies...\n",
    "                      signal,                                     # ... we use this value, and where NOT...\n",
    "                      signal[signal < waveform_saturation].max()) # ... we use this other value\n",
    "    \n",
    "    return time, signal"
   ]
  },
  {
   "cell_type": "markdown",
   "id": "e8b38a7d",
   "metadata": {},
   "source": [
    "<h1> __________________________ </h1>\n",
    "<h2> Data </h2>"
   ]
  },
  {
   "cell_type": "markdown",
   "id": "aba914e0",
   "metadata": {},
   "source": [
    "-  <p style=\"font-size: 17px; color: black;\"> <b> Reading the file </b> </p>"
   ]
  },
  {
   "cell_type": "markdown",
   "id": "fcbac72c",
   "metadata": {},
   "source": [
    "-  <p style=\"font-size: 17px; color: black;\"> File's path </p>"
   ]
  },
  {
   "cell_type": "code",
   "execution_count": 57,
   "id": "9cee91fc",
   "metadata": {},
   "outputs": [],
   "source": [
    "# filename = []\n",
    "path = {}\n",
    "\n",
    "init_path = '/home/investigator/mariandbt/python/data/'\n",
    "\n",
    "path = init_path + '20230718_co57/'"
   ]
  },
  {
   "cell_type": "markdown",
   "id": "a803c911",
   "metadata": {},
   "source": [
    "-  <p style=\"font-size: 17px; color: black;\"> Parameters to read the file. </p>"
   ]
  },
  {
   "cell_type": "code",
   "execution_count": 58,
   "id": "efb1d052",
   "metadata": {},
   "outputs": [],
   "source": [
    "# Get all files in the folder\n",
    "files = os.listdir(path)"
   ]
  },
  {
   "cell_type": "markdown",
   "id": "053c1a01",
   "metadata": {},
   "source": [
    "-  <p style=\"font-size: 17px; color: black;\"> Parameters of the read file. </p>"
   ]
  },
  {
   "cell_type": "code",
   "execution_count": 11,
   "id": "e7e45672",
   "metadata": {},
   "outputs": [
    {
     "name": "stdout",
     "output_type": "stream",
     "text": [
      "n_points =  6250\n",
      "n_frames =  15000\n"
     ]
    }
   ],
   "source": [
    "n_frames = int(len(files))\n",
    "n_points = int(6250)\n",
    "\n",
    "print('n_points = ', n_points)\n",
    "print('n_frames = ', n_frames)"
   ]
  },
  {
   "cell_type": "markdown",
   "id": "5476af0e",
   "metadata": {},
   "source": [
    "<h1> __________________________ </h1>\n",
    "<h2> Global parameters </h2>"
   ]
  },
  {
   "cell_type": "markdown",
   "id": "faa5a7df",
   "metadata": {},
   "source": [
    "-  <p style=\"font-size: 17px; color: black;\"> <b> Analysis parameters </b> </p>\n",
    "\n",
    " -  <p style=\"font-size: 17px; color: black;\"> <b> patata: </b> Patata. </p>\n",
    " \n",
    " \n"
   ]
  },
  {
   "cell_type": "markdown",
   "id": "c394dca4",
   "metadata": {},
   "source": [
    "<h1> __________________________ </h1>\n",
    "<h2> Analysis </h2>"
   ]
  },
  {
   "cell_type": "markdown",
   "id": "5dad8c3e",
   "metadata": {},
   "source": [
    "<h2> Waveform </h2>"
   ]
  },
  {
   "cell_type": "markdown",
   "id": "be022343",
   "metadata": {},
   "source": [
    "-  <p style=\"font-size: 17px; color: black;\"> Interpolate the waveform to create a function. </p>"
   ]
  },
  {
   "cell_type": "code",
   "execution_count": 83,
   "id": "5dbe43da",
   "metadata": {},
   "outputs": [],
   "source": [
    "frame = 0"
   ]
  },
  {
   "cell_type": "markdown",
   "id": "319ec848",
   "metadata": {},
   "source": [
    "-  <p style=\"font-size: 17px; color: black;\"> Time region where to look for signal. </p>"
   ]
  },
  {
   "cell_type": "code",
   "execution_count": 84,
   "id": "ffc8f788",
   "metadata": {},
   "outputs": [],
   "source": [
    "tt_min = -0.1 # [us]\n",
    "tt_max = 0.25 # [us]\n"
   ]
  },
  {
   "cell_type": "code",
   "execution_count": 85,
   "id": "3e5fdb3b",
   "metadata": {},
   "outputs": [],
   "source": [
    "tt_region_mask = (tt > tt_min) & (tt < tt_max) # Where to look for the signal\n",
    "    "
   ]
  },
  {
   "cell_type": "markdown",
   "id": "53ad435e",
   "metadata": {},
   "source": [
    "<p style=\"font-size: 17px; color: black;\"> Data waveform"
   ]
  },
  {
   "cell_type": "code",
   "execution_count": 86,
   "id": "23d27184",
   "metadata": {},
   "outputs": [
    {
     "data": {
      "text/plain": [
       "<matplotlib.legend.Legend at 0x7f1556fec610>"
      ]
     },
     "execution_count": 86,
     "metadata": {},
     "output_type": "execute_result"
    },
    {
     "data": {
      "image/png": "[encoded data removed]",
      "text/plain": [
       "<Figure size 1000x400 with 1 Axes>"
      ]
     },
     "metadata": {},
     "output_type": "display_data"
    }
   ],
   "source": [
    "fig, ax = plt.subplots(1, 1, figsize = (10, 4), constrained_layout=True)\n",
    "\n",
    "ax.plot(tt, ss, label = 'Signal')\n",
    "ax.plot(tt[ss == ss.max()][0], ss.max(), 'o', markersize = 5, \n",
    "           label = 'Signal peak = %.2f mV'%(ss.max()))\n",
    "\n",
    "ax.fill_between([tt_min, tt_max], ss.max(), \n",
    "                color = 'peachpuff', alpha = 0.5, label = r'Time region for signal') \n",
    "\n",
    "ax.set_ylabel('Voltage [mV]');\n",
    "ax.set_xlabel(r'Time [$\\mu$s]');\n",
    "ax.set_title('Waveform with Co57 source', size = 20);\n",
    "ax.legend(loc = 'best')"
   ]
  },
  {
   "cell_type": "markdown",
   "id": "2bd513e1",
   "metadata": {},
   "source": [
    "<h2> Integral calculation for all frames </h2>"
   ]
  },
  {
   "cell_type": "markdown",
   "id": "740743ae",
   "metadata": {},
   "source": [
    "- <p style=\"font-size: 17px; color: black;\"> Note how we're working with the fact that the signal appears in a certain time region to constrain the valid region of signal we use using the mask."
   ]
  },
  {
   "cell_type": "code",
   "execution_count": 87,
   "id": "b1d570a1",
   "metadata": {
    "scrolled": true
   },
   "outputs": [],
   "source": [
    "charge = []\n",
    "\n",
    "\n",
    "try:\n",
    "    for frame in range(n_frames):\n",
    "\n",
    "        file_name = files[frame]\n",
    "\n",
    "        tt, ss = wave_prep(file_name, path, waveform_saturation = np.inf)\n",
    "\n",
    "\n",
    "        tt_region_mask = (tt > tt_min) & (tt < tt_max) # Where to look for the signal\n",
    "\n",
    "        th = 0. # [mV]\n",
    "\n",
    "        if ss[tt_region_mask].max() < th: \n",
    "            print('NO SIGNAL HERE! frame = %s; th = %.2f # [mV]'%(frame, th))\n",
    "            continue\n",
    "\n",
    "        # Integrate withini the time region\n",
    "        integr = np.trapz(ss[tt_region_mask], x = tt[tt_region_mask])\n",
    "\n",
    "        charge.append(integr)\n",
    "\n",
    "except Exception as e:\n",
    "    print(\"Python sais:\", str(e))\n",
    "    print(\"Marian sais: Error accured in frame %s\"%(frame))\n",
    "\n",
    "charge = np.array(charge)\n",
    "    "
   ]
  },
  {
   "cell_type": "markdown",
   "id": "6e55c067",
   "metadata": {},
   "source": [
    "<h2> Energy resolution calculation </h2>"
   ]
  },
  {
   "cell_type": "code",
   "execution_count": 115,
   "id": "0a8e628a",
   "metadata": {},
   "outputs": [
    {
     "name": "stdout",
     "output_type": "stream",
     "text": [
      "9720.0 9653.923707331529 9653.923707331527\n"
     ]
    },
    {
     "data": {
      "text/plain": [
       "<matplotlib.legend.Legend at 0x7f153f9184c0>"
      ]
     },
     "execution_count": 115,
     "metadata": {},
     "output_type": "execute_result"
    },
    {
     "data": {
      "image/png": "[encoded data removed]",
      "text/plain": [
       "<Figure size 1000x500 with 1 Axes>"
      ]
     },
     "metadata": {},
     "output_type": "display_data"
    }
   ],
   "source": [
    "fig, ax = plt.subplots(nrows=1, ncols=1, figsize=(10,5), constrained_layout=True)\n",
    "\n",
    "    \n",
    "N_ev = len(charge)\n",
    "#     n_bins = 5*int(np.sqrt(N_ev))\n",
    "n_bins = int(np.sqrt(N_ev))\n",
    "\n",
    "events, bins, bars = ax.hist(charge, n_bins, \n",
    "                             density=False,\n",
    "                             range=(0., 0.8),\n",
    "                             label='Integral (charge) distribution', \n",
    "                             histtype='step')\n",
    "x_ax = np.linspace(bins.min(), bins.max(), len(bins)-1)\n",
    "\n",
    "x_ax_mask = (x_ax > 0.15) & (x_ax < 0.6)\n",
    "x_ax = x_ax[x_ax_mask]\n",
    "events = events[x_ax_mask]\n",
    "\n",
    "\n",
    "#     # gaussian fit\n",
    "popt, pcov = scipy.optimize.curve_fit(gauss, x_ax, events, p0=[1, 0.35, 0.2]) \n",
    "# popt, pcov = scipy.optimize.curve_fit(gauss, x_ax, events, \n",
    "#                                       sigma = np.where(events > 0., np.sqrt(events), 1e-3),\n",
    "#                                       bounds=([events.sum(),  0.9*bins.mean(), 10.], [np.inf, bins.mean(), 60.])) \n",
    "\n",
    "best_fit_line = gauss(x_ax, *popt)\n",
    "a, mu, sigma = popt\n",
    "\n",
    "print(events.sum(), best_fit_line.sum(), a)\n",
    "\n",
    "param_err = np.sqrt(np.diag(pcov))\n",
    "a_err, mu_err, sigma_err = param_err\n",
    "\n",
    "# # Calculate the residuals and chi-square\n",
    "# residuals = events - gauss(x_ax, *popt)\n",
    "# data_err = np.sqrt(events)\n",
    "\n",
    "# chi2 = np.sum(np.where(data_err > 0., (residuals/ data_err)**2, 0.))\n",
    "# chi2 /= len(bins) # /dof\n",
    "\n",
    "# Calculate p-value and chi-square\n",
    "fit_norm = best_fit_line*events.sum()/best_fit_line.sum() # need to normalize the fit \n",
    "chi2, p_value = stats.chisquare(f_obs = events, f_exp = fit_norm, axis = None)\n",
    "# chi2, p_value = stats.chisquare(f_obs = events, f_exp = best_fit_line, axis = None)\n",
    "chi2 /= len(bins) # /dof\n",
    "\n",
    "e_res = 100*sigma/mu # %\n",
    "e_res_err = 100*np.sqrt( (sigma_err/mu)**2 + (sigma*mu_err/mu**2)**2 )\n",
    "\n",
    "#_________plot_settings_________________________________________________\n",
    "\n",
    "ax.plot(x_ax, best_fit_line, '-', \n",
    "        label='$\\mu$ = %.2f, $\\sigma$ = %.2E, $\\chi^{2}$ = %.2f'%(mu, sigma, chi2))\n",
    "\n",
    "ax.text(0.7, .8, r'Energy resolution = (%.2f $\\pm$ %.2f) %%'%(e_res, e_res_err), transform=ax.transAxes,\n",
    "        fontsize=10, verticalalignment='top', fontfamily='serif',\n",
    "        bbox=dict(facecolor='1.', edgecolor='none', pad=3.0))\n",
    "\n",
    "ax.set_ylabel('Counts')\n",
    "ax.set_xlabel(r'Charge [$\\mu s\\cdot$ mV]')\n",
    "\n",
    "ax.legend(fontsize=7, loc='best')\n",
    "        "
   ]
  },
  {
   "cell_type": "code",
   "execution_count": null,
   "id": "c6c29e3c",
   "metadata": {},
   "outputs": [],
   "source": []
  }
 ],
 "metadata": {
  "kernelspec": {
   "display_name": "Python 3 (ipykernel)",
   "language": "python",
   "name": "python3"
  },
  "language_info": {
   "codemirror_mode": {
    "name": "ipython",
    "version": 3
   },
   "file_extension": ".py",
   "mimetype": "text/x-python",
   "name": "python",
   "nbconvert_exporter": "python",
   "pygments_lexer": "ipython3",
   "version": "3.8.16"
  }
 },
 "nbformat": 4,
 "nbformat_minor": 5
}
